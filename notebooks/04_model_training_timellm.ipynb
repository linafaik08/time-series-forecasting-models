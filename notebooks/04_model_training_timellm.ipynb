{
 "cells": [
  {
   "cell_type": "code",
   "execution_count": 1,
   "metadata": {},
   "outputs": [
    {
     "name": "stdout",
     "output_type": "stream",
     "text": [
      "/Users/linafaik/Documents/projects/time-series-forecasting-models\n"
     ]
    }
   ],
   "source": [
    "cd ../"
   ]
  },
  {
   "cell_type": "code",
   "execution_count": 2,
   "metadata": {},
   "outputs": [
    {
     "name": "stderr",
     "output_type": "stream",
     "text": [
      "/Users/linafaik/Documents/projects/time-series-forecasting-models/.venv/lib/python3.11/site-packages/tqdm/auto.py:21: TqdmWarning: IProgress not found. Please update jupyter and ipywidgets. See https://ipywidgets.readthedocs.io/en/stable/user_install.html\n",
      "  from .autonotebook import tqdm as notebook_tqdm\n",
      "2025-05-19 19:22:47,247\tINFO util.py:154 -- Missing packages: ['ipywidgets']. Run `pip install -U ipywidgets`, then restart the notebook server for rich notebook output.\n",
      "2025-05-19 19:22:47,354\tINFO util.py:154 -- Missing packages: ['ipywidgets']. Run `pip install -U ipywidgets`, then restart the notebook server for rich notebook output.\n"
     ]
    }
   ],
   "source": [
    "import pandas as pd\n",
    "import numpy as np\n",
    "import os\n",
    "\n",
    "from neuralforecast import NeuralForecast\n",
    "from neuralforecast.models import TimeLLM\n",
    "from neuralforecast.losses.pytorch import MAE\n",
    "from mlforecast.utils import PredictionIntervals\n",
    "\n",
    "from config import *\n",
    "from src.data_processing import *\n",
    "from src.metrics import *\n",
    "from src.training import *\n",
    "from src.viz import *\n",
    "\n",
    "%load_ext autoreload\n",
    "%autoreload 2"
   ]
  },
  {
   "cell_type": "code",
   "execution_count": 3,
   "metadata": {},
   "outputs": [],
   "source": [
    "force = True"
   ]
  },
  {
   "cell_type": "markdown",
   "metadata": {},
   "source": [
    "## Data loading"
   ]
  },
  {
   "cell_type": "code",
   "execution_count": 4,
   "metadata": {},
   "outputs": [
    {
     "data": {
      "text/html": [
       "<div>\n",
       "<style scoped>\n",
       "    .dataframe tbody tr th:only-of-type {\n",
       "        vertical-align: middle;\n",
       "    }\n",
       "\n",
       "    .dataframe tbody tr th {\n",
       "        vertical-align: top;\n",
       "    }\n",
       "\n",
       "    .dataframe thead th {\n",
       "        text-align: right;\n",
       "    }\n",
       "</style>\n",
       "<table border=\"1\" class=\"dataframe\">\n",
       "  <thead>\n",
       "    <tr style=\"text-align: right;\">\n",
       "      <th></th>\n",
       "      <th>date</th>\n",
       "      <th>store_id</th>\n",
       "      <th>state_id</th>\n",
       "      <th>sold_quantity</th>\n",
       "      <th>sold_amount</th>\n",
       "      <th>event_type_1</th>\n",
       "      <th>event_type_2</th>\n",
       "      <th>event_sporting</th>\n",
       "      <th>event_cultural</th>\n",
       "      <th>event_national</th>\n",
       "      <th>event_religious</th>\n",
       "    </tr>\n",
       "  </thead>\n",
       "  <tbody>\n",
       "    <tr>\n",
       "      <th>0</th>\n",
       "      <td>2011-01-29</td>\n",
       "      <td>CA_1</td>\n",
       "      <td>CA</td>\n",
       "      <td>4337</td>\n",
       "      <td>10933.16</td>\n",
       "      <td>NaN</td>\n",
       "      <td>NaN</td>\n",
       "      <td>0</td>\n",
       "      <td>0</td>\n",
       "      <td>0</td>\n",
       "      <td>0</td>\n",
       "    </tr>\n",
       "    <tr>\n",
       "      <th>1</th>\n",
       "      <td>2011-01-29</td>\n",
       "      <td>CA_2</td>\n",
       "      <td>CA</td>\n",
       "      <td>3494</td>\n",
       "      <td>9101.52</td>\n",
       "      <td>NaN</td>\n",
       "      <td>NaN</td>\n",
       "      <td>0</td>\n",
       "      <td>0</td>\n",
       "      <td>0</td>\n",
       "      <td>0</td>\n",
       "    </tr>\n",
       "    <tr>\n",
       "      <th>2</th>\n",
       "      <td>2011-01-29</td>\n",
       "      <td>CA_3</td>\n",
       "      <td>CA</td>\n",
       "      <td>4739</td>\n",
       "      <td>11679.83</td>\n",
       "      <td>NaN</td>\n",
       "      <td>NaN</td>\n",
       "      <td>0</td>\n",
       "      <td>0</td>\n",
       "      <td>0</td>\n",
       "      <td>0</td>\n",
       "    </tr>\n",
       "    <tr>\n",
       "      <th>3</th>\n",
       "      <td>2011-01-29</td>\n",
       "      <td>CA_4</td>\n",
       "      <td>CA</td>\n",
       "      <td>1625</td>\n",
       "      <td>4561.59</td>\n",
       "      <td>NaN</td>\n",
       "      <td>NaN</td>\n",
       "      <td>0</td>\n",
       "      <td>0</td>\n",
       "      <td>0</td>\n",
       "      <td>0</td>\n",
       "    </tr>\n",
       "    <tr>\n",
       "      <th>4</th>\n",
       "      <td>2011-01-29</td>\n",
       "      <td>TX_1</td>\n",
       "      <td>TX</td>\n",
       "      <td>2556</td>\n",
       "      <td>6586.68</td>\n",
       "      <td>NaN</td>\n",
       "      <td>NaN</td>\n",
       "      <td>0</td>\n",
       "      <td>0</td>\n",
       "      <td>0</td>\n",
       "      <td>0</td>\n",
       "    </tr>\n",
       "  </tbody>\n",
       "</table>\n",
       "</div>"
      ],
      "text/plain": [
       "        date store_id state_id  sold_quantity  sold_amount event_type_1  \\\n",
       "0 2011-01-29     CA_1       CA           4337     10933.16          NaN   \n",
       "1 2011-01-29     CA_2       CA           3494      9101.52          NaN   \n",
       "2 2011-01-29     CA_3       CA           4739     11679.83          NaN   \n",
       "3 2011-01-29     CA_4       CA           1625      4561.59          NaN   \n",
       "4 2011-01-29     TX_1       TX           2556      6586.68          NaN   \n",
       "\n",
       "  event_type_2  event_sporting  event_cultural  event_national  \\\n",
       "0          NaN               0               0               0   \n",
       "1          NaN               0               0               0   \n",
       "2          NaN               0               0               0   \n",
       "3          NaN               0               0               0   \n",
       "4          NaN               0               0               0   \n",
       "\n",
       "   event_religious  \n",
       "0                0  \n",
       "1                0  \n",
       "2                0  \n",
       "3                0  \n",
       "4                0  "
      ]
     },
     "execution_count": 4,
     "metadata": {},
     "output_type": "execute_result"
    }
   ],
   "source": [
    "df = pd.read_csv(path_data_processed)\n",
    "df[\"date\"] = pd.to_datetime(df[\"date\"], format=\"%Y-%m-%d\")\n",
    "\n",
    "df.head()"
   ]
  },
  {
   "cell_type": "markdown",
   "metadata": {},
   "source": [
    "## Model training"
   ]
  },
  {
   "cell_type": "code",
   "execution_count": 5,
   "metadata": {},
   "outputs": [],
   "source": [
    "name_scenario = \"timellm_gpt2_v2\""
   ]
  },
  {
   "cell_type": "code",
   "execution_count": 6,
   "metadata": {},
   "outputs": [
    {
     "name": "stderr",
     "output_type": "stream",
     "text": [
      "Seed set to 1\n"
     ]
    },
    {
     "name": "stdout",
     "output_type": "stream",
     "text": [
      "19270 rows for train\n",
      "140 rows for test\n",
      "Successfully loaded model: openai-community/gpt2\n"
     ]
    },
    {
     "name": "stderr",
     "output_type": "stream",
     "text": [
      "GPU available: True (mps), used: True\n",
      "TPU available: False, using: 0 TPU cores\n",
      "HPU available: False, using: 0 HPUs\n",
      "\n",
      "  | Name                | Type               | Params | Mode \n",
      "-------------------------------------------------------------------\n",
      "0 | loss                | MAE                | 0      | train\n",
      "1 | padder_train        | ConstantPad1d      | 0      | train\n",
      "2 | scaler              | TemporalNorm       | 0      | train\n",
      "3 | llm                 | GPT2Model          | 124 M  | eval \n",
      "4 | patch_embedding     | PatchEmbedding     | 2.7 K  | train\n",
      "5 | mapping_layer       | Linear             | 51.5 M | train\n",
      "6 | reprogramming_layer | ReprogrammingLayer | 2.5 M  | train\n",
      "7 | output_projection   | FlattenHead        | 10.8 K | train\n",
      "8 | normalize_layers    | RevIN              | 0      | train\n",
      "-------------------------------------------------------------------\n",
      "54.0 M    Trainable params\n",
      "124 M     Non-trainable params\n",
      "178 M     Total params\n",
      "713.647   Total estimated model params size (MB)\n",
      "20        Modules in train mode\n",
      "162       Modules in eval mode\n"
     ]
    },
    {
     "name": "stdout",
     "output_type": "stream",
     "text": [
      "Epoch 13:  33%|███▎      | 1/3 [00:02<00:05,  0.37it/s, v_num=107, train_loss_step=1.4e+3, train_loss_epoch=1.4e+3]  "
     ]
    },
    {
     "name": "stderr",
     "output_type": "stream",
     "text": [
      "`Trainer.fit` stopped: `max_steps=40` reached.\n"
     ]
    },
    {
     "name": "stdout",
     "output_type": "stream",
     "text": [
      "Epoch 13:  33%|███▎      | 1/3 [00:02<00:05,  0.37it/s, v_num=107, train_loss_step=1.4e+3, train_loss_epoch=1.4e+3]\n"
     ]
    },
    {
     "name": "stderr",
     "output_type": "stream",
     "text": [
      "GPU available: True (mps), used: True\n",
      "TPU available: False, using: 0 TPU cores\n",
      "HPU available: False, using: 0 HPUs\n"
     ]
    },
    {
     "name": "stdout",
     "output_type": "stream",
     "text": [
      "Predicting DataLoader 0: 100%|██████████| 2/2 [00:48<00:00,  0.04it/s]\n"
     ]
    },
    {
     "name": "stderr",
     "output_type": "stream",
     "text": [
      "GPU available: True (mps), used: True\n",
      "TPU available: False, using: 0 TPU cores\n",
      "HPU available: False, using: 0 HPUs\n",
      "\n",
      "  | Name                | Type               | Params | Mode \n",
      "-------------------------------------------------------------------\n",
      "0 | loss                | MAE                | 0      | train\n",
      "1 | padder_train        | ConstantPad1d      | 0      | train\n",
      "2 | scaler              | TemporalNorm       | 0      | train\n",
      "3 | llm                 | GPT2Model          | 124 M  | eval \n",
      "4 | patch_embedding     | PatchEmbedding     | 2.7 K  | train\n",
      "5 | mapping_layer       | Linear             | 51.5 M | train\n",
      "6 | reprogramming_layer | ReprogrammingLayer | 2.5 M  | train\n",
      "7 | output_projection   | FlattenHead        | 10.8 K | train\n",
      "8 | normalize_layers    | RevIN              | 0      | train\n",
      "-------------------------------------------------------------------\n",
      "54.0 M    Trainable params\n",
      "124 M     Non-trainable params\n",
      "178 M     Total params\n",
      "713.647   Total estimated model params size (MB)\n",
      "20        Modules in train mode\n",
      "162       Modules in eval mode\n"
     ]
    },
    {
     "name": "stdout",
     "output_type": "stream",
     "text": [
      "Epoch 13:  33%|███▎      | 1/3 [02:44<05:28,  0.01it/s, v_num=109, train_loss_step=1.36e+3, train_loss_epoch=1.36e+3]"
     ]
    },
    {
     "name": "stderr",
     "output_type": "stream",
     "text": [
      "`Trainer.fit` stopped: `max_steps=40` reached.\n"
     ]
    },
    {
     "name": "stdout",
     "output_type": "stream",
     "text": [
      "Epoch 13:  33%|███▎      | 1/3 [02:44<05:29,  0.01it/s, v_num=109, train_loss_step=1.36e+3, train_loss_epoch=1.36e+3]\n"
     ]
    },
    {
     "name": "stderr",
     "output_type": "stream",
     "text": [
      "GPU available: True (mps), used: True\n",
      "TPU available: False, using: 0 TPU cores\n",
      "HPU available: False, using: 0 HPUs\n"
     ]
    },
    {
     "name": "stdout",
     "output_type": "stream",
     "text": [
      "Predicting DataLoader 0: 100%|██████████| 2/2 [00:15<00:00,  0.13it/s]\n"
     ]
    },
    {
     "data": {
      "text/html": [
       "<div>\n",
       "<style scoped>\n",
       "    .dataframe tbody tr th:only-of-type {\n",
       "        vertical-align: middle;\n",
       "    }\n",
       "\n",
       "    .dataframe tbody tr th {\n",
       "        vertical-align: top;\n",
       "    }\n",
       "\n",
       "    .dataframe thead th {\n",
       "        text-align: right;\n",
       "    }\n",
       "</style>\n",
       "<table border=\"1\" class=\"dataframe\">\n",
       "  <thead>\n",
       "    <tr style=\"text-align: right;\">\n",
       "      <th></th>\n",
       "      <th>date</th>\n",
       "      <th>store_id</th>\n",
       "      <th>state_id</th>\n",
       "      <th>sold_quantity</th>\n",
       "      <th>sold_amount</th>\n",
       "      <th>event_type_1</th>\n",
       "      <th>event_type_2</th>\n",
       "      <th>event_sporting</th>\n",
       "      <th>event_cultural</th>\n",
       "      <th>event_national</th>\n",
       "      <th>event_religious</th>\n",
       "      <th>dow</th>\n",
       "      <th>month</th>\n",
       "      <th>TimeLLM</th>\n",
       "      <th>TimeLLM-lo-90</th>\n",
       "      <th>TimeLLM-hi-90</th>\n",
       "    </tr>\n",
       "  </thead>\n",
       "  <tbody>\n",
       "    <tr>\n",
       "      <th>19405</th>\n",
       "      <td>2016-05-18</td>\n",
       "      <td>WI_3</td>\n",
       "      <td>WI</td>\n",
       "      <td>3268</td>\n",
       "      <td>9163.29</td>\n",
       "      <td>NaN</td>\n",
       "      <td>NaN</td>\n",
       "      <td>0</td>\n",
       "      <td>0</td>\n",
       "      <td>0</td>\n",
       "      <td>0</td>\n",
       "      <td>2</td>\n",
       "      <td>5</td>\n",
       "      <td>11084.703125</td>\n",
       "      <td>8544.048871</td>\n",
       "      <td>13625.357379</td>\n",
       "    </tr>\n",
       "    <tr>\n",
       "      <th>19406</th>\n",
       "      <td>2016-05-19</td>\n",
       "      <td>WI_3</td>\n",
       "      <td>WI</td>\n",
       "      <td>3398</td>\n",
       "      <td>9660.13</td>\n",
       "      <td>NaN</td>\n",
       "      <td>NaN</td>\n",
       "      <td>0</td>\n",
       "      <td>0</td>\n",
       "      <td>0</td>\n",
       "      <td>0</td>\n",
       "      <td>3</td>\n",
       "      <td>5</td>\n",
       "      <td>10878.086914</td>\n",
       "      <td>8277.563580</td>\n",
       "      <td>13478.610248</td>\n",
       "    </tr>\n",
       "    <tr>\n",
       "      <th>19407</th>\n",
       "      <td>2016-05-20</td>\n",
       "      <td>WI_3</td>\n",
       "      <td>WI</td>\n",
       "      <td>4126</td>\n",
       "      <td>11982.37</td>\n",
       "      <td>NaN</td>\n",
       "      <td>NaN</td>\n",
       "      <td>0</td>\n",
       "      <td>0</td>\n",
       "      <td>0</td>\n",
       "      <td>0</td>\n",
       "      <td>4</td>\n",
       "      <td>5</td>\n",
       "      <td>11230.549805</td>\n",
       "      <td>8309.235346</td>\n",
       "      <td>14151.864264</td>\n",
       "    </tr>\n",
       "    <tr>\n",
       "      <th>19408</th>\n",
       "      <td>2016-05-21</td>\n",
       "      <td>WI_3</td>\n",
       "      <td>WI</td>\n",
       "      <td>4519</td>\n",
       "      <td>12370.23</td>\n",
       "      <td>NaN</td>\n",
       "      <td>NaN</td>\n",
       "      <td>0</td>\n",
       "      <td>0</td>\n",
       "      <td>0</td>\n",
       "      <td>0</td>\n",
       "      <td>5</td>\n",
       "      <td>5</td>\n",
       "      <td>10879.316406</td>\n",
       "      <td>7770.471166</td>\n",
       "      <td>13988.161646</td>\n",
       "    </tr>\n",
       "    <tr>\n",
       "      <th>19409</th>\n",
       "      <td>2016-05-22</td>\n",
       "      <td>WI_3</td>\n",
       "      <td>WI</td>\n",
       "      <td>4757</td>\n",
       "      <td>13432.85</td>\n",
       "      <td>NaN</td>\n",
       "      <td>NaN</td>\n",
       "      <td>0</td>\n",
       "      <td>0</td>\n",
       "      <td>0</td>\n",
       "      <td>0</td>\n",
       "      <td>6</td>\n",
       "      <td>5</td>\n",
       "      <td>10843.922852</td>\n",
       "      <td>6807.609266</td>\n",
       "      <td>14880.236437</td>\n",
       "    </tr>\n",
       "  </tbody>\n",
       "</table>\n",
       "</div>"
      ],
      "text/plain": [
       "            date store_id state_id  sold_quantity  sold_amount event_type_1  \\\n",
       "19405 2016-05-18     WI_3       WI           3268      9163.29          NaN   \n",
       "19406 2016-05-19     WI_3       WI           3398      9660.13          NaN   \n",
       "19407 2016-05-20     WI_3       WI           4126     11982.37          NaN   \n",
       "19408 2016-05-21     WI_3       WI           4519     12370.23          NaN   \n",
       "19409 2016-05-22     WI_3       WI           4757     13432.85          NaN   \n",
       "\n",
       "      event_type_2  event_sporting  event_cultural  event_national  \\\n",
       "19405          NaN               0               0               0   \n",
       "19406          NaN               0               0               0   \n",
       "19407          NaN               0               0               0   \n",
       "19408          NaN               0               0               0   \n",
       "19409          NaN               0               0               0   \n",
       "\n",
       "       event_religious  dow  month       TimeLLM  TimeLLM-lo-90  TimeLLM-hi-90  \n",
       "19405                0    2      5  11084.703125    8544.048871   13625.357379  \n",
       "19406                0    3      5  10878.086914    8277.563580   13478.610248  \n",
       "19407                0    4      5  11230.549805    8309.235346   14151.864264  \n",
       "19408                0    5      5  10879.316406    7770.471166   13988.161646  \n",
       "19409                0    6      5  10843.922852    6807.609266   14880.236437  "
      ]
     },
     "execution_count": 6,
     "metadata": {},
     "output_type": "execute_result"
    }
   ],
   "source": [
    "path = os.path.join(\"output\", name_scenario, f\"forecasts_{name_scenario}.csv\")\n",
    "\n",
    "if force or not os.path.exists(path):\n",
    "    \n",
    "    df['dow'] = pd.to_datetime(df[time_col]).dt.dayofweek  # 0 = Monday\n",
    "    df['month'] = pd.to_datetime(df[time_col]).dt.month\n",
    "\n",
    "    train_df, test_df = split_train_test(\n",
    "        df=df, \n",
    "        horizon=H,\n",
    "        column_date=time_col,\n",
    "        column_id=id_col,\n",
    "        )\n",
    "\n",
    "    print(f\"{len(train_df)} rows for train\")\n",
    "    print(f\"{len(test_df)} rows for test\")\n",
    "    \n",
    "    columns_features = [\n",
    "        'dow', 'month',\n",
    "        'event_sporting', 'event_cultural', \n",
    "        'event_national', 'event_religious',\n",
    "    ]\n",
    "    \n",
    "    input_size=3*H\n",
    "    max_steps = 40\n",
    "    val_check_steps = max_steps // 5  # every 20% of training\n",
    "\n",
    "    \n",
    "    prompt_prefix = f\"\"\"\n",
    "The dataset contains daily sales data for Walmart stores. Each time series corresponds to a unique store. The available features include:\n",
    "- dow: day of the week (0 = Monday, ..., 6 = Sunday)\n",
    "- month: calendar month (1 = January, ..., 12 = December)\n",
    "- event_sporting, event_cultural, event_national, event_religious: binary indicators for specific events\n",
    "\n",
    "Sales typically increase on weekends (Saturday = 5, Sunday = 6) and during major events such as national holidays or cultural and sporting occasions.\n",
    "\n",
    "Use these patterns to forecast sales for the next {H} days.\n",
    "\"\"\"\n",
    "\n",
    "    \n",
    "    # Define the TimeLLM model\n",
    "    timellm = TimeLLM(\n",
    "        h=H,  # Forecast horizon\n",
    "        input_size=input_size,  # Number of past observations used for forecasting\n",
    "        patch_len=7, # Length of patch\n",
    "        stride=8, # Stride of patch\n",
    "        d_ff=128, # Dimension of fcn\n",
    "        top_k=10, # Top tokens to consider\n",
    "        d_llm=768, # Hidden dimension of LLM. 768 for gpt2 and 1024 for gpt2-medium\n",
    "        d_model=128, #32 # Dimension of model\n",
    "        n_heads=8, # Number of heads in attention layer\n",
    "        enc_in=8, # Encoder input size\n",
    "        dec_in=8, # Decoder input size\n",
    "        llm='openai-community/gpt2', # Pre-trained LLM to use\n",
    "        # 'openai-community/gpt2' 'google/flan-t5-small','openai-community/gpt2-medium'\n",
    "        dropout=0.1, # Dropout rate\n",
    "        prompt_prefix=prompt_prefix,\n",
    "        batch_size=4,  #16 # Number of training samples processed together in one forward/backward pass.\n",
    "        valid_batch_size=8, # Number of samples used per batch during validation (not training).\n",
    "        windows_batch_size=32, # Number of windows extracted from the dataset at a time to construct training/validation batches\n",
    "        max_steps=max_steps, #  Maximum number of training steps\n",
    "        val_check_steps=val_check_steps, # Number of training steps between every validation loss check\n",
    "        loss=MAE()\n",
    "    )\n",
    "\n",
    "    # Initialize NeuralForecast with the TimeLLM model\n",
    "    nf = NeuralForecast(\n",
    "        models=[timellm],\n",
    "        freq=freq  \n",
    "    )\n",
    "\n",
    "    # Fit the model to the data\n",
    "    nf.fit(\n",
    "        df=train_df[[id_col, time_col, target_col]+columns_features],\n",
    "        id_col=id_col,\n",
    "        time_col=time_col,\n",
    "        target_col=target_col,\n",
    "        \n",
    "        prediction_intervals=PredictionIntervals(\n",
    "            n_windows=10, # Number of past rolling windows used for calibrating intervals\n",
    "            h=14, # Forecast horizon (should match model's prediction length)\n",
    "            method=\"conformal_distribution\" # Nonparametric method for interval estimation using residuals\n",
    "        )\n",
    "    )\n",
    "\n",
    "    # Generate forecasts\n",
    "    forecasts_df = nf.predict(level=[90])\n",
    "    \n",
    "    forecasts_enr_df = ( \n",
    "        test_df\n",
    "        .merge(forecasts_df, on=[id_col, time_col], how=\"left\")\n",
    "    )\n",
    "    \n",
    "    forecasts_enr_df = pd.concat([train_df, forecasts_enr_df], axis=0).reset_index(drop=True)\n",
    "\n",
    "    os.makedirs(os.path.join(\"output\", name_scenario), exist_ok=True)\n",
    "    forecasts_enr_df.to_csv(path, index=False)\n",
    "\n",
    "else:\n",
    "    forecasts_enr_df = pd.read_csv(path)\n",
    "\n",
    "forecasts_enr_df.tail()"
   ]
  },
  {
   "cell_type": "markdown",
   "metadata": {},
   "source": [
    "## Results analysis"
   ]
  },
  {
   "cell_type": "code",
   "execution_count": null,
   "metadata": {},
   "outputs": [
    {
     "name": "stderr",
     "output_type": "stream",
     "text": [
      "/var/folders/x1/5lcr60ps53nfbsvw0s9dt0640000gn/T/ipykernel_94923/2913107207.py:11: DeprecationWarning:\n",
      "\n",
      "DataFrameGroupBy.apply operated on the grouping columns. This behavior is deprecated, and in a future version of pandas the grouping columns will be excluded from the operation. Either pass `include_groups=False` to exclude the groupings or explicitly select the grouping columns after groupby to silence this warning.\n",
      "\n"
     ]
    }
   ],
   "source": [
    "# Initialize containers:\n",
    "# - `scores` will store overall evaluation metrics for the model\n",
    "# - `scores_per_ts` will store evaluation metrics per time series (per ID)\n",
    "scores = {}\n",
    "scores_per_ts = []\n",
    "\n",
    "# Loop through the list of model forecast columns (here only 'TimeLLM')\n",
    "for column in ['TimeLLM']:\n",
    "    \n",
    "    # Filter out rows where the model forecast is missing (NaN)\n",
    "    forecasts_filtered_df = forecasts_enr_df[forecasts_enr_df[column].notna()]\n",
    "    \n",
    "    # Compute global evaluation metrics (e.g., MAE, RMSE) for TimeLLM\n",
    "    scores[column] = evaluate(\n",
    "        forecasts_filtered_df[target_col],    # Ground truth\n",
    "        forecasts_filtered_df[column]         # Model forecast\n",
    "    )\n",
    "    \n",
    "    # Compute evaluation metrics per time series (grouped by id_col)\n",
    "    scores_per_ts_model_df = (\n",
    "        forecasts_filtered_df\n",
    "        .groupby(id_col)\n",
    "        .apply(lambda group: pd.Series(\n",
    "            evaluate(group[target_col], group[column])  # Metrics per time series\n",
    "        ))\n",
    "        .reset_index()\n",
    "    )\n",
    "    \n",
    "    # Add a column to tag each row with the model name\n",
    "    scores_per_ts_model_df[\"model\"] = column\n",
    "    \n",
    "    # Append only relevant columns to the results list\n",
    "    scores_per_ts.append(\n",
    "        scores_per_ts_model_df[[\"model\"] + [c for c in scores_per_ts_model_df.columns if c != \"model\"]]\n",
    "    )\n",
    "\n",
    "# Convert the global scores dictionary into a DataFrame\n",
    "scores_df = (\n",
    "    pd.DataFrame(scores).T\n",
    "    .reset_index()\n",
    "    .rename(columns={\"index\": \"model\"})\n",
    ")\n",
    "\n",
    "# Concatenate all time-series-level score DataFrames into a single table\n",
    "scores_per_ts_df = pd.concat(scores_per_ts, axis=0).reset_index(drop=True)\n"
   ]
  },
  {
   "cell_type": "code",
   "execution_count": 9,
   "metadata": {},
   "outputs": [
    {
     "name": "stderr",
     "output_type": "stream",
     "text": [
      "/Users/linafaik/Documents/projects/time-series-forecasting-models/src/viz.py:183: UserWarning: Boolean Series key will be reindexed to match DataFrame index.\n",
      "  fc = forecast_uid_df[forecast_df[lower_q].notna()]\n",
      "/Users/linafaik/Documents/projects/time-series-forecasting-models/src/viz.py:184: UserWarning: Boolean Series key will be reindexed to match DataFrame index.\n",
      "  test = forecast_uid_df[forecast_df[lower_q].notna()]\n",
      "/Users/linafaik/Documents/projects/time-series-forecasting-models/src/viz.py:185: UserWarning: Boolean Series key will be reindexed to match DataFrame index.\n",
      "  train = forecast_uid_df[forecast_df[lower_q].isna()]\n"
     ]
    },
    {
     "data": {
      "application/vnd.plotly.v1+json": {
       "config": {
        "plotlyServerURL": "https://plot.ly"
       },
       "data": [
        {
         "line": {
          "color": "lightgray"
         },
         "mode": "lines",
         "name": "Train Sales (last steps)",
         "type": "scatter",
         "x": [
          "2016-04-09T00:00:00",
          "2016-04-10T00:00:00",
          "2016-04-11T00:00:00",
          "2016-04-12T00:00:00",
          "2016-04-13T00:00:00",
          "2016-04-14T00:00:00",
          "2016-04-15T00:00:00",
          "2016-04-16T00:00:00",
          "2016-04-17T00:00:00",
          "2016-04-18T00:00:00",
          "2016-04-19T00:00:00",
          "2016-04-20T00:00:00",
          "2016-04-21T00:00:00",
          "2016-04-22T00:00:00",
          "2016-04-23T00:00:00",
          "2016-04-24T00:00:00",
          "2016-04-25T00:00:00",
          "2016-04-26T00:00:00",
          "2016-04-27T00:00:00",
          "2016-04-28T00:00:00",
          "2016-04-29T00:00:00",
          "2016-04-30T00:00:00",
          "2016-05-01T00:00:00",
          "2016-05-02T00:00:00",
          "2016-05-03T00:00:00",
          "2016-05-04T00:00:00",
          "2016-05-05T00:00:00",
          "2016-05-06T00:00:00",
          "2016-05-07T00:00:00",
          "2016-05-08T00:00:00"
         ],
         "y": {
          "bdata": "j8L1KLyuzUD2KFyPombPQHE9CtdDOspAZmZmZgbDyUCamZmZuXXHQGZmZmbGscdA16NwPWrMyEApXI/C9ZrLQOxRuB6Frc5Aj8L1KJxoxUBmZmZmxn/KQHE9CtdDqsVApHA9CreHxkAzMzMz8zjHQD0K16PQkslASOF6FM4ny0Bcj8L1qJHIQJqZmZk5xcZAZmZmZqYexkAUrkfhmq/HQAAAAABgpMxASOF6FG56y0CF61G4DjnQQM3MzMwM+spAPQrXo5BczkBmZmZmRvLGQGZmZmYmeMpA4XoUrod+y0BSuB6FWyDQQAAAAAAAHMxA",
          "dtype": "f8"
         }
        },
        {
         "line": {
          "color": "coral"
         },
         "mode": "lines",
         "name": "Test Sales",
         "type": "scatter",
         "x": [
          "2016-05-08T00:00:00",
          "2016-05-09T00:00:00",
          "2016-05-10T00:00:00",
          "2016-05-11T00:00:00",
          "2016-05-12T00:00:00",
          "2016-05-13T00:00:00",
          "2016-05-14T00:00:00",
          "2016-05-15T00:00:00",
          "2016-05-16T00:00:00",
          "2016-05-17T00:00:00",
          "2016-05-18T00:00:00",
          "2016-05-19T00:00:00",
          "2016-05-20T00:00:00",
          "2016-05-21T00:00:00",
          "2016-05-22T00:00:00"
         ],
         "y": {
          "bdata": "AAAAAAAczEDsUbgehbDNQD0K16Ow0clAj8L1KHyRykB7FK5HIY/JQI/C9Sh8VMtA16NwPco/y0Bcj8L1iCTSQGZmZmbGZs1AexSuR+EuykBcj8L1CJfHQHsUrkdh3sVAAAAAAIClzEC4HoXrUajOQB+F61EIw9BA",
          "dtype": "f8"
         }
        },
        {
         "line": {
          "width": 0
         },
         "mode": "lines",
         "name": "TimeLLM-lo-90",
         "showlegend": false,
         "type": "scatter",
         "x": [
          "2016-05-08T00:00:00",
          "2016-05-09T00:00:00",
          "2016-05-10T00:00:00",
          "2016-05-11T00:00:00",
          "2016-05-12T00:00:00",
          "2016-05-13T00:00:00",
          "2016-05-14T00:00:00",
          "2016-05-15T00:00:00",
          "2016-05-16T00:00:00",
          "2016-05-17T00:00:00",
          "2016-05-18T00:00:00",
          "2016-05-19T00:00:00",
          "2016-05-20T00:00:00",
          "2016-05-21T00:00:00",
          "2016-05-22T00:00:00"
         ],
         "y": {
          "bdata": "AAAAAAAczECJQWCVFQvHQHnpJlk0ZMVAqMZLl/COxUAnMQhk+KjFQC/dJF6eQsdAVOOlE2B2xkBzaJHdrWvEQFTjpXNCPMZA7FG4pi6Kw0BSuB51i4DEQLkehctjLcNAuR6FOyKKxECuR+EKH+vBQOJ6FM6A6sFA",
          "dtype": "f8"
         }
        },
        {
         "fill": "tonexty",
         "fillcolor": "rgba(255, 127, 80, 0.3)",
         "line": {
          "width": 0
         },
         "mode": "lines",
         "name": "90% Confidence Interval",
         "type": "scatter",
         "x": [
          "2016-05-08T00:00:00",
          "2016-05-09T00:00:00",
          "2016-05-10T00:00:00",
          "2016-05-11T00:00:00",
          "2016-05-12T00:00:00",
          "2016-05-13T00:00:00",
          "2016-05-14T00:00:00",
          "2016-05-15T00:00:00",
          "2016-05-16T00:00:00",
          "2016-05-17T00:00:00",
          "2016-05-18T00:00:00",
          "2016-05-19T00:00:00",
          "2016-05-20T00:00:00",
          "2016-05-21T00:00:00",
          "2016-05-22T00:00:00"
         ],
         "y": {
          "bdata": "AAAAAAAczEB4vp9qqA/OQIcW2SZUdMxAWDm0aMkMzEDazvfb0yrMQNIi2yExycxArBxa7IYdzkCOl26imPLNQK0cWswTas1AFK5HGfdRz0CuR+FKX3LOQEjhenTjFs9ASOF6hJ/TzkApXI+6d0rQQI/C9ZiBKdBA",
          "dtype": "f8"
         }
        },
        {
         "line": {
          "color": "coral",
          "dash": "dash"
         },
         "mode": "lines",
         "name": "Forecast",
         "type": "scatter",
         "x": [
          "2016-05-08T00:00:00",
          "2016-05-09T00:00:00",
          "2016-05-10T00:00:00",
          "2016-05-11T00:00:00",
          "2016-05-12T00:00:00",
          "2016-05-13T00:00:00",
          "2016-05-14T00:00:00",
          "2016-05-15T00:00:00",
          "2016-05-16T00:00:00",
          "2016-05-17T00:00:00",
          "2016-05-18T00:00:00",
          "2016-05-19T00:00:00",
          "2016-05-20T00:00:00",
          "2016-05-21T00:00:00",
          "2016-05-22T00:00:00"
         ],
         "y": {
          "bdata": "AAAAAAAczEAAAAAAX43KQAAAAEBE7MhAAAAAAN3NyEAAAAAg5unIQAAAAMDnBcpAAAAAgPNJykAAAABAIy/JQAAAACAr08lAAAAA4BJuyUAAAABgdXnJQAAAAKAjIslAAAAA4OCuyUAAAABAB0DJQAAAAADCHslA",
          "dtype": "f8"
         }
        }
       ],
       "layout": {
        "height": 500,
        "template": {
         "data": {
          "bar": [
           {
            "error_x": {
             "color": "#2a3f5f"
            },
            "error_y": {
             "color": "#2a3f5f"
            },
            "marker": {
             "line": {
              "color": "white",
              "width": 0.5
             },
             "pattern": {
              "fillmode": "overlay",
              "size": 10,
              "solidity": 0.2
             }
            },
            "type": "bar"
           }
          ],
          "barpolar": [
           {
            "marker": {
             "line": {
              "color": "white",
              "width": 0.5
             },
             "pattern": {
              "fillmode": "overlay",
              "size": 10,
              "solidity": 0.2
             }
            },
            "type": "barpolar"
           }
          ],
          "carpet": [
           {
            "aaxis": {
             "endlinecolor": "#2a3f5f",
             "gridcolor": "#C8D4E3",
             "linecolor": "#C8D4E3",
             "minorgridcolor": "#C8D4E3",
             "startlinecolor": "#2a3f5f"
            },
            "baxis": {
             "endlinecolor": "#2a3f5f",
             "gridcolor": "#C8D4E3",
             "linecolor": "#C8D4E3",
             "minorgridcolor": "#C8D4E3",
             "startlinecolor": "#2a3f5f"
            },
            "type": "carpet"
           }
          ],
          "choropleth": [
           {
            "colorbar": {
             "outlinewidth": 0,
             "ticks": ""
            },
            "type": "choropleth"
           }
          ],
          "contour": [
           {
            "colorbar": {
             "outlinewidth": 0,
             "ticks": ""
            },
            "colorscale": [
             [
              0,
              "#0d0887"
             ],
             [
              0.1111111111111111,
              "#46039f"
             ],
             [
              0.2222222222222222,
              "#7201a8"
             ],
             [
              0.3333333333333333,
              "#9c179e"
             ],
             [
              0.4444444444444444,
              "#bd3786"
             ],
             [
              0.5555555555555556,
              "#d8576b"
             ],
             [
              0.6666666666666666,
              "#ed7953"
             ],
             [
              0.7777777777777778,
              "#fb9f3a"
             ],
             [
              0.8888888888888888,
              "#fdca26"
             ],
             [
              1,
              "#f0f921"
             ]
            ],
            "type": "contour"
           }
          ],
          "contourcarpet": [
           {
            "colorbar": {
             "outlinewidth": 0,
             "ticks": ""
            },
            "type": "contourcarpet"
           }
          ],
          "heatmap": [
           {
            "colorbar": {
             "outlinewidth": 0,
             "ticks": ""
            },
            "colorscale": [
             [
              0,
              "#0d0887"
             ],
             [
              0.1111111111111111,
              "#46039f"
             ],
             [
              0.2222222222222222,
              "#7201a8"
             ],
             [
              0.3333333333333333,
              "#9c179e"
             ],
             [
              0.4444444444444444,
              "#bd3786"
             ],
             [
              0.5555555555555556,
              "#d8576b"
             ],
             [
              0.6666666666666666,
              "#ed7953"
             ],
             [
              0.7777777777777778,
              "#fb9f3a"
             ],
             [
              0.8888888888888888,
              "#fdca26"
             ],
             [
              1,
              "#f0f921"
             ]
            ],
            "type": "heatmap"
           }
          ],
          "histogram": [
           {
            "marker": {
             "pattern": {
              "fillmode": "overlay",
              "size": 10,
              "solidity": 0.2
             }
            },
            "type": "histogram"
           }
          ],
          "histogram2d": [
           {
            "colorbar": {
             "outlinewidth": 0,
             "ticks": ""
            },
            "colorscale": [
             [
              0,
              "#0d0887"
             ],
             [
              0.1111111111111111,
              "#46039f"
             ],
             [
              0.2222222222222222,
              "#7201a8"
             ],
             [
              0.3333333333333333,
              "#9c179e"
             ],
             [
              0.4444444444444444,
              "#bd3786"
             ],
             [
              0.5555555555555556,
              "#d8576b"
             ],
             [
              0.6666666666666666,
              "#ed7953"
             ],
             [
              0.7777777777777778,
              "#fb9f3a"
             ],
             [
              0.8888888888888888,
              "#fdca26"
             ],
             [
              1,
              "#f0f921"
             ]
            ],
            "type": "histogram2d"
           }
          ],
          "histogram2dcontour": [
           {
            "colorbar": {
             "outlinewidth": 0,
             "ticks": ""
            },
            "colorscale": [
             [
              0,
              "#0d0887"
             ],
             [
              0.1111111111111111,
              "#46039f"
             ],
             [
              0.2222222222222222,
              "#7201a8"
             ],
             [
              0.3333333333333333,
              "#9c179e"
             ],
             [
              0.4444444444444444,
              "#bd3786"
             ],
             [
              0.5555555555555556,
              "#d8576b"
             ],
             [
              0.6666666666666666,
              "#ed7953"
             ],
             [
              0.7777777777777778,
              "#fb9f3a"
             ],
             [
              0.8888888888888888,
              "#fdca26"
             ],
             [
              1,
              "#f0f921"
             ]
            ],
            "type": "histogram2dcontour"
           }
          ],
          "mesh3d": [
           {
            "colorbar": {
             "outlinewidth": 0,
             "ticks": ""
            },
            "type": "mesh3d"
           }
          ],
          "parcoords": [
           {
            "line": {
             "colorbar": {
              "outlinewidth": 0,
              "ticks": ""
             }
            },
            "type": "parcoords"
           }
          ],
          "pie": [
           {
            "automargin": true,
            "type": "pie"
           }
          ],
          "scatter": [
           {
            "fillpattern": {
             "fillmode": "overlay",
             "size": 10,
             "solidity": 0.2
            },
            "type": "scatter"
           }
          ],
          "scatter3d": [
           {
            "line": {
             "colorbar": {
              "outlinewidth": 0,
              "ticks": ""
             }
            },
            "marker": {
             "colorbar": {
              "outlinewidth": 0,
              "ticks": ""
             }
            },
            "type": "scatter3d"
           }
          ],
          "scattercarpet": [
           {
            "marker": {
             "colorbar": {
              "outlinewidth": 0,
              "ticks": ""
             }
            },
            "type": "scattercarpet"
           }
          ],
          "scattergeo": [
           {
            "marker": {
             "colorbar": {
              "outlinewidth": 0,
              "ticks": ""
             }
            },
            "type": "scattergeo"
           }
          ],
          "scattergl": [
           {
            "marker": {
             "colorbar": {
              "outlinewidth": 0,
              "ticks": ""
             }
            },
            "type": "scattergl"
           }
          ],
          "scattermap": [
           {
            "marker": {
             "colorbar": {
              "outlinewidth": 0,
              "ticks": ""
             }
            },
            "type": "scattermap"
           }
          ],
          "scattermapbox": [
           {
            "marker": {
             "colorbar": {
              "outlinewidth": 0,
              "ticks": ""
             }
            },
            "type": "scattermapbox"
           }
          ],
          "scatterpolar": [
           {
            "marker": {
             "colorbar": {
              "outlinewidth": 0,
              "ticks": ""
             }
            },
            "type": "scatterpolar"
           }
          ],
          "scatterpolargl": [
           {
            "marker": {
             "colorbar": {
              "outlinewidth": 0,
              "ticks": ""
             }
            },
            "type": "scatterpolargl"
           }
          ],
          "scatterternary": [
           {
            "marker": {
             "colorbar": {
              "outlinewidth": 0,
              "ticks": ""
             }
            },
            "type": "scatterternary"
           }
          ],
          "surface": [
           {
            "colorbar": {
             "outlinewidth": 0,
             "ticks": ""
            },
            "colorscale": [
             [
              0,
              "#0d0887"
             ],
             [
              0.1111111111111111,
              "#46039f"
             ],
             [
              0.2222222222222222,
              "#7201a8"
             ],
             [
              0.3333333333333333,
              "#9c179e"
             ],
             [
              0.4444444444444444,
              "#bd3786"
             ],
             [
              0.5555555555555556,
              "#d8576b"
             ],
             [
              0.6666666666666666,
              "#ed7953"
             ],
             [
              0.7777777777777778,
              "#fb9f3a"
             ],
             [
              0.8888888888888888,
              "#fdca26"
             ],
             [
              1,
              "#f0f921"
             ]
            ],
            "type": "surface"
           }
          ],
          "table": [
           {
            "cells": {
             "fill": {
              "color": "#EBF0F8"
             },
             "line": {
              "color": "white"
             }
            },
            "header": {
             "fill": {
              "color": "#C8D4E3"
             },
             "line": {
              "color": "white"
             }
            },
            "type": "table"
           }
          ]
         },
         "layout": {
          "annotationdefaults": {
           "arrowcolor": "#2a3f5f",
           "arrowhead": 0,
           "arrowwidth": 1
          },
          "autotypenumbers": "strict",
          "coloraxis": {
           "colorbar": {
            "outlinewidth": 0,
            "ticks": ""
           }
          },
          "colorscale": {
           "diverging": [
            [
             0,
             "#8e0152"
            ],
            [
             0.1,
             "#c51b7d"
            ],
            [
             0.2,
             "#de77ae"
            ],
            [
             0.3,
             "#f1b6da"
            ],
            [
             0.4,
             "#fde0ef"
            ],
            [
             0.5,
             "#f7f7f7"
            ],
            [
             0.6,
             "#e6f5d0"
            ],
            [
             0.7,
             "#b8e186"
            ],
            [
             0.8,
             "#7fbc41"
            ],
            [
             0.9,
             "#4d9221"
            ],
            [
             1,
             "#276419"
            ]
           ],
           "sequential": [
            [
             0,
             "#0d0887"
            ],
            [
             0.1111111111111111,
             "#46039f"
            ],
            [
             0.2222222222222222,
             "#7201a8"
            ],
            [
             0.3333333333333333,
             "#9c179e"
            ],
            [
             0.4444444444444444,
             "#bd3786"
            ],
            [
             0.5555555555555556,
             "#d8576b"
            ],
            [
             0.6666666666666666,
             "#ed7953"
            ],
            [
             0.7777777777777778,
             "#fb9f3a"
            ],
            [
             0.8888888888888888,
             "#fdca26"
            ],
            [
             1,
             "#f0f921"
            ]
           ],
           "sequentialminus": [
            [
             0,
             "#0d0887"
            ],
            [
             0.1111111111111111,
             "#46039f"
            ],
            [
             0.2222222222222222,
             "#7201a8"
            ],
            [
             0.3333333333333333,
             "#9c179e"
            ],
            [
             0.4444444444444444,
             "#bd3786"
            ],
            [
             0.5555555555555556,
             "#d8576b"
            ],
            [
             0.6666666666666666,
             "#ed7953"
            ],
            [
             0.7777777777777778,
             "#fb9f3a"
            ],
            [
             0.8888888888888888,
             "#fdca26"
            ],
            [
             1,
             "#f0f921"
            ]
           ]
          },
          "colorway": [
           "#636efa",
           "#EF553B",
           "#00cc96",
           "#ab63fa",
           "#FFA15A",
           "#19d3f3",
           "#FF6692",
           "#B6E880",
           "#FF97FF",
           "#FECB52"
          ],
          "font": {
           "color": "#2a3f5f"
          },
          "geo": {
           "bgcolor": "white",
           "lakecolor": "white",
           "landcolor": "white",
           "showlakes": true,
           "showland": true,
           "subunitcolor": "#C8D4E3"
          },
          "hoverlabel": {
           "align": "left"
          },
          "hovermode": "closest",
          "mapbox": {
           "style": "light"
          },
          "paper_bgcolor": "white",
          "plot_bgcolor": "white",
          "polar": {
           "angularaxis": {
            "gridcolor": "#EBF0F8",
            "linecolor": "#EBF0F8",
            "ticks": ""
           },
           "bgcolor": "white",
           "radialaxis": {
            "gridcolor": "#EBF0F8",
            "linecolor": "#EBF0F8",
            "ticks": ""
           }
          },
          "scene": {
           "xaxis": {
            "backgroundcolor": "white",
            "gridcolor": "#DFE8F3",
            "gridwidth": 2,
            "linecolor": "#EBF0F8",
            "showbackground": true,
            "ticks": "",
            "zerolinecolor": "#EBF0F8"
           },
           "yaxis": {
            "backgroundcolor": "white",
            "gridcolor": "#DFE8F3",
            "gridwidth": 2,
            "linecolor": "#EBF0F8",
            "showbackground": true,
            "ticks": "",
            "zerolinecolor": "#EBF0F8"
           },
           "zaxis": {
            "backgroundcolor": "white",
            "gridcolor": "#DFE8F3",
            "gridwidth": 2,
            "linecolor": "#EBF0F8",
            "showbackground": true,
            "ticks": "",
            "zerolinecolor": "#EBF0F8"
           }
          },
          "shapedefaults": {
           "line": {
            "color": "#2a3f5f"
           }
          },
          "ternary": {
           "aaxis": {
            "gridcolor": "#DFE8F3",
            "linecolor": "#A2B1C6",
            "ticks": ""
           },
           "baxis": {
            "gridcolor": "#DFE8F3",
            "linecolor": "#A2B1C6",
            "ticks": ""
           },
           "bgcolor": "white",
           "caxis": {
            "gridcolor": "#DFE8F3",
            "linecolor": "#A2B1C6",
            "ticks": ""
           }
          },
          "title": {
           "x": 0.05
          },
          "xaxis": {
           "automargin": true,
           "gridcolor": "#EBF0F8",
           "linecolor": "#EBF0F8",
           "ticks": "",
           "title": {
            "standoff": 15
           },
           "zerolinecolor": "#EBF0F8",
           "zerolinewidth": 2
          },
          "yaxis": {
           "automargin": true,
           "gridcolor": "#EBF0F8",
           "linecolor": "#EBF0F8",
           "ticks": "",
           "title": {
            "standoff": 15
           },
           "zerolinecolor": "#EBF0F8",
           "zerolinewidth": 2
          }
         }
        },
        "title": {
         "text": "Forecast with 90% CI for ID: TX_3"
        },
        "width": 1000,
        "xaxis": {
         "title": {
          "text": "date"
         }
        },
        "yaxis": {
         "title": {
          "text": "sold_amount"
         }
        }
       }
      }
     },
     "metadata": {},
     "output_type": "display_data"
    }
   ],
   "source": [
    "rnd_id = np.random.choice(scores_per_ts_df[id_col].unique())\n",
    "\n",
    "plot_forecast_with_ci(\n",
    "    forecasts_enr_df, \n",
    "    column_id=id_col,\n",
    "    column_date=time_col,\n",
    "    column_target=target_col,\n",
    "    column_forecast=\"TimeLLM\",\n",
    "    uid=rnd_id, \n",
    "    model_name=\"TimeLLM\",\n",
    "    level=90, \n",
    "    train_tail=30\n",
    "    )\n"
   ]
  }
 ],
 "metadata": {
  "kernelspec": {
   "display_name": ".venv",
   "language": "python",
   "name": "python3"
  },
  "language_info": {
   "codemirror_mode": {
    "name": "ipython",
    "version": 3
   },
   "file_extension": ".py",
   "mimetype": "text/x-python",
   "name": "python",
   "nbconvert_exporter": "python",
   "pygments_lexer": "ipython3",
   "version": "3.11.9"
  }
 },
 "nbformat": 4,
 "nbformat_minor": 2
}
