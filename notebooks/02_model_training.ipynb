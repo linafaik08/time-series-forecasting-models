{
 "cells": [
  {
   "cell_type": "code",
   "execution_count": 1,
   "metadata": {},
   "outputs": [
    {
     "name": "stdout",
     "output_type": "stream",
     "text": [
      "/Users/linafaik/Documents/projects/time-series-forecasting-models\n"
     ]
    }
   ],
   "source": [
    "cd ../"
   ]
  },
  {
   "cell_type": "code",
   "execution_count": 2,
   "metadata": {},
   "outputs": [],
   "source": [
    "import matplotlib.pyplot as plt"
   ]
  },
  {
   "cell_type": "code",
   "execution_count": 3,
   "metadata": {},
   "outputs": [],
   "source": [
    "import pandas as pd\n",
    "import numpy as np\n",
    "import os\n",
    "\n",
    "from nixtla import NixtlaClient\n",
    "\n",
    "from config import *\n",
    "from src.data_processing import *\n",
    "from src.metrics import *\n",
    "from src.training import *\n",
    "from src.viz import *\n",
    "\n",
    "%load_ext autoreload\n",
    "%autoreload 2\n"
   ]
  },
  {
   "cell_type": "code",
   "execution_count": 58,
   "metadata": {},
   "outputs": [],
   "source": [
    "dir_output = \"output/timegpt\"\n",
    "path_input=\"output/data_processed.gz\"\n",
    "\n",
    "H = 14 # forecast horizon\n",
    "n_ts = 200"
   ]
  },
  {
   "cell_type": "code",
   "execution_count": 5,
   "metadata": {},
   "outputs": [],
   "source": [
    "client = NixtlaClient(api_key=NIXTLA_API_KEY)\n",
    "\n",
    "df = pd.read_csv(path_input)\n",
    "df[\"date\"] = pd.to_datetime(df[\"date\"], format=\"%Y-%m-%d\")"
   ]
  },
  {
   "cell_type": "code",
   "execution_count": 6,
   "metadata": {},
   "outputs": [
    {
     "data": {
      "text/html": [
       "<div>\n",
       "<style scoped>\n",
       "    .dataframe tbody tr th:only-of-type {\n",
       "        vertical-align: middle;\n",
       "    }\n",
       "\n",
       "    .dataframe tbody tr th {\n",
       "        vertical-align: top;\n",
       "    }\n",
       "\n",
       "    .dataframe thead th {\n",
       "        text-align: right;\n",
       "    }\n",
       "</style>\n",
       "<table border=\"1\" class=\"dataframe\">\n",
       "  <thead>\n",
       "    <tr style=\"text-align: right;\">\n",
       "      <th></th>\n",
       "      <th>id</th>\n",
       "      <th>item_id</th>\n",
       "      <th>dept_id</th>\n",
       "      <th>cat_id</th>\n",
       "      <th>store_id</th>\n",
       "      <th>state_id</th>\n",
       "      <th>date</th>\n",
       "      <th>sales</th>\n",
       "      <th>weekday</th>\n",
       "      <th>wm_yr_wk</th>\n",
       "      <th>event_type_1</th>\n",
       "      <th>event_type_2</th>\n",
       "      <th>sell_price</th>\n",
       "      <th>event_sporting</th>\n",
       "      <th>event_cultural</th>\n",
       "      <th>event_national</th>\n",
       "      <th>event_religious</th>\n",
       "    </tr>\n",
       "  </thead>\n",
       "  <tbody>\n",
       "    <tr>\n",
       "      <th>0</th>\n",
       "      <td>FOODS_1_001_CA_1_evaluation</td>\n",
       "      <td>FOODS_1_001</td>\n",
       "      <td>FOODS_1</td>\n",
       "      <td>FOODS</td>\n",
       "      <td>CA_1</td>\n",
       "      <td>CA</td>\n",
       "      <td>2011-01-29</td>\n",
       "      <td>3</td>\n",
       "      <td>Saturday</td>\n",
       "      <td>11101</td>\n",
       "      <td>NaN</td>\n",
       "      <td>NaN</td>\n",
       "      <td>2.0</td>\n",
       "      <td>0</td>\n",
       "      <td>0</td>\n",
       "      <td>0</td>\n",
       "      <td>0</td>\n",
       "    </tr>\n",
       "    <tr>\n",
       "      <th>1</th>\n",
       "      <td>FOODS_1_001_CA_1_evaluation</td>\n",
       "      <td>FOODS_1_001</td>\n",
       "      <td>FOODS_1</td>\n",
       "      <td>FOODS</td>\n",
       "      <td>CA_1</td>\n",
       "      <td>CA</td>\n",
       "      <td>2011-01-30</td>\n",
       "      <td>0</td>\n",
       "      <td>Sunday</td>\n",
       "      <td>11101</td>\n",
       "      <td>NaN</td>\n",
       "      <td>NaN</td>\n",
       "      <td>2.0</td>\n",
       "      <td>0</td>\n",
       "      <td>0</td>\n",
       "      <td>0</td>\n",
       "      <td>0</td>\n",
       "    </tr>\n",
       "    <tr>\n",
       "      <th>2</th>\n",
       "      <td>FOODS_1_001_CA_1_evaluation</td>\n",
       "      <td>FOODS_1_001</td>\n",
       "      <td>FOODS_1</td>\n",
       "      <td>FOODS</td>\n",
       "      <td>CA_1</td>\n",
       "      <td>CA</td>\n",
       "      <td>2011-01-31</td>\n",
       "      <td>0</td>\n",
       "      <td>Monday</td>\n",
       "      <td>11101</td>\n",
       "      <td>NaN</td>\n",
       "      <td>NaN</td>\n",
       "      <td>2.0</td>\n",
       "      <td>0</td>\n",
       "      <td>0</td>\n",
       "      <td>0</td>\n",
       "      <td>0</td>\n",
       "    </tr>\n",
       "    <tr>\n",
       "      <th>3</th>\n",
       "      <td>FOODS_1_001_CA_1_evaluation</td>\n",
       "      <td>FOODS_1_001</td>\n",
       "      <td>FOODS_1</td>\n",
       "      <td>FOODS</td>\n",
       "      <td>CA_1</td>\n",
       "      <td>CA</td>\n",
       "      <td>2011-02-01</td>\n",
       "      <td>1</td>\n",
       "      <td>Tuesday</td>\n",
       "      <td>11101</td>\n",
       "      <td>NaN</td>\n",
       "      <td>NaN</td>\n",
       "      <td>2.0</td>\n",
       "      <td>0</td>\n",
       "      <td>0</td>\n",
       "      <td>0</td>\n",
       "      <td>0</td>\n",
       "    </tr>\n",
       "    <tr>\n",
       "      <th>4</th>\n",
       "      <td>FOODS_1_001_CA_1_evaluation</td>\n",
       "      <td>FOODS_1_001</td>\n",
       "      <td>FOODS_1</td>\n",
       "      <td>FOODS</td>\n",
       "      <td>CA_1</td>\n",
       "      <td>CA</td>\n",
       "      <td>2011-02-02</td>\n",
       "      <td>4</td>\n",
       "      <td>Wednesday</td>\n",
       "      <td>11101</td>\n",
       "      <td>NaN</td>\n",
       "      <td>NaN</td>\n",
       "      <td>2.0</td>\n",
       "      <td>0</td>\n",
       "      <td>0</td>\n",
       "      <td>0</td>\n",
       "      <td>0</td>\n",
       "    </tr>\n",
       "  </tbody>\n",
       "</table>\n",
       "</div>"
      ],
      "text/plain": [
       "                            id      item_id  dept_id cat_id store_id state_id  \\\n",
       "0  FOODS_1_001_CA_1_evaluation  FOODS_1_001  FOODS_1  FOODS     CA_1       CA   \n",
       "1  FOODS_1_001_CA_1_evaluation  FOODS_1_001  FOODS_1  FOODS     CA_1       CA   \n",
       "2  FOODS_1_001_CA_1_evaluation  FOODS_1_001  FOODS_1  FOODS     CA_1       CA   \n",
       "3  FOODS_1_001_CA_1_evaluation  FOODS_1_001  FOODS_1  FOODS     CA_1       CA   \n",
       "4  FOODS_1_001_CA_1_evaluation  FOODS_1_001  FOODS_1  FOODS     CA_1       CA   \n",
       "\n",
       "        date  sales    weekday  wm_yr_wk event_type_1 event_type_2  \\\n",
       "0 2011-01-29      3   Saturday     11101          NaN          NaN   \n",
       "1 2011-01-30      0     Sunday     11101          NaN          NaN   \n",
       "2 2011-01-31      0     Monday     11101          NaN          NaN   \n",
       "3 2011-02-01      1    Tuesday     11101          NaN          NaN   \n",
       "4 2011-02-02      4  Wednesday     11101          NaN          NaN   \n",
       "\n",
       "   sell_price  event_sporting  event_cultural  event_national  event_religious  \n",
       "0         2.0               0               0               0                0  \n",
       "1         2.0               0               0               0                0  \n",
       "2         2.0               0               0               0                0  \n",
       "3         2.0               0               0               0                0  \n",
       "4         2.0               0               0               0                0  "
      ]
     },
     "execution_count": 6,
     "metadata": {},
     "output_type": "execute_result"
    }
   ],
   "source": [
    "df.head()"
   ]
  },
  {
   "cell_type": "markdown",
   "metadata": {},
   "source": [
    "## Train / Test Split"
   ]
  },
  {
   "cell_type": "code",
   "execution_count": 59,
   "metadata": {},
   "outputs": [
    {
     "data": {
      "text/plain": [
       "count    30490.000000\n",
       "mean       621.163365\n",
       "std        433.631478\n",
       "min         12.000000\n",
       "25%        262.000000\n",
       "50%        518.000000\n",
       "75%        903.000000\n",
       "max       1938.000000\n",
       "dtype: float64"
      ]
     },
     "execution_count": 59,
     "metadata": {},
     "output_type": "execute_result"
    }
   ],
   "source": [
    "count_df = df[df[\"sales\"]>0].groupby(\"id\").size()\n",
    "count_df.describe()"
   ]
  },
  {
   "cell_type": "code",
   "execution_count": null,
   "metadata": {},
   "outputs": [
    {
     "name": "stdout",
     "output_type": "stream",
     "text": [
      "385400 rows for train\n",
      "2800 rows for test\n"
     ]
    }
   ],
   "source": [
    "random_ts = np.random.choice(\n",
    "    df[df['id'].isin(\n",
    "        count_df[count_df>800].index.unique()\n",
    "        )][\"id\"].unique(), \n",
    "    size=n_ts)\n",
    "subset_df = df[df['id'].isin(random_ts)].copy()\n",
    "train_df, test_df = split_train_test(subset_df, H)\n",
    "\n",
    "print(f\"{len(train_df)} rows for train\")\n",
    "print(f\"{len(test_df)} rows for test\")"
   ]
  },
  {
   "cell_type": "markdown",
   "metadata": {},
   "source": [
    "## Model training"
   ]
  },
  {
   "cell_type": "code",
   "execution_count": 61,
   "metadata": {},
   "outputs": [],
   "source": [
    "id_col = \"id\"\n",
    "time_col = \"date\"\n",
    "target_col = \"sales\"\n",
    "finetune_steps = 10\n",
    "finetune_loss = \"rmse\"\n",
    "finetune_depth = 3\n",
    "freq = \"D\"\n",
    "model = \"timegpt-1-long-horizon\""
   ]
  },
  {
   "cell_type": "markdown",
   "metadata": {},
   "source": [
    "### Baseline"
   ]
  },
  {
   "cell_type": "code",
   "execution_count": 62,
   "metadata": {},
   "outputs": [],
   "source": [
    "name_scenario = \"baseline\""
   ]
  },
  {
   "cell_type": "code",
   "execution_count": 63,
   "metadata": {},
   "outputs": [
    {
     "name": "stderr",
     "output_type": "stream",
     "text": [
      "INFO:nixtla.nixtla_client:Validating inputs...\n",
      "INFO:nixtla.nixtla_client:Preprocessing dataframes...\n",
      "INFO:nixtla.nixtla_client:Calling Forecast Endpoint...\n"
     ]
    },
    {
     "data": {
      "text/html": [
       "<div>\n",
       "<style scoped>\n",
       "    .dataframe tbody tr th:only-of-type {\n",
       "        vertical-align: middle;\n",
       "    }\n",
       "\n",
       "    .dataframe tbody tr th {\n",
       "        vertical-align: top;\n",
       "    }\n",
       "\n",
       "    .dataframe thead th {\n",
       "        text-align: right;\n",
       "    }\n",
       "</style>\n",
       "<table border=\"1\" class=\"dataframe\">\n",
       "  <thead>\n",
       "    <tr style=\"text-align: right;\">\n",
       "      <th></th>\n",
       "      <th>id</th>\n",
       "      <th>date</th>\n",
       "      <th>TimeGPT</th>\n",
       "    </tr>\n",
       "  </thead>\n",
       "  <tbody>\n",
       "    <tr>\n",
       "      <th>0</th>\n",
       "      <td>FOODS_1_005_WI_1_evaluation</td>\n",
       "      <td>2016-05-09</td>\n",
       "      <td>2.889947</td>\n",
       "    </tr>\n",
       "    <tr>\n",
       "      <th>1</th>\n",
       "      <td>FOODS_1_005_WI_1_evaluation</td>\n",
       "      <td>2016-05-10</td>\n",
       "      <td>2.919353</td>\n",
       "    </tr>\n",
       "    <tr>\n",
       "      <th>2</th>\n",
       "      <td>FOODS_1_005_WI_1_evaluation</td>\n",
       "      <td>2016-05-11</td>\n",
       "      <td>2.842311</td>\n",
       "    </tr>\n",
       "    <tr>\n",
       "      <th>3</th>\n",
       "      <td>FOODS_1_005_WI_1_evaluation</td>\n",
       "      <td>2016-05-12</td>\n",
       "      <td>2.815968</td>\n",
       "    </tr>\n",
       "    <tr>\n",
       "      <th>4</th>\n",
       "      <td>FOODS_1_005_WI_1_evaluation</td>\n",
       "      <td>2016-05-13</td>\n",
       "      <td>2.832054</td>\n",
       "    </tr>\n",
       "  </tbody>\n",
       "</table>\n",
       "</div>"
      ],
      "text/plain": [
       "                            id       date   TimeGPT\n",
       "0  FOODS_1_005_WI_1_evaluation 2016-05-09  2.889947\n",
       "1  FOODS_1_005_WI_1_evaluation 2016-05-10  2.919353\n",
       "2  FOODS_1_005_WI_1_evaluation 2016-05-11  2.842311\n",
       "3  FOODS_1_005_WI_1_evaluation 2016-05-12  2.815968\n",
       "4  FOODS_1_005_WI_1_evaluation 2016-05-13  2.832054"
      ]
     },
     "execution_count": 63,
     "metadata": {},
     "output_type": "execute_result"
    }
   ],
   "source": [
    "forecast_df = client.forecast(\n",
    "    df=train_df[[\"date\", \"sales\", \"id\"]],\n",
    "    id_col=id_col,\n",
    "    time_col=time_col,\n",
    "    target_col=target_col,\n",
    "    h=H,\n",
    "    freq=freq,\n",
    "    finetune_steps=finetune_steps,\n",
    "    finetune_loss=finetune_loss,\n",
    "    finetune_depth=finetune_depth, \n",
    "    model=model\n",
    ")\n",
    "\n",
    "forecast_df.head()"
   ]
  },
  {
   "cell_type": "code",
   "execution_count": 64,
   "metadata": {},
   "outputs": [
    {
     "data": {
      "text/html": [
       "<div>\n",
       "<style scoped>\n",
       "    .dataframe tbody tr th:only-of-type {\n",
       "        vertical-align: middle;\n",
       "    }\n",
       "\n",
       "    .dataframe tbody tr th {\n",
       "        vertical-align: top;\n",
       "    }\n",
       "\n",
       "    .dataframe thead th {\n",
       "        text-align: right;\n",
       "    }\n",
       "</style>\n",
       "<table border=\"1\" class=\"dataframe\">\n",
       "  <thead>\n",
       "    <tr style=\"text-align: right;\">\n",
       "      <th></th>\n",
       "      <th>trial</th>\n",
       "      <th>MAE</th>\n",
       "      <th>RMSE</th>\n",
       "      <th>MAPE</th>\n",
       "      <th>R2</th>\n",
       "      <th>count</th>\n",
       "    </tr>\n",
       "  </thead>\n",
       "  <tbody>\n",
       "    <tr>\n",
       "      <th>0</th>\n",
       "      <td>baseline</td>\n",
       "      <td>2.012083</td>\n",
       "      <td>11.247075</td>\n",
       "      <td>0.619356</td>\n",
       "      <td>0.475378</td>\n",
       "      <td>2085.0</td>\n",
       "    </tr>\n",
       "  </tbody>\n",
       "</table>\n",
       "</div>"
      ],
      "text/plain": [
       "      trial       MAE       RMSE      MAPE        R2   count\n",
       "0  baseline  2.012083  11.247075  0.619356  0.475378  2085.0"
      ]
     },
     "execution_count": 64,
     "metadata": {},
     "output_type": "execute_result"
    }
   ],
   "source": [
    "test_with_forecasts_df = (\n",
    "    test_df\n",
    "    .merge(forecast_df, on=[\"id\", \"date\"], how=\"left\")\n",
    "    .rename(columns={\"TimeGPT\": \"y_pred\"})\n",
    "    )\n",
    "\n",
    "os.makedirs(dir_output, exist_ok=True)\n",
    "test_with_forecasts_df.to_csv(os.path.join(dir_output, f\"forecasts_{name_scenario}.csv\"), index=False)\n",
    "\n",
    "test_with_forecasts_df = (\n",
    "    test_with_forecasts_df[test_with_forecasts_df.sales>0]\n",
    "    .reset_index(drop=True)\n",
    "    )\n",
    "\n",
    "scores_df = (\n",
    "    pd.DataFrame({\n",
    "        name_scenario: evaluate(test_with_forecasts_df[\"sales\"], test_with_forecasts_df[\"y_pred\"])})\n",
    "    .T.reset_index()\n",
    "    .rename(columns={\"index\":\"trial\"})\n",
    "    )\n",
    "scores_df"
   ]
  },
  {
   "cell_type": "code",
   "execution_count": 65,
   "metadata": {},
   "outputs": [
    {
     "name": "stderr",
     "output_type": "stream",
     "text": [
      "/Users/linafaik/Documents/projects/time-series-forecasting-models/.venv/lib/python3.11/site-packages/sklearn/metrics/_regression.py:1266: UndefinedMetricWarning:\n",
      "\n",
      "R^2 score is not well-defined with less than two samples.\n",
      "\n",
      "/Users/linafaik/Documents/projects/time-series-forecasting-models/.venv/lib/python3.11/site-packages/sklearn/metrics/_regression.py:1266: UndefinedMetricWarning:\n",
      "\n",
      "R^2 score is not well-defined with less than two samples.\n",
      "\n",
      "/Users/linafaik/Documents/projects/time-series-forecasting-models/.venv/lib/python3.11/site-packages/sklearn/metrics/_regression.py:1266: UndefinedMetricWarning:\n",
      "\n",
      "R^2 score is not well-defined with less than two samples.\n",
      "\n",
      "/var/folders/x1/5lcr60ps53nfbsvw0s9dt0640000gn/T/ipykernel_52719/680681560.py:1: DeprecationWarning:\n",
      "\n",
      "DataFrameGroupBy.apply operated on the grouping columns. This behavior is deprecated, and in a future version of pandas the grouping columns will be excluded from the operation. Either pass `include_groups=False` to exclude the groupings or explicitly select the grouping columns after groupby to silence this warning.\n",
      "\n"
     ]
    },
    {
     "data": {
      "text/html": [
       "<div>\n",
       "<style scoped>\n",
       "    .dataframe tbody tr th:only-of-type {\n",
       "        vertical-align: middle;\n",
       "    }\n",
       "\n",
       "    .dataframe tbody tr th {\n",
       "        vertical-align: top;\n",
       "    }\n",
       "\n",
       "    .dataframe thead th {\n",
       "        text-align: right;\n",
       "    }\n",
       "</style>\n",
       "<table border=\"1\" class=\"dataframe\">\n",
       "  <thead>\n",
       "    <tr style=\"text-align: right;\">\n",
       "      <th></th>\n",
       "      <th>trial</th>\n",
       "      <th>id</th>\n",
       "      <th>MAE</th>\n",
       "      <th>RMSE</th>\n",
       "      <th>MAPE</th>\n",
       "      <th>R2</th>\n",
       "      <th>count</th>\n",
       "    </tr>\n",
       "  </thead>\n",
       "  <tbody>\n",
       "    <tr>\n",
       "      <th>0</th>\n",
       "      <td>baseline</td>\n",
       "      <td>FOODS_1_005_WI_1_evaluation</td>\n",
       "      <td>0.976174</td>\n",
       "      <td>1.373812</td>\n",
       "      <td>0.769113</td>\n",
       "      <td>-1.579713</td>\n",
       "      <td>13.0</td>\n",
       "    </tr>\n",
       "    <tr>\n",
       "      <th>1</th>\n",
       "      <td>baseline</td>\n",
       "      <td>FOODS_1_044_CA_3_evaluation</td>\n",
       "      <td>1.111483</td>\n",
       "      <td>1.892178</td>\n",
       "      <td>0.421775</td>\n",
       "      <td>-0.525950</td>\n",
       "      <td>10.0</td>\n",
       "    </tr>\n",
       "    <tr>\n",
       "      <th>2</th>\n",
       "      <td>baseline</td>\n",
       "      <td>FOODS_1_048_CA_3_evaluation</td>\n",
       "      <td>1.002412</td>\n",
       "      <td>1.662689</td>\n",
       "      <td>0.395490</td>\n",
       "      <td>-0.939804</td>\n",
       "      <td>7.0</td>\n",
       "    </tr>\n",
       "    <tr>\n",
       "      <th>3</th>\n",
       "      <td>baseline</td>\n",
       "      <td>FOODS_1_061_TX_3_evaluation</td>\n",
       "      <td>1.257001</td>\n",
       "      <td>2.998396</td>\n",
       "      <td>0.448217</td>\n",
       "      <td>-1.085841</td>\n",
       "      <td>8.0</td>\n",
       "    </tr>\n",
       "    <tr>\n",
       "      <th>4</th>\n",
       "      <td>baseline</td>\n",
       "      <td>FOODS_1_067_CA_3_evaluation</td>\n",
       "      <td>3.984511</td>\n",
       "      <td>21.601195</td>\n",
       "      <td>1.304875</td>\n",
       "      <td>0.010786</td>\n",
       "      <td>14.0</td>\n",
       "    </tr>\n",
       "    <tr>\n",
       "      <th>...</th>\n",
       "      <td>...</td>\n",
       "      <td>...</td>\n",
       "      <td>...</td>\n",
       "      <td>...</td>\n",
       "      <td>...</td>\n",
       "      <td>...</td>\n",
       "      <td>...</td>\n",
       "    </tr>\n",
       "    <tr>\n",
       "      <th>193</th>\n",
       "      <td>baseline</td>\n",
       "      <td>HOUSEHOLD_2_348_TX_3_evaluation</td>\n",
       "      <td>0.806048</td>\n",
       "      <td>1.801334</td>\n",
       "      <td>0.346434</td>\n",
       "      <td>0.080952</td>\n",
       "      <td>10.0</td>\n",
       "    </tr>\n",
       "    <tr>\n",
       "      <th>194</th>\n",
       "      <td>baseline</td>\n",
       "      <td>HOUSEHOLD_2_355_CA_2_evaluation</td>\n",
       "      <td>0.943139</td>\n",
       "      <td>1.820060</td>\n",
       "      <td>0.479909</td>\n",
       "      <td>-0.848949</td>\n",
       "      <td>8.0</td>\n",
       "    </tr>\n",
       "    <tr>\n",
       "      <th>195</th>\n",
       "      <td>baseline</td>\n",
       "      <td>HOUSEHOLD_2_437_TX_3_evaluation</td>\n",
       "      <td>0.309156</td>\n",
       "      <td>0.282188</td>\n",
       "      <td>0.177187</td>\n",
       "      <td>-0.505003</td>\n",
       "      <td>8.0</td>\n",
       "    </tr>\n",
       "    <tr>\n",
       "      <th>196</th>\n",
       "      <td>baseline</td>\n",
       "      <td>HOUSEHOLD_2_442_CA_1_evaluation</td>\n",
       "      <td>0.762487</td>\n",
       "      <td>0.824073</td>\n",
       "      <td>0.364702</td>\n",
       "      <td>-0.681782</td>\n",
       "      <td>10.0</td>\n",
       "    </tr>\n",
       "    <tr>\n",
       "      <th>197</th>\n",
       "      <td>baseline</td>\n",
       "      <td>HOUSEHOLD_2_510_TX_3_evaluation</td>\n",
       "      <td>0.554226</td>\n",
       "      <td>0.661047</td>\n",
       "      <td>0.378836</td>\n",
       "      <td>-0.510964</td>\n",
       "      <td>8.0</td>\n",
       "    </tr>\n",
       "  </tbody>\n",
       "</table>\n",
       "<p>198 rows × 7 columns</p>\n",
       "</div>"
      ],
      "text/plain": [
       "        trial                               id       MAE       RMSE      MAPE  \\\n",
       "0    baseline      FOODS_1_005_WI_1_evaluation  0.976174   1.373812  0.769113   \n",
       "1    baseline      FOODS_1_044_CA_3_evaluation  1.111483   1.892178  0.421775   \n",
       "2    baseline      FOODS_1_048_CA_3_evaluation  1.002412   1.662689  0.395490   \n",
       "3    baseline      FOODS_1_061_TX_3_evaluation  1.257001   2.998396  0.448217   \n",
       "4    baseline      FOODS_1_067_CA_3_evaluation  3.984511  21.601195  1.304875   \n",
       "..        ...                              ...       ...        ...       ...   \n",
       "193  baseline  HOUSEHOLD_2_348_TX_3_evaluation  0.806048   1.801334  0.346434   \n",
       "194  baseline  HOUSEHOLD_2_355_CA_2_evaluation  0.943139   1.820060  0.479909   \n",
       "195  baseline  HOUSEHOLD_2_437_TX_3_evaluation  0.309156   0.282188  0.177187   \n",
       "196  baseline  HOUSEHOLD_2_442_CA_1_evaluation  0.762487   0.824073  0.364702   \n",
       "197  baseline  HOUSEHOLD_2_510_TX_3_evaluation  0.554226   0.661047  0.378836   \n",
       "\n",
       "           R2  count  \n",
       "0   -1.579713   13.0  \n",
       "1   -0.525950   10.0  \n",
       "2   -0.939804    7.0  \n",
       "3   -1.085841    8.0  \n",
       "4    0.010786   14.0  \n",
       "..        ...    ...  \n",
       "193  0.080952   10.0  \n",
       "194 -0.848949    8.0  \n",
       "195 -0.505003    8.0  \n",
       "196 -0.681782   10.0  \n",
       "197 -0.510964    8.0  \n",
       "\n",
       "[198 rows x 7 columns]"
      ]
     },
     "execution_count": 65,
     "metadata": {},
     "output_type": "execute_result"
    }
   ],
   "source": [
    "scores_per_ts_df = test_with_forecasts_df.groupby(\"id\").apply(\n",
    "    lambda group: pd.Series(evaluate(group[\"sales\"], group[\"y_pred\"]))\n",
    ").reset_index()\n",
    "scores_per_ts_df[\"trial\"] = name_scenario\n",
    "scores_per_ts_df = scores_per_ts_df[[\"trial\"]+[c for c in scores_per_ts_df.columns if c!=\"trial\"]]\n",
    "\n",
    "scores_per_ts_df"
   ]
  },
  {
   "cell_type": "markdown",
   "metadata": {},
   "source": [
    "### With date features"
   ]
  },
  {
   "cell_type": "code",
   "execution_count": 66,
   "metadata": {},
   "outputs": [],
   "source": [
    "name_scenario = \"with_date_feat\""
   ]
  },
  {
   "cell_type": "code",
   "execution_count": 67,
   "metadata": {},
   "outputs": [
    {
     "name": "stderr",
     "output_type": "stream",
     "text": [
      "INFO:nixtla.nixtla_client:Validating inputs...\n",
      "INFO:nixtla.nixtla_client:Preprocessing dataframes...\n",
      "INFO:nixtla.nixtla_client:Using future exogenous features: ['year', 'month', 'day', 'weekday']\n",
      "INFO:nixtla.nixtla_client:Calling Forecast Endpoint...\n",
      "/Users/linafaik/Documents/projects/time-series-forecasting-models/.venv/lib/python3.11/site-packages/sklearn/metrics/_regression.py:1266: UndefinedMetricWarning:\n",
      "\n",
      "R^2 score is not well-defined with less than two samples.\n",
      "\n",
      "/Users/linafaik/Documents/projects/time-series-forecasting-models/.venv/lib/python3.11/site-packages/sklearn/metrics/_regression.py:1266: UndefinedMetricWarning:\n",
      "\n",
      "R^2 score is not well-defined with less than two samples.\n",
      "\n",
      "/Users/linafaik/Documents/projects/time-series-forecasting-models/.venv/lib/python3.11/site-packages/sklearn/metrics/_regression.py:1266: UndefinedMetricWarning:\n",
      "\n",
      "R^2 score is not well-defined with less than two samples.\n",
      "\n",
      "/var/folders/x1/5lcr60ps53nfbsvw0s9dt0640000gn/T/ipykernel_52719/1631411368.py:38: DeprecationWarning:\n",
      "\n",
      "DataFrameGroupBy.apply operated on the grouping columns. This behavior is deprecated, and in a future version of pandas the grouping columns will be excluded from the operation. Either pass `include_groups=False` to exclude the groupings or explicitly select the grouping columns after groupby to silence this warning.\n",
      "\n"
     ]
    }
   ],
   "source": [
    "forecast_df = client.forecast(\n",
    "    df=train_df[[\"date\", \"sales\", \"id\"]],\n",
    "    id_col=id_col,\n",
    "    time_col=time_col,\n",
    "    target_col=target_col,\n",
    "    h=H,\n",
    "    freq=freq,\n",
    "    finetune_steps=finetune_steps,\n",
    "    finetune_loss=finetune_loss,\n",
    "    finetune_depth=finetune_depth, \n",
    "    model=model,\n",
    "    date_features=True,\n",
    "    date_features_to_one_hot=False,\n",
    ")\n",
    "\n",
    "test_with_forecasts_df = (\n",
    "    test_df\n",
    "    .merge(forecast_df, on=[\"id\", \"date\"], how=\"left\")\n",
    "    .rename(columns={\"TimeGPT\": \"y_pred\"})\n",
    "    )\n",
    "\n",
    "test_with_forecasts_df.to_csv(os.path.join(dir_output, f\"forecasts_{name_scenario}.csv\"), index=False)\n",
    "\n",
    "test_with_forecasts_df = (\n",
    "    test_with_forecasts_df[test_with_forecasts_df.sales>0]\n",
    "    .reset_index(drop=True)\n",
    "    )\n",
    "\n",
    "scores_iter_df = (\n",
    "    pd.DataFrame({\n",
    "        name_scenario: evaluate(test_with_forecasts_df[\"sales\"], test_with_forecasts_df[\"y_pred\"])})\n",
    "    .T.reset_index()\n",
    "    .rename(columns={\"index\":\"trial\"})\n",
    "    )\n",
    "\n",
    "scores_df = pd.concat([scores_df, scores_iter_df],axis=0).reset_index(drop=True)\n",
    "\n",
    "scores_per_ts_iter_df = test_with_forecasts_df.groupby(\"id\").apply(\n",
    "    lambda group: pd.Series(evaluate(group[\"sales\"], group[\"y_pred\"]))\n",
    ").reset_index()\n",
    "scores_per_ts_iter_df[\"trial\"] = name_scenario\n",
    "scores_per_ts_iter_df = scores_per_ts_iter_df[[\"trial\"]+[c for c in scores_per_ts_iter_df.columns if c!=\"trial\"]]\n",
    "scores_per_ts_df = pd.concat([scores_per_ts_df, scores_per_ts_iter_df],axis=0).reset_index(drop=True)"
   ]
  },
  {
   "cell_type": "code",
   "execution_count": 68,
   "metadata": {},
   "outputs": [
    {
     "data": {
      "text/html": [
       "<div>\n",
       "<style scoped>\n",
       "    .dataframe tbody tr th:only-of-type {\n",
       "        vertical-align: middle;\n",
       "    }\n",
       "\n",
       "    .dataframe tbody tr th {\n",
       "        vertical-align: top;\n",
       "    }\n",
       "\n",
       "    .dataframe thead th {\n",
       "        text-align: right;\n",
       "    }\n",
       "</style>\n",
       "<table border=\"1\" class=\"dataframe\">\n",
       "  <thead>\n",
       "    <tr style=\"text-align: right;\">\n",
       "      <th></th>\n",
       "      <th>trial</th>\n",
       "      <th>MAE</th>\n",
       "      <th>RMSE</th>\n",
       "      <th>MAPE</th>\n",
       "      <th>R2</th>\n",
       "      <th>count</th>\n",
       "    </tr>\n",
       "  </thead>\n",
       "  <tbody>\n",
       "    <tr>\n",
       "      <th>0</th>\n",
       "      <td>baseline</td>\n",
       "      <td>2.012083</td>\n",
       "      <td>11.247075</td>\n",
       "      <td>0.619356</td>\n",
       "      <td>0.475378</td>\n",
       "      <td>2085.0</td>\n",
       "    </tr>\n",
       "    <tr>\n",
       "      <th>1</th>\n",
       "      <td>with_date_feat</td>\n",
       "      <td>2.001990</td>\n",
       "      <td>11.272606</td>\n",
       "      <td>0.610560</td>\n",
       "      <td>0.474187</td>\n",
       "      <td>2085.0</td>\n",
       "    </tr>\n",
       "  </tbody>\n",
       "</table>\n",
       "</div>"
      ],
      "text/plain": [
       "            trial       MAE       RMSE      MAPE        R2   count\n",
       "0        baseline  2.012083  11.247075  0.619356  0.475378  2085.0\n",
       "1  with_date_feat  2.001990  11.272606  0.610560  0.474187  2085.0"
      ]
     },
     "execution_count": 68,
     "metadata": {},
     "output_type": "execute_result"
    }
   ],
   "source": [
    "scores_df"
   ]
  },
  {
   "cell_type": "markdown",
   "metadata": {},
   "source": [
    "### With exog features"
   ]
  },
  {
   "cell_type": "code",
   "execution_count": 69,
   "metadata": {},
   "outputs": [],
   "source": [
    "name_scenario = \"with_exog_feat\""
   ]
  },
  {
   "cell_type": "code",
   "execution_count": 70,
   "metadata": {},
   "outputs": [
    {
     "name": "stderr",
     "output_type": "stream",
     "text": [
      "INFO:nixtla.nixtla_client:Validating inputs...\n",
      "INFO:nixtla.nixtla_client:Preprocessing dataframes...\n",
      "INFO:nixtla.nixtla_client:Using future exogenous features: ['sell_price', 'event_cultural', 'event_national', 'event_religious', 'event_sporting', 'year', 'month', 'day', 'weekday']\n",
      "INFO:nixtla.nixtla_client:Calling Forecast Endpoint...\n",
      "/Users/linafaik/Documents/projects/time-series-forecasting-models/.venv/lib/python3.11/site-packages/sklearn/metrics/_regression.py:1266: UndefinedMetricWarning:\n",
      "\n",
      "R^2 score is not well-defined with less than two samples.\n",
      "\n",
      "/Users/linafaik/Documents/projects/time-series-forecasting-models/.venv/lib/python3.11/site-packages/sklearn/metrics/_regression.py:1266: UndefinedMetricWarning:\n",
      "\n",
      "R^2 score is not well-defined with less than two samples.\n",
      "\n",
      "/Users/linafaik/Documents/projects/time-series-forecasting-models/.venv/lib/python3.11/site-packages/sklearn/metrics/_regression.py:1266: UndefinedMetricWarning:\n",
      "\n",
      "R^2 score is not well-defined with less than two samples.\n",
      "\n",
      "/var/folders/x1/5lcr60ps53nfbsvw0s9dt0640000gn/T/ipykernel_52719/3020163229.py:42: DeprecationWarning:\n",
      "\n",
      "DataFrameGroupBy.apply operated on the grouping columns. This behavior is deprecated, and in a future version of pandas the grouping columns will be excluded from the operation. Either pass `include_groups=False` to exclude the groupings or explicitly select the grouping columns after groupby to silence this warning.\n",
      "\n"
     ]
    }
   ],
   "source": [
    "columns_exog_features = [\"sell_price\", \"event_cultural\", \"event_national\", \"event_religious\", \"event_sporting\"]\n",
    "\n",
    "forecast_df = client.forecast(\n",
    "    df=train_df[[\"date\", \"sales\", \"id\"]+columns_exog_features],\n",
    "    X_df=test_df[[\"date\", \"id\"]+columns_exog_features],\n",
    "    id_col=id_col,\n",
    "    time_col=time_col,\n",
    "    target_col=target_col,\n",
    "    h=H,\n",
    "    freq=freq,\n",
    "    finetune_steps=finetune_steps,\n",
    "    finetune_loss=finetune_loss,\n",
    "    finetune_depth=finetune_depth, \n",
    "    model=model,\n",
    "    date_features=True,\n",
    "    date_features_to_one_hot=False,\n",
    "    clean_ex_first=True,\n",
    ")\n",
    "\n",
    "test_with_forecasts_df = (\n",
    "    test_df\n",
    "    .merge(forecast_df, on=[\"id\", \"date\"], how=\"left\")\n",
    "    .rename(columns={\"TimeGPT\": \"y_pred\"})\n",
    "    )\n",
    "\n",
    "test_with_forecasts_df.to_csv(os.path.join(dir_output, f\"forecasts_{name_scenario}.csv\"), index=False)\n",
    "\n",
    "test_with_forecasts_df = (\n",
    "    test_with_forecasts_df[test_with_forecasts_df.sales>0]\n",
    "    .reset_index(drop=True)\n",
    "    )\n",
    "\n",
    "scores_iter_df = (\n",
    "    pd.DataFrame({\n",
    "        name_scenario: evaluate(test_with_forecasts_df[\"sales\"], test_with_forecasts_df[\"y_pred\"])})\n",
    "    .T.reset_index()\n",
    "    .rename(columns={\"index\":\"trial\"})\n",
    "    )\n",
    "\n",
    "scores_df = pd.concat([scores_df, scores_iter_df],axis=0).reset_index(drop=True)\n",
    "\n",
    "scores_per_ts_iter_df = test_with_forecasts_df.groupby(\"id\").apply(\n",
    "    lambda group: pd.Series(evaluate(group[\"sales\"], group[\"y_pred\"]))\n",
    ").reset_index()\n",
    "scores_per_ts_iter_df[\"trial\"] = name_scenario\n",
    "scores_per_ts_iter_df = scores_per_ts_iter_df[[\"trial\"]+[c for c in scores_per_ts_iter_df.columns if c!=\"trial\"]]\n",
    "scores_per_ts_df = pd.concat([scores_per_ts_df, scores_per_ts_iter_df],axis=0).reset_index(drop=True)"
   ]
  },
  {
   "cell_type": "markdown",
   "metadata": {},
   "source": [
    "## Results analysis"
   ]
  },
  {
   "cell_type": "code",
   "execution_count": 71,
   "metadata": {},
   "outputs": [
    {
     "data": {
      "text/html": [
       "<div>\n",
       "<style scoped>\n",
       "    .dataframe tbody tr th:only-of-type {\n",
       "        vertical-align: middle;\n",
       "    }\n",
       "\n",
       "    .dataframe tbody tr th {\n",
       "        vertical-align: top;\n",
       "    }\n",
       "\n",
       "    .dataframe thead th {\n",
       "        text-align: right;\n",
       "    }\n",
       "</style>\n",
       "<table border=\"1\" class=\"dataframe\">\n",
       "  <thead>\n",
       "    <tr style=\"text-align: right;\">\n",
       "      <th></th>\n",
       "      <th>trial</th>\n",
       "      <th>MAE</th>\n",
       "      <th>RMSE</th>\n",
       "      <th>MAPE</th>\n",
       "      <th>R2</th>\n",
       "      <th>count</th>\n",
       "    </tr>\n",
       "  </thead>\n",
       "  <tbody>\n",
       "    <tr>\n",
       "      <th>0</th>\n",
       "      <td>baseline</td>\n",
       "      <td>2.012083</td>\n",
       "      <td>11.247075</td>\n",
       "      <td>0.619356</td>\n",
       "      <td>0.475378</td>\n",
       "      <td>2085.0</td>\n",
       "    </tr>\n",
       "    <tr>\n",
       "      <th>1</th>\n",
       "      <td>with_date_feat</td>\n",
       "      <td>2.001990</td>\n",
       "      <td>11.272606</td>\n",
       "      <td>0.610560</td>\n",
       "      <td>0.474187</td>\n",
       "      <td>2085.0</td>\n",
       "    </tr>\n",
       "    <tr>\n",
       "      <th>2</th>\n",
       "      <td>with_exog_feat</td>\n",
       "      <td>1.999467</td>\n",
       "      <td>11.131055</td>\n",
       "      <td>0.645213</td>\n",
       "      <td>0.480789</td>\n",
       "      <td>2085.0</td>\n",
       "    </tr>\n",
       "  </tbody>\n",
       "</table>\n",
       "</div>"
      ],
      "text/plain": [
       "            trial       MAE       RMSE      MAPE        R2   count\n",
       "0        baseline  2.012083  11.247075  0.619356  0.475378  2085.0\n",
       "1  with_date_feat  2.001990  11.272606  0.610560  0.474187  2085.0\n",
       "2  with_exog_feat  1.999467  11.131055  0.645213  0.480789  2085.0"
      ]
     },
     "execution_count": 71,
     "metadata": {},
     "output_type": "execute_result"
    }
   ],
   "source": [
    "scores_df"
   ]
  },
  {
   "cell_type": "code",
   "execution_count": 72,
   "metadata": {},
   "outputs": [
    {
     "data": {
      "application/vnd.plotly.v1+json": {
       "config": {
        "plotlyServerURL": "https://plot.ly"
       },
       "data": [
        {
         "alignmentgroup": "True",
         "hovertemplate": "trial=baseline<br>metric_name=%{x}<br>metric_value=%{y}<extra></extra>",
         "legendgroup": "baseline",
         "marker": {
          "color": "#636efa",
          "pattern": {
           "shape": ""
          }
         },
         "name": "baseline",
         "offsetgroup": "baseline",
         "orientation": "v",
         "showlegend": true,
         "textposition": "auto",
         "type": "bar",
         "x": [
          "RMSE",
          "MAE",
          "R2"
         ],
         "xaxis": "x",
         "y": {
          "bdata": "GkPgoIB+JkABXtsIvxgAQM7UVTuWbN4/",
          "dtype": "f8"
         },
         "yaxis": "y"
        },
        {
         "alignmentgroup": "True",
         "hovertemplate": "trial=with_date_feat<br>metric_name=%{x}<br>metric_value=%{y}<extra></extra>",
         "legendgroup": "with_date_feat",
         "marker": {
          "color": "#EF553B",
          "pattern": {
           "shape": ""
          }
         },
         "name": "with_date_feat",
         "offsetgroup": "with_date_feat",
         "orientation": "v",
         "showlegend": true,
         "textposition": "auto",
         "type": "bar",
         "x": [
          "RMSE",
          "MAE",
          "R2"
         ],
         "xaxis": "x",
         "y": {
          "bdata": "nYxg/ZKLJkBYO59/EwQAQLhfaEsTWd4/",
          "dtype": "f8"
         },
         "yaxis": "y"
        },
        {
         "alignmentgroup": "True",
         "hovertemplate": "trial=with_exog_feat<br>metric_name=%{x}<br>metric_value=%{y}<extra></extra>",
         "legendgroup": "with_exog_feat",
         "marker": {
          "color": "#00cc96",
          "pattern": {
           "shape": ""
          }
         },
         "name": "with_exog_feat",
         "offsetgroup": "with_exog_feat",
         "orientation": "v",
         "showlegend": true,
         "textposition": "auto",
         "type": "bar",
         "x": [
          "RMSE",
          "MAE",
          "R2"
         ],
         "xaxis": "x",
         "y": {
          "bdata": "/Tp5phlDJkCZE6dE0f3/P8wX/eJAxd4/",
          "dtype": "f8"
         },
         "yaxis": "y"
        }
       ],
       "layout": {
        "barmode": "group",
        "height": 400,
        "legend": {
         "title": {
          "text": "trial"
         },
         "tracegroupgap": 0
        },
        "margin": {
         "t": 60
        },
        "template": {
         "data": {
          "bar": [
           {
            "error_x": {
             "color": "#2a3f5f"
            },
            "error_y": {
             "color": "#2a3f5f"
            },
            "marker": {
             "line": {
              "color": "white",
              "width": 0.5
             },
             "pattern": {
              "fillmode": "overlay",
              "size": 10,
              "solidity": 0.2
             }
            },
            "type": "bar"
           }
          ],
          "barpolar": [
           {
            "marker": {
             "line": {
              "color": "white",
              "width": 0.5
             },
             "pattern": {
              "fillmode": "overlay",
              "size": 10,
              "solidity": 0.2
             }
            },
            "type": "barpolar"
           }
          ],
          "carpet": [
           {
            "aaxis": {
             "endlinecolor": "#2a3f5f",
             "gridcolor": "#C8D4E3",
             "linecolor": "#C8D4E3",
             "minorgridcolor": "#C8D4E3",
             "startlinecolor": "#2a3f5f"
            },
            "baxis": {
             "endlinecolor": "#2a3f5f",
             "gridcolor": "#C8D4E3",
             "linecolor": "#C8D4E3",
             "minorgridcolor": "#C8D4E3",
             "startlinecolor": "#2a3f5f"
            },
            "type": "carpet"
           }
          ],
          "choropleth": [
           {
            "colorbar": {
             "outlinewidth": 0,
             "ticks": ""
            },
            "type": "choropleth"
           }
          ],
          "contour": [
           {
            "colorbar": {
             "outlinewidth": 0,
             "ticks": ""
            },
            "colorscale": [
             [
              0,
              "#0d0887"
             ],
             [
              0.1111111111111111,
              "#46039f"
             ],
             [
              0.2222222222222222,
              "#7201a8"
             ],
             [
              0.3333333333333333,
              "#9c179e"
             ],
             [
              0.4444444444444444,
              "#bd3786"
             ],
             [
              0.5555555555555556,
              "#d8576b"
             ],
             [
              0.6666666666666666,
              "#ed7953"
             ],
             [
              0.7777777777777778,
              "#fb9f3a"
             ],
             [
              0.8888888888888888,
              "#fdca26"
             ],
             [
              1,
              "#f0f921"
             ]
            ],
            "type": "contour"
           }
          ],
          "contourcarpet": [
           {
            "colorbar": {
             "outlinewidth": 0,
             "ticks": ""
            },
            "type": "contourcarpet"
           }
          ],
          "heatmap": [
           {
            "colorbar": {
             "outlinewidth": 0,
             "ticks": ""
            },
            "colorscale": [
             [
              0,
              "#0d0887"
             ],
             [
              0.1111111111111111,
              "#46039f"
             ],
             [
              0.2222222222222222,
              "#7201a8"
             ],
             [
              0.3333333333333333,
              "#9c179e"
             ],
             [
              0.4444444444444444,
              "#bd3786"
             ],
             [
              0.5555555555555556,
              "#d8576b"
             ],
             [
              0.6666666666666666,
              "#ed7953"
             ],
             [
              0.7777777777777778,
              "#fb9f3a"
             ],
             [
              0.8888888888888888,
              "#fdca26"
             ],
             [
              1,
              "#f0f921"
             ]
            ],
            "type": "heatmap"
           }
          ],
          "histogram": [
           {
            "marker": {
             "pattern": {
              "fillmode": "overlay",
              "size": 10,
              "solidity": 0.2
             }
            },
            "type": "histogram"
           }
          ],
          "histogram2d": [
           {
            "colorbar": {
             "outlinewidth": 0,
             "ticks": ""
            },
            "colorscale": [
             [
              0,
              "#0d0887"
             ],
             [
              0.1111111111111111,
              "#46039f"
             ],
             [
              0.2222222222222222,
              "#7201a8"
             ],
             [
              0.3333333333333333,
              "#9c179e"
             ],
             [
              0.4444444444444444,
              "#bd3786"
             ],
             [
              0.5555555555555556,
              "#d8576b"
             ],
             [
              0.6666666666666666,
              "#ed7953"
             ],
             [
              0.7777777777777778,
              "#fb9f3a"
             ],
             [
              0.8888888888888888,
              "#fdca26"
             ],
             [
              1,
              "#f0f921"
             ]
            ],
            "type": "histogram2d"
           }
          ],
          "histogram2dcontour": [
           {
            "colorbar": {
             "outlinewidth": 0,
             "ticks": ""
            },
            "colorscale": [
             [
              0,
              "#0d0887"
             ],
             [
              0.1111111111111111,
              "#46039f"
             ],
             [
              0.2222222222222222,
              "#7201a8"
             ],
             [
              0.3333333333333333,
              "#9c179e"
             ],
             [
              0.4444444444444444,
              "#bd3786"
             ],
             [
              0.5555555555555556,
              "#d8576b"
             ],
             [
              0.6666666666666666,
              "#ed7953"
             ],
             [
              0.7777777777777778,
              "#fb9f3a"
             ],
             [
              0.8888888888888888,
              "#fdca26"
             ],
             [
              1,
              "#f0f921"
             ]
            ],
            "type": "histogram2dcontour"
           }
          ],
          "mesh3d": [
           {
            "colorbar": {
             "outlinewidth": 0,
             "ticks": ""
            },
            "type": "mesh3d"
           }
          ],
          "parcoords": [
           {
            "line": {
             "colorbar": {
              "outlinewidth": 0,
              "ticks": ""
             }
            },
            "type": "parcoords"
           }
          ],
          "pie": [
           {
            "automargin": true,
            "type": "pie"
           }
          ],
          "scatter": [
           {
            "fillpattern": {
             "fillmode": "overlay",
             "size": 10,
             "solidity": 0.2
            },
            "type": "scatter"
           }
          ],
          "scatter3d": [
           {
            "line": {
             "colorbar": {
              "outlinewidth": 0,
              "ticks": ""
             }
            },
            "marker": {
             "colorbar": {
              "outlinewidth": 0,
              "ticks": ""
             }
            },
            "type": "scatter3d"
           }
          ],
          "scattercarpet": [
           {
            "marker": {
             "colorbar": {
              "outlinewidth": 0,
              "ticks": ""
             }
            },
            "type": "scattercarpet"
           }
          ],
          "scattergeo": [
           {
            "marker": {
             "colorbar": {
              "outlinewidth": 0,
              "ticks": ""
             }
            },
            "type": "scattergeo"
           }
          ],
          "scattergl": [
           {
            "marker": {
             "colorbar": {
              "outlinewidth": 0,
              "ticks": ""
             }
            },
            "type": "scattergl"
           }
          ],
          "scattermap": [
           {
            "marker": {
             "colorbar": {
              "outlinewidth": 0,
              "ticks": ""
             }
            },
            "type": "scattermap"
           }
          ],
          "scattermapbox": [
           {
            "marker": {
             "colorbar": {
              "outlinewidth": 0,
              "ticks": ""
             }
            },
            "type": "scattermapbox"
           }
          ],
          "scatterpolar": [
           {
            "marker": {
             "colorbar": {
              "outlinewidth": 0,
              "ticks": ""
             }
            },
            "type": "scatterpolar"
           }
          ],
          "scatterpolargl": [
           {
            "marker": {
             "colorbar": {
              "outlinewidth": 0,
              "ticks": ""
             }
            },
            "type": "scatterpolargl"
           }
          ],
          "scatterternary": [
           {
            "marker": {
             "colorbar": {
              "outlinewidth": 0,
              "ticks": ""
             }
            },
            "type": "scatterternary"
           }
          ],
          "surface": [
           {
            "colorbar": {
             "outlinewidth": 0,
             "ticks": ""
            },
            "colorscale": [
             [
              0,
              "#0d0887"
             ],
             [
              0.1111111111111111,
              "#46039f"
             ],
             [
              0.2222222222222222,
              "#7201a8"
             ],
             [
              0.3333333333333333,
              "#9c179e"
             ],
             [
              0.4444444444444444,
              "#bd3786"
             ],
             [
              0.5555555555555556,
              "#d8576b"
             ],
             [
              0.6666666666666666,
              "#ed7953"
             ],
             [
              0.7777777777777778,
              "#fb9f3a"
             ],
             [
              0.8888888888888888,
              "#fdca26"
             ],
             [
              1,
              "#f0f921"
             ]
            ],
            "type": "surface"
           }
          ],
          "table": [
           {
            "cells": {
             "fill": {
              "color": "#EBF0F8"
             },
             "line": {
              "color": "white"
             }
            },
            "header": {
             "fill": {
              "color": "#C8D4E3"
             },
             "line": {
              "color": "white"
             }
            },
            "type": "table"
           }
          ]
         },
         "layout": {
          "annotationdefaults": {
           "arrowcolor": "#2a3f5f",
           "arrowhead": 0,
           "arrowwidth": 1
          },
          "autotypenumbers": "strict",
          "coloraxis": {
           "colorbar": {
            "outlinewidth": 0,
            "ticks": ""
           }
          },
          "colorscale": {
           "diverging": [
            [
             0,
             "#8e0152"
            ],
            [
             0.1,
             "#c51b7d"
            ],
            [
             0.2,
             "#de77ae"
            ],
            [
             0.3,
             "#f1b6da"
            ],
            [
             0.4,
             "#fde0ef"
            ],
            [
             0.5,
             "#f7f7f7"
            ],
            [
             0.6,
             "#e6f5d0"
            ],
            [
             0.7,
             "#b8e186"
            ],
            [
             0.8,
             "#7fbc41"
            ],
            [
             0.9,
             "#4d9221"
            ],
            [
             1,
             "#276419"
            ]
           ],
           "sequential": [
            [
             0,
             "#0d0887"
            ],
            [
             0.1111111111111111,
             "#46039f"
            ],
            [
             0.2222222222222222,
             "#7201a8"
            ],
            [
             0.3333333333333333,
             "#9c179e"
            ],
            [
             0.4444444444444444,
             "#bd3786"
            ],
            [
             0.5555555555555556,
             "#d8576b"
            ],
            [
             0.6666666666666666,
             "#ed7953"
            ],
            [
             0.7777777777777778,
             "#fb9f3a"
            ],
            [
             0.8888888888888888,
             "#fdca26"
            ],
            [
             1,
             "#f0f921"
            ]
           ],
           "sequentialminus": [
            [
             0,
             "#0d0887"
            ],
            [
             0.1111111111111111,
             "#46039f"
            ],
            [
             0.2222222222222222,
             "#7201a8"
            ],
            [
             0.3333333333333333,
             "#9c179e"
            ],
            [
             0.4444444444444444,
             "#bd3786"
            ],
            [
             0.5555555555555556,
             "#d8576b"
            ],
            [
             0.6666666666666666,
             "#ed7953"
            ],
            [
             0.7777777777777778,
             "#fb9f3a"
            ],
            [
             0.8888888888888888,
             "#fdca26"
            ],
            [
             1,
             "#f0f921"
            ]
           ]
          },
          "colorway": [
           "#636efa",
           "#EF553B",
           "#00cc96",
           "#ab63fa",
           "#FFA15A",
           "#19d3f3",
           "#FF6692",
           "#B6E880",
           "#FF97FF",
           "#FECB52"
          ],
          "font": {
           "color": "#2a3f5f"
          },
          "geo": {
           "bgcolor": "white",
           "lakecolor": "white",
           "landcolor": "white",
           "showlakes": true,
           "showland": true,
           "subunitcolor": "#C8D4E3"
          },
          "hoverlabel": {
           "align": "left"
          },
          "hovermode": "closest",
          "mapbox": {
           "style": "light"
          },
          "paper_bgcolor": "white",
          "plot_bgcolor": "white",
          "polar": {
           "angularaxis": {
            "gridcolor": "#EBF0F8",
            "linecolor": "#EBF0F8",
            "ticks": ""
           },
           "bgcolor": "white",
           "radialaxis": {
            "gridcolor": "#EBF0F8",
            "linecolor": "#EBF0F8",
            "ticks": ""
           }
          },
          "scene": {
           "xaxis": {
            "backgroundcolor": "white",
            "gridcolor": "#DFE8F3",
            "gridwidth": 2,
            "linecolor": "#EBF0F8",
            "showbackground": true,
            "ticks": "",
            "zerolinecolor": "#EBF0F8"
           },
           "yaxis": {
            "backgroundcolor": "white",
            "gridcolor": "#DFE8F3",
            "gridwidth": 2,
            "linecolor": "#EBF0F8",
            "showbackground": true,
            "ticks": "",
            "zerolinecolor": "#EBF0F8"
           },
           "zaxis": {
            "backgroundcolor": "white",
            "gridcolor": "#DFE8F3",
            "gridwidth": 2,
            "linecolor": "#EBF0F8",
            "showbackground": true,
            "ticks": "",
            "zerolinecolor": "#EBF0F8"
           }
          },
          "shapedefaults": {
           "line": {
            "color": "#2a3f5f"
           }
          },
          "ternary": {
           "aaxis": {
            "gridcolor": "#DFE8F3",
            "linecolor": "#A2B1C6",
            "ticks": ""
           },
           "baxis": {
            "gridcolor": "#DFE8F3",
            "linecolor": "#A2B1C6",
            "ticks": ""
           },
           "bgcolor": "white",
           "caxis": {
            "gridcolor": "#DFE8F3",
            "linecolor": "#A2B1C6",
            "ticks": ""
           }
          },
          "title": {
           "x": 0.05
          },
          "xaxis": {
           "automargin": true,
           "gridcolor": "#EBF0F8",
           "linecolor": "#EBF0F8",
           "ticks": "",
           "title": {
            "standoff": 15
           },
           "zerolinecolor": "#EBF0F8",
           "zerolinewidth": 2
          },
          "yaxis": {
           "automargin": true,
           "gridcolor": "#EBF0F8",
           "linecolor": "#EBF0F8",
           "ticks": "",
           "title": {
            "standoff": 15
           },
           "zerolinecolor": "#EBF0F8",
           "zerolinewidth": 2
          }
         }
        },
        "title": {
         "text": "Global Forecast Metrics"
        },
        "width": 600,
        "xaxis": {
         "anchor": "y",
         "domain": [
          0,
          1
         ],
         "title": {
          "text": "Metric"
         }
        },
        "yaxis": {
         "anchor": "x",
         "domain": [
          0,
          1
         ],
         "title": {
          "text": "Score"
         }
        }
       }
      }
     },
     "metadata": {},
     "output_type": "display_data"
    }
   ],
   "source": [
    "list_metrics = [\"RMSE\", \"MAE\", \"R2\"]\n",
    "plot_global_scores(scores_df=scores_df, list_metrics=list_metrics)"
   ]
  },
  {
   "cell_type": "code",
   "execution_count": 73,
   "metadata": {},
   "outputs": [
    {
     "data": {
      "application/vnd.plotly.v1+json": {
       "config": {
        "plotlyServerURL": "https://plot.ly"
       },
       "data": [
        {
         "alignmentgroup": "True",
         "boxpoints": "all",
         "customdata": [
          [
           "FOODS_1_005_WI_1_evaluation"
          ],
          [
           "FOODS_1_044_CA_3_evaluation"
          ],
          [
           "FOODS_1_048_CA_3_evaluation"
          ],
          [
           "FOODS_1_061_TX_3_evaluation"
          ],
          [
           "FOODS_1_067_CA_3_evaluation"
          ],
          [
           "FOODS_1_069_CA_2_evaluation"
          ],
          [
           "FOODS_1_106_CA_3_evaluation"
          ],
          [
           "FOODS_1_123_CA_3_evaluation"
          ],
          [
           "FOODS_1_127_CA_1_evaluation"
          ],
          [
           "FOODS_1_129_WI_2_evaluation"
          ],
          [
           "FOODS_1_137_WI_3_evaluation"
          ],
          [
           "FOODS_1_140_CA_3_evaluation"
          ],
          [
           "FOODS_1_144_CA_2_evaluation"
          ],
          [
           "FOODS_1_170_WI_1_evaluation"
          ],
          [
           "FOODS_1_195_CA_1_evaluation"
          ],
          [
           "FOODS_1_214_CA_1_evaluation"
          ],
          [
           "FOODS_2_002_WI_3_evaluation"
          ],
          [
           "FOODS_2_013_CA_3_evaluation"
          ],
          [
           "FOODS_2_026_CA_4_evaluation"
          ],
          [
           "FOODS_2_044_CA_1_evaluation"
          ],
          [
           "FOODS_2_044_CA_3_evaluation"
          ],
          [
           "FOODS_2_056_CA_3_evaluation"
          ],
          [
           "FOODS_2_074_CA_2_evaluation"
          ],
          [
           "FOODS_2_081_CA_1_evaluation"
          ],
          [
           "FOODS_2_082_CA_4_evaluation"
          ],
          [
           "FOODS_2_088_WI_3_evaluation"
          ],
          [
           "FOODS_2_093_TX_1_evaluation"
          ],
          [
           "FOODS_2_119_CA_1_evaluation"
          ],
          [
           "FOODS_2_151_WI_1_evaluation"
          ],
          [
           "FOODS_2_152_TX_3_evaluation"
          ],
          [
           "FOODS_2_166_WI_3_evaluation"
          ],
          [
           "FOODS_2_225_CA_1_evaluation"
          ],
          [
           "FOODS_2_242_WI_2_evaluation"
          ],
          [
           "FOODS_2_245_TX_3_evaluation"
          ],
          [
           "FOODS_2_247_CA_4_evaluation"
          ],
          [
           "FOODS_2_262_WI_3_evaluation"
          ],
          [
           "FOODS_2_272_WI_3_evaluation"
          ],
          [
           "FOODS_2_342_TX_1_evaluation"
          ],
          [
           "FOODS_2_347_CA_4_evaluation"
          ],
          [
           "FOODS_2_360_CA_4_evaluation"
          ],
          [
           "FOODS_2_361_WI_2_evaluation"
          ],
          [
           "FOODS_2_375_CA_3_evaluation"
          ],
          [
           "FOODS_2_383_WI_2_evaluation"
          ],
          [
           "FOODS_3_007_CA_4_evaluation"
          ],
          [
           "FOODS_3_007_TX_2_evaluation"
          ],
          [
           "FOODS_3_021_TX_1_evaluation"
          ],
          [
           "FOODS_3_029_CA_3_evaluation"
          ],
          [
           "FOODS_3_029_TX_3_evaluation"
          ],
          [
           "FOODS_3_035_CA_4_evaluation"
          ],
          [
           "FOODS_3_067_TX_2_evaluation"
          ],
          [
           "FOODS_3_071_CA_4_evaluation"
          ],
          [
           "FOODS_3_078_CA_3_evaluation"
          ],
          [
           "FOODS_3_090_CA_4_evaluation"
          ],
          [
           "FOODS_3_101_WI_1_evaluation"
          ],
          [
           "FOODS_3_118_TX_3_evaluation"
          ],
          [
           "FOODS_3_124_WI_3_evaluation"
          ],
          [
           "FOODS_3_126_CA_1_evaluation"
          ],
          [
           "FOODS_3_128_CA_3_evaluation"
          ],
          [
           "FOODS_3_129_CA_3_evaluation"
          ],
          [
           "FOODS_3_133_TX_3_evaluation"
          ],
          [
           "FOODS_3_154_CA_1_evaluation"
          ],
          [
           "FOODS_3_163_TX_2_evaluation"
          ],
          [
           "FOODS_3_191_CA_2_evaluation"
          ],
          [
           "FOODS_3_202_WI_3_evaluation"
          ],
          [
           "FOODS_3_203_CA_2_evaluation"
          ],
          [
           "FOODS_3_203_TX_2_evaluation"
          ],
          [
           "FOODS_3_214_WI_1_evaluation"
          ],
          [
           "FOODS_3_217_WI_2_evaluation"
          ],
          [
           "FOODS_3_230_CA_1_evaluation"
          ],
          [
           "FOODS_3_281_WI_3_evaluation"
          ],
          [
           "FOODS_3_286_CA_3_evaluation"
          ],
          [
           "FOODS_3_305_WI_2_evaluation"
          ],
          [
           "FOODS_3_316_WI_1_evaluation"
          ],
          [
           "FOODS_3_319_CA_3_evaluation"
          ],
          [
           "FOODS_3_330_TX_2_evaluation"
          ],
          [
           "FOODS_3_339_CA_3_evaluation"
          ],
          [
           "FOODS_3_342_CA_4_evaluation"
          ],
          [
           "FOODS_3_352_CA_4_evaluation"
          ],
          [
           "FOODS_3_355_CA_2_evaluation"
          ],
          [
           "FOODS_3_365_CA_1_evaluation"
          ],
          [
           "FOODS_3_377_WI_2_evaluation"
          ],
          [
           "FOODS_3_386_CA_2_evaluation"
          ],
          [
           "FOODS_3_410_CA_4_evaluation"
          ],
          [
           "FOODS_3_411_TX_3_evaluation"
          ],
          [
           "FOODS_3_418_TX_3_evaluation"
          ],
          [
           "FOODS_3_446_TX_1_evaluation"
          ],
          [
           "FOODS_3_458_WI_3_evaluation"
          ],
          [
           "FOODS_3_459_TX_3_evaluation"
          ],
          [
           "FOODS_3_475_CA_1_evaluation"
          ],
          [
           "FOODS_3_475_WI_2_evaluation"
          ],
          [
           "FOODS_3_480_WI_1_evaluation"
          ],
          [
           "FOODS_3_491_TX_1_evaluation"
          ],
          [
           "FOODS_3_493_WI_3_evaluation"
          ],
          [
           "FOODS_3_498_TX_2_evaluation"
          ],
          [
           "FOODS_3_526_WI_2_evaluation"
          ],
          [
           "FOODS_3_534_TX_2_evaluation"
          ],
          [
           "FOODS_3_540_CA_2_evaluation"
          ],
          [
           "FOODS_3_569_CA_1_evaluation"
          ],
          [
           "FOODS_3_577_CA_1_evaluation"
          ],
          [
           "FOODS_3_591_CA_3_evaluation"
          ],
          [
           "FOODS_3_607_CA_3_evaluation"
          ],
          [
           "FOODS_3_609_CA_3_evaluation"
          ],
          [
           "FOODS_3_628_CA_4_evaluation"
          ],
          [
           "FOODS_3_645_CA_1_evaluation"
          ],
          [
           "FOODS_3_672_CA_4_evaluation"
          ],
          [
           "FOODS_3_675_WI_1_evaluation"
          ],
          [
           "FOODS_3_680_CA_3_evaluation"
          ],
          [
           "FOODS_3_689_CA_3_evaluation"
          ],
          [
           "FOODS_3_695_CA_4_evaluation"
          ],
          [
           "FOODS_3_702_WI_3_evaluation"
          ],
          [
           "FOODS_3_704_CA_1_evaluation"
          ],
          [
           "FOODS_3_721_CA_1_evaluation"
          ],
          [
           "FOODS_3_739_TX_2_evaluation"
          ],
          [
           "FOODS_3_744_TX_2_evaluation"
          ],
          [
           "FOODS_3_764_CA_2_evaluation"
          ],
          [
           "FOODS_3_802_WI_2_evaluation"
          ],
          [
           "FOODS_3_814_CA_3_evaluation"
          ],
          [
           "FOODS_3_819_WI_1_evaluation"
          ],
          [
           "FOODS_3_820_TX_2_evaluation"
          ],
          [
           "HOBBIES_1_004_WI_3_evaluation"
          ],
          [
           "HOBBIES_1_009_CA_3_evaluation"
          ],
          [
           "HOBBIES_1_015_TX_1_evaluation"
          ],
          [
           "HOBBIES_1_017_CA_3_evaluation"
          ],
          [
           "HOBBIES_1_034_TX_2_evaluation"
          ],
          [
           "HOBBIES_1_086_TX_1_evaluation"
          ],
          [
           "HOBBIES_1_087_TX_3_evaluation"
          ],
          [
           "HOBBIES_1_097_CA_4_evaluation"
          ],
          [
           "HOBBIES_1_099_TX_1_evaluation"
          ],
          [
           "HOBBIES_1_147_TX_3_evaluation"
          ],
          [
           "HOBBIES_1_151_CA_3_evaluation"
          ],
          [
           "HOBBIES_1_159_WI_1_evaluation"
          ],
          [
           "HOBBIES_1_169_CA_4_evaluation"
          ],
          [
           "HOBBIES_1_178_WI_1_evaluation"
          ],
          [
           "HOBBIES_1_242_CA_3_evaluation"
          ],
          [
           "HOBBIES_1_298_CA_3_evaluation"
          ],
          [
           "HOBBIES_1_330_CA_3_evaluation"
          ],
          [
           "HOBBIES_1_370_CA_3_evaluation"
          ],
          [
           "HOBBIES_1_371_CA_1_evaluation"
          ],
          [
           "HOBBIES_1_371_CA_4_evaluation"
          ],
          [
           "HOBBIES_1_378_CA_1_evaluation"
          ],
          [
           "HOBBIES_1_387_CA_3_evaluation"
          ],
          [
           "HOUSEHOLD_1_004_CA_1_evaluation"
          ],
          [
           "HOUSEHOLD_1_019_TX_2_evaluation"
          ],
          [
           "HOUSEHOLD_1_021_WI_3_evaluation"
          ],
          [
           "HOUSEHOLD_1_027_TX_3_evaluation"
          ],
          [
           "HOUSEHOLD_1_028_CA_2_evaluation"
          ],
          [
           "HOUSEHOLD_1_038_CA_4_evaluation"
          ],
          [
           "HOUSEHOLD_1_050_CA_1_evaluation"
          ],
          [
           "HOUSEHOLD_1_051_TX_2_evaluation"
          ],
          [
           "HOUSEHOLD_1_055_WI_2_evaluation"
          ],
          [
           "HOUSEHOLD_1_079_CA_1_evaluation"
          ],
          [
           "HOUSEHOLD_1_114_WI_3_evaluation"
          ],
          [
           "HOUSEHOLD_1_127_TX_1_evaluation"
          ],
          [
           "HOUSEHOLD_1_147_WI_1_evaluation"
          ],
          [
           "HOUSEHOLD_1_151_TX_3_evaluation"
          ],
          [
           "HOUSEHOLD_1_168_TX_3_evaluation"
          ],
          [
           "HOUSEHOLD_1_169_WI_3_evaluation"
          ],
          [
           "HOUSEHOLD_1_170_WI_3_evaluation"
          ],
          [
           "HOUSEHOLD_1_179_CA_3_evaluation"
          ],
          [
           "HOUSEHOLD_1_179_TX_3_evaluation"
          ],
          [
           "HOUSEHOLD_1_186_WI_3_evaluation"
          ],
          [
           "HOUSEHOLD_1_188_TX_3_evaluation"
          ],
          [
           "HOUSEHOLD_1_188_WI_2_evaluation"
          ],
          [
           "HOUSEHOLD_1_197_CA_2_evaluation"
          ],
          [
           "HOUSEHOLD_1_235_TX_2_evaluation"
          ],
          [
           "HOUSEHOLD_1_243_CA_2_evaluation"
          ],
          [
           "HOUSEHOLD_1_265_CA_2_evaluation"
          ],
          [
           "HOUSEHOLD_1_292_TX_1_evaluation"
          ],
          [
           "HOUSEHOLD_1_294_WI_1_evaluation"
          ],
          [
           "HOUSEHOLD_1_336_WI_2_evaluation"
          ],
          [
           "HOUSEHOLD_1_338_CA_1_evaluation"
          ],
          [
           "HOUSEHOLD_1_354_TX_3_evaluation"
          ],
          [
           "HOUSEHOLD_1_370_WI_2_evaluation"
          ],
          [
           "HOUSEHOLD_1_387_CA_2_evaluation"
          ],
          [
           "HOUSEHOLD_1_389_CA_3_evaluation"
          ],
          [
           "HOUSEHOLD_1_397_TX_2_evaluation"
          ],
          [
           "HOUSEHOLD_1_397_WI_3_evaluation"
          ],
          [
           "HOUSEHOLD_1_437_WI_2_evaluation"
          ],
          [
           "HOUSEHOLD_1_458_TX_3_evaluation"
          ],
          [
           "HOUSEHOLD_1_459_CA_1_evaluation"
          ],
          [
           "HOUSEHOLD_1_459_WI_1_evaluation"
          ],
          [
           "HOUSEHOLD_1_473_TX_3_evaluation"
          ],
          [
           "HOUSEHOLD_1_478_WI_1_evaluation"
          ],
          [
           "HOUSEHOLD_1_498_TX_1_evaluation"
          ],
          [
           "HOUSEHOLD_1_505_TX_3_evaluation"
          ],
          [
           "HOUSEHOLD_1_522_CA_2_evaluation"
          ],
          [
           "HOUSEHOLD_1_532_TX_1_evaluation"
          ],
          [
           "HOUSEHOLD_1_537_WI_3_evaluation"
          ],
          [
           "HOUSEHOLD_1_538_TX_2_evaluation"
          ],
          [
           "HOUSEHOLD_1_539_TX_2_evaluation"
          ],
          [
           "HOUSEHOLD_2_075_WI_3_evaluation"
          ],
          [
           "HOUSEHOLD_2_118_WI_2_evaluation"
          ],
          [
           "HOUSEHOLD_2_295_CA_3_evaluation"
          ],
          [
           "HOUSEHOLD_2_348_TX_3_evaluation"
          ],
          [
           "HOUSEHOLD_2_355_CA_2_evaluation"
          ],
          [
           "HOUSEHOLD_2_437_TX_3_evaluation"
          ],
          [
           "HOUSEHOLD_2_442_CA_1_evaluation"
          ],
          [
           "HOUSEHOLD_2_510_TX_3_evaluation"
          ],
          [
           "FOODS_1_005_WI_1_evaluation"
          ],
          [
           "FOODS_1_044_CA_3_evaluation"
          ],
          [
           "FOODS_1_048_CA_3_evaluation"
          ],
          [
           "FOODS_1_061_TX_3_evaluation"
          ],
          [
           "FOODS_1_067_CA_3_evaluation"
          ],
          [
           "FOODS_1_069_CA_2_evaluation"
          ],
          [
           "FOODS_1_106_CA_3_evaluation"
          ],
          [
           "FOODS_1_123_CA_3_evaluation"
          ],
          [
           "FOODS_1_127_CA_1_evaluation"
          ],
          [
           "FOODS_1_129_WI_2_evaluation"
          ],
          [
           "FOODS_1_137_WI_3_evaluation"
          ],
          [
           "FOODS_1_140_CA_3_evaluation"
          ],
          [
           "FOODS_1_144_CA_2_evaluation"
          ],
          [
           "FOODS_1_170_WI_1_evaluation"
          ],
          [
           "FOODS_1_195_CA_1_evaluation"
          ],
          [
           "FOODS_1_214_CA_1_evaluation"
          ],
          [
           "FOODS_2_002_WI_3_evaluation"
          ],
          [
           "FOODS_2_013_CA_3_evaluation"
          ],
          [
           "FOODS_2_026_CA_4_evaluation"
          ],
          [
           "FOODS_2_044_CA_1_evaluation"
          ],
          [
           "FOODS_2_044_CA_3_evaluation"
          ],
          [
           "FOODS_2_056_CA_3_evaluation"
          ],
          [
           "FOODS_2_074_CA_2_evaluation"
          ],
          [
           "FOODS_2_081_CA_1_evaluation"
          ],
          [
           "FOODS_2_082_CA_4_evaluation"
          ],
          [
           "FOODS_2_088_WI_3_evaluation"
          ],
          [
           "FOODS_2_093_TX_1_evaluation"
          ],
          [
           "FOODS_2_119_CA_1_evaluation"
          ],
          [
           "FOODS_2_151_WI_1_evaluation"
          ],
          [
           "FOODS_2_152_TX_3_evaluation"
          ],
          [
           "FOODS_2_166_WI_3_evaluation"
          ],
          [
           "FOODS_2_225_CA_1_evaluation"
          ],
          [
           "FOODS_2_242_WI_2_evaluation"
          ],
          [
           "FOODS_2_245_TX_3_evaluation"
          ],
          [
           "FOODS_2_247_CA_4_evaluation"
          ],
          [
           "FOODS_2_262_WI_3_evaluation"
          ],
          [
           "FOODS_2_272_WI_3_evaluation"
          ],
          [
           "FOODS_2_342_TX_1_evaluation"
          ],
          [
           "FOODS_2_347_CA_4_evaluation"
          ],
          [
           "FOODS_2_360_CA_4_evaluation"
          ],
          [
           "FOODS_2_361_WI_2_evaluation"
          ],
          [
           "FOODS_2_375_CA_3_evaluation"
          ],
          [
           "FOODS_2_383_WI_2_evaluation"
          ],
          [
           "FOODS_3_007_CA_4_evaluation"
          ],
          [
           "FOODS_3_007_TX_2_evaluation"
          ],
          [
           "FOODS_3_021_TX_1_evaluation"
          ],
          [
           "FOODS_3_029_CA_3_evaluation"
          ],
          [
           "FOODS_3_029_TX_3_evaluation"
          ],
          [
           "FOODS_3_035_CA_4_evaluation"
          ],
          [
           "FOODS_3_067_TX_2_evaluation"
          ],
          [
           "FOODS_3_071_CA_4_evaluation"
          ],
          [
           "FOODS_3_078_CA_3_evaluation"
          ],
          [
           "FOODS_3_090_CA_4_evaluation"
          ],
          [
           "FOODS_3_101_WI_1_evaluation"
          ],
          [
           "FOODS_3_118_TX_3_evaluation"
          ],
          [
           "FOODS_3_124_WI_3_evaluation"
          ],
          [
           "FOODS_3_126_CA_1_evaluation"
          ],
          [
           "FOODS_3_128_CA_3_evaluation"
          ],
          [
           "FOODS_3_129_CA_3_evaluation"
          ],
          [
           "FOODS_3_133_TX_3_evaluation"
          ],
          [
           "FOODS_3_154_CA_1_evaluation"
          ],
          [
           "FOODS_3_163_TX_2_evaluation"
          ],
          [
           "FOODS_3_191_CA_2_evaluation"
          ],
          [
           "FOODS_3_202_WI_3_evaluation"
          ],
          [
           "FOODS_3_203_CA_2_evaluation"
          ],
          [
           "FOODS_3_203_TX_2_evaluation"
          ],
          [
           "FOODS_3_214_WI_1_evaluation"
          ],
          [
           "FOODS_3_217_WI_2_evaluation"
          ],
          [
           "FOODS_3_230_CA_1_evaluation"
          ],
          [
           "FOODS_3_281_WI_3_evaluation"
          ],
          [
           "FOODS_3_286_CA_3_evaluation"
          ],
          [
           "FOODS_3_305_WI_2_evaluation"
          ],
          [
           "FOODS_3_316_WI_1_evaluation"
          ],
          [
           "FOODS_3_319_CA_3_evaluation"
          ],
          [
           "FOODS_3_330_TX_2_evaluation"
          ],
          [
           "FOODS_3_339_CA_3_evaluation"
          ],
          [
           "FOODS_3_342_CA_4_evaluation"
          ],
          [
           "FOODS_3_352_CA_4_evaluation"
          ],
          [
           "FOODS_3_355_CA_2_evaluation"
          ],
          [
           "FOODS_3_365_CA_1_evaluation"
          ],
          [
           "FOODS_3_377_WI_2_evaluation"
          ],
          [
           "FOODS_3_386_CA_2_evaluation"
          ],
          [
           "FOODS_3_410_CA_4_evaluation"
          ],
          [
           "FOODS_3_411_TX_3_evaluation"
          ],
          [
           "FOODS_3_418_TX_3_evaluation"
          ],
          [
           "FOODS_3_446_TX_1_evaluation"
          ],
          [
           "FOODS_3_458_WI_3_evaluation"
          ],
          [
           "FOODS_3_459_TX_3_evaluation"
          ],
          [
           "FOODS_3_475_CA_1_evaluation"
          ],
          [
           "FOODS_3_475_WI_2_evaluation"
          ],
          [
           "FOODS_3_480_WI_1_evaluation"
          ],
          [
           "FOODS_3_491_TX_1_evaluation"
          ],
          [
           "FOODS_3_493_WI_3_evaluation"
          ],
          [
           "FOODS_3_498_TX_2_evaluation"
          ],
          [
           "FOODS_3_526_WI_2_evaluation"
          ],
          [
           "FOODS_3_534_TX_2_evaluation"
          ],
          [
           "FOODS_3_540_CA_2_evaluation"
          ],
          [
           "FOODS_3_569_CA_1_evaluation"
          ],
          [
           "FOODS_3_577_CA_1_evaluation"
          ],
          [
           "FOODS_3_591_CA_3_evaluation"
          ],
          [
           "FOODS_3_607_CA_3_evaluation"
          ],
          [
           "FOODS_3_609_CA_3_evaluation"
          ],
          [
           "FOODS_3_628_CA_4_evaluation"
          ],
          [
           "FOODS_3_645_CA_1_evaluation"
          ],
          [
           "FOODS_3_672_CA_4_evaluation"
          ],
          [
           "FOODS_3_675_WI_1_evaluation"
          ],
          [
           "FOODS_3_680_CA_3_evaluation"
          ],
          [
           "FOODS_3_689_CA_3_evaluation"
          ],
          [
           "FOODS_3_695_CA_4_evaluation"
          ],
          [
           "FOODS_3_702_WI_3_evaluation"
          ],
          [
           "FOODS_3_704_CA_1_evaluation"
          ],
          [
           "FOODS_3_721_CA_1_evaluation"
          ],
          [
           "FOODS_3_739_TX_2_evaluation"
          ],
          [
           "FOODS_3_744_TX_2_evaluation"
          ],
          [
           "FOODS_3_764_CA_2_evaluation"
          ],
          [
           "FOODS_3_802_WI_2_evaluation"
          ],
          [
           "FOODS_3_814_CA_3_evaluation"
          ],
          [
           "FOODS_3_819_WI_1_evaluation"
          ],
          [
           "FOODS_3_820_TX_2_evaluation"
          ],
          [
           "HOBBIES_1_004_WI_3_evaluation"
          ],
          [
           "HOBBIES_1_009_CA_3_evaluation"
          ],
          [
           "HOBBIES_1_015_TX_1_evaluation"
          ],
          [
           "HOBBIES_1_017_CA_3_evaluation"
          ],
          [
           "HOBBIES_1_034_TX_2_evaluation"
          ],
          [
           "HOBBIES_1_086_TX_1_evaluation"
          ],
          [
           "HOBBIES_1_087_TX_3_evaluation"
          ],
          [
           "HOBBIES_1_097_CA_4_evaluation"
          ],
          [
           "HOBBIES_1_099_TX_1_evaluation"
          ],
          [
           "HOBBIES_1_147_TX_3_evaluation"
          ],
          [
           "HOBBIES_1_151_CA_3_evaluation"
          ],
          [
           "HOBBIES_1_159_WI_1_evaluation"
          ],
          [
           "HOBBIES_1_169_CA_4_evaluation"
          ],
          [
           "HOBBIES_1_178_WI_1_evaluation"
          ],
          [
           "HOBBIES_1_242_CA_3_evaluation"
          ],
          [
           "HOBBIES_1_298_CA_3_evaluation"
          ],
          [
           "HOBBIES_1_330_CA_3_evaluation"
          ],
          [
           "HOBBIES_1_370_CA_3_evaluation"
          ],
          [
           "HOBBIES_1_371_CA_1_evaluation"
          ],
          [
           "HOBBIES_1_371_CA_4_evaluation"
          ],
          [
           "HOBBIES_1_378_CA_1_evaluation"
          ],
          [
           "HOBBIES_1_387_CA_3_evaluation"
          ],
          [
           "HOUSEHOLD_1_004_CA_1_evaluation"
          ],
          [
           "HOUSEHOLD_1_019_TX_2_evaluation"
          ],
          [
           "HOUSEHOLD_1_021_WI_3_evaluation"
          ],
          [
           "HOUSEHOLD_1_027_TX_3_evaluation"
          ],
          [
           "HOUSEHOLD_1_028_CA_2_evaluation"
          ],
          [
           "HOUSEHOLD_1_038_CA_4_evaluation"
          ],
          [
           "HOUSEHOLD_1_050_CA_1_evaluation"
          ],
          [
           "HOUSEHOLD_1_051_TX_2_evaluation"
          ],
          [
           "HOUSEHOLD_1_055_WI_2_evaluation"
          ],
          [
           "HOUSEHOLD_1_079_CA_1_evaluation"
          ],
          [
           "HOUSEHOLD_1_114_WI_3_evaluation"
          ],
          [
           "HOUSEHOLD_1_127_TX_1_evaluation"
          ],
          [
           "HOUSEHOLD_1_147_WI_1_evaluation"
          ],
          [
           "HOUSEHOLD_1_151_TX_3_evaluation"
          ],
          [
           "HOUSEHOLD_1_168_TX_3_evaluation"
          ],
          [
           "HOUSEHOLD_1_169_WI_3_evaluation"
          ],
          [
           "HOUSEHOLD_1_170_WI_3_evaluation"
          ],
          [
           "HOUSEHOLD_1_179_CA_3_evaluation"
          ],
          [
           "HOUSEHOLD_1_179_TX_3_evaluation"
          ],
          [
           "HOUSEHOLD_1_186_WI_3_evaluation"
          ],
          [
           "HOUSEHOLD_1_188_TX_3_evaluation"
          ],
          [
           "HOUSEHOLD_1_188_WI_2_evaluation"
          ],
          [
           "HOUSEHOLD_1_197_CA_2_evaluation"
          ],
          [
           "HOUSEHOLD_1_235_TX_2_evaluation"
          ],
          [
           "HOUSEHOLD_1_243_CA_2_evaluation"
          ],
          [
           "HOUSEHOLD_1_265_CA_2_evaluation"
          ],
          [
           "HOUSEHOLD_1_292_TX_1_evaluation"
          ],
          [
           "HOUSEHOLD_1_294_WI_1_evaluation"
          ],
          [
           "HOUSEHOLD_1_336_WI_2_evaluation"
          ],
          [
           "HOUSEHOLD_1_338_CA_1_evaluation"
          ],
          [
           "HOUSEHOLD_1_354_TX_3_evaluation"
          ],
          [
           "HOUSEHOLD_1_370_WI_2_evaluation"
          ],
          [
           "HOUSEHOLD_1_387_CA_2_evaluation"
          ],
          [
           "HOUSEHOLD_1_389_CA_3_evaluation"
          ],
          [
           "HOUSEHOLD_1_397_TX_2_evaluation"
          ],
          [
           "HOUSEHOLD_1_397_WI_3_evaluation"
          ],
          [
           "HOUSEHOLD_1_437_WI_2_evaluation"
          ],
          [
           "HOUSEHOLD_1_458_TX_3_evaluation"
          ],
          [
           "HOUSEHOLD_1_459_CA_1_evaluation"
          ],
          [
           "HOUSEHOLD_1_459_WI_1_evaluation"
          ],
          [
           "HOUSEHOLD_1_473_TX_3_evaluation"
          ],
          [
           "HOUSEHOLD_1_478_WI_1_evaluation"
          ],
          [
           "HOUSEHOLD_1_498_TX_1_evaluation"
          ],
          [
           "HOUSEHOLD_1_505_TX_3_evaluation"
          ],
          [
           "HOUSEHOLD_1_522_CA_2_evaluation"
          ],
          [
           "HOUSEHOLD_1_532_TX_1_evaluation"
          ],
          [
           "HOUSEHOLD_1_537_WI_3_evaluation"
          ],
          [
           "HOUSEHOLD_1_538_TX_2_evaluation"
          ],
          [
           "HOUSEHOLD_1_539_TX_2_evaluation"
          ],
          [
           "HOUSEHOLD_2_075_WI_3_evaluation"
          ],
          [
           "HOUSEHOLD_2_118_WI_2_evaluation"
          ],
          [
           "HOUSEHOLD_2_295_CA_3_evaluation"
          ],
          [
           "HOUSEHOLD_2_348_TX_3_evaluation"
          ],
          [
           "HOUSEHOLD_2_355_CA_2_evaluation"
          ],
          [
           "HOUSEHOLD_2_437_TX_3_evaluation"
          ],
          [
           "HOUSEHOLD_2_442_CA_1_evaluation"
          ],
          [
           "HOUSEHOLD_2_510_TX_3_evaluation"
          ],
          [
           "FOODS_1_005_WI_1_evaluation"
          ],
          [
           "FOODS_1_044_CA_3_evaluation"
          ],
          [
           "FOODS_1_048_CA_3_evaluation"
          ],
          [
           "FOODS_1_061_TX_3_evaluation"
          ],
          [
           "FOODS_1_067_CA_3_evaluation"
          ],
          [
           "FOODS_1_069_CA_2_evaluation"
          ],
          [
           "FOODS_1_106_CA_3_evaluation"
          ],
          [
           "FOODS_1_123_CA_3_evaluation"
          ],
          [
           "FOODS_1_127_CA_1_evaluation"
          ],
          [
           "FOODS_1_129_WI_2_evaluation"
          ],
          [
           "FOODS_1_137_WI_3_evaluation"
          ],
          [
           "FOODS_1_140_CA_3_evaluation"
          ],
          [
           "FOODS_1_144_CA_2_evaluation"
          ],
          [
           "FOODS_1_170_WI_1_evaluation"
          ],
          [
           "FOODS_1_195_CA_1_evaluation"
          ],
          [
           "FOODS_1_214_CA_1_evaluation"
          ],
          [
           "FOODS_2_002_WI_3_evaluation"
          ],
          [
           "FOODS_2_013_CA_3_evaluation"
          ],
          [
           "FOODS_2_026_CA_4_evaluation"
          ],
          [
           "FOODS_2_044_CA_1_evaluation"
          ],
          [
           "FOODS_2_044_CA_3_evaluation"
          ],
          [
           "FOODS_2_056_CA_3_evaluation"
          ],
          [
           "FOODS_2_074_CA_2_evaluation"
          ],
          [
           "FOODS_2_081_CA_1_evaluation"
          ],
          [
           "FOODS_2_082_CA_4_evaluation"
          ],
          [
           "FOODS_2_088_WI_3_evaluation"
          ],
          [
           "FOODS_2_093_TX_1_evaluation"
          ],
          [
           "FOODS_2_119_CA_1_evaluation"
          ],
          [
           "FOODS_2_151_WI_1_evaluation"
          ],
          [
           "FOODS_2_152_TX_3_evaluation"
          ],
          [
           "FOODS_2_166_WI_3_evaluation"
          ],
          [
           "FOODS_2_225_CA_1_evaluation"
          ],
          [
           "FOODS_2_242_WI_2_evaluation"
          ],
          [
           "FOODS_2_245_TX_3_evaluation"
          ],
          [
           "FOODS_2_247_CA_4_evaluation"
          ],
          [
           "FOODS_2_262_WI_3_evaluation"
          ],
          [
           "FOODS_2_272_WI_3_evaluation"
          ],
          [
           "FOODS_2_342_TX_1_evaluation"
          ],
          [
           "FOODS_2_347_CA_4_evaluation"
          ],
          [
           "FOODS_2_360_CA_4_evaluation"
          ],
          [
           "FOODS_2_361_WI_2_evaluation"
          ],
          [
           "FOODS_2_375_CA_3_evaluation"
          ],
          [
           "FOODS_2_383_WI_2_evaluation"
          ],
          [
           "FOODS_3_007_CA_4_evaluation"
          ],
          [
           "FOODS_3_007_TX_2_evaluation"
          ],
          [
           "FOODS_3_021_TX_1_evaluation"
          ],
          [
           "FOODS_3_029_CA_3_evaluation"
          ],
          [
           "FOODS_3_029_TX_3_evaluation"
          ],
          [
           "FOODS_3_035_CA_4_evaluation"
          ],
          [
           "FOODS_3_067_TX_2_evaluation"
          ],
          [
           "FOODS_3_071_CA_4_evaluation"
          ],
          [
           "FOODS_3_078_CA_3_evaluation"
          ],
          [
           "FOODS_3_090_CA_4_evaluation"
          ],
          [
           "FOODS_3_101_WI_1_evaluation"
          ],
          [
           "FOODS_3_118_TX_3_evaluation"
          ],
          [
           "FOODS_3_124_WI_3_evaluation"
          ],
          [
           "FOODS_3_126_CA_1_evaluation"
          ],
          [
           "FOODS_3_128_CA_3_evaluation"
          ],
          [
           "FOODS_3_129_CA_3_evaluation"
          ],
          [
           "FOODS_3_133_TX_3_evaluation"
          ],
          [
           "FOODS_3_154_CA_1_evaluation"
          ],
          [
           "FOODS_3_163_TX_2_evaluation"
          ],
          [
           "FOODS_3_191_CA_2_evaluation"
          ],
          [
           "FOODS_3_202_WI_3_evaluation"
          ],
          [
           "FOODS_3_203_CA_2_evaluation"
          ],
          [
           "FOODS_3_203_TX_2_evaluation"
          ],
          [
           "FOODS_3_214_WI_1_evaluation"
          ],
          [
           "FOODS_3_217_WI_2_evaluation"
          ],
          [
           "FOODS_3_230_CA_1_evaluation"
          ],
          [
           "FOODS_3_281_WI_3_evaluation"
          ],
          [
           "FOODS_3_286_CA_3_evaluation"
          ],
          [
           "FOODS_3_305_WI_2_evaluation"
          ],
          [
           "FOODS_3_316_WI_1_evaluation"
          ],
          [
           "FOODS_3_319_CA_3_evaluation"
          ],
          [
           "FOODS_3_330_TX_2_evaluation"
          ],
          [
           "FOODS_3_339_CA_3_evaluation"
          ],
          [
           "FOODS_3_342_CA_4_evaluation"
          ],
          [
           "FOODS_3_352_CA_4_evaluation"
          ],
          [
           "FOODS_3_355_CA_2_evaluation"
          ],
          [
           "FOODS_3_365_CA_1_evaluation"
          ],
          [
           "FOODS_3_377_WI_2_evaluation"
          ],
          [
           "FOODS_3_386_CA_2_evaluation"
          ],
          [
           "FOODS_3_410_CA_4_evaluation"
          ],
          [
           "FOODS_3_411_TX_3_evaluation"
          ],
          [
           "FOODS_3_418_TX_3_evaluation"
          ],
          [
           "FOODS_3_446_TX_1_evaluation"
          ],
          [
           "FOODS_3_458_WI_3_evaluation"
          ],
          [
           "FOODS_3_459_TX_3_evaluation"
          ],
          [
           "FOODS_3_475_CA_1_evaluation"
          ],
          [
           "FOODS_3_475_WI_2_evaluation"
          ],
          [
           "FOODS_3_480_WI_1_evaluation"
          ],
          [
           "FOODS_3_491_TX_1_evaluation"
          ],
          [
           "FOODS_3_493_WI_3_evaluation"
          ],
          [
           "FOODS_3_498_TX_2_evaluation"
          ],
          [
           "FOODS_3_526_WI_2_evaluation"
          ],
          [
           "FOODS_3_534_TX_2_evaluation"
          ],
          [
           "FOODS_3_540_CA_2_evaluation"
          ],
          [
           "FOODS_3_569_CA_1_evaluation"
          ],
          [
           "FOODS_3_577_CA_1_evaluation"
          ],
          [
           "FOODS_3_591_CA_3_evaluation"
          ],
          [
           "FOODS_3_607_CA_3_evaluation"
          ],
          [
           "FOODS_3_609_CA_3_evaluation"
          ],
          [
           "FOODS_3_628_CA_4_evaluation"
          ],
          [
           "FOODS_3_645_CA_1_evaluation"
          ],
          [
           "FOODS_3_672_CA_4_evaluation"
          ],
          [
           "FOODS_3_675_WI_1_evaluation"
          ],
          [
           "FOODS_3_680_CA_3_evaluation"
          ],
          [
           "FOODS_3_689_CA_3_evaluation"
          ],
          [
           "FOODS_3_695_CA_4_evaluation"
          ],
          [
           "FOODS_3_702_WI_3_evaluation"
          ],
          [
           "FOODS_3_704_CA_1_evaluation"
          ],
          [
           "FOODS_3_721_CA_1_evaluation"
          ],
          [
           "FOODS_3_739_TX_2_evaluation"
          ],
          [
           "FOODS_3_744_TX_2_evaluation"
          ],
          [
           "FOODS_3_764_CA_2_evaluation"
          ],
          [
           "FOODS_3_802_WI_2_evaluation"
          ],
          [
           "FOODS_3_814_CA_3_evaluation"
          ],
          [
           "FOODS_3_819_WI_1_evaluation"
          ],
          [
           "FOODS_3_820_TX_2_evaluation"
          ],
          [
           "HOBBIES_1_004_WI_3_evaluation"
          ],
          [
           "HOBBIES_1_009_CA_3_evaluation"
          ],
          [
           "HOBBIES_1_015_TX_1_evaluation"
          ],
          [
           "HOBBIES_1_017_CA_3_evaluation"
          ],
          [
           "HOBBIES_1_034_TX_2_evaluation"
          ],
          [
           "HOBBIES_1_086_TX_1_evaluation"
          ],
          [
           "HOBBIES_1_087_TX_3_evaluation"
          ],
          [
           "HOBBIES_1_097_CA_4_evaluation"
          ],
          [
           "HOBBIES_1_099_TX_1_evaluation"
          ],
          [
           "HOBBIES_1_147_TX_3_evaluation"
          ],
          [
           "HOBBIES_1_151_CA_3_evaluation"
          ],
          [
           "HOBBIES_1_159_WI_1_evaluation"
          ],
          [
           "HOBBIES_1_169_CA_4_evaluation"
          ],
          [
           "HOBBIES_1_178_WI_1_evaluation"
          ],
          [
           "HOBBIES_1_242_CA_3_evaluation"
          ],
          [
           "HOBBIES_1_298_CA_3_evaluation"
          ],
          [
           "HOBBIES_1_330_CA_3_evaluation"
          ],
          [
           "HOBBIES_1_370_CA_3_evaluation"
          ],
          [
           "HOBBIES_1_371_CA_1_evaluation"
          ],
          [
           "HOBBIES_1_371_CA_4_evaluation"
          ],
          [
           "HOBBIES_1_378_CA_1_evaluation"
          ],
          [
           "HOBBIES_1_387_CA_3_evaluation"
          ],
          [
           "HOUSEHOLD_1_004_CA_1_evaluation"
          ],
          [
           "HOUSEHOLD_1_019_TX_2_evaluation"
          ],
          [
           "HOUSEHOLD_1_021_WI_3_evaluation"
          ],
          [
           "HOUSEHOLD_1_027_TX_3_evaluation"
          ],
          [
           "HOUSEHOLD_1_028_CA_2_evaluation"
          ],
          [
           "HOUSEHOLD_1_038_CA_4_evaluation"
          ],
          [
           "HOUSEHOLD_1_050_CA_1_evaluation"
          ],
          [
           "HOUSEHOLD_1_051_TX_2_evaluation"
          ],
          [
           "HOUSEHOLD_1_055_WI_2_evaluation"
          ],
          [
           "HOUSEHOLD_1_079_CA_1_evaluation"
          ],
          [
           "HOUSEHOLD_1_114_WI_3_evaluation"
          ],
          [
           "HOUSEHOLD_1_127_TX_1_evaluation"
          ],
          [
           "HOUSEHOLD_1_147_WI_1_evaluation"
          ],
          [
           "HOUSEHOLD_1_151_TX_3_evaluation"
          ],
          [
           "HOUSEHOLD_1_168_TX_3_evaluation"
          ],
          [
           "HOUSEHOLD_1_169_WI_3_evaluation"
          ],
          [
           "HOUSEHOLD_1_170_WI_3_evaluation"
          ],
          [
           "HOUSEHOLD_1_179_CA_3_evaluation"
          ],
          [
           "HOUSEHOLD_1_179_TX_3_evaluation"
          ],
          [
           "HOUSEHOLD_1_186_WI_3_evaluation"
          ],
          [
           "HOUSEHOLD_1_188_TX_3_evaluation"
          ],
          [
           "HOUSEHOLD_1_188_WI_2_evaluation"
          ],
          [
           "HOUSEHOLD_1_197_CA_2_evaluation"
          ],
          [
           "HOUSEHOLD_1_235_TX_2_evaluation"
          ],
          [
           "HOUSEHOLD_1_243_CA_2_evaluation"
          ],
          [
           "HOUSEHOLD_1_265_CA_2_evaluation"
          ],
          [
           "HOUSEHOLD_1_292_TX_1_evaluation"
          ],
          [
           "HOUSEHOLD_1_294_WI_1_evaluation"
          ],
          [
           "HOUSEHOLD_1_336_WI_2_evaluation"
          ],
          [
           "HOUSEHOLD_1_338_CA_1_evaluation"
          ],
          [
           "HOUSEHOLD_1_354_TX_3_evaluation"
          ],
          [
           "HOUSEHOLD_1_370_WI_2_evaluation"
          ],
          [
           "HOUSEHOLD_1_387_CA_2_evaluation"
          ],
          [
           "HOUSEHOLD_1_389_CA_3_evaluation"
          ],
          [
           "HOUSEHOLD_1_397_TX_2_evaluation"
          ],
          [
           "HOUSEHOLD_1_397_WI_3_evaluation"
          ],
          [
           "HOUSEHOLD_1_437_WI_2_evaluation"
          ],
          [
           "HOUSEHOLD_1_458_TX_3_evaluation"
          ],
          [
           "HOUSEHOLD_1_459_CA_1_evaluation"
          ],
          [
           "HOUSEHOLD_1_459_WI_1_evaluation"
          ],
          [
           "HOUSEHOLD_1_473_TX_3_evaluation"
          ],
          [
           "HOUSEHOLD_1_478_WI_1_evaluation"
          ],
          [
           "HOUSEHOLD_1_498_TX_1_evaluation"
          ],
          [
           "HOUSEHOLD_1_505_TX_3_evaluation"
          ],
          [
           "HOUSEHOLD_1_522_CA_2_evaluation"
          ],
          [
           "HOUSEHOLD_1_532_TX_1_evaluation"
          ],
          [
           "HOUSEHOLD_1_537_WI_3_evaluation"
          ],
          [
           "HOUSEHOLD_1_538_TX_2_evaluation"
          ],
          [
           "HOUSEHOLD_1_539_TX_2_evaluation"
          ],
          [
           "HOUSEHOLD_2_075_WI_3_evaluation"
          ],
          [
           "HOUSEHOLD_2_118_WI_2_evaluation"
          ],
          [
           "HOUSEHOLD_2_295_CA_3_evaluation"
          ],
          [
           "HOUSEHOLD_2_348_TX_3_evaluation"
          ],
          [
           "HOUSEHOLD_2_355_CA_2_evaluation"
          ],
          [
           "HOUSEHOLD_2_437_TX_3_evaluation"
          ],
          [
           "HOUSEHOLD_2_442_CA_1_evaluation"
          ],
          [
           "HOUSEHOLD_2_510_TX_3_evaluation"
          ]
         ],
         "hovertemplate": "trial=baseline<br>metric=%{x}<br>value=%{y}<br>id=%{customdata[0]}<extra></extra>",
         "legendgroup": "baseline",
         "marker": {
          "color": "#636efa"
         },
         "name": "baseline",
         "notched": false,
         "offsetgroup": "baseline",
         "orientation": "v",
         "showlegend": true,
         "type": "box",
         "x": [
          "MAE",
          "MAE",
          "MAE",
          "MAE",
          "MAE",
          "MAE",
          "MAE",
          "MAE",
          "MAE",
          "MAE",
          "MAE",
          "MAE",
          "MAE",
          "MAE",
          "MAE",
          "MAE",
          "MAE",
          "MAE",
          "MAE",
          "MAE",
          "MAE",
          "MAE",
          "MAE",
          "MAE",
          "MAE",
          "MAE",
          "MAE",
          "MAE",
          "MAE",
          "MAE",
          "MAE",
          "MAE",
          "MAE",
          "MAE",
          "MAE",
          "MAE",
          "MAE",
          "MAE",
          "MAE",
          "MAE",
          "MAE",
          "MAE",
          "MAE",
          "MAE",
          "MAE",
          "MAE",
          "MAE",
          "MAE",
          "MAE",
          "MAE",
          "MAE",
          "MAE",
          "MAE",
          "MAE",
          "MAE",
          "MAE",
          "MAE",
          "MAE",
          "MAE",
          "MAE",
          "MAE",
          "MAE",
          "MAE",
          "MAE",
          "MAE",
          "MAE",
          "MAE",
          "MAE",
          "MAE",
          "MAE",
          "MAE",
          "MAE",
          "MAE",
          "MAE",
          "MAE",
          "MAE",
          "MAE",
          "MAE",
          "MAE",
          "MAE",
          "MAE",
          "MAE",
          "MAE",
          "MAE",
          "MAE",
          "MAE",
          "MAE",
          "MAE",
          "MAE",
          "MAE",
          "MAE",
          "MAE",
          "MAE",
          "MAE",
          "MAE",
          "MAE",
          "MAE",
          "MAE",
          "MAE",
          "MAE",
          "MAE",
          "MAE",
          "MAE",
          "MAE",
          "MAE",
          "MAE",
          "MAE",
          "MAE",
          "MAE",
          "MAE",
          "MAE",
          "MAE",
          "MAE",
          "MAE",
          "MAE",
          "MAE",
          "MAE",
          "MAE",
          "MAE",
          "MAE",
          "MAE",
          "MAE",
          "MAE",
          "MAE",
          "MAE",
          "MAE",
          "MAE",
          "MAE",
          "MAE",
          "MAE",
          "MAE",
          "MAE",
          "MAE",
          "MAE",
          "MAE",
          "MAE",
          "MAE",
          "MAE",
          "MAE",
          "MAE",
          "MAE",
          "MAE",
          "MAE",
          "MAE",
          "MAE",
          "MAE",
          "MAE",
          "MAE",
          "MAE",
          "MAE",
          "MAE",
          "MAE",
          "MAE",
          "MAE",
          "MAE",
          "MAE",
          "MAE",
          "MAE",
          "MAE",
          "MAE",
          "MAE",
          "MAE",
          "MAE",
          "MAE",
          "MAE",
          "MAE",
          "MAE",
          "MAE",
          "MAE",
          "MAE",
          "MAE",
          "MAE",
          "MAE",
          "MAE",
          "MAE",
          "MAE",
          "MAE",
          "MAE",
          "MAE",
          "MAE",
          "MAE",
          "MAE",
          "MAE",
          "MAE",
          "MAE",
          "MAE",
          "MAE",
          "MAE",
          "MAE",
          "MAE",
          "MAE",
          "MAE",
          "MAE",
          "MAE",
          "MAE",
          "MAE",
          "MAE",
          "MAE",
          "RMSE",
          "RMSE",
          "RMSE",
          "RMSE",
          "RMSE",
          "RMSE",
          "RMSE",
          "RMSE",
          "RMSE",
          "RMSE",
          "RMSE",
          "RMSE",
          "RMSE",
          "RMSE",
          "RMSE",
          "RMSE",
          "RMSE",
          "RMSE",
          "RMSE",
          "RMSE",
          "RMSE",
          "RMSE",
          "RMSE",
          "RMSE",
          "RMSE",
          "RMSE",
          "RMSE",
          "RMSE",
          "RMSE",
          "RMSE",
          "RMSE",
          "RMSE",
          "RMSE",
          "RMSE",
          "RMSE",
          "RMSE",
          "RMSE",
          "RMSE",
          "RMSE",
          "RMSE",
          "RMSE",
          "RMSE",
          "RMSE",
          "RMSE",
          "RMSE",
          "RMSE",
          "RMSE",
          "RMSE",
          "RMSE",
          "RMSE",
          "RMSE",
          "RMSE",
          "RMSE",
          "RMSE",
          "RMSE",
          "RMSE",
          "RMSE",
          "RMSE",
          "RMSE",
          "RMSE",
          "RMSE",
          "RMSE",
          "RMSE",
          "RMSE",
          "RMSE",
          "RMSE",
          "RMSE",
          "RMSE",
          "RMSE",
          "RMSE",
          "RMSE",
          "RMSE",
          "RMSE",
          "RMSE",
          "RMSE",
          "RMSE",
          "RMSE",
          "RMSE",
          "RMSE",
          "RMSE",
          "RMSE",
          "RMSE",
          "RMSE",
          "RMSE",
          "RMSE",
          "RMSE",
          "RMSE",
          "RMSE",
          "RMSE",
          "RMSE",
          "RMSE",
          "RMSE",
          "RMSE",
          "RMSE",
          "RMSE",
          "RMSE",
          "RMSE",
          "RMSE",
          "RMSE",
          "RMSE",
          "RMSE",
          "RMSE",
          "RMSE",
          "RMSE",
          "RMSE",
          "RMSE",
          "RMSE",
          "RMSE",
          "RMSE",
          "RMSE",
          "RMSE",
          "RMSE",
          "RMSE",
          "RMSE",
          "RMSE",
          "RMSE",
          "RMSE",
          "RMSE",
          "RMSE",
          "RMSE",
          "RMSE",
          "RMSE",
          "RMSE",
          "RMSE",
          "RMSE",
          "RMSE",
          "RMSE",
          "RMSE",
          "RMSE",
          "RMSE",
          "RMSE",
          "RMSE",
          "RMSE",
          "RMSE",
          "RMSE",
          "RMSE",
          "RMSE",
          "RMSE",
          "RMSE",
          "RMSE",
          "RMSE",
          "RMSE",
          "RMSE",
          "RMSE",
          "RMSE",
          "RMSE",
          "RMSE",
          "RMSE",
          "RMSE",
          "RMSE",
          "RMSE",
          "RMSE",
          "RMSE",
          "RMSE",
          "RMSE",
          "RMSE",
          "RMSE",
          "RMSE",
          "RMSE",
          "RMSE",
          "RMSE",
          "RMSE",
          "RMSE",
          "RMSE",
          "RMSE",
          "RMSE",
          "RMSE",
          "RMSE",
          "RMSE",
          "RMSE",
          "RMSE",
          "RMSE",
          "RMSE",
          "RMSE",
          "RMSE",
          "RMSE",
          "RMSE",
          "RMSE",
          "RMSE",
          "RMSE",
          "RMSE",
          "RMSE",
          "RMSE",
          "RMSE",
          "RMSE",
          "RMSE",
          "RMSE",
          "RMSE",
          "RMSE",
          "RMSE",
          "RMSE",
          "RMSE",
          "RMSE",
          "RMSE",
          "RMSE",
          "RMSE",
          "RMSE",
          "RMSE",
          "R2",
          "R2",
          "R2",
          "R2",
          "R2",
          "R2",
          "R2",
          "R2",
          "R2",
          "R2",
          "R2",
          "R2",
          "R2",
          "R2",
          "R2",
          "R2",
          "R2",
          "R2",
          "R2",
          "R2",
          "R2",
          "R2",
          "R2",
          "R2",
          "R2",
          "R2",
          "R2",
          "R2",
          "R2",
          "R2",
          "R2",
          "R2",
          "R2",
          "R2",
          "R2",
          "R2",
          "R2",
          "R2",
          "R2",
          "R2",
          "R2",
          "R2",
          "R2",
          "R2",
          "R2",
          "R2",
          "R2",
          "R2",
          "R2",
          "R2",
          "R2",
          "R2",
          "R2",
          "R2",
          "R2",
          "R2",
          "R2",
          "R2",
          "R2",
          "R2",
          "R2",
          "R2",
          "R2",
          "R2",
          "R2",
          "R2",
          "R2",
          "R2",
          "R2",
          "R2",
          "R2",
          "R2",
          "R2",
          "R2",
          "R2",
          "R2",
          "R2",
          "R2",
          "R2",
          "R2",
          "R2",
          "R2",
          "R2",
          "R2",
          "R2",
          "R2",
          "R2",
          "R2",
          "R2",
          "R2",
          "R2",
          "R2",
          "R2",
          "R2",
          "R2",
          "R2",
          "R2",
          "R2",
          "R2",
          "R2",
          "R2",
          "R2",
          "R2",
          "R2",
          "R2",
          "R2",
          "R2",
          "R2",
          "R2",
          "R2",
          "R2",
          "R2",
          "R2",
          "R2",
          "R2",
          "R2",
          "R2",
          "R2",
          "R2",
          "R2",
          "R2",
          "R2",
          "R2",
          "R2",
          "R2",
          "R2",
          "R2",
          "R2",
          "R2",
          "R2",
          "R2",
          "R2",
          "R2",
          "R2",
          "R2",
          "R2",
          "R2",
          "R2",
          "R2",
          "R2",
          "R2",
          "R2",
          "R2",
          "R2",
          "R2",
          "R2",
          "R2",
          "R2",
          "R2",
          "R2",
          "R2",
          "R2",
          "R2",
          "R2",
          "R2",
          "R2",
          "R2",
          "R2",
          "R2",
          "R2",
          "R2",
          "R2",
          "R2",
          "R2",
          "R2",
          "R2",
          "R2",
          "R2",
          "R2",
          "R2",
          "R2",
          "R2",
          "R2",
          "R2",
          "R2",
          "R2",
          "R2",
          "R2",
          "R2",
          "R2",
          "R2",
          "R2",
          "R2",
          "R2",
          "R2",
          "R2",
          "R2",
          "R2",
          "R2",
          "R2",
          "R2",
          "R2",
          "R2",
          "R2",
          "R2",
          "R2",
          "R2",
          "R2"
         ],
         "x0": " ",
         "xaxis": "x",
         "y": {
          "bdata": "qgYUb9E87z/WejMoosjxP3AXXZ3hCfA/kNsvn6wc9D/BdWGBR+APQMbPx/2PWARARGOR6UhqB0AjRQmfUsYBQDsmQW51N+w/mPvX6XgPAEDdikVUKfbwP2QHwH018uw/GGFIVpfG3z98RwWa3Q4AQLTEb69x0t4//FNiVAuk6T+dzBRQQP8CQCCFRgsrMPw/IEFUjofa/z/FM+wgRGzsP728PEVb5/g/8ScHSpaw/D9ypesExzIDQJU1hhZxtvk/WfvDSvdP7j+9qx4wD3nwPz5njontvvY/1wp2n79QAUDOz/RKS4z4P88V8F4sNvs/Cr28CGyx9z+R/RFamfn4Pye0QrBfVA1AV4ghTGSx8D86D0snNuP2P0nIiIyPV+k/6YgWlp4TB0CVTql/w0nvPzqfE5nTlghAYCK+28oLDEBiBzCNqM7jP1BTyjPAL/M/VbgvsUMKBkDIcUy7PQ0EQPBJ4unWlRpAFTdsMBRd7T+uQiEcjK/ZP+oxU/Azo+c/Q0ExywEvuT/hL645iMb0Pyih9IWQU/g/CwdCsoDJ3T/3GoLjMgIiQAvAgOAunPU/ACeT0usO8j9OPQ5OHNH7P9X4SrBare0/giiQwLxL8z/1bPRmlffoP3OfKURPl/0/+ApAEfl0+z9YeEhFJEnnP064sp8gjOI/ciL+ooY7FkBw8WBvaQX9P6W4eWEvA/A/HIHxOh28BUBtkhGs5yzkP0EiqbYdxgFAzeKEhyxxFUDdD9MZc/LmP5dVtBXXRPg/D14U1PF64T/IJen1gsr5P9etliKWYPI/lO5FQGICDED7+z8M4TsEQOw98IwR5NA/xVPmAJrPBUCP65Vof9bXP8Uqh/xa8AVAijZsANs+9T9e47kSD7XnP25xoL2Yn/c/5E5EGnBd8D+7ho5RUO/7PyHB0ryiwQxAVQQYXlfs9T8Hi9TFt+HYP4RW33j2IAZA/e/Sl+/y7D8uhUOgfK0AQDxgn4HZHQRAVQVZBSA0D0CzdtuF5tr0P6TwcOWpHuc/SNDZhLhTDUC4GKgxxgTyP8C7lSU6S+8/e6HDrG1N3D/Q7DhBWjkWQHm+vgDUDPc/Hrbc36sF8j+D5HTE59/wP3ht7mcwVfk/tIFUUjUa5z+QYnMFTJPiP9sh5V+9cf0/z716DMemAECAngYMkmoaQLVjGr54Vvw/x5xn7EuOAUC+t4BcvxcFQKMa6TybIApA8uJiQSILB0AYi9TrfiTsP5G0hcg0Bvk/U1yMuDf++j9goWuc1fbwP9Czb6mqvO8/YExECUR58z/4/9xdiKkZQLYO1EqdJ/E/dJk/S/yO+T9w82MfphX7P/juuqGRI/Y/8KyJMsne6D+XKW/d7MToP6urLNeEmeA/t2Jey1R+7j+05sdfWvTzPxnxHEkBsRNAk5a3ENGBFEAMoVgSYxHrP/a+9CdzD/Q/+h68DZB76j/eNWNkFrQSQK7dSIg4KB5AxBvHYH+HFkB5jrq93Hn5PyQLepzCqRBAYHAwSLgYAkASUhJtImUQQICQuawp3ek/QCbe3sw06j+rAIS0ayfhP+S+Tz92HPA/aPD3i9mi9D/K44N3EC0BQLDFOqM4CwJAlrYMIzRW7j/I5re4VT33PyED6ZVdB+Y/VMIokfAy9T/TSQBIt+sBQHxR1PylE+U/X7olFWkO9z+VHJ3giOvoPyGvvLgWQwxAlbF28RYcCUCLG0ZOL/D7P078QfIIme8/ahslNvGT5z/9Xr7nHHnuPw/xiDjY3/0/BZXeJPPd8D+M4fnmasnnP9G5tDn4e/c/D5cC+bv9CkA42KhXWWjxP2WHsuWtVAVA1uBGk1Qv+D8i2evr2fvnP0KzLftcevA/ckjBbUaoEkA0H3LCbJHyP1TW+3YfQfA/N2hNKAV78j9eQoMQTygVQAPaWqBfkANAzRJ6lVGaEUBxRh3J+rb4P/UMQD1z9ew/0I0NAeSo7T8PzH98u5rsPwJECVhoeek/bxZIsybc9T+WPcdP/LvjP/3Zax34LOY/UZQNAd+i+D/GepN0B/jxPwJui2YXweU/OJr3wt1o+z/QeEsHJcvpPy4gD9gwLu4/PLFWBjjJ0z/g8EjdSmboP+/x1544vOE/d2TkFiL79T+2asp7XEb+P9jUIEBgmvo/SYT1JLf8B0BXW5Dm55k1QOQwmDX3gCRAdF+UTpEeMkD0vzHMyTwcQOWGxPyJX/Y/yDniwBNaHECNUx1A4Gn9P9OeWka0o/U/jYMX3dBT3D/G8qRpO80XQCuDlJvcjtE/+ppNciNU8z+/vYjgOUAcQMfahVTQrxBAusWlfswIIEC6oRd3oc/5P+f/ALQNlyZACu//7zgyD0CEJ45zIFEgQHMptrSlURRAJicm2g0I9T8lMKbQpuP0P3+YpRiwXQNA6/Gh0YRbJECJRwYwiskMQBn1YKOmpRBAEohVfEZTCkBnRUgr6UsTQGfPA38fNDNA/SVb9jkWBUB1IGbH9csKQFwZLlWtnvE/AHVJtXCsKUD51WabHMz6P/cOwi7iuC9A1ZTpt7MbMkC7knI3lCPqP/0VBOPElABAW5H1Rv68KUCtXVrXcZkkQNcrTJXR21hAKFM5zEsU9j/5K55nOuHOPwJLMFhBqvY/qXAs4FrWhT9hGf+clegDQD03JCIAbAhAS6vGParjyz+lX7oAROFeQNXD0Oy3sAVAudQJBBUh/z8ORTtGbzsoQMD8uxQuCfk/RV7EvM6PBUB1x203WWbvP+ry4glyXBhAlZROFg5xGEAEc0br9PHoPzBgpzdPmdw/1cwKAB8WRUCunQxysUgRQD/CCVZWgfM/WoLFd0qsNEAclojR+QPjP2DLzyFXnBtAdNlifrBYUUCu1Glb1G/kP8V4xy2gdQtALZ3y17j/4z/u37Q3bskEQGbbZ5tDLgRAbYUQNmBLMkAKCjOAlYEjQBV7JA7W1LE/q0EcdqvcJECJ6XvK0EvRPyt1VlKPqiJA3/ZoZOC8BkAwd6wrJivmP/lbQYgoxxJAEJl9geyF9j+h6faMwzsRQLuRSdBvPThApGGBdU5nD0DJo0dGQrbJP4JSgggUXyRAcDnqFUx49D+mq2t3pCQVQLdoYwS7YCBAbcYgJIDPMkBdY1eDzLwEQEfxvUSHrew/GNQcRODaNUCPAXnlEDMGQL/+HnKiP/c//Hkj2Pbr1z/GFpZlbOVEQOXU9QmXNApArENh5SE/AkDLCnfdZlH9PxF7HVK33Q1AjrIHX9xQ8z/XIz5p8W3mP16NMYWuzg9Aw0gnO1ZxFkCNp+GHqhdVQMdYATjG0xdA3G6TGUujE0BUtZvvawEmQM/I++UCFy1Asf2zkmDMMkD+TnyOzhv1P1rOWtR3ExhAkxmzvcQpEkC/zW/R5Rv7P726KqyC0QdAwmrotv/OBEDngYFc8ydlQC6o5Oit0gJAlG9ZNjjwC0DigR6wQRcIQIksf7Ex0gJAnXIMNLwX8D+FbvQsbF72P6dg1SUObec/I80jbLDb9j+tSbzxUhsFQAnD/XVzBk1Ahc27sjuuQEA3+mODQur0P+so8svVVwdAXV+v0DFd9z8mpRlDHalJQNSdiDnVnVNA+VhGybMPRUBcwdU8JyMSQE16NVzpjzpAJutYb6tBIUA2EACao4AyQCWF6Oa01PI/UiTKJ+5t8T9Ji33/JWTSP5kGsDzeEgBAEsSFhX+oCEBT236EawYqQCUnlHcaoBpAQafLIzy4+z9+RLBUWikRQAE2ccxlQek/LyB250GTEUCupygOhYcjQJQOD3ebveY/56Gti6CgBkAJlFo7lqHyPzraScKfdjJAZXNH9wchMkDbTNUIxqkOQL+H48cLkfM/tKmlWzuR7D+s/1pO4Kr1P5fgUvyrvxRAzU5jnNFI9z/i/i1hzB3wPx8pGx2iJApA2lJgcAZ6NED7kIMWAHH5PzyZkK6yHC5AHMcnbLN1DkD3EjGeIw3tP4byts7r8vQ/WlDaKwpzOUBaGfdmzTIDQEJSIGhDwgBAAiL9eMrfBUCmsAolheBFQJYBDUZYnCJAiWpX7HRvQ0C0jNJtaCkQQCcLkyxA8fc/W1va9VtI9T8fNgMWo3zyP1NpxKak6gtAz++Gl551GkAOrB2XflfYP19/cOL+IPE/R1DLzxqEE0Ar4pzRuwr4PxIpPiXlNOQ/8F986aP5EUDWSXKVQ9L8Pyy9vNf2Hv0/bKx+Jl4P0j9rdfs4z17qP/Wg56pLJ+U/BshAb4FG+b+GWcIqldTgv6LwoZXgEu6/LsO5oppf8b+AO9oeLxeGP7S910eL1Oq/4B7JQWc9v7+gPEPxRLO2v5QbEvMnftm/AHhBKBoGb79AR64fuf2rv1rlS55VsOC/EloffBbF9b9KSRxtGDvhv7AySLnJ7bi/8IBzmsZk8r+AwCUwUoK1v9BiCzFANqk/jDBuOaTZ6r/80vW9mwDqv9wynSH+UtG/nMlZVKU82L9oIJWzEJ3Bv1AXA2plo8k/Gp3wD8SO9r8lMKbQpuMQwJ/+zh4cNRTAfqKKOK604L/cUav+CVrVvwTvmfntWd+/yDrFN4fKw79eoj+zBevrvwCY4bpwYW0/sI4DatO3y7/wdc0XkFThv0Dknv4XlM6/3ETsxetb37+UhG/QQvHzv1SJXOIUvsw/SEvsWNDfsT/WwXhPImjrvwiMhrwrU/u/MCDjo731vb/AkfA1CkiVv2CNlJToWaW/EDkdyGJt978Ice0unk/HvyCPCLZ5R7m/AAAAAAAAAACIKYqM3ZPwv0AZGWA2ZcG/AAAAAAAAAAC0V3/0eJXIP3DYLkU8tM0/LH4dDD9j3b8gGvLqnpnSv6iY9ZZItfC/MmTM+gex8r8Q2+gmq2fOvxCVRS2G5a8/RAE+u6AG5b96YmnKCfwBwFhwSrutKM+/QCpUU3UTlj9gHpMD+i+uP4Bcl9CQUYS/mOyKDyThwL+MrS7NAAncv54/3M2KNey/4K2BkNwEqD/gFdy1UAyov9wuS3sF5uS/8D1fFGYS3b8AAAAAAAD4f1j5FCPRGsK/0CCaNeK/wL/AeGJL9HTTvwAAAAAAAPh/gDSD04Y/lr/QNVseV6rLv+ChP2pMc6G/BpVqHaLl5b86ej2ka6MKwAIrALfSXOu/IDL7AtkL/b/wgdl5Nia1v4DWo/56uI0/oEVMjAzowL8Q06btwkKyv5BSkFIyveC/xjyZmK1C+r/A/rF37hSiP8qcqVUUmOq/ABiW/cv/db9QqhmRFOK5vwDca1ULzoC/wDp9k1Onor+IJwfu6dzNvwA8rfHZsLK/CPihBwINxb86kAh6/Sjhv6iqIxfZPcS/qOpa3b1cuD8gZsABD5G1vzRxWPYlmdm/MMGNOmZDoz9oc5tRtYrUvzLGVV8PbwDAQF6lbJ2Tlb/gS/wWcgW0v4AUkpMfx7W/0JPEzA4vOcCAAZRvOdeyv4QZ8LfDyMM/AEFyQEP4nj+isUu1p7H1v4jbmRHgHcK/KFR6kk06sj9Uu2Zg7hPfv0RI4x/ITuC/WpSrzqQz7b8YvzD3ShTMvwA2dUAHHZy/swcmM79hBMAurShAAh8uwFDdJuOyD7m/HoK/YxS8+L/0PgAVf8vQv3gZINVfteS/RppH2GC3/b8CemUuNA32vyCzQGSvccS/AOqJpzlutz8gSsALKTWYP7BPpY9jEbC/kLLsoC9B7L+QfC0cbzm8v4CWIHab+YW/xIy9S8P61r9A62Ri6wy5vzARcD5kaKc/dI3UDZ178L/zalXNhKsmwECUKPpZVK6/QOI5a3eKob8AAAAAAAD4fyLESQa5VvC/YM8cCCzdtL+wLoUeaFPPvwD5fnN+QWs/fhvHFotL4L+gx6U7IP6zv0gdUkdnN/G/gJkL1KiMt79Yt888u/LWvygdHu42e/2/sOrJa7U9xr929NhmKTPmv2ClCOQcUqs/3OwoQBu7xD9I3YQvy1PTv92h4X/73hDAUsjmNUDV4r8AEIVdx+ZLP4B41PxDFLS/SBbtkACrsz98fafaC0P0v5pLiM276Oq/WGvhqc7X3781K2HobCoHwBjBSrncpM2/6JzHh0Ytz78QcFHF8Zm0v4jtYtOVC78/NAw45UOT5L/uK6tWDEz0v+Y1wUxRI++/gAvwa2NMgr+Ke6tR8yX8v4AkX7Zy/5q/oNvaERMuxb9wCNOevC/Zv2Ah9Vawz8G/bG1p128h1b/01cLB8nPZP7C8XiMf6cG/QE++C6EY2L8AAAAAAAAAALK0gVFFuuq/7IMS+dBt0b8r4pzRuwoUwAh9aK2ngtK/5uTbTTJp/b9IR48CRrm0P8hbuA+YKuu/ystREfso4L9ku/aDKdHlvwy5o4bRWeC/",
          "dtype": "f8"
         },
         "y0": " ",
         "yaxis": "y"
        },
        {
         "alignmentgroup": "True",
         "boxpoints": "all",
         "customdata": [
          [
           "FOODS_1_005_WI_1_evaluation"
          ],
          [
           "FOODS_1_044_CA_3_evaluation"
          ],
          [
           "FOODS_1_048_CA_3_evaluation"
          ],
          [
           "FOODS_1_061_TX_3_evaluation"
          ],
          [
           "FOODS_1_067_CA_3_evaluation"
          ],
          [
           "FOODS_1_069_CA_2_evaluation"
          ],
          [
           "FOODS_1_106_CA_3_evaluation"
          ],
          [
           "FOODS_1_123_CA_3_evaluation"
          ],
          [
           "FOODS_1_127_CA_1_evaluation"
          ],
          [
           "FOODS_1_129_WI_2_evaluation"
          ],
          [
           "FOODS_1_137_WI_3_evaluation"
          ],
          [
           "FOODS_1_140_CA_3_evaluation"
          ],
          [
           "FOODS_1_144_CA_2_evaluation"
          ],
          [
           "FOODS_1_170_WI_1_evaluation"
          ],
          [
           "FOODS_1_195_CA_1_evaluation"
          ],
          [
           "FOODS_1_214_CA_1_evaluation"
          ],
          [
           "FOODS_2_002_WI_3_evaluation"
          ],
          [
           "FOODS_2_013_CA_3_evaluation"
          ],
          [
           "FOODS_2_026_CA_4_evaluation"
          ],
          [
           "FOODS_2_044_CA_1_evaluation"
          ],
          [
           "FOODS_2_044_CA_3_evaluation"
          ],
          [
           "FOODS_2_056_CA_3_evaluation"
          ],
          [
           "FOODS_2_074_CA_2_evaluation"
          ],
          [
           "FOODS_2_081_CA_1_evaluation"
          ],
          [
           "FOODS_2_082_CA_4_evaluation"
          ],
          [
           "FOODS_2_088_WI_3_evaluation"
          ],
          [
           "FOODS_2_093_TX_1_evaluation"
          ],
          [
           "FOODS_2_119_CA_1_evaluation"
          ],
          [
           "FOODS_2_151_WI_1_evaluation"
          ],
          [
           "FOODS_2_152_TX_3_evaluation"
          ],
          [
           "FOODS_2_166_WI_3_evaluation"
          ],
          [
           "FOODS_2_225_CA_1_evaluation"
          ],
          [
           "FOODS_2_242_WI_2_evaluation"
          ],
          [
           "FOODS_2_245_TX_3_evaluation"
          ],
          [
           "FOODS_2_247_CA_4_evaluation"
          ],
          [
           "FOODS_2_262_WI_3_evaluation"
          ],
          [
           "FOODS_2_272_WI_3_evaluation"
          ],
          [
           "FOODS_2_342_TX_1_evaluation"
          ],
          [
           "FOODS_2_347_CA_4_evaluation"
          ],
          [
           "FOODS_2_360_CA_4_evaluation"
          ],
          [
           "FOODS_2_361_WI_2_evaluation"
          ],
          [
           "FOODS_2_375_CA_3_evaluation"
          ],
          [
           "FOODS_2_383_WI_2_evaluation"
          ],
          [
           "FOODS_3_007_CA_4_evaluation"
          ],
          [
           "FOODS_3_007_TX_2_evaluation"
          ],
          [
           "FOODS_3_021_TX_1_evaluation"
          ],
          [
           "FOODS_3_029_CA_3_evaluation"
          ],
          [
           "FOODS_3_029_TX_3_evaluation"
          ],
          [
           "FOODS_3_035_CA_4_evaluation"
          ],
          [
           "FOODS_3_067_TX_2_evaluation"
          ],
          [
           "FOODS_3_071_CA_4_evaluation"
          ],
          [
           "FOODS_3_078_CA_3_evaluation"
          ],
          [
           "FOODS_3_090_CA_4_evaluation"
          ],
          [
           "FOODS_3_101_WI_1_evaluation"
          ],
          [
           "FOODS_3_118_TX_3_evaluation"
          ],
          [
           "FOODS_3_124_WI_3_evaluation"
          ],
          [
           "FOODS_3_126_CA_1_evaluation"
          ],
          [
           "FOODS_3_128_CA_3_evaluation"
          ],
          [
           "FOODS_3_129_CA_3_evaluation"
          ],
          [
           "FOODS_3_133_TX_3_evaluation"
          ],
          [
           "FOODS_3_154_CA_1_evaluation"
          ],
          [
           "FOODS_3_163_TX_2_evaluation"
          ],
          [
           "FOODS_3_191_CA_2_evaluation"
          ],
          [
           "FOODS_3_202_WI_3_evaluation"
          ],
          [
           "FOODS_3_203_CA_2_evaluation"
          ],
          [
           "FOODS_3_203_TX_2_evaluation"
          ],
          [
           "FOODS_3_214_WI_1_evaluation"
          ],
          [
           "FOODS_3_217_WI_2_evaluation"
          ],
          [
           "FOODS_3_230_CA_1_evaluation"
          ],
          [
           "FOODS_3_281_WI_3_evaluation"
          ],
          [
           "FOODS_3_286_CA_3_evaluation"
          ],
          [
           "FOODS_3_305_WI_2_evaluation"
          ],
          [
           "FOODS_3_316_WI_1_evaluation"
          ],
          [
           "FOODS_3_319_CA_3_evaluation"
          ],
          [
           "FOODS_3_330_TX_2_evaluation"
          ],
          [
           "FOODS_3_339_CA_3_evaluation"
          ],
          [
           "FOODS_3_342_CA_4_evaluation"
          ],
          [
           "FOODS_3_352_CA_4_evaluation"
          ],
          [
           "FOODS_3_355_CA_2_evaluation"
          ],
          [
           "FOODS_3_365_CA_1_evaluation"
          ],
          [
           "FOODS_3_377_WI_2_evaluation"
          ],
          [
           "FOODS_3_386_CA_2_evaluation"
          ],
          [
           "FOODS_3_410_CA_4_evaluation"
          ],
          [
           "FOODS_3_411_TX_3_evaluation"
          ],
          [
           "FOODS_3_418_TX_3_evaluation"
          ],
          [
           "FOODS_3_446_TX_1_evaluation"
          ],
          [
           "FOODS_3_458_WI_3_evaluation"
          ],
          [
           "FOODS_3_459_TX_3_evaluation"
          ],
          [
           "FOODS_3_475_CA_1_evaluation"
          ],
          [
           "FOODS_3_475_WI_2_evaluation"
          ],
          [
           "FOODS_3_480_WI_1_evaluation"
          ],
          [
           "FOODS_3_491_TX_1_evaluation"
          ],
          [
           "FOODS_3_493_WI_3_evaluation"
          ],
          [
           "FOODS_3_498_TX_2_evaluation"
          ],
          [
           "FOODS_3_526_WI_2_evaluation"
          ],
          [
           "FOODS_3_534_TX_2_evaluation"
          ],
          [
           "FOODS_3_540_CA_2_evaluation"
          ],
          [
           "FOODS_3_569_CA_1_evaluation"
          ],
          [
           "FOODS_3_577_CA_1_evaluation"
          ],
          [
           "FOODS_3_591_CA_3_evaluation"
          ],
          [
           "FOODS_3_607_CA_3_evaluation"
          ],
          [
           "FOODS_3_609_CA_3_evaluation"
          ],
          [
           "FOODS_3_628_CA_4_evaluation"
          ],
          [
           "FOODS_3_645_CA_1_evaluation"
          ],
          [
           "FOODS_3_672_CA_4_evaluation"
          ],
          [
           "FOODS_3_675_WI_1_evaluation"
          ],
          [
           "FOODS_3_680_CA_3_evaluation"
          ],
          [
           "FOODS_3_689_CA_3_evaluation"
          ],
          [
           "FOODS_3_695_CA_4_evaluation"
          ],
          [
           "FOODS_3_702_WI_3_evaluation"
          ],
          [
           "FOODS_3_704_CA_1_evaluation"
          ],
          [
           "FOODS_3_721_CA_1_evaluation"
          ],
          [
           "FOODS_3_739_TX_2_evaluation"
          ],
          [
           "FOODS_3_744_TX_2_evaluation"
          ],
          [
           "FOODS_3_764_CA_2_evaluation"
          ],
          [
           "FOODS_3_802_WI_2_evaluation"
          ],
          [
           "FOODS_3_814_CA_3_evaluation"
          ],
          [
           "FOODS_3_819_WI_1_evaluation"
          ],
          [
           "FOODS_3_820_TX_2_evaluation"
          ],
          [
           "HOBBIES_1_004_WI_3_evaluation"
          ],
          [
           "HOBBIES_1_009_CA_3_evaluation"
          ],
          [
           "HOBBIES_1_015_TX_1_evaluation"
          ],
          [
           "HOBBIES_1_017_CA_3_evaluation"
          ],
          [
           "HOBBIES_1_034_TX_2_evaluation"
          ],
          [
           "HOBBIES_1_086_TX_1_evaluation"
          ],
          [
           "HOBBIES_1_087_TX_3_evaluation"
          ],
          [
           "HOBBIES_1_097_CA_4_evaluation"
          ],
          [
           "HOBBIES_1_099_TX_1_evaluation"
          ],
          [
           "HOBBIES_1_147_TX_3_evaluation"
          ],
          [
           "HOBBIES_1_151_CA_3_evaluation"
          ],
          [
           "HOBBIES_1_159_WI_1_evaluation"
          ],
          [
           "HOBBIES_1_169_CA_4_evaluation"
          ],
          [
           "HOBBIES_1_178_WI_1_evaluation"
          ],
          [
           "HOBBIES_1_242_CA_3_evaluation"
          ],
          [
           "HOBBIES_1_298_CA_3_evaluation"
          ],
          [
           "HOBBIES_1_330_CA_3_evaluation"
          ],
          [
           "HOBBIES_1_370_CA_3_evaluation"
          ],
          [
           "HOBBIES_1_371_CA_1_evaluation"
          ],
          [
           "HOBBIES_1_371_CA_4_evaluation"
          ],
          [
           "HOBBIES_1_378_CA_1_evaluation"
          ],
          [
           "HOBBIES_1_387_CA_3_evaluation"
          ],
          [
           "HOUSEHOLD_1_004_CA_1_evaluation"
          ],
          [
           "HOUSEHOLD_1_019_TX_2_evaluation"
          ],
          [
           "HOUSEHOLD_1_021_WI_3_evaluation"
          ],
          [
           "HOUSEHOLD_1_027_TX_3_evaluation"
          ],
          [
           "HOUSEHOLD_1_028_CA_2_evaluation"
          ],
          [
           "HOUSEHOLD_1_038_CA_4_evaluation"
          ],
          [
           "HOUSEHOLD_1_050_CA_1_evaluation"
          ],
          [
           "HOUSEHOLD_1_051_TX_2_evaluation"
          ],
          [
           "HOUSEHOLD_1_055_WI_2_evaluation"
          ],
          [
           "HOUSEHOLD_1_079_CA_1_evaluation"
          ],
          [
           "HOUSEHOLD_1_114_WI_3_evaluation"
          ],
          [
           "HOUSEHOLD_1_127_TX_1_evaluation"
          ],
          [
           "HOUSEHOLD_1_147_WI_1_evaluation"
          ],
          [
           "HOUSEHOLD_1_151_TX_3_evaluation"
          ],
          [
           "HOUSEHOLD_1_168_TX_3_evaluation"
          ],
          [
           "HOUSEHOLD_1_169_WI_3_evaluation"
          ],
          [
           "HOUSEHOLD_1_170_WI_3_evaluation"
          ],
          [
           "HOUSEHOLD_1_179_CA_3_evaluation"
          ],
          [
           "HOUSEHOLD_1_179_TX_3_evaluation"
          ],
          [
           "HOUSEHOLD_1_186_WI_3_evaluation"
          ],
          [
           "HOUSEHOLD_1_188_TX_3_evaluation"
          ],
          [
           "HOUSEHOLD_1_188_WI_2_evaluation"
          ],
          [
           "HOUSEHOLD_1_197_CA_2_evaluation"
          ],
          [
           "HOUSEHOLD_1_235_TX_2_evaluation"
          ],
          [
           "HOUSEHOLD_1_243_CA_2_evaluation"
          ],
          [
           "HOUSEHOLD_1_265_CA_2_evaluation"
          ],
          [
           "HOUSEHOLD_1_292_TX_1_evaluation"
          ],
          [
           "HOUSEHOLD_1_294_WI_1_evaluation"
          ],
          [
           "HOUSEHOLD_1_336_WI_2_evaluation"
          ],
          [
           "HOUSEHOLD_1_338_CA_1_evaluation"
          ],
          [
           "HOUSEHOLD_1_354_TX_3_evaluation"
          ],
          [
           "HOUSEHOLD_1_370_WI_2_evaluation"
          ],
          [
           "HOUSEHOLD_1_387_CA_2_evaluation"
          ],
          [
           "HOUSEHOLD_1_389_CA_3_evaluation"
          ],
          [
           "HOUSEHOLD_1_397_TX_2_evaluation"
          ],
          [
           "HOUSEHOLD_1_397_WI_3_evaluation"
          ],
          [
           "HOUSEHOLD_1_437_WI_2_evaluation"
          ],
          [
           "HOUSEHOLD_1_458_TX_3_evaluation"
          ],
          [
           "HOUSEHOLD_1_459_CA_1_evaluation"
          ],
          [
           "HOUSEHOLD_1_459_WI_1_evaluation"
          ],
          [
           "HOUSEHOLD_1_473_TX_3_evaluation"
          ],
          [
           "HOUSEHOLD_1_478_WI_1_evaluation"
          ],
          [
           "HOUSEHOLD_1_498_TX_1_evaluation"
          ],
          [
           "HOUSEHOLD_1_505_TX_3_evaluation"
          ],
          [
           "HOUSEHOLD_1_522_CA_2_evaluation"
          ],
          [
           "HOUSEHOLD_1_532_TX_1_evaluation"
          ],
          [
           "HOUSEHOLD_1_537_WI_3_evaluation"
          ],
          [
           "HOUSEHOLD_1_538_TX_2_evaluation"
          ],
          [
           "HOUSEHOLD_1_539_TX_2_evaluation"
          ],
          [
           "HOUSEHOLD_2_075_WI_3_evaluation"
          ],
          [
           "HOUSEHOLD_2_118_WI_2_evaluation"
          ],
          [
           "HOUSEHOLD_2_295_CA_3_evaluation"
          ],
          [
           "HOUSEHOLD_2_348_TX_3_evaluation"
          ],
          [
           "HOUSEHOLD_2_355_CA_2_evaluation"
          ],
          [
           "HOUSEHOLD_2_437_TX_3_evaluation"
          ],
          [
           "HOUSEHOLD_2_442_CA_1_evaluation"
          ],
          [
           "HOUSEHOLD_2_510_TX_3_evaluation"
          ],
          [
           "FOODS_1_005_WI_1_evaluation"
          ],
          [
           "FOODS_1_044_CA_3_evaluation"
          ],
          [
           "FOODS_1_048_CA_3_evaluation"
          ],
          [
           "FOODS_1_061_TX_3_evaluation"
          ],
          [
           "FOODS_1_067_CA_3_evaluation"
          ],
          [
           "FOODS_1_069_CA_2_evaluation"
          ],
          [
           "FOODS_1_106_CA_3_evaluation"
          ],
          [
           "FOODS_1_123_CA_3_evaluation"
          ],
          [
           "FOODS_1_127_CA_1_evaluation"
          ],
          [
           "FOODS_1_129_WI_2_evaluation"
          ],
          [
           "FOODS_1_137_WI_3_evaluation"
          ],
          [
           "FOODS_1_140_CA_3_evaluation"
          ],
          [
           "FOODS_1_144_CA_2_evaluation"
          ],
          [
           "FOODS_1_170_WI_1_evaluation"
          ],
          [
           "FOODS_1_195_CA_1_evaluation"
          ],
          [
           "FOODS_1_214_CA_1_evaluation"
          ],
          [
           "FOODS_2_002_WI_3_evaluation"
          ],
          [
           "FOODS_2_013_CA_3_evaluation"
          ],
          [
           "FOODS_2_026_CA_4_evaluation"
          ],
          [
           "FOODS_2_044_CA_1_evaluation"
          ],
          [
           "FOODS_2_044_CA_3_evaluation"
          ],
          [
           "FOODS_2_056_CA_3_evaluation"
          ],
          [
           "FOODS_2_074_CA_2_evaluation"
          ],
          [
           "FOODS_2_081_CA_1_evaluation"
          ],
          [
           "FOODS_2_082_CA_4_evaluation"
          ],
          [
           "FOODS_2_088_WI_3_evaluation"
          ],
          [
           "FOODS_2_093_TX_1_evaluation"
          ],
          [
           "FOODS_2_119_CA_1_evaluation"
          ],
          [
           "FOODS_2_151_WI_1_evaluation"
          ],
          [
           "FOODS_2_152_TX_3_evaluation"
          ],
          [
           "FOODS_2_166_WI_3_evaluation"
          ],
          [
           "FOODS_2_225_CA_1_evaluation"
          ],
          [
           "FOODS_2_242_WI_2_evaluation"
          ],
          [
           "FOODS_2_245_TX_3_evaluation"
          ],
          [
           "FOODS_2_247_CA_4_evaluation"
          ],
          [
           "FOODS_2_262_WI_3_evaluation"
          ],
          [
           "FOODS_2_272_WI_3_evaluation"
          ],
          [
           "FOODS_2_342_TX_1_evaluation"
          ],
          [
           "FOODS_2_347_CA_4_evaluation"
          ],
          [
           "FOODS_2_360_CA_4_evaluation"
          ],
          [
           "FOODS_2_361_WI_2_evaluation"
          ],
          [
           "FOODS_2_375_CA_3_evaluation"
          ],
          [
           "FOODS_2_383_WI_2_evaluation"
          ],
          [
           "FOODS_3_007_CA_4_evaluation"
          ],
          [
           "FOODS_3_007_TX_2_evaluation"
          ],
          [
           "FOODS_3_021_TX_1_evaluation"
          ],
          [
           "FOODS_3_029_CA_3_evaluation"
          ],
          [
           "FOODS_3_029_TX_3_evaluation"
          ],
          [
           "FOODS_3_035_CA_4_evaluation"
          ],
          [
           "FOODS_3_067_TX_2_evaluation"
          ],
          [
           "FOODS_3_071_CA_4_evaluation"
          ],
          [
           "FOODS_3_078_CA_3_evaluation"
          ],
          [
           "FOODS_3_090_CA_4_evaluation"
          ],
          [
           "FOODS_3_101_WI_1_evaluation"
          ],
          [
           "FOODS_3_118_TX_3_evaluation"
          ],
          [
           "FOODS_3_124_WI_3_evaluation"
          ],
          [
           "FOODS_3_126_CA_1_evaluation"
          ],
          [
           "FOODS_3_128_CA_3_evaluation"
          ],
          [
           "FOODS_3_129_CA_3_evaluation"
          ],
          [
           "FOODS_3_133_TX_3_evaluation"
          ],
          [
           "FOODS_3_154_CA_1_evaluation"
          ],
          [
           "FOODS_3_163_TX_2_evaluation"
          ],
          [
           "FOODS_3_191_CA_2_evaluation"
          ],
          [
           "FOODS_3_202_WI_3_evaluation"
          ],
          [
           "FOODS_3_203_CA_2_evaluation"
          ],
          [
           "FOODS_3_203_TX_2_evaluation"
          ],
          [
           "FOODS_3_214_WI_1_evaluation"
          ],
          [
           "FOODS_3_217_WI_2_evaluation"
          ],
          [
           "FOODS_3_230_CA_1_evaluation"
          ],
          [
           "FOODS_3_281_WI_3_evaluation"
          ],
          [
           "FOODS_3_286_CA_3_evaluation"
          ],
          [
           "FOODS_3_305_WI_2_evaluation"
          ],
          [
           "FOODS_3_316_WI_1_evaluation"
          ],
          [
           "FOODS_3_319_CA_3_evaluation"
          ],
          [
           "FOODS_3_330_TX_2_evaluation"
          ],
          [
           "FOODS_3_339_CA_3_evaluation"
          ],
          [
           "FOODS_3_342_CA_4_evaluation"
          ],
          [
           "FOODS_3_352_CA_4_evaluation"
          ],
          [
           "FOODS_3_355_CA_2_evaluation"
          ],
          [
           "FOODS_3_365_CA_1_evaluation"
          ],
          [
           "FOODS_3_377_WI_2_evaluation"
          ],
          [
           "FOODS_3_386_CA_2_evaluation"
          ],
          [
           "FOODS_3_410_CA_4_evaluation"
          ],
          [
           "FOODS_3_411_TX_3_evaluation"
          ],
          [
           "FOODS_3_418_TX_3_evaluation"
          ],
          [
           "FOODS_3_446_TX_1_evaluation"
          ],
          [
           "FOODS_3_458_WI_3_evaluation"
          ],
          [
           "FOODS_3_459_TX_3_evaluation"
          ],
          [
           "FOODS_3_475_CA_1_evaluation"
          ],
          [
           "FOODS_3_475_WI_2_evaluation"
          ],
          [
           "FOODS_3_480_WI_1_evaluation"
          ],
          [
           "FOODS_3_491_TX_1_evaluation"
          ],
          [
           "FOODS_3_493_WI_3_evaluation"
          ],
          [
           "FOODS_3_498_TX_2_evaluation"
          ],
          [
           "FOODS_3_526_WI_2_evaluation"
          ],
          [
           "FOODS_3_534_TX_2_evaluation"
          ],
          [
           "FOODS_3_540_CA_2_evaluation"
          ],
          [
           "FOODS_3_569_CA_1_evaluation"
          ],
          [
           "FOODS_3_577_CA_1_evaluation"
          ],
          [
           "FOODS_3_591_CA_3_evaluation"
          ],
          [
           "FOODS_3_607_CA_3_evaluation"
          ],
          [
           "FOODS_3_609_CA_3_evaluation"
          ],
          [
           "FOODS_3_628_CA_4_evaluation"
          ],
          [
           "FOODS_3_645_CA_1_evaluation"
          ],
          [
           "FOODS_3_672_CA_4_evaluation"
          ],
          [
           "FOODS_3_675_WI_1_evaluation"
          ],
          [
           "FOODS_3_680_CA_3_evaluation"
          ],
          [
           "FOODS_3_689_CA_3_evaluation"
          ],
          [
           "FOODS_3_695_CA_4_evaluation"
          ],
          [
           "FOODS_3_702_WI_3_evaluation"
          ],
          [
           "FOODS_3_704_CA_1_evaluation"
          ],
          [
           "FOODS_3_721_CA_1_evaluation"
          ],
          [
           "FOODS_3_739_TX_2_evaluation"
          ],
          [
           "FOODS_3_744_TX_2_evaluation"
          ],
          [
           "FOODS_3_764_CA_2_evaluation"
          ],
          [
           "FOODS_3_802_WI_2_evaluation"
          ],
          [
           "FOODS_3_814_CA_3_evaluation"
          ],
          [
           "FOODS_3_819_WI_1_evaluation"
          ],
          [
           "FOODS_3_820_TX_2_evaluation"
          ],
          [
           "HOBBIES_1_004_WI_3_evaluation"
          ],
          [
           "HOBBIES_1_009_CA_3_evaluation"
          ],
          [
           "HOBBIES_1_015_TX_1_evaluation"
          ],
          [
           "HOBBIES_1_017_CA_3_evaluation"
          ],
          [
           "HOBBIES_1_034_TX_2_evaluation"
          ],
          [
           "HOBBIES_1_086_TX_1_evaluation"
          ],
          [
           "HOBBIES_1_087_TX_3_evaluation"
          ],
          [
           "HOBBIES_1_097_CA_4_evaluation"
          ],
          [
           "HOBBIES_1_099_TX_1_evaluation"
          ],
          [
           "HOBBIES_1_147_TX_3_evaluation"
          ],
          [
           "HOBBIES_1_151_CA_3_evaluation"
          ],
          [
           "HOBBIES_1_159_WI_1_evaluation"
          ],
          [
           "HOBBIES_1_169_CA_4_evaluation"
          ],
          [
           "HOBBIES_1_178_WI_1_evaluation"
          ],
          [
           "HOBBIES_1_242_CA_3_evaluation"
          ],
          [
           "HOBBIES_1_298_CA_3_evaluation"
          ],
          [
           "HOBBIES_1_330_CA_3_evaluation"
          ],
          [
           "HOBBIES_1_370_CA_3_evaluation"
          ],
          [
           "HOBBIES_1_371_CA_1_evaluation"
          ],
          [
           "HOBBIES_1_371_CA_4_evaluation"
          ],
          [
           "HOBBIES_1_378_CA_1_evaluation"
          ],
          [
           "HOBBIES_1_387_CA_3_evaluation"
          ],
          [
           "HOUSEHOLD_1_004_CA_1_evaluation"
          ],
          [
           "HOUSEHOLD_1_019_TX_2_evaluation"
          ],
          [
           "HOUSEHOLD_1_021_WI_3_evaluation"
          ],
          [
           "HOUSEHOLD_1_027_TX_3_evaluation"
          ],
          [
           "HOUSEHOLD_1_028_CA_2_evaluation"
          ],
          [
           "HOUSEHOLD_1_038_CA_4_evaluation"
          ],
          [
           "HOUSEHOLD_1_050_CA_1_evaluation"
          ],
          [
           "HOUSEHOLD_1_051_TX_2_evaluation"
          ],
          [
           "HOUSEHOLD_1_055_WI_2_evaluation"
          ],
          [
           "HOUSEHOLD_1_079_CA_1_evaluation"
          ],
          [
           "HOUSEHOLD_1_114_WI_3_evaluation"
          ],
          [
           "HOUSEHOLD_1_127_TX_1_evaluation"
          ],
          [
           "HOUSEHOLD_1_147_WI_1_evaluation"
          ],
          [
           "HOUSEHOLD_1_151_TX_3_evaluation"
          ],
          [
           "HOUSEHOLD_1_168_TX_3_evaluation"
          ],
          [
           "HOUSEHOLD_1_169_WI_3_evaluation"
          ],
          [
           "HOUSEHOLD_1_170_WI_3_evaluation"
          ],
          [
           "HOUSEHOLD_1_179_CA_3_evaluation"
          ],
          [
           "HOUSEHOLD_1_179_TX_3_evaluation"
          ],
          [
           "HOUSEHOLD_1_186_WI_3_evaluation"
          ],
          [
           "HOUSEHOLD_1_188_TX_3_evaluation"
          ],
          [
           "HOUSEHOLD_1_188_WI_2_evaluation"
          ],
          [
           "HOUSEHOLD_1_197_CA_2_evaluation"
          ],
          [
           "HOUSEHOLD_1_235_TX_2_evaluation"
          ],
          [
           "HOUSEHOLD_1_243_CA_2_evaluation"
          ],
          [
           "HOUSEHOLD_1_265_CA_2_evaluation"
          ],
          [
           "HOUSEHOLD_1_292_TX_1_evaluation"
          ],
          [
           "HOUSEHOLD_1_294_WI_1_evaluation"
          ],
          [
           "HOUSEHOLD_1_336_WI_2_evaluation"
          ],
          [
           "HOUSEHOLD_1_338_CA_1_evaluation"
          ],
          [
           "HOUSEHOLD_1_354_TX_3_evaluation"
          ],
          [
           "HOUSEHOLD_1_370_WI_2_evaluation"
          ],
          [
           "HOUSEHOLD_1_387_CA_2_evaluation"
          ],
          [
           "HOUSEHOLD_1_389_CA_3_evaluation"
          ],
          [
           "HOUSEHOLD_1_397_TX_2_evaluation"
          ],
          [
           "HOUSEHOLD_1_397_WI_3_evaluation"
          ],
          [
           "HOUSEHOLD_1_437_WI_2_evaluation"
          ],
          [
           "HOUSEHOLD_1_458_TX_3_evaluation"
          ],
          [
           "HOUSEHOLD_1_459_CA_1_evaluation"
          ],
          [
           "HOUSEHOLD_1_459_WI_1_evaluation"
          ],
          [
           "HOUSEHOLD_1_473_TX_3_evaluation"
          ],
          [
           "HOUSEHOLD_1_478_WI_1_evaluation"
          ],
          [
           "HOUSEHOLD_1_498_TX_1_evaluation"
          ],
          [
           "HOUSEHOLD_1_505_TX_3_evaluation"
          ],
          [
           "HOUSEHOLD_1_522_CA_2_evaluation"
          ],
          [
           "HOUSEHOLD_1_532_TX_1_evaluation"
          ],
          [
           "HOUSEHOLD_1_537_WI_3_evaluation"
          ],
          [
           "HOUSEHOLD_1_538_TX_2_evaluation"
          ],
          [
           "HOUSEHOLD_1_539_TX_2_evaluation"
          ],
          [
           "HOUSEHOLD_2_075_WI_3_evaluation"
          ],
          [
           "HOUSEHOLD_2_118_WI_2_evaluation"
          ],
          [
           "HOUSEHOLD_2_295_CA_3_evaluation"
          ],
          [
           "HOUSEHOLD_2_348_TX_3_evaluation"
          ],
          [
           "HOUSEHOLD_2_355_CA_2_evaluation"
          ],
          [
           "HOUSEHOLD_2_437_TX_3_evaluation"
          ],
          [
           "HOUSEHOLD_2_442_CA_1_evaluation"
          ],
          [
           "HOUSEHOLD_2_510_TX_3_evaluation"
          ],
          [
           "FOODS_1_005_WI_1_evaluation"
          ],
          [
           "FOODS_1_044_CA_3_evaluation"
          ],
          [
           "FOODS_1_048_CA_3_evaluation"
          ],
          [
           "FOODS_1_061_TX_3_evaluation"
          ],
          [
           "FOODS_1_067_CA_3_evaluation"
          ],
          [
           "FOODS_1_069_CA_2_evaluation"
          ],
          [
           "FOODS_1_106_CA_3_evaluation"
          ],
          [
           "FOODS_1_123_CA_3_evaluation"
          ],
          [
           "FOODS_1_127_CA_1_evaluation"
          ],
          [
           "FOODS_1_129_WI_2_evaluation"
          ],
          [
           "FOODS_1_137_WI_3_evaluation"
          ],
          [
           "FOODS_1_140_CA_3_evaluation"
          ],
          [
           "FOODS_1_144_CA_2_evaluation"
          ],
          [
           "FOODS_1_170_WI_1_evaluation"
          ],
          [
           "FOODS_1_195_CA_1_evaluation"
          ],
          [
           "FOODS_1_214_CA_1_evaluation"
          ],
          [
           "FOODS_2_002_WI_3_evaluation"
          ],
          [
           "FOODS_2_013_CA_3_evaluation"
          ],
          [
           "FOODS_2_026_CA_4_evaluation"
          ],
          [
           "FOODS_2_044_CA_1_evaluation"
          ],
          [
           "FOODS_2_044_CA_3_evaluation"
          ],
          [
           "FOODS_2_056_CA_3_evaluation"
          ],
          [
           "FOODS_2_074_CA_2_evaluation"
          ],
          [
           "FOODS_2_081_CA_1_evaluation"
          ],
          [
           "FOODS_2_082_CA_4_evaluation"
          ],
          [
           "FOODS_2_088_WI_3_evaluation"
          ],
          [
           "FOODS_2_093_TX_1_evaluation"
          ],
          [
           "FOODS_2_119_CA_1_evaluation"
          ],
          [
           "FOODS_2_151_WI_1_evaluation"
          ],
          [
           "FOODS_2_152_TX_3_evaluation"
          ],
          [
           "FOODS_2_166_WI_3_evaluation"
          ],
          [
           "FOODS_2_225_CA_1_evaluation"
          ],
          [
           "FOODS_2_242_WI_2_evaluation"
          ],
          [
           "FOODS_2_245_TX_3_evaluation"
          ],
          [
           "FOODS_2_247_CA_4_evaluation"
          ],
          [
           "FOODS_2_262_WI_3_evaluation"
          ],
          [
           "FOODS_2_272_WI_3_evaluation"
          ],
          [
           "FOODS_2_342_TX_1_evaluation"
          ],
          [
           "FOODS_2_347_CA_4_evaluation"
          ],
          [
           "FOODS_2_360_CA_4_evaluation"
          ],
          [
           "FOODS_2_361_WI_2_evaluation"
          ],
          [
           "FOODS_2_375_CA_3_evaluation"
          ],
          [
           "FOODS_2_383_WI_2_evaluation"
          ],
          [
           "FOODS_3_007_CA_4_evaluation"
          ],
          [
           "FOODS_3_007_TX_2_evaluation"
          ],
          [
           "FOODS_3_021_TX_1_evaluation"
          ],
          [
           "FOODS_3_029_CA_3_evaluation"
          ],
          [
           "FOODS_3_029_TX_3_evaluation"
          ],
          [
           "FOODS_3_035_CA_4_evaluation"
          ],
          [
           "FOODS_3_067_TX_2_evaluation"
          ],
          [
           "FOODS_3_071_CA_4_evaluation"
          ],
          [
           "FOODS_3_078_CA_3_evaluation"
          ],
          [
           "FOODS_3_090_CA_4_evaluation"
          ],
          [
           "FOODS_3_101_WI_1_evaluation"
          ],
          [
           "FOODS_3_118_TX_3_evaluation"
          ],
          [
           "FOODS_3_124_WI_3_evaluation"
          ],
          [
           "FOODS_3_126_CA_1_evaluation"
          ],
          [
           "FOODS_3_128_CA_3_evaluation"
          ],
          [
           "FOODS_3_129_CA_3_evaluation"
          ],
          [
           "FOODS_3_133_TX_3_evaluation"
          ],
          [
           "FOODS_3_154_CA_1_evaluation"
          ],
          [
           "FOODS_3_163_TX_2_evaluation"
          ],
          [
           "FOODS_3_191_CA_2_evaluation"
          ],
          [
           "FOODS_3_202_WI_3_evaluation"
          ],
          [
           "FOODS_3_203_CA_2_evaluation"
          ],
          [
           "FOODS_3_203_TX_2_evaluation"
          ],
          [
           "FOODS_3_214_WI_1_evaluation"
          ],
          [
           "FOODS_3_217_WI_2_evaluation"
          ],
          [
           "FOODS_3_230_CA_1_evaluation"
          ],
          [
           "FOODS_3_281_WI_3_evaluation"
          ],
          [
           "FOODS_3_286_CA_3_evaluation"
          ],
          [
           "FOODS_3_305_WI_2_evaluation"
          ],
          [
           "FOODS_3_316_WI_1_evaluation"
          ],
          [
           "FOODS_3_319_CA_3_evaluation"
          ],
          [
           "FOODS_3_330_TX_2_evaluation"
          ],
          [
           "FOODS_3_339_CA_3_evaluation"
          ],
          [
           "FOODS_3_342_CA_4_evaluation"
          ],
          [
           "FOODS_3_352_CA_4_evaluation"
          ],
          [
           "FOODS_3_355_CA_2_evaluation"
          ],
          [
           "FOODS_3_365_CA_1_evaluation"
          ],
          [
           "FOODS_3_377_WI_2_evaluation"
          ],
          [
           "FOODS_3_386_CA_2_evaluation"
          ],
          [
           "FOODS_3_410_CA_4_evaluation"
          ],
          [
           "FOODS_3_411_TX_3_evaluation"
          ],
          [
           "FOODS_3_418_TX_3_evaluation"
          ],
          [
           "FOODS_3_446_TX_1_evaluation"
          ],
          [
           "FOODS_3_458_WI_3_evaluation"
          ],
          [
           "FOODS_3_459_TX_3_evaluation"
          ],
          [
           "FOODS_3_475_CA_1_evaluation"
          ],
          [
           "FOODS_3_475_WI_2_evaluation"
          ],
          [
           "FOODS_3_480_WI_1_evaluation"
          ],
          [
           "FOODS_3_491_TX_1_evaluation"
          ],
          [
           "FOODS_3_493_WI_3_evaluation"
          ],
          [
           "FOODS_3_498_TX_2_evaluation"
          ],
          [
           "FOODS_3_526_WI_2_evaluation"
          ],
          [
           "FOODS_3_534_TX_2_evaluation"
          ],
          [
           "FOODS_3_540_CA_2_evaluation"
          ],
          [
           "FOODS_3_569_CA_1_evaluation"
          ],
          [
           "FOODS_3_577_CA_1_evaluation"
          ],
          [
           "FOODS_3_591_CA_3_evaluation"
          ],
          [
           "FOODS_3_607_CA_3_evaluation"
          ],
          [
           "FOODS_3_609_CA_3_evaluation"
          ],
          [
           "FOODS_3_628_CA_4_evaluation"
          ],
          [
           "FOODS_3_645_CA_1_evaluation"
          ],
          [
           "FOODS_3_672_CA_4_evaluation"
          ],
          [
           "FOODS_3_675_WI_1_evaluation"
          ],
          [
           "FOODS_3_680_CA_3_evaluation"
          ],
          [
           "FOODS_3_689_CA_3_evaluation"
          ],
          [
           "FOODS_3_695_CA_4_evaluation"
          ],
          [
           "FOODS_3_702_WI_3_evaluation"
          ],
          [
           "FOODS_3_704_CA_1_evaluation"
          ],
          [
           "FOODS_3_721_CA_1_evaluation"
          ],
          [
           "FOODS_3_739_TX_2_evaluation"
          ],
          [
           "FOODS_3_744_TX_2_evaluation"
          ],
          [
           "FOODS_3_764_CA_2_evaluation"
          ],
          [
           "FOODS_3_802_WI_2_evaluation"
          ],
          [
           "FOODS_3_814_CA_3_evaluation"
          ],
          [
           "FOODS_3_819_WI_1_evaluation"
          ],
          [
           "FOODS_3_820_TX_2_evaluation"
          ],
          [
           "HOBBIES_1_004_WI_3_evaluation"
          ],
          [
           "HOBBIES_1_009_CA_3_evaluation"
          ],
          [
           "HOBBIES_1_015_TX_1_evaluation"
          ],
          [
           "HOBBIES_1_017_CA_3_evaluation"
          ],
          [
           "HOBBIES_1_034_TX_2_evaluation"
          ],
          [
           "HOBBIES_1_086_TX_1_evaluation"
          ],
          [
           "HOBBIES_1_087_TX_3_evaluation"
          ],
          [
           "HOBBIES_1_097_CA_4_evaluation"
          ],
          [
           "HOBBIES_1_099_TX_1_evaluation"
          ],
          [
           "HOBBIES_1_147_TX_3_evaluation"
          ],
          [
           "HOBBIES_1_151_CA_3_evaluation"
          ],
          [
           "HOBBIES_1_159_WI_1_evaluation"
          ],
          [
           "HOBBIES_1_169_CA_4_evaluation"
          ],
          [
           "HOBBIES_1_178_WI_1_evaluation"
          ],
          [
           "HOBBIES_1_242_CA_3_evaluation"
          ],
          [
           "HOBBIES_1_298_CA_3_evaluation"
          ],
          [
           "HOBBIES_1_330_CA_3_evaluation"
          ],
          [
           "HOBBIES_1_370_CA_3_evaluation"
          ],
          [
           "HOBBIES_1_371_CA_1_evaluation"
          ],
          [
           "HOBBIES_1_371_CA_4_evaluation"
          ],
          [
           "HOBBIES_1_378_CA_1_evaluation"
          ],
          [
           "HOBBIES_1_387_CA_3_evaluation"
          ],
          [
           "HOUSEHOLD_1_004_CA_1_evaluation"
          ],
          [
           "HOUSEHOLD_1_019_TX_2_evaluation"
          ],
          [
           "HOUSEHOLD_1_021_WI_3_evaluation"
          ],
          [
           "HOUSEHOLD_1_027_TX_3_evaluation"
          ],
          [
           "HOUSEHOLD_1_028_CA_2_evaluation"
          ],
          [
           "HOUSEHOLD_1_038_CA_4_evaluation"
          ],
          [
           "HOUSEHOLD_1_050_CA_1_evaluation"
          ],
          [
           "HOUSEHOLD_1_051_TX_2_evaluation"
          ],
          [
           "HOUSEHOLD_1_055_WI_2_evaluation"
          ],
          [
           "HOUSEHOLD_1_079_CA_1_evaluation"
          ],
          [
           "HOUSEHOLD_1_114_WI_3_evaluation"
          ],
          [
           "HOUSEHOLD_1_127_TX_1_evaluation"
          ],
          [
           "HOUSEHOLD_1_147_WI_1_evaluation"
          ],
          [
           "HOUSEHOLD_1_151_TX_3_evaluation"
          ],
          [
           "HOUSEHOLD_1_168_TX_3_evaluation"
          ],
          [
           "HOUSEHOLD_1_169_WI_3_evaluation"
          ],
          [
           "HOUSEHOLD_1_170_WI_3_evaluation"
          ],
          [
           "HOUSEHOLD_1_179_CA_3_evaluation"
          ],
          [
           "HOUSEHOLD_1_179_TX_3_evaluation"
          ],
          [
           "HOUSEHOLD_1_186_WI_3_evaluation"
          ],
          [
           "HOUSEHOLD_1_188_TX_3_evaluation"
          ],
          [
           "HOUSEHOLD_1_188_WI_2_evaluation"
          ],
          [
           "HOUSEHOLD_1_197_CA_2_evaluation"
          ],
          [
           "HOUSEHOLD_1_235_TX_2_evaluation"
          ],
          [
           "HOUSEHOLD_1_243_CA_2_evaluation"
          ],
          [
           "HOUSEHOLD_1_265_CA_2_evaluation"
          ],
          [
           "HOUSEHOLD_1_292_TX_1_evaluation"
          ],
          [
           "HOUSEHOLD_1_294_WI_1_evaluation"
          ],
          [
           "HOUSEHOLD_1_336_WI_2_evaluation"
          ],
          [
           "HOUSEHOLD_1_338_CA_1_evaluation"
          ],
          [
           "HOUSEHOLD_1_354_TX_3_evaluation"
          ],
          [
           "HOUSEHOLD_1_370_WI_2_evaluation"
          ],
          [
           "HOUSEHOLD_1_387_CA_2_evaluation"
          ],
          [
           "HOUSEHOLD_1_389_CA_3_evaluation"
          ],
          [
           "HOUSEHOLD_1_397_TX_2_evaluation"
          ],
          [
           "HOUSEHOLD_1_397_WI_3_evaluation"
          ],
          [
           "HOUSEHOLD_1_437_WI_2_evaluation"
          ],
          [
           "HOUSEHOLD_1_458_TX_3_evaluation"
          ],
          [
           "HOUSEHOLD_1_459_CA_1_evaluation"
          ],
          [
           "HOUSEHOLD_1_459_WI_1_evaluation"
          ],
          [
           "HOUSEHOLD_1_473_TX_3_evaluation"
          ],
          [
           "HOUSEHOLD_1_478_WI_1_evaluation"
          ],
          [
           "HOUSEHOLD_1_498_TX_1_evaluation"
          ],
          [
           "HOUSEHOLD_1_505_TX_3_evaluation"
          ],
          [
           "HOUSEHOLD_1_522_CA_2_evaluation"
          ],
          [
           "HOUSEHOLD_1_532_TX_1_evaluation"
          ],
          [
           "HOUSEHOLD_1_537_WI_3_evaluation"
          ],
          [
           "HOUSEHOLD_1_538_TX_2_evaluation"
          ],
          [
           "HOUSEHOLD_1_539_TX_2_evaluation"
          ],
          [
           "HOUSEHOLD_2_075_WI_3_evaluation"
          ],
          [
           "HOUSEHOLD_2_118_WI_2_evaluation"
          ],
          [
           "HOUSEHOLD_2_295_CA_3_evaluation"
          ],
          [
           "HOUSEHOLD_2_348_TX_3_evaluation"
          ],
          [
           "HOUSEHOLD_2_355_CA_2_evaluation"
          ],
          [
           "HOUSEHOLD_2_437_TX_3_evaluation"
          ],
          [
           "HOUSEHOLD_2_442_CA_1_evaluation"
          ],
          [
           "HOUSEHOLD_2_510_TX_3_evaluation"
          ]
         ],
         "hovertemplate": "trial=with_date_feat<br>metric=%{x}<br>value=%{y}<br>id=%{customdata[0]}<extra></extra>",
         "legendgroup": "with_date_feat",
         "marker": {
          "color": "#EF553B"
         },
         "name": "with_date_feat",
         "notched": false,
         "offsetgroup": "with_date_feat",
         "orientation": "v",
         "showlegend": true,
         "type": "box",
         "x": [
          "MAE",
          "MAE",
          "MAE",
          "MAE",
          "MAE",
          "MAE",
          "MAE",
          "MAE",
          "MAE",
          "MAE",
          "MAE",
          "MAE",
          "MAE",
          "MAE",
          "MAE",
          "MAE",
          "MAE",
          "MAE",
          "MAE",
          "MAE",
          "MAE",
          "MAE",
          "MAE",
          "MAE",
          "MAE",
          "MAE",
          "MAE",
          "MAE",
          "MAE",
          "MAE",
          "MAE",
          "MAE",
          "MAE",
          "MAE",
          "MAE",
          "MAE",
          "MAE",
          "MAE",
          "MAE",
          "MAE",
          "MAE",
          "MAE",
          "MAE",
          "MAE",
          "MAE",
          "MAE",
          "MAE",
          "MAE",
          "MAE",
          "MAE",
          "MAE",
          "MAE",
          "MAE",
          "MAE",
          "MAE",
          "MAE",
          "MAE",
          "MAE",
          "MAE",
          "MAE",
          "MAE",
          "MAE",
          "MAE",
          "MAE",
          "MAE",
          "MAE",
          "MAE",
          "MAE",
          "MAE",
          "MAE",
          "MAE",
          "MAE",
          "MAE",
          "MAE",
          "MAE",
          "MAE",
          "MAE",
          "MAE",
          "MAE",
          "MAE",
          "MAE",
          "MAE",
          "MAE",
          "MAE",
          "MAE",
          "MAE",
          "MAE",
          "MAE",
          "MAE",
          "MAE",
          "MAE",
          "MAE",
          "MAE",
          "MAE",
          "MAE",
          "MAE",
          "MAE",
          "MAE",
          "MAE",
          "MAE",
          "MAE",
          "MAE",
          "MAE",
          "MAE",
          "MAE",
          "MAE",
          "MAE",
          "MAE",
          "MAE",
          "MAE",
          "MAE",
          "MAE",
          "MAE",
          "MAE",
          "MAE",
          "MAE",
          "MAE",
          "MAE",
          "MAE",
          "MAE",
          "MAE",
          "MAE",
          "MAE",
          "MAE",
          "MAE",
          "MAE",
          "MAE",
          "MAE",
          "MAE",
          "MAE",
          "MAE",
          "MAE",
          "MAE",
          "MAE",
          "MAE",
          "MAE",
          "MAE",
          "MAE",
          "MAE",
          "MAE",
          "MAE",
          "MAE",
          "MAE",
          "MAE",
          "MAE",
          "MAE",
          "MAE",
          "MAE",
          "MAE",
          "MAE",
          "MAE",
          "MAE",
          "MAE",
          "MAE",
          "MAE",
          "MAE",
          "MAE",
          "MAE",
          "MAE",
          "MAE",
          "MAE",
          "MAE",
          "MAE",
          "MAE",
          "MAE",
          "MAE",
          "MAE",
          "MAE",
          "MAE",
          "MAE",
          "MAE",
          "MAE",
          "MAE",
          "MAE",
          "MAE",
          "MAE",
          "MAE",
          "MAE",
          "MAE",
          "MAE",
          "MAE",
          "MAE",
          "MAE",
          "MAE",
          "MAE",
          "MAE",
          "MAE",
          "MAE",
          "MAE",
          "MAE",
          "MAE",
          "MAE",
          "MAE",
          "MAE",
          "MAE",
          "MAE",
          "MAE",
          "MAE",
          "RMSE",
          "RMSE",
          "RMSE",
          "RMSE",
          "RMSE",
          "RMSE",
          "RMSE",
          "RMSE",
          "RMSE",
          "RMSE",
          "RMSE",
          "RMSE",
          "RMSE",
          "RMSE",
          "RMSE",
          "RMSE",
          "RMSE",
          "RMSE",
          "RMSE",
          "RMSE",
          "RMSE",
          "RMSE",
          "RMSE",
          "RMSE",
          "RMSE",
          "RMSE",
          "RMSE",
          "RMSE",
          "RMSE",
          "RMSE",
          "RMSE",
          "RMSE",
          "RMSE",
          "RMSE",
          "RMSE",
          "RMSE",
          "RMSE",
          "RMSE",
          "RMSE",
          "RMSE",
          "RMSE",
          "RMSE",
          "RMSE",
          "RMSE",
          "RMSE",
          "RMSE",
          "RMSE",
          "RMSE",
          "RMSE",
          "RMSE",
          "RMSE",
          "RMSE",
          "RMSE",
          "RMSE",
          "RMSE",
          "RMSE",
          "RMSE",
          "RMSE",
          "RMSE",
          "RMSE",
          "RMSE",
          "RMSE",
          "RMSE",
          "RMSE",
          "RMSE",
          "RMSE",
          "RMSE",
          "RMSE",
          "RMSE",
          "RMSE",
          "RMSE",
          "RMSE",
          "RMSE",
          "RMSE",
          "RMSE",
          "RMSE",
          "RMSE",
          "RMSE",
          "RMSE",
          "RMSE",
          "RMSE",
          "RMSE",
          "RMSE",
          "RMSE",
          "RMSE",
          "RMSE",
          "RMSE",
          "RMSE",
          "RMSE",
          "RMSE",
          "RMSE",
          "RMSE",
          "RMSE",
          "RMSE",
          "RMSE",
          "RMSE",
          "RMSE",
          "RMSE",
          "RMSE",
          "RMSE",
          "RMSE",
          "RMSE",
          "RMSE",
          "RMSE",
          "RMSE",
          "RMSE",
          "RMSE",
          "RMSE",
          "RMSE",
          "RMSE",
          "RMSE",
          "RMSE",
          "RMSE",
          "RMSE",
          "RMSE",
          "RMSE",
          "RMSE",
          "RMSE",
          "RMSE",
          "RMSE",
          "RMSE",
          "RMSE",
          "RMSE",
          "RMSE",
          "RMSE",
          "RMSE",
          "RMSE",
          "RMSE",
          "RMSE",
          "RMSE",
          "RMSE",
          "RMSE",
          "RMSE",
          "RMSE",
          "RMSE",
          "RMSE",
          "RMSE",
          "RMSE",
          "RMSE",
          "RMSE",
          "RMSE",
          "RMSE",
          "RMSE",
          "RMSE",
          "RMSE",
          "RMSE",
          "RMSE",
          "RMSE",
          "RMSE",
          "RMSE",
          "RMSE",
          "RMSE",
          "RMSE",
          "RMSE",
          "RMSE",
          "RMSE",
          "RMSE",
          "RMSE",
          "RMSE",
          "RMSE",
          "RMSE",
          "RMSE",
          "RMSE",
          "RMSE",
          "RMSE",
          "RMSE",
          "RMSE",
          "RMSE",
          "RMSE",
          "RMSE",
          "RMSE",
          "RMSE",
          "RMSE",
          "RMSE",
          "RMSE",
          "RMSE",
          "RMSE",
          "RMSE",
          "RMSE",
          "RMSE",
          "RMSE",
          "RMSE",
          "RMSE",
          "RMSE",
          "RMSE",
          "RMSE",
          "RMSE",
          "RMSE",
          "RMSE",
          "RMSE",
          "RMSE",
          "RMSE",
          "RMSE",
          "RMSE",
          "RMSE",
          "RMSE",
          "RMSE",
          "RMSE",
          "R2",
          "R2",
          "R2",
          "R2",
          "R2",
          "R2",
          "R2",
          "R2",
          "R2",
          "R2",
          "R2",
          "R2",
          "R2",
          "R2",
          "R2",
          "R2",
          "R2",
          "R2",
          "R2",
          "R2",
          "R2",
          "R2",
          "R2",
          "R2",
          "R2",
          "R2",
          "R2",
          "R2",
          "R2",
          "R2",
          "R2",
          "R2",
          "R2",
          "R2",
          "R2",
          "R2",
          "R2",
          "R2",
          "R2",
          "R2",
          "R2",
          "R2",
          "R2",
          "R2",
          "R2",
          "R2",
          "R2",
          "R2",
          "R2",
          "R2",
          "R2",
          "R2",
          "R2",
          "R2",
          "R2",
          "R2",
          "R2",
          "R2",
          "R2",
          "R2",
          "R2",
          "R2",
          "R2",
          "R2",
          "R2",
          "R2",
          "R2",
          "R2",
          "R2",
          "R2",
          "R2",
          "R2",
          "R2",
          "R2",
          "R2",
          "R2",
          "R2",
          "R2",
          "R2",
          "R2",
          "R2",
          "R2",
          "R2",
          "R2",
          "R2",
          "R2",
          "R2",
          "R2",
          "R2",
          "R2",
          "R2",
          "R2",
          "R2",
          "R2",
          "R2",
          "R2",
          "R2",
          "R2",
          "R2",
          "R2",
          "R2",
          "R2",
          "R2",
          "R2",
          "R2",
          "R2",
          "R2",
          "R2",
          "R2",
          "R2",
          "R2",
          "R2",
          "R2",
          "R2",
          "R2",
          "R2",
          "R2",
          "R2",
          "R2",
          "R2",
          "R2",
          "R2",
          "R2",
          "R2",
          "R2",
          "R2",
          "R2",
          "R2",
          "R2",
          "R2",
          "R2",
          "R2",
          "R2",
          "R2",
          "R2",
          "R2",
          "R2",
          "R2",
          "R2",
          "R2",
          "R2",
          "R2",
          "R2",
          "R2",
          "R2",
          "R2",
          "R2",
          "R2",
          "R2",
          "R2",
          "R2",
          "R2",
          "R2",
          "R2",
          "R2",
          "R2",
          "R2",
          "R2",
          "R2",
          "R2",
          "R2",
          "R2",
          "R2",
          "R2",
          "R2",
          "R2",
          "R2",
          "R2",
          "R2",
          "R2",
          "R2",
          "R2",
          "R2",
          "R2",
          "R2",
          "R2",
          "R2",
          "R2",
          "R2",
          "R2",
          "R2",
          "R2",
          "R2",
          "R2",
          "R2",
          "R2",
          "R2",
          "R2",
          "R2",
          "R2",
          "R2",
          "R2",
          "R2",
          "R2",
          "R2",
          "R2",
          "R2",
          "R2"
         ],
         "x0": " ",
         "xaxis": "x",
         "y": {
          "bdata": "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",
          "dtype": "f8"
         },
         "y0": " ",
         "yaxis": "y"
        },
        {
         "alignmentgroup": "True",
         "boxpoints": "all",
         "customdata": [
          [
           "FOODS_1_005_WI_1_evaluation"
          ],
          [
           "FOODS_1_044_CA_3_evaluation"
          ],
          [
           "FOODS_1_048_CA_3_evaluation"
          ],
          [
           "FOODS_1_061_TX_3_evaluation"
          ],
          [
           "FOODS_1_067_CA_3_evaluation"
          ],
          [
           "FOODS_1_069_CA_2_evaluation"
          ],
          [
           "FOODS_1_106_CA_3_evaluation"
          ],
          [
           "FOODS_1_123_CA_3_evaluation"
          ],
          [
           "FOODS_1_127_CA_1_evaluation"
          ],
          [
           "FOODS_1_129_WI_2_evaluation"
          ],
          [
           "FOODS_1_137_WI_3_evaluation"
          ],
          [
           "FOODS_1_140_CA_3_evaluation"
          ],
          [
           "FOODS_1_144_CA_2_evaluation"
          ],
          [
           "FOODS_1_170_WI_1_evaluation"
          ],
          [
           "FOODS_1_195_CA_1_evaluation"
          ],
          [
           "FOODS_1_214_CA_1_evaluation"
          ],
          [
           "FOODS_2_002_WI_3_evaluation"
          ],
          [
           "FOODS_2_013_CA_3_evaluation"
          ],
          [
           "FOODS_2_026_CA_4_evaluation"
          ],
          [
           "FOODS_2_044_CA_1_evaluation"
          ],
          [
           "FOODS_2_044_CA_3_evaluation"
          ],
          [
           "FOODS_2_056_CA_3_evaluation"
          ],
          [
           "FOODS_2_074_CA_2_evaluation"
          ],
          [
           "FOODS_2_081_CA_1_evaluation"
          ],
          [
           "FOODS_2_082_CA_4_evaluation"
          ],
          [
           "FOODS_2_088_WI_3_evaluation"
          ],
          [
           "FOODS_2_093_TX_1_evaluation"
          ],
          [
           "FOODS_2_119_CA_1_evaluation"
          ],
          [
           "FOODS_2_151_WI_1_evaluation"
          ],
          [
           "FOODS_2_152_TX_3_evaluation"
          ],
          [
           "FOODS_2_166_WI_3_evaluation"
          ],
          [
           "FOODS_2_225_CA_1_evaluation"
          ],
          [
           "FOODS_2_242_WI_2_evaluation"
          ],
          [
           "FOODS_2_245_TX_3_evaluation"
          ],
          [
           "FOODS_2_247_CA_4_evaluation"
          ],
          [
           "FOODS_2_262_WI_3_evaluation"
          ],
          [
           "FOODS_2_272_WI_3_evaluation"
          ],
          [
           "FOODS_2_342_TX_1_evaluation"
          ],
          [
           "FOODS_2_347_CA_4_evaluation"
          ],
          [
           "FOODS_2_360_CA_4_evaluation"
          ],
          [
           "FOODS_2_361_WI_2_evaluation"
          ],
          [
           "FOODS_2_375_CA_3_evaluation"
          ],
          [
           "FOODS_2_383_WI_2_evaluation"
          ],
          [
           "FOODS_3_007_CA_4_evaluation"
          ],
          [
           "FOODS_3_007_TX_2_evaluation"
          ],
          [
           "FOODS_3_021_TX_1_evaluation"
          ],
          [
           "FOODS_3_029_CA_3_evaluation"
          ],
          [
           "FOODS_3_029_TX_3_evaluation"
          ],
          [
           "FOODS_3_035_CA_4_evaluation"
          ],
          [
           "FOODS_3_067_TX_2_evaluation"
          ],
          [
           "FOODS_3_071_CA_4_evaluation"
          ],
          [
           "FOODS_3_078_CA_3_evaluation"
          ],
          [
           "FOODS_3_090_CA_4_evaluation"
          ],
          [
           "FOODS_3_101_WI_1_evaluation"
          ],
          [
           "FOODS_3_118_TX_3_evaluation"
          ],
          [
           "FOODS_3_124_WI_3_evaluation"
          ],
          [
           "FOODS_3_126_CA_1_evaluation"
          ],
          [
           "FOODS_3_128_CA_3_evaluation"
          ],
          [
           "FOODS_3_129_CA_3_evaluation"
          ],
          [
           "FOODS_3_133_TX_3_evaluation"
          ],
          [
           "FOODS_3_154_CA_1_evaluation"
          ],
          [
           "FOODS_3_163_TX_2_evaluation"
          ],
          [
           "FOODS_3_191_CA_2_evaluation"
          ],
          [
           "FOODS_3_202_WI_3_evaluation"
          ],
          [
           "FOODS_3_203_CA_2_evaluation"
          ],
          [
           "FOODS_3_203_TX_2_evaluation"
          ],
          [
           "FOODS_3_214_WI_1_evaluation"
          ],
          [
           "FOODS_3_217_WI_2_evaluation"
          ],
          [
           "FOODS_3_230_CA_1_evaluation"
          ],
          [
           "FOODS_3_281_WI_3_evaluation"
          ],
          [
           "FOODS_3_286_CA_3_evaluation"
          ],
          [
           "FOODS_3_305_WI_2_evaluation"
          ],
          [
           "FOODS_3_316_WI_1_evaluation"
          ],
          [
           "FOODS_3_319_CA_3_evaluation"
          ],
          [
           "FOODS_3_330_TX_2_evaluation"
          ],
          [
           "FOODS_3_339_CA_3_evaluation"
          ],
          [
           "FOODS_3_342_CA_4_evaluation"
          ],
          [
           "FOODS_3_352_CA_4_evaluation"
          ],
          [
           "FOODS_3_355_CA_2_evaluation"
          ],
          [
           "FOODS_3_365_CA_1_evaluation"
          ],
          [
           "FOODS_3_377_WI_2_evaluation"
          ],
          [
           "FOODS_3_386_CA_2_evaluation"
          ],
          [
           "FOODS_3_410_CA_4_evaluation"
          ],
          [
           "FOODS_3_411_TX_3_evaluation"
          ],
          [
           "FOODS_3_418_TX_3_evaluation"
          ],
          [
           "FOODS_3_446_TX_1_evaluation"
          ],
          [
           "FOODS_3_458_WI_3_evaluation"
          ],
          [
           "FOODS_3_459_TX_3_evaluation"
          ],
          [
           "FOODS_3_475_CA_1_evaluation"
          ],
          [
           "FOODS_3_475_WI_2_evaluation"
          ],
          [
           "FOODS_3_480_WI_1_evaluation"
          ],
          [
           "FOODS_3_491_TX_1_evaluation"
          ],
          [
           "FOODS_3_493_WI_3_evaluation"
          ],
          [
           "FOODS_3_498_TX_2_evaluation"
          ],
          [
           "FOODS_3_526_WI_2_evaluation"
          ],
          [
           "FOODS_3_534_TX_2_evaluation"
          ],
          [
           "FOODS_3_540_CA_2_evaluation"
          ],
          [
           "FOODS_3_569_CA_1_evaluation"
          ],
          [
           "FOODS_3_577_CA_1_evaluation"
          ],
          [
           "FOODS_3_591_CA_3_evaluation"
          ],
          [
           "FOODS_3_607_CA_3_evaluation"
          ],
          [
           "FOODS_3_609_CA_3_evaluation"
          ],
          [
           "FOODS_3_628_CA_4_evaluation"
          ],
          [
           "FOODS_3_645_CA_1_evaluation"
          ],
          [
           "FOODS_3_672_CA_4_evaluation"
          ],
          [
           "FOODS_3_675_WI_1_evaluation"
          ],
          [
           "FOODS_3_680_CA_3_evaluation"
          ],
          [
           "FOODS_3_689_CA_3_evaluation"
          ],
          [
           "FOODS_3_695_CA_4_evaluation"
          ],
          [
           "FOODS_3_702_WI_3_evaluation"
          ],
          [
           "FOODS_3_704_CA_1_evaluation"
          ],
          [
           "FOODS_3_721_CA_1_evaluation"
          ],
          [
           "FOODS_3_739_TX_2_evaluation"
          ],
          [
           "FOODS_3_744_TX_2_evaluation"
          ],
          [
           "FOODS_3_764_CA_2_evaluation"
          ],
          [
           "FOODS_3_802_WI_2_evaluation"
          ],
          [
           "FOODS_3_814_CA_3_evaluation"
          ],
          [
           "FOODS_3_819_WI_1_evaluation"
          ],
          [
           "FOODS_3_820_TX_2_evaluation"
          ],
          [
           "HOBBIES_1_004_WI_3_evaluation"
          ],
          [
           "HOBBIES_1_009_CA_3_evaluation"
          ],
          [
           "HOBBIES_1_015_TX_1_evaluation"
          ],
          [
           "HOBBIES_1_017_CA_3_evaluation"
          ],
          [
           "HOBBIES_1_034_TX_2_evaluation"
          ],
          [
           "HOBBIES_1_086_TX_1_evaluation"
          ],
          [
           "HOBBIES_1_087_TX_3_evaluation"
          ],
          [
           "HOBBIES_1_097_CA_4_evaluation"
          ],
          [
           "HOBBIES_1_099_TX_1_evaluation"
          ],
          [
           "HOBBIES_1_147_TX_3_evaluation"
          ],
          [
           "HOBBIES_1_151_CA_3_evaluation"
          ],
          [
           "HOBBIES_1_159_WI_1_evaluation"
          ],
          [
           "HOBBIES_1_169_CA_4_evaluation"
          ],
          [
           "HOBBIES_1_178_WI_1_evaluation"
          ],
          [
           "HOBBIES_1_242_CA_3_evaluation"
          ],
          [
           "HOBBIES_1_298_CA_3_evaluation"
          ],
          [
           "HOBBIES_1_330_CA_3_evaluation"
          ],
          [
           "HOBBIES_1_370_CA_3_evaluation"
          ],
          [
           "HOBBIES_1_371_CA_1_evaluation"
          ],
          [
           "HOBBIES_1_371_CA_4_evaluation"
          ],
          [
           "HOBBIES_1_378_CA_1_evaluation"
          ],
          [
           "HOBBIES_1_387_CA_3_evaluation"
          ],
          [
           "HOUSEHOLD_1_004_CA_1_evaluation"
          ],
          [
           "HOUSEHOLD_1_019_TX_2_evaluation"
          ],
          [
           "HOUSEHOLD_1_021_WI_3_evaluation"
          ],
          [
           "HOUSEHOLD_1_027_TX_3_evaluation"
          ],
          [
           "HOUSEHOLD_1_028_CA_2_evaluation"
          ],
          [
           "HOUSEHOLD_1_038_CA_4_evaluation"
          ],
          [
           "HOUSEHOLD_1_050_CA_1_evaluation"
          ],
          [
           "HOUSEHOLD_1_051_TX_2_evaluation"
          ],
          [
           "HOUSEHOLD_1_055_WI_2_evaluation"
          ],
          [
           "HOUSEHOLD_1_079_CA_1_evaluation"
          ],
          [
           "HOUSEHOLD_1_114_WI_3_evaluation"
          ],
          [
           "HOUSEHOLD_1_127_TX_1_evaluation"
          ],
          [
           "HOUSEHOLD_1_147_WI_1_evaluation"
          ],
          [
           "HOUSEHOLD_1_151_TX_3_evaluation"
          ],
          [
           "HOUSEHOLD_1_168_TX_3_evaluation"
          ],
          [
           "HOUSEHOLD_1_169_WI_3_evaluation"
          ],
          [
           "HOUSEHOLD_1_170_WI_3_evaluation"
          ],
          [
           "HOUSEHOLD_1_179_CA_3_evaluation"
          ],
          [
           "HOUSEHOLD_1_179_TX_3_evaluation"
          ],
          [
           "HOUSEHOLD_1_186_WI_3_evaluation"
          ],
          [
           "HOUSEHOLD_1_188_TX_3_evaluation"
          ],
          [
           "HOUSEHOLD_1_188_WI_2_evaluation"
          ],
          [
           "HOUSEHOLD_1_197_CA_2_evaluation"
          ],
          [
           "HOUSEHOLD_1_235_TX_2_evaluation"
          ],
          [
           "HOUSEHOLD_1_243_CA_2_evaluation"
          ],
          [
           "HOUSEHOLD_1_265_CA_2_evaluation"
          ],
          [
           "HOUSEHOLD_1_292_TX_1_evaluation"
          ],
          [
           "HOUSEHOLD_1_294_WI_1_evaluation"
          ],
          [
           "HOUSEHOLD_1_336_WI_2_evaluation"
          ],
          [
           "HOUSEHOLD_1_338_CA_1_evaluation"
          ],
          [
           "HOUSEHOLD_1_354_TX_3_evaluation"
          ],
          [
           "HOUSEHOLD_1_370_WI_2_evaluation"
          ],
          [
           "HOUSEHOLD_1_387_CA_2_evaluation"
          ],
          [
           "HOUSEHOLD_1_389_CA_3_evaluation"
          ],
          [
           "HOUSEHOLD_1_397_TX_2_evaluation"
          ],
          [
           "HOUSEHOLD_1_397_WI_3_evaluation"
          ],
          [
           "HOUSEHOLD_1_437_WI_2_evaluation"
          ],
          [
           "HOUSEHOLD_1_458_TX_3_evaluation"
          ],
          [
           "HOUSEHOLD_1_459_CA_1_evaluation"
          ],
          [
           "HOUSEHOLD_1_459_WI_1_evaluation"
          ],
          [
           "HOUSEHOLD_1_473_TX_3_evaluation"
          ],
          [
           "HOUSEHOLD_1_478_WI_1_evaluation"
          ],
          [
           "HOUSEHOLD_1_498_TX_1_evaluation"
          ],
          [
           "HOUSEHOLD_1_505_TX_3_evaluation"
          ],
          [
           "HOUSEHOLD_1_522_CA_2_evaluation"
          ],
          [
           "HOUSEHOLD_1_532_TX_1_evaluation"
          ],
          [
           "HOUSEHOLD_1_537_WI_3_evaluation"
          ],
          [
           "HOUSEHOLD_1_538_TX_2_evaluation"
          ],
          [
           "HOUSEHOLD_1_539_TX_2_evaluation"
          ],
          [
           "HOUSEHOLD_2_075_WI_3_evaluation"
          ],
          [
           "HOUSEHOLD_2_118_WI_2_evaluation"
          ],
          [
           "HOUSEHOLD_2_295_CA_3_evaluation"
          ],
          [
           "HOUSEHOLD_2_348_TX_3_evaluation"
          ],
          [
           "HOUSEHOLD_2_355_CA_2_evaluation"
          ],
          [
           "HOUSEHOLD_2_437_TX_3_evaluation"
          ],
          [
           "HOUSEHOLD_2_442_CA_1_evaluation"
          ],
          [
           "HOUSEHOLD_2_510_TX_3_evaluation"
          ],
          [
           "FOODS_1_005_WI_1_evaluation"
          ],
          [
           "FOODS_1_044_CA_3_evaluation"
          ],
          [
           "FOODS_1_048_CA_3_evaluation"
          ],
          [
           "FOODS_1_061_TX_3_evaluation"
          ],
          [
           "FOODS_1_067_CA_3_evaluation"
          ],
          [
           "FOODS_1_069_CA_2_evaluation"
          ],
          [
           "FOODS_1_106_CA_3_evaluation"
          ],
          [
           "FOODS_1_123_CA_3_evaluation"
          ],
          [
           "FOODS_1_127_CA_1_evaluation"
          ],
          [
           "FOODS_1_129_WI_2_evaluation"
          ],
          [
           "FOODS_1_137_WI_3_evaluation"
          ],
          [
           "FOODS_1_140_CA_3_evaluation"
          ],
          [
           "FOODS_1_144_CA_2_evaluation"
          ],
          [
           "FOODS_1_170_WI_1_evaluation"
          ],
          [
           "FOODS_1_195_CA_1_evaluation"
          ],
          [
           "FOODS_1_214_CA_1_evaluation"
          ],
          [
           "FOODS_2_002_WI_3_evaluation"
          ],
          [
           "FOODS_2_013_CA_3_evaluation"
          ],
          [
           "FOODS_2_026_CA_4_evaluation"
          ],
          [
           "FOODS_2_044_CA_1_evaluation"
          ],
          [
           "FOODS_2_044_CA_3_evaluation"
          ],
          [
           "FOODS_2_056_CA_3_evaluation"
          ],
          [
           "FOODS_2_074_CA_2_evaluation"
          ],
          [
           "FOODS_2_081_CA_1_evaluation"
          ],
          [
           "FOODS_2_082_CA_4_evaluation"
          ],
          [
           "FOODS_2_088_WI_3_evaluation"
          ],
          [
           "FOODS_2_093_TX_1_evaluation"
          ],
          [
           "FOODS_2_119_CA_1_evaluation"
          ],
          [
           "FOODS_2_151_WI_1_evaluation"
          ],
          [
           "FOODS_2_152_TX_3_evaluation"
          ],
          [
           "FOODS_2_166_WI_3_evaluation"
          ],
          [
           "FOODS_2_225_CA_1_evaluation"
          ],
          [
           "FOODS_2_242_WI_2_evaluation"
          ],
          [
           "FOODS_2_245_TX_3_evaluation"
          ],
          [
           "FOODS_2_247_CA_4_evaluation"
          ],
          [
           "FOODS_2_262_WI_3_evaluation"
          ],
          [
           "FOODS_2_272_WI_3_evaluation"
          ],
          [
           "FOODS_2_342_TX_1_evaluation"
          ],
          [
           "FOODS_2_347_CA_4_evaluation"
          ],
          [
           "FOODS_2_360_CA_4_evaluation"
          ],
          [
           "FOODS_2_361_WI_2_evaluation"
          ],
          [
           "FOODS_2_375_CA_3_evaluation"
          ],
          [
           "FOODS_2_383_WI_2_evaluation"
          ],
          [
           "FOODS_3_007_CA_4_evaluation"
          ],
          [
           "FOODS_3_007_TX_2_evaluation"
          ],
          [
           "FOODS_3_021_TX_1_evaluation"
          ],
          [
           "FOODS_3_029_CA_3_evaluation"
          ],
          [
           "FOODS_3_029_TX_3_evaluation"
          ],
          [
           "FOODS_3_035_CA_4_evaluation"
          ],
          [
           "FOODS_3_067_TX_2_evaluation"
          ],
          [
           "FOODS_3_071_CA_4_evaluation"
          ],
          [
           "FOODS_3_078_CA_3_evaluation"
          ],
          [
           "FOODS_3_090_CA_4_evaluation"
          ],
          [
           "FOODS_3_101_WI_1_evaluation"
          ],
          [
           "FOODS_3_118_TX_3_evaluation"
          ],
          [
           "FOODS_3_124_WI_3_evaluation"
          ],
          [
           "FOODS_3_126_CA_1_evaluation"
          ],
          [
           "FOODS_3_128_CA_3_evaluation"
          ],
          [
           "FOODS_3_129_CA_3_evaluation"
          ],
          [
           "FOODS_3_133_TX_3_evaluation"
          ],
          [
           "FOODS_3_154_CA_1_evaluation"
          ],
          [
           "FOODS_3_163_TX_2_evaluation"
          ],
          [
           "FOODS_3_191_CA_2_evaluation"
          ],
          [
           "FOODS_3_202_WI_3_evaluation"
          ],
          [
           "FOODS_3_203_CA_2_evaluation"
          ],
          [
           "FOODS_3_203_TX_2_evaluation"
          ],
          [
           "FOODS_3_214_WI_1_evaluation"
          ],
          [
           "FOODS_3_217_WI_2_evaluation"
          ],
          [
           "FOODS_3_230_CA_1_evaluation"
          ],
          [
           "FOODS_3_281_WI_3_evaluation"
          ],
          [
           "FOODS_3_286_CA_3_evaluation"
          ],
          [
           "FOODS_3_305_WI_2_evaluation"
          ],
          [
           "FOODS_3_316_WI_1_evaluation"
          ],
          [
           "FOODS_3_319_CA_3_evaluation"
          ],
          [
           "FOODS_3_330_TX_2_evaluation"
          ],
          [
           "FOODS_3_339_CA_3_evaluation"
          ],
          [
           "FOODS_3_342_CA_4_evaluation"
          ],
          [
           "FOODS_3_352_CA_4_evaluation"
          ],
          [
           "FOODS_3_355_CA_2_evaluation"
          ],
          [
           "FOODS_3_365_CA_1_evaluation"
          ],
          [
           "FOODS_3_377_WI_2_evaluation"
          ],
          [
           "FOODS_3_386_CA_2_evaluation"
          ],
          [
           "FOODS_3_410_CA_4_evaluation"
          ],
          [
           "FOODS_3_411_TX_3_evaluation"
          ],
          [
           "FOODS_3_418_TX_3_evaluation"
          ],
          [
           "FOODS_3_446_TX_1_evaluation"
          ],
          [
           "FOODS_3_458_WI_3_evaluation"
          ],
          [
           "FOODS_3_459_TX_3_evaluation"
          ],
          [
           "FOODS_3_475_CA_1_evaluation"
          ],
          [
           "FOODS_3_475_WI_2_evaluation"
          ],
          [
           "FOODS_3_480_WI_1_evaluation"
          ],
          [
           "FOODS_3_491_TX_1_evaluation"
          ],
          [
           "FOODS_3_493_WI_3_evaluation"
          ],
          [
           "FOODS_3_498_TX_2_evaluation"
          ],
          [
           "FOODS_3_526_WI_2_evaluation"
          ],
          [
           "FOODS_3_534_TX_2_evaluation"
          ],
          [
           "FOODS_3_540_CA_2_evaluation"
          ],
          [
           "FOODS_3_569_CA_1_evaluation"
          ],
          [
           "FOODS_3_577_CA_1_evaluation"
          ],
          [
           "FOODS_3_591_CA_3_evaluation"
          ],
          [
           "FOODS_3_607_CA_3_evaluation"
          ],
          [
           "FOODS_3_609_CA_3_evaluation"
          ],
          [
           "FOODS_3_628_CA_4_evaluation"
          ],
          [
           "FOODS_3_645_CA_1_evaluation"
          ],
          [
           "FOODS_3_672_CA_4_evaluation"
          ],
          [
           "FOODS_3_675_WI_1_evaluation"
          ],
          [
           "FOODS_3_680_CA_3_evaluation"
          ],
          [
           "FOODS_3_689_CA_3_evaluation"
          ],
          [
           "FOODS_3_695_CA_4_evaluation"
          ],
          [
           "FOODS_3_702_WI_3_evaluation"
          ],
          [
           "FOODS_3_704_CA_1_evaluation"
          ],
          [
           "FOODS_3_721_CA_1_evaluation"
          ],
          [
           "FOODS_3_739_TX_2_evaluation"
          ],
          [
           "FOODS_3_744_TX_2_evaluation"
          ],
          [
           "FOODS_3_764_CA_2_evaluation"
          ],
          [
           "FOODS_3_802_WI_2_evaluation"
          ],
          [
           "FOODS_3_814_CA_3_evaluation"
          ],
          [
           "FOODS_3_819_WI_1_evaluation"
          ],
          [
           "FOODS_3_820_TX_2_evaluation"
          ],
          [
           "HOBBIES_1_004_WI_3_evaluation"
          ],
          [
           "HOBBIES_1_009_CA_3_evaluation"
          ],
          [
           "HOBBIES_1_015_TX_1_evaluation"
          ],
          [
           "HOBBIES_1_017_CA_3_evaluation"
          ],
          [
           "HOBBIES_1_034_TX_2_evaluation"
          ],
          [
           "HOBBIES_1_086_TX_1_evaluation"
          ],
          [
           "HOBBIES_1_087_TX_3_evaluation"
          ],
          [
           "HOBBIES_1_097_CA_4_evaluation"
          ],
          [
           "HOBBIES_1_099_TX_1_evaluation"
          ],
          [
           "HOBBIES_1_147_TX_3_evaluation"
          ],
          [
           "HOBBIES_1_151_CA_3_evaluation"
          ],
          [
           "HOBBIES_1_159_WI_1_evaluation"
          ],
          [
           "HOBBIES_1_169_CA_4_evaluation"
          ],
          [
           "HOBBIES_1_178_WI_1_evaluation"
          ],
          [
           "HOBBIES_1_242_CA_3_evaluation"
          ],
          [
           "HOBBIES_1_298_CA_3_evaluation"
          ],
          [
           "HOBBIES_1_330_CA_3_evaluation"
          ],
          [
           "HOBBIES_1_370_CA_3_evaluation"
          ],
          [
           "HOBBIES_1_371_CA_1_evaluation"
          ],
          [
           "HOBBIES_1_371_CA_4_evaluation"
          ],
          [
           "HOBBIES_1_378_CA_1_evaluation"
          ],
          [
           "HOBBIES_1_387_CA_3_evaluation"
          ],
          [
           "HOUSEHOLD_1_004_CA_1_evaluation"
          ],
          [
           "HOUSEHOLD_1_019_TX_2_evaluation"
          ],
          [
           "HOUSEHOLD_1_021_WI_3_evaluation"
          ],
          [
           "HOUSEHOLD_1_027_TX_3_evaluation"
          ],
          [
           "HOUSEHOLD_1_028_CA_2_evaluation"
          ],
          [
           "HOUSEHOLD_1_038_CA_4_evaluation"
          ],
          [
           "HOUSEHOLD_1_050_CA_1_evaluation"
          ],
          [
           "HOUSEHOLD_1_051_TX_2_evaluation"
          ],
          [
           "HOUSEHOLD_1_055_WI_2_evaluation"
          ],
          [
           "HOUSEHOLD_1_079_CA_1_evaluation"
          ],
          [
           "HOUSEHOLD_1_114_WI_3_evaluation"
          ],
          [
           "HOUSEHOLD_1_127_TX_1_evaluation"
          ],
          [
           "HOUSEHOLD_1_147_WI_1_evaluation"
          ],
          [
           "HOUSEHOLD_1_151_TX_3_evaluation"
          ],
          [
           "HOUSEHOLD_1_168_TX_3_evaluation"
          ],
          [
           "HOUSEHOLD_1_169_WI_3_evaluation"
          ],
          [
           "HOUSEHOLD_1_170_WI_3_evaluation"
          ],
          [
           "HOUSEHOLD_1_179_CA_3_evaluation"
          ],
          [
           "HOUSEHOLD_1_179_TX_3_evaluation"
          ],
          [
           "HOUSEHOLD_1_186_WI_3_evaluation"
          ],
          [
           "HOUSEHOLD_1_188_TX_3_evaluation"
          ],
          [
           "HOUSEHOLD_1_188_WI_2_evaluation"
          ],
          [
           "HOUSEHOLD_1_197_CA_2_evaluation"
          ],
          [
           "HOUSEHOLD_1_235_TX_2_evaluation"
          ],
          [
           "HOUSEHOLD_1_243_CA_2_evaluation"
          ],
          [
           "HOUSEHOLD_1_265_CA_2_evaluation"
          ],
          [
           "HOUSEHOLD_1_292_TX_1_evaluation"
          ],
          [
           "HOUSEHOLD_1_294_WI_1_evaluation"
          ],
          [
           "HOUSEHOLD_1_336_WI_2_evaluation"
          ],
          [
           "HOUSEHOLD_1_338_CA_1_evaluation"
          ],
          [
           "HOUSEHOLD_1_354_TX_3_evaluation"
          ],
          [
           "HOUSEHOLD_1_370_WI_2_evaluation"
          ],
          [
           "HOUSEHOLD_1_387_CA_2_evaluation"
          ],
          [
           "HOUSEHOLD_1_389_CA_3_evaluation"
          ],
          [
           "HOUSEHOLD_1_397_TX_2_evaluation"
          ],
          [
           "HOUSEHOLD_1_397_WI_3_evaluation"
          ],
          [
           "HOUSEHOLD_1_437_WI_2_evaluation"
          ],
          [
           "HOUSEHOLD_1_458_TX_3_evaluation"
          ],
          [
           "HOUSEHOLD_1_459_CA_1_evaluation"
          ],
          [
           "HOUSEHOLD_1_459_WI_1_evaluation"
          ],
          [
           "HOUSEHOLD_1_473_TX_3_evaluation"
          ],
          [
           "HOUSEHOLD_1_478_WI_1_evaluation"
          ],
          [
           "HOUSEHOLD_1_498_TX_1_evaluation"
          ],
          [
           "HOUSEHOLD_1_505_TX_3_evaluation"
          ],
          [
           "HOUSEHOLD_1_522_CA_2_evaluation"
          ],
          [
           "HOUSEHOLD_1_532_TX_1_evaluation"
          ],
          [
           "HOUSEHOLD_1_537_WI_3_evaluation"
          ],
          [
           "HOUSEHOLD_1_538_TX_2_evaluation"
          ],
          [
           "HOUSEHOLD_1_539_TX_2_evaluation"
          ],
          [
           "HOUSEHOLD_2_075_WI_3_evaluation"
          ],
          [
           "HOUSEHOLD_2_118_WI_2_evaluation"
          ],
          [
           "HOUSEHOLD_2_295_CA_3_evaluation"
          ],
          [
           "HOUSEHOLD_2_348_TX_3_evaluation"
          ],
          [
           "HOUSEHOLD_2_355_CA_2_evaluation"
          ],
          [
           "HOUSEHOLD_2_437_TX_3_evaluation"
          ],
          [
           "HOUSEHOLD_2_442_CA_1_evaluation"
          ],
          [
           "HOUSEHOLD_2_510_TX_3_evaluation"
          ],
          [
           "FOODS_1_005_WI_1_evaluation"
          ],
          [
           "FOODS_1_044_CA_3_evaluation"
          ],
          [
           "FOODS_1_048_CA_3_evaluation"
          ],
          [
           "FOODS_1_061_TX_3_evaluation"
          ],
          [
           "FOODS_1_067_CA_3_evaluation"
          ],
          [
           "FOODS_1_069_CA_2_evaluation"
          ],
          [
           "FOODS_1_106_CA_3_evaluation"
          ],
          [
           "FOODS_1_123_CA_3_evaluation"
          ],
          [
           "FOODS_1_127_CA_1_evaluation"
          ],
          [
           "FOODS_1_129_WI_2_evaluation"
          ],
          [
           "FOODS_1_137_WI_3_evaluation"
          ],
          [
           "FOODS_1_140_CA_3_evaluation"
          ],
          [
           "FOODS_1_144_CA_2_evaluation"
          ],
          [
           "FOODS_1_170_WI_1_evaluation"
          ],
          [
           "FOODS_1_195_CA_1_evaluation"
          ],
          [
           "FOODS_1_214_CA_1_evaluation"
          ],
          [
           "FOODS_2_002_WI_3_evaluation"
          ],
          [
           "FOODS_2_013_CA_3_evaluation"
          ],
          [
           "FOODS_2_026_CA_4_evaluation"
          ],
          [
           "FOODS_2_044_CA_1_evaluation"
          ],
          [
           "FOODS_2_044_CA_3_evaluation"
          ],
          [
           "FOODS_2_056_CA_3_evaluation"
          ],
          [
           "FOODS_2_074_CA_2_evaluation"
          ],
          [
           "FOODS_2_081_CA_1_evaluation"
          ],
          [
           "FOODS_2_082_CA_4_evaluation"
          ],
          [
           "FOODS_2_088_WI_3_evaluation"
          ],
          [
           "FOODS_2_093_TX_1_evaluation"
          ],
          [
           "FOODS_2_119_CA_1_evaluation"
          ],
          [
           "FOODS_2_151_WI_1_evaluation"
          ],
          [
           "FOODS_2_152_TX_3_evaluation"
          ],
          [
           "FOODS_2_166_WI_3_evaluation"
          ],
          [
           "FOODS_2_225_CA_1_evaluation"
          ],
          [
           "FOODS_2_242_WI_2_evaluation"
          ],
          [
           "FOODS_2_245_TX_3_evaluation"
          ],
          [
           "FOODS_2_247_CA_4_evaluation"
          ],
          [
           "FOODS_2_262_WI_3_evaluation"
          ],
          [
           "FOODS_2_272_WI_3_evaluation"
          ],
          [
           "FOODS_2_342_TX_1_evaluation"
          ],
          [
           "FOODS_2_347_CA_4_evaluation"
          ],
          [
           "FOODS_2_360_CA_4_evaluation"
          ],
          [
           "FOODS_2_361_WI_2_evaluation"
          ],
          [
           "FOODS_2_375_CA_3_evaluation"
          ],
          [
           "FOODS_2_383_WI_2_evaluation"
          ],
          [
           "FOODS_3_007_CA_4_evaluation"
          ],
          [
           "FOODS_3_007_TX_2_evaluation"
          ],
          [
           "FOODS_3_021_TX_1_evaluation"
          ],
          [
           "FOODS_3_029_CA_3_evaluation"
          ],
          [
           "FOODS_3_029_TX_3_evaluation"
          ],
          [
           "FOODS_3_035_CA_4_evaluation"
          ],
          [
           "FOODS_3_067_TX_2_evaluation"
          ],
          [
           "FOODS_3_071_CA_4_evaluation"
          ],
          [
           "FOODS_3_078_CA_3_evaluation"
          ],
          [
           "FOODS_3_090_CA_4_evaluation"
          ],
          [
           "FOODS_3_101_WI_1_evaluation"
          ],
          [
           "FOODS_3_118_TX_3_evaluation"
          ],
          [
           "FOODS_3_124_WI_3_evaluation"
          ],
          [
           "FOODS_3_126_CA_1_evaluation"
          ],
          [
           "FOODS_3_128_CA_3_evaluation"
          ],
          [
           "FOODS_3_129_CA_3_evaluation"
          ],
          [
           "FOODS_3_133_TX_3_evaluation"
          ],
          [
           "FOODS_3_154_CA_1_evaluation"
          ],
          [
           "FOODS_3_163_TX_2_evaluation"
          ],
          [
           "FOODS_3_191_CA_2_evaluation"
          ],
          [
           "FOODS_3_202_WI_3_evaluation"
          ],
          [
           "FOODS_3_203_CA_2_evaluation"
          ],
          [
           "FOODS_3_203_TX_2_evaluation"
          ],
          [
           "FOODS_3_214_WI_1_evaluation"
          ],
          [
           "FOODS_3_217_WI_2_evaluation"
          ],
          [
           "FOODS_3_230_CA_1_evaluation"
          ],
          [
           "FOODS_3_281_WI_3_evaluation"
          ],
          [
           "FOODS_3_286_CA_3_evaluation"
          ],
          [
           "FOODS_3_305_WI_2_evaluation"
          ],
          [
           "FOODS_3_316_WI_1_evaluation"
          ],
          [
           "FOODS_3_319_CA_3_evaluation"
          ],
          [
           "FOODS_3_330_TX_2_evaluation"
          ],
          [
           "FOODS_3_339_CA_3_evaluation"
          ],
          [
           "FOODS_3_342_CA_4_evaluation"
          ],
          [
           "FOODS_3_352_CA_4_evaluation"
          ],
          [
           "FOODS_3_355_CA_2_evaluation"
          ],
          [
           "FOODS_3_365_CA_1_evaluation"
          ],
          [
           "FOODS_3_377_WI_2_evaluation"
          ],
          [
           "FOODS_3_386_CA_2_evaluation"
          ],
          [
           "FOODS_3_410_CA_4_evaluation"
          ],
          [
           "FOODS_3_411_TX_3_evaluation"
          ],
          [
           "FOODS_3_418_TX_3_evaluation"
          ],
          [
           "FOODS_3_446_TX_1_evaluation"
          ],
          [
           "FOODS_3_458_WI_3_evaluation"
          ],
          [
           "FOODS_3_459_TX_3_evaluation"
          ],
          [
           "FOODS_3_475_CA_1_evaluation"
          ],
          [
           "FOODS_3_475_WI_2_evaluation"
          ],
          [
           "FOODS_3_480_WI_1_evaluation"
          ],
          [
           "FOODS_3_491_TX_1_evaluation"
          ],
          [
           "FOODS_3_493_WI_3_evaluation"
          ],
          [
           "FOODS_3_498_TX_2_evaluation"
          ],
          [
           "FOODS_3_526_WI_2_evaluation"
          ],
          [
           "FOODS_3_534_TX_2_evaluation"
          ],
          [
           "FOODS_3_540_CA_2_evaluation"
          ],
          [
           "FOODS_3_569_CA_1_evaluation"
          ],
          [
           "FOODS_3_577_CA_1_evaluation"
          ],
          [
           "FOODS_3_591_CA_3_evaluation"
          ],
          [
           "FOODS_3_607_CA_3_evaluation"
          ],
          [
           "FOODS_3_609_CA_3_evaluation"
          ],
          [
           "FOODS_3_628_CA_4_evaluation"
          ],
          [
           "FOODS_3_645_CA_1_evaluation"
          ],
          [
           "FOODS_3_672_CA_4_evaluation"
          ],
          [
           "FOODS_3_675_WI_1_evaluation"
          ],
          [
           "FOODS_3_680_CA_3_evaluation"
          ],
          [
           "FOODS_3_689_CA_3_evaluation"
          ],
          [
           "FOODS_3_695_CA_4_evaluation"
          ],
          [
           "FOODS_3_702_WI_3_evaluation"
          ],
          [
           "FOODS_3_704_CA_1_evaluation"
          ],
          [
           "FOODS_3_721_CA_1_evaluation"
          ],
          [
           "FOODS_3_739_TX_2_evaluation"
          ],
          [
           "FOODS_3_744_TX_2_evaluation"
          ],
          [
           "FOODS_3_764_CA_2_evaluation"
          ],
          [
           "FOODS_3_802_WI_2_evaluation"
          ],
          [
           "FOODS_3_814_CA_3_evaluation"
          ],
          [
           "FOODS_3_819_WI_1_evaluation"
          ],
          [
           "FOODS_3_820_TX_2_evaluation"
          ],
          [
           "HOBBIES_1_004_WI_3_evaluation"
          ],
          [
           "HOBBIES_1_009_CA_3_evaluation"
          ],
          [
           "HOBBIES_1_015_TX_1_evaluation"
          ],
          [
           "HOBBIES_1_017_CA_3_evaluation"
          ],
          [
           "HOBBIES_1_034_TX_2_evaluation"
          ],
          [
           "HOBBIES_1_086_TX_1_evaluation"
          ],
          [
           "HOBBIES_1_087_TX_3_evaluation"
          ],
          [
           "HOBBIES_1_097_CA_4_evaluation"
          ],
          [
           "HOBBIES_1_099_TX_1_evaluation"
          ],
          [
           "HOBBIES_1_147_TX_3_evaluation"
          ],
          [
           "HOBBIES_1_151_CA_3_evaluation"
          ],
          [
           "HOBBIES_1_159_WI_1_evaluation"
          ],
          [
           "HOBBIES_1_169_CA_4_evaluation"
          ],
          [
           "HOBBIES_1_178_WI_1_evaluation"
          ],
          [
           "HOBBIES_1_242_CA_3_evaluation"
          ],
          [
           "HOBBIES_1_298_CA_3_evaluation"
          ],
          [
           "HOBBIES_1_330_CA_3_evaluation"
          ],
          [
           "HOBBIES_1_370_CA_3_evaluation"
          ],
          [
           "HOBBIES_1_371_CA_1_evaluation"
          ],
          [
           "HOBBIES_1_371_CA_4_evaluation"
          ],
          [
           "HOBBIES_1_378_CA_1_evaluation"
          ],
          [
           "HOBBIES_1_387_CA_3_evaluation"
          ],
          [
           "HOUSEHOLD_1_004_CA_1_evaluation"
          ],
          [
           "HOUSEHOLD_1_019_TX_2_evaluation"
          ],
          [
           "HOUSEHOLD_1_021_WI_3_evaluation"
          ],
          [
           "HOUSEHOLD_1_027_TX_3_evaluation"
          ],
          [
           "HOUSEHOLD_1_028_CA_2_evaluation"
          ],
          [
           "HOUSEHOLD_1_038_CA_4_evaluation"
          ],
          [
           "HOUSEHOLD_1_050_CA_1_evaluation"
          ],
          [
           "HOUSEHOLD_1_051_TX_2_evaluation"
          ],
          [
           "HOUSEHOLD_1_055_WI_2_evaluation"
          ],
          [
           "HOUSEHOLD_1_079_CA_1_evaluation"
          ],
          [
           "HOUSEHOLD_1_114_WI_3_evaluation"
          ],
          [
           "HOUSEHOLD_1_127_TX_1_evaluation"
          ],
          [
           "HOUSEHOLD_1_147_WI_1_evaluation"
          ],
          [
           "HOUSEHOLD_1_151_TX_3_evaluation"
          ],
          [
           "HOUSEHOLD_1_168_TX_3_evaluation"
          ],
          [
           "HOUSEHOLD_1_169_WI_3_evaluation"
          ],
          [
           "HOUSEHOLD_1_170_WI_3_evaluation"
          ],
          [
           "HOUSEHOLD_1_179_CA_3_evaluation"
          ],
          [
           "HOUSEHOLD_1_179_TX_3_evaluation"
          ],
          [
           "HOUSEHOLD_1_186_WI_3_evaluation"
          ],
          [
           "HOUSEHOLD_1_188_TX_3_evaluation"
          ],
          [
           "HOUSEHOLD_1_188_WI_2_evaluation"
          ],
          [
           "HOUSEHOLD_1_197_CA_2_evaluation"
          ],
          [
           "HOUSEHOLD_1_235_TX_2_evaluation"
          ],
          [
           "HOUSEHOLD_1_243_CA_2_evaluation"
          ],
          [
           "HOUSEHOLD_1_265_CA_2_evaluation"
          ],
          [
           "HOUSEHOLD_1_292_TX_1_evaluation"
          ],
          [
           "HOUSEHOLD_1_294_WI_1_evaluation"
          ],
          [
           "HOUSEHOLD_1_336_WI_2_evaluation"
          ],
          [
           "HOUSEHOLD_1_338_CA_1_evaluation"
          ],
          [
           "HOUSEHOLD_1_354_TX_3_evaluation"
          ],
          [
           "HOUSEHOLD_1_370_WI_2_evaluation"
          ],
          [
           "HOUSEHOLD_1_387_CA_2_evaluation"
          ],
          [
           "HOUSEHOLD_1_389_CA_3_evaluation"
          ],
          [
           "HOUSEHOLD_1_397_TX_2_evaluation"
          ],
          [
           "HOUSEHOLD_1_397_WI_3_evaluation"
          ],
          [
           "HOUSEHOLD_1_437_WI_2_evaluation"
          ],
          [
           "HOUSEHOLD_1_458_TX_3_evaluation"
          ],
          [
           "HOUSEHOLD_1_459_CA_1_evaluation"
          ],
          [
           "HOUSEHOLD_1_459_WI_1_evaluation"
          ],
          [
           "HOUSEHOLD_1_473_TX_3_evaluation"
          ],
          [
           "HOUSEHOLD_1_478_WI_1_evaluation"
          ],
          [
           "HOUSEHOLD_1_498_TX_1_evaluation"
          ],
          [
           "HOUSEHOLD_1_505_TX_3_evaluation"
          ],
          [
           "HOUSEHOLD_1_522_CA_2_evaluation"
          ],
          [
           "HOUSEHOLD_1_532_TX_1_evaluation"
          ],
          [
           "HOUSEHOLD_1_537_WI_3_evaluation"
          ],
          [
           "HOUSEHOLD_1_538_TX_2_evaluation"
          ],
          [
           "HOUSEHOLD_1_539_TX_2_evaluation"
          ],
          [
           "HOUSEHOLD_2_075_WI_3_evaluation"
          ],
          [
           "HOUSEHOLD_2_118_WI_2_evaluation"
          ],
          [
           "HOUSEHOLD_2_295_CA_3_evaluation"
          ],
          [
           "HOUSEHOLD_2_348_TX_3_evaluation"
          ],
          [
           "HOUSEHOLD_2_355_CA_2_evaluation"
          ],
          [
           "HOUSEHOLD_2_437_TX_3_evaluation"
          ],
          [
           "HOUSEHOLD_2_442_CA_1_evaluation"
          ],
          [
           "HOUSEHOLD_2_510_TX_3_evaluation"
          ]
         ],
         "hovertemplate": "trial=with_exog_feat<br>metric=%{x}<br>value=%{y}<br>id=%{customdata[0]}<extra></extra>",
         "legendgroup": "with_exog_feat",
         "marker": {
          "color": "#00cc96"
         },
         "name": "with_exog_feat",
         "notched": false,
         "offsetgroup": "with_exog_feat",
         "orientation": "v",
         "showlegend": true,
         "type": "box",
         "x": [
          "MAE",
          "MAE",
          "MAE",
          "MAE",
          "MAE",
          "MAE",
          "MAE",
          "MAE",
          "MAE",
          "MAE",
          "MAE",
          "MAE",
          "MAE",
          "MAE",
          "MAE",
          "MAE",
          "MAE",
          "MAE",
          "MAE",
          "MAE",
          "MAE",
          "MAE",
          "MAE",
          "MAE",
          "MAE",
          "MAE",
          "MAE",
          "MAE",
          "MAE",
          "MAE",
          "MAE",
          "MAE",
          "MAE",
          "MAE",
          "MAE",
          "MAE",
          "MAE",
          "MAE",
          "MAE",
          "MAE",
          "MAE",
          "MAE",
          "MAE",
          "MAE",
          "MAE",
          "MAE",
          "MAE",
          "MAE",
          "MAE",
          "MAE",
          "MAE",
          "MAE",
          "MAE",
          "MAE",
          "MAE",
          "MAE",
          "MAE",
          "MAE",
          "MAE",
          "MAE",
          "MAE",
          "MAE",
          "MAE",
          "MAE",
          "MAE",
          "MAE",
          "MAE",
          "MAE",
          "MAE",
          "MAE",
          "MAE",
          "MAE",
          "MAE",
          "MAE",
          "MAE",
          "MAE",
          "MAE",
          "MAE",
          "MAE",
          "MAE",
          "MAE",
          "MAE",
          "MAE",
          "MAE",
          "MAE",
          "MAE",
          "MAE",
          "MAE",
          "MAE",
          "MAE",
          "MAE",
          "MAE",
          "MAE",
          "MAE",
          "MAE",
          "MAE",
          "MAE",
          "MAE",
          "MAE",
          "MAE",
          "MAE",
          "MAE",
          "MAE",
          "MAE",
          "MAE",
          "MAE",
          "MAE",
          "MAE",
          "MAE",
          "MAE",
          "MAE",
          "MAE",
          "MAE",
          "MAE",
          "MAE",
          "MAE",
          "MAE",
          "MAE",
          "MAE",
          "MAE",
          "MAE",
          "MAE",
          "MAE",
          "MAE",
          "MAE",
          "MAE",
          "MAE",
          "MAE",
          "MAE",
          "MAE",
          "MAE",
          "MAE",
          "MAE",
          "MAE",
          "MAE",
          "MAE",
          "MAE",
          "MAE",
          "MAE",
          "MAE",
          "MAE",
          "MAE",
          "MAE",
          "MAE",
          "MAE",
          "MAE",
          "MAE",
          "MAE",
          "MAE",
          "MAE",
          "MAE",
          "MAE",
          "MAE",
          "MAE",
          "MAE",
          "MAE",
          "MAE",
          "MAE",
          "MAE",
          "MAE",
          "MAE",
          "MAE",
          "MAE",
          "MAE",
          "MAE",
          "MAE",
          "MAE",
          "MAE",
          "MAE",
          "MAE",
          "MAE",
          "MAE",
          "MAE",
          "MAE",
          "MAE",
          "MAE",
          "MAE",
          "MAE",
          "MAE",
          "MAE",
          "MAE",
          "MAE",
          "MAE",
          "MAE",
          "MAE",
          "MAE",
          "MAE",
          "MAE",
          "MAE",
          "MAE",
          "MAE",
          "MAE",
          "MAE",
          "MAE",
          "MAE",
          "MAE",
          "MAE",
          "MAE",
          "RMSE",
          "RMSE",
          "RMSE",
          "RMSE",
          "RMSE",
          "RMSE",
          "RMSE",
          "RMSE",
          "RMSE",
          "RMSE",
          "RMSE",
          "RMSE",
          "RMSE",
          "RMSE",
          "RMSE",
          "RMSE",
          "RMSE",
          "RMSE",
          "RMSE",
          "RMSE",
          "RMSE",
          "RMSE",
          "RMSE",
          "RMSE",
          "RMSE",
          "RMSE",
          "RMSE",
          "RMSE",
          "RMSE",
          "RMSE",
          "RMSE",
          "RMSE",
          "RMSE",
          "RMSE",
          "RMSE",
          "RMSE",
          "RMSE",
          "RMSE",
          "RMSE",
          "RMSE",
          "RMSE",
          "RMSE",
          "RMSE",
          "RMSE",
          "RMSE",
          "RMSE",
          "RMSE",
          "RMSE",
          "RMSE",
          "RMSE",
          "RMSE",
          "RMSE",
          "RMSE",
          "RMSE",
          "RMSE",
          "RMSE",
          "RMSE",
          "RMSE",
          "RMSE",
          "RMSE",
          "RMSE",
          "RMSE",
          "RMSE",
          "RMSE",
          "RMSE",
          "RMSE",
          "RMSE",
          "RMSE",
          "RMSE",
          "RMSE",
          "RMSE",
          "RMSE",
          "RMSE",
          "RMSE",
          "RMSE",
          "RMSE",
          "RMSE",
          "RMSE",
          "RMSE",
          "RMSE",
          "RMSE",
          "RMSE",
          "RMSE",
          "RMSE",
          "RMSE",
          "RMSE",
          "RMSE",
          "RMSE",
          "RMSE",
          "RMSE",
          "RMSE",
          "RMSE",
          "RMSE",
          "RMSE",
          "RMSE",
          "RMSE",
          "RMSE",
          "RMSE",
          "RMSE",
          "RMSE",
          "RMSE",
          "RMSE",
          "RMSE",
          "RMSE",
          "RMSE",
          "RMSE",
          "RMSE",
          "RMSE",
          "RMSE",
          "RMSE",
          "RMSE",
          "RMSE",
          "RMSE",
          "RMSE",
          "RMSE",
          "RMSE",
          "RMSE",
          "RMSE",
          "RMSE",
          "RMSE",
          "RMSE",
          "RMSE",
          "RMSE",
          "RMSE",
          "RMSE",
          "RMSE",
          "RMSE",
          "RMSE",
          "RMSE",
          "RMSE",
          "RMSE",
          "RMSE",
          "RMSE",
          "RMSE",
          "RMSE",
          "RMSE",
          "RMSE",
          "RMSE",
          "RMSE",
          "RMSE",
          "RMSE",
          "RMSE",
          "RMSE",
          "RMSE",
          "RMSE",
          "RMSE",
          "RMSE",
          "RMSE",
          "RMSE",
          "RMSE",
          "RMSE",
          "RMSE",
          "RMSE",
          "RMSE",
          "RMSE",
          "RMSE",
          "RMSE",
          "RMSE",
          "RMSE",
          "RMSE",
          "RMSE",
          "RMSE",
          "RMSE",
          "RMSE",
          "RMSE",
          "RMSE",
          "RMSE",
          "RMSE",
          "RMSE",
          "RMSE",
          "RMSE",
          "RMSE",
          "RMSE",
          "RMSE",
          "RMSE",
          "RMSE",
          "RMSE",
          "RMSE",
          "RMSE",
          "RMSE",
          "RMSE",
          "RMSE",
          "RMSE",
          "RMSE",
          "RMSE",
          "RMSE",
          "RMSE",
          "RMSE",
          "RMSE",
          "RMSE",
          "RMSE",
          "RMSE",
          "RMSE",
          "RMSE",
          "RMSE",
          "RMSE",
          "RMSE",
          "RMSE",
          "R2",
          "R2",
          "R2",
          "R2",
          "R2",
          "R2",
          "R2",
          "R2",
          "R2",
          "R2",
          "R2",
          "R2",
          "R2",
          "R2",
          "R2",
          "R2",
          "R2",
          "R2",
          "R2",
          "R2",
          "R2",
          "R2",
          "R2",
          "R2",
          "R2",
          "R2",
          "R2",
          "R2",
          "R2",
          "R2",
          "R2",
          "R2",
          "R2",
          "R2",
          "R2",
          "R2",
          "R2",
          "R2",
          "R2",
          "R2",
          "R2",
          "R2",
          "R2",
          "R2",
          "R2",
          "R2",
          "R2",
          "R2",
          "R2",
          "R2",
          "R2",
          "R2",
          "R2",
          "R2",
          "R2",
          "R2",
          "R2",
          "R2",
          "R2",
          "R2",
          "R2",
          "R2",
          "R2",
          "R2",
          "R2",
          "R2",
          "R2",
          "R2",
          "R2",
          "R2",
          "R2",
          "R2",
          "R2",
          "R2",
          "R2",
          "R2",
          "R2",
          "R2",
          "R2",
          "R2",
          "R2",
          "R2",
          "R2",
          "R2",
          "R2",
          "R2",
          "R2",
          "R2",
          "R2",
          "R2",
          "R2",
          "R2",
          "R2",
          "R2",
          "R2",
          "R2",
          "R2",
          "R2",
          "R2",
          "R2",
          "R2",
          "R2",
          "R2",
          "R2",
          "R2",
          "R2",
          "R2",
          "R2",
          "R2",
          "R2",
          "R2",
          "R2",
          "R2",
          "R2",
          "R2",
          "R2",
          "R2",
          "R2",
          "R2",
          "R2",
          "R2",
          "R2",
          "R2",
          "R2",
          "R2",
          "R2",
          "R2",
          "R2",
          "R2",
          "R2",
          "R2",
          "R2",
          "R2",
          "R2",
          "R2",
          "R2",
          "R2",
          "R2",
          "R2",
          "R2",
          "R2",
          "R2",
          "R2",
          "R2",
          "R2",
          "R2",
          "R2",
          "R2",
          "R2",
          "R2",
          "R2",
          "R2",
          "R2",
          "R2",
          "R2",
          "R2",
          "R2",
          "R2",
          "R2",
          "R2",
          "R2",
          "R2",
          "R2",
          "R2",
          "R2",
          "R2",
          "R2",
          "R2",
          "R2",
          "R2",
          "R2",
          "R2",
          "R2",
          "R2",
          "R2",
          "R2",
          "R2",
          "R2",
          "R2",
          "R2",
          "R2",
          "R2",
          "R2",
          "R2",
          "R2",
          "R2",
          "R2",
          "R2",
          "R2",
          "R2",
          "R2",
          "R2",
          "R2",
          "R2",
          "R2",
          "R2",
          "R2",
          "R2"
         ],
         "x0": " ",
         "xaxis": "x",
         "y": {
          "bdata": "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",
          "dtype": "f8"
         },
         "y0": " ",
         "yaxis": "y"
        }
       ],
       "layout": {
        "boxmode": "group",
        "height": 500,
        "legend": {
         "title": {
          "text": "trial"
         },
         "tracegroupgap": 0
        },
        "template": {
         "data": {
          "bar": [
           {
            "error_x": {
             "color": "#2a3f5f"
            },
            "error_y": {
             "color": "#2a3f5f"
            },
            "marker": {
             "line": {
              "color": "white",
              "width": 0.5
             },
             "pattern": {
              "fillmode": "overlay",
              "size": 10,
              "solidity": 0.2
             }
            },
            "type": "bar"
           }
          ],
          "barpolar": [
           {
            "marker": {
             "line": {
              "color": "white",
              "width": 0.5
             },
             "pattern": {
              "fillmode": "overlay",
              "size": 10,
              "solidity": 0.2
             }
            },
            "type": "barpolar"
           }
          ],
          "carpet": [
           {
            "aaxis": {
             "endlinecolor": "#2a3f5f",
             "gridcolor": "#C8D4E3",
             "linecolor": "#C8D4E3",
             "minorgridcolor": "#C8D4E3",
             "startlinecolor": "#2a3f5f"
            },
            "baxis": {
             "endlinecolor": "#2a3f5f",
             "gridcolor": "#C8D4E3",
             "linecolor": "#C8D4E3",
             "minorgridcolor": "#C8D4E3",
             "startlinecolor": "#2a3f5f"
            },
            "type": "carpet"
           }
          ],
          "choropleth": [
           {
            "colorbar": {
             "outlinewidth": 0,
             "ticks": ""
            },
            "type": "choropleth"
           }
          ],
          "contour": [
           {
            "colorbar": {
             "outlinewidth": 0,
             "ticks": ""
            },
            "colorscale": [
             [
              0,
              "#0d0887"
             ],
             [
              0.1111111111111111,
              "#46039f"
             ],
             [
              0.2222222222222222,
              "#7201a8"
             ],
             [
              0.3333333333333333,
              "#9c179e"
             ],
             [
              0.4444444444444444,
              "#bd3786"
             ],
             [
              0.5555555555555556,
              "#d8576b"
             ],
             [
              0.6666666666666666,
              "#ed7953"
             ],
             [
              0.7777777777777778,
              "#fb9f3a"
             ],
             [
              0.8888888888888888,
              "#fdca26"
             ],
             [
              1,
              "#f0f921"
             ]
            ],
            "type": "contour"
           }
          ],
          "contourcarpet": [
           {
            "colorbar": {
             "outlinewidth": 0,
             "ticks": ""
            },
            "type": "contourcarpet"
           }
          ],
          "heatmap": [
           {
            "colorbar": {
             "outlinewidth": 0,
             "ticks": ""
            },
            "colorscale": [
             [
              0,
              "#0d0887"
             ],
             [
              0.1111111111111111,
              "#46039f"
             ],
             [
              0.2222222222222222,
              "#7201a8"
             ],
             [
              0.3333333333333333,
              "#9c179e"
             ],
             [
              0.4444444444444444,
              "#bd3786"
             ],
             [
              0.5555555555555556,
              "#d8576b"
             ],
             [
              0.6666666666666666,
              "#ed7953"
             ],
             [
              0.7777777777777778,
              "#fb9f3a"
             ],
             [
              0.8888888888888888,
              "#fdca26"
             ],
             [
              1,
              "#f0f921"
             ]
            ],
            "type": "heatmap"
           }
          ],
          "histogram": [
           {
            "marker": {
             "pattern": {
              "fillmode": "overlay",
              "size": 10,
              "solidity": 0.2
             }
            },
            "type": "histogram"
           }
          ],
          "histogram2d": [
           {
            "colorbar": {
             "outlinewidth": 0,
             "ticks": ""
            },
            "colorscale": [
             [
              0,
              "#0d0887"
             ],
             [
              0.1111111111111111,
              "#46039f"
             ],
             [
              0.2222222222222222,
              "#7201a8"
             ],
             [
              0.3333333333333333,
              "#9c179e"
             ],
             [
              0.4444444444444444,
              "#bd3786"
             ],
             [
              0.5555555555555556,
              "#d8576b"
             ],
             [
              0.6666666666666666,
              "#ed7953"
             ],
             [
              0.7777777777777778,
              "#fb9f3a"
             ],
             [
              0.8888888888888888,
              "#fdca26"
             ],
             [
              1,
              "#f0f921"
             ]
            ],
            "type": "histogram2d"
           }
          ],
          "histogram2dcontour": [
           {
            "colorbar": {
             "outlinewidth": 0,
             "ticks": ""
            },
            "colorscale": [
             [
              0,
              "#0d0887"
             ],
             [
              0.1111111111111111,
              "#46039f"
             ],
             [
              0.2222222222222222,
              "#7201a8"
             ],
             [
              0.3333333333333333,
              "#9c179e"
             ],
             [
              0.4444444444444444,
              "#bd3786"
             ],
             [
              0.5555555555555556,
              "#d8576b"
             ],
             [
              0.6666666666666666,
              "#ed7953"
             ],
             [
              0.7777777777777778,
              "#fb9f3a"
             ],
             [
              0.8888888888888888,
              "#fdca26"
             ],
             [
              1,
              "#f0f921"
             ]
            ],
            "type": "histogram2dcontour"
           }
          ],
          "mesh3d": [
           {
            "colorbar": {
             "outlinewidth": 0,
             "ticks": ""
            },
            "type": "mesh3d"
           }
          ],
          "parcoords": [
           {
            "line": {
             "colorbar": {
              "outlinewidth": 0,
              "ticks": ""
             }
            },
            "type": "parcoords"
           }
          ],
          "pie": [
           {
            "automargin": true,
            "type": "pie"
           }
          ],
          "scatter": [
           {
            "fillpattern": {
             "fillmode": "overlay",
             "size": 10,
             "solidity": 0.2
            },
            "type": "scatter"
           }
          ],
          "scatter3d": [
           {
            "line": {
             "colorbar": {
              "outlinewidth": 0,
              "ticks": ""
             }
            },
            "marker": {
             "colorbar": {
              "outlinewidth": 0,
              "ticks": ""
             }
            },
            "type": "scatter3d"
           }
          ],
          "scattercarpet": [
           {
            "marker": {
             "colorbar": {
              "outlinewidth": 0,
              "ticks": ""
             }
            },
            "type": "scattercarpet"
           }
          ],
          "scattergeo": [
           {
            "marker": {
             "colorbar": {
              "outlinewidth": 0,
              "ticks": ""
             }
            },
            "type": "scattergeo"
           }
          ],
          "scattergl": [
           {
            "marker": {
             "colorbar": {
              "outlinewidth": 0,
              "ticks": ""
             }
            },
            "type": "scattergl"
           }
          ],
          "scattermap": [
           {
            "marker": {
             "colorbar": {
              "outlinewidth": 0,
              "ticks": ""
             }
            },
            "type": "scattermap"
           }
          ],
          "scattermapbox": [
           {
            "marker": {
             "colorbar": {
              "outlinewidth": 0,
              "ticks": ""
             }
            },
            "type": "scattermapbox"
           }
          ],
          "scatterpolar": [
           {
            "marker": {
             "colorbar": {
              "outlinewidth": 0,
              "ticks": ""
             }
            },
            "type": "scatterpolar"
           }
          ],
          "scatterpolargl": [
           {
            "marker": {
             "colorbar": {
              "outlinewidth": 0,
              "ticks": ""
             }
            },
            "type": "scatterpolargl"
           }
          ],
          "scatterternary": [
           {
            "marker": {
             "colorbar": {
              "outlinewidth": 0,
              "ticks": ""
             }
            },
            "type": "scatterternary"
           }
          ],
          "surface": [
           {
            "colorbar": {
             "outlinewidth": 0,
             "ticks": ""
            },
            "colorscale": [
             [
              0,
              "#0d0887"
             ],
             [
              0.1111111111111111,
              "#46039f"
             ],
             [
              0.2222222222222222,
              "#7201a8"
             ],
             [
              0.3333333333333333,
              "#9c179e"
             ],
             [
              0.4444444444444444,
              "#bd3786"
             ],
             [
              0.5555555555555556,
              "#d8576b"
             ],
             [
              0.6666666666666666,
              "#ed7953"
             ],
             [
              0.7777777777777778,
              "#fb9f3a"
             ],
             [
              0.8888888888888888,
              "#fdca26"
             ],
             [
              1,
              "#f0f921"
             ]
            ],
            "type": "surface"
           }
          ],
          "table": [
           {
            "cells": {
             "fill": {
              "color": "#EBF0F8"
             },
             "line": {
              "color": "white"
             }
            },
            "header": {
             "fill": {
              "color": "#C8D4E3"
             },
             "line": {
              "color": "white"
             }
            },
            "type": "table"
           }
          ]
         },
         "layout": {
          "annotationdefaults": {
           "arrowcolor": "#2a3f5f",
           "arrowhead": 0,
           "arrowwidth": 1
          },
          "autotypenumbers": "strict",
          "coloraxis": {
           "colorbar": {
            "outlinewidth": 0,
            "ticks": ""
           }
          },
          "colorscale": {
           "diverging": [
            [
             0,
             "#8e0152"
            ],
            [
             0.1,
             "#c51b7d"
            ],
            [
             0.2,
             "#de77ae"
            ],
            [
             0.3,
             "#f1b6da"
            ],
            [
             0.4,
             "#fde0ef"
            ],
            [
             0.5,
             "#f7f7f7"
            ],
            [
             0.6,
             "#e6f5d0"
            ],
            [
             0.7,
             "#b8e186"
            ],
            [
             0.8,
             "#7fbc41"
            ],
            [
             0.9,
             "#4d9221"
            ],
            [
             1,
             "#276419"
            ]
           ],
           "sequential": [
            [
             0,
             "#0d0887"
            ],
            [
             0.1111111111111111,
             "#46039f"
            ],
            [
             0.2222222222222222,
             "#7201a8"
            ],
            [
             0.3333333333333333,
             "#9c179e"
            ],
            [
             0.4444444444444444,
             "#bd3786"
            ],
            [
             0.5555555555555556,
             "#d8576b"
            ],
            [
             0.6666666666666666,
             "#ed7953"
            ],
            [
             0.7777777777777778,
             "#fb9f3a"
            ],
            [
             0.8888888888888888,
             "#fdca26"
            ],
            [
             1,
             "#f0f921"
            ]
           ],
           "sequentialminus": [
            [
             0,
             "#0d0887"
            ],
            [
             0.1111111111111111,
             "#46039f"
            ],
            [
             0.2222222222222222,
             "#7201a8"
            ],
            [
             0.3333333333333333,
             "#9c179e"
            ],
            [
             0.4444444444444444,
             "#bd3786"
            ],
            [
             0.5555555555555556,
             "#d8576b"
            ],
            [
             0.6666666666666666,
             "#ed7953"
            ],
            [
             0.7777777777777778,
             "#fb9f3a"
            ],
            [
             0.8888888888888888,
             "#fdca26"
            ],
            [
             1,
             "#f0f921"
            ]
           ]
          },
          "colorway": [
           "#636efa",
           "#EF553B",
           "#00cc96",
           "#ab63fa",
           "#FFA15A",
           "#19d3f3",
           "#FF6692",
           "#B6E880",
           "#FF97FF",
           "#FECB52"
          ],
          "font": {
           "color": "#2a3f5f"
          },
          "geo": {
           "bgcolor": "white",
           "lakecolor": "white",
           "landcolor": "white",
           "showlakes": true,
           "showland": true,
           "subunitcolor": "#C8D4E3"
          },
          "hoverlabel": {
           "align": "left"
          },
          "hovermode": "closest",
          "mapbox": {
           "style": "light"
          },
          "paper_bgcolor": "white",
          "plot_bgcolor": "white",
          "polar": {
           "angularaxis": {
            "gridcolor": "#EBF0F8",
            "linecolor": "#EBF0F8",
            "ticks": ""
           },
           "bgcolor": "white",
           "radialaxis": {
            "gridcolor": "#EBF0F8",
            "linecolor": "#EBF0F8",
            "ticks": ""
           }
          },
          "scene": {
           "xaxis": {
            "backgroundcolor": "white",
            "gridcolor": "#DFE8F3",
            "gridwidth": 2,
            "linecolor": "#EBF0F8",
            "showbackground": true,
            "ticks": "",
            "zerolinecolor": "#EBF0F8"
           },
           "yaxis": {
            "backgroundcolor": "white",
            "gridcolor": "#DFE8F3",
            "gridwidth": 2,
            "linecolor": "#EBF0F8",
            "showbackground": true,
            "ticks": "",
            "zerolinecolor": "#EBF0F8"
           },
           "zaxis": {
            "backgroundcolor": "white",
            "gridcolor": "#DFE8F3",
            "gridwidth": 2,
            "linecolor": "#EBF0F8",
            "showbackground": true,
            "ticks": "",
            "zerolinecolor": "#EBF0F8"
           }
          },
          "shapedefaults": {
           "line": {
            "color": "#2a3f5f"
           }
          },
          "ternary": {
           "aaxis": {
            "gridcolor": "#DFE8F3",
            "linecolor": "#A2B1C6",
            "ticks": ""
           },
           "baxis": {
            "gridcolor": "#DFE8F3",
            "linecolor": "#A2B1C6",
            "ticks": ""
           },
           "bgcolor": "white",
           "caxis": {
            "gridcolor": "#DFE8F3",
            "linecolor": "#A2B1C6",
            "ticks": ""
           }
          },
          "title": {
           "x": 0.05
          },
          "xaxis": {
           "automargin": true,
           "gridcolor": "#EBF0F8",
           "linecolor": "#EBF0F8",
           "ticks": "",
           "title": {
            "standoff": 15
           },
           "zerolinecolor": "#EBF0F8",
           "zerolinewidth": 2
          },
          "yaxis": {
           "automargin": true,
           "gridcolor": "#EBF0F8",
           "linecolor": "#EBF0F8",
           "ticks": "",
           "title": {
            "standoff": 15
           },
           "zerolinecolor": "#EBF0F8",
           "zerolinewidth": 2
          }
         }
        },
        "title": {
         "text": "Distribution of Metrics per Time Series by Trial"
        },
        "width": 800,
        "xaxis": {
         "anchor": "y",
         "domain": [
          0,
          1
         ],
         "title": {
          "text": "metric"
         }
        },
        "yaxis": {
         "anchor": "x",
         "domain": [
          0,
          1
         ],
         "title": {
          "text": "value"
         }
        }
       }
      }
     },
     "metadata": {},
     "output_type": "display_data"
    }
   ],
   "source": [
    "plot_scores_per_ts(scores_per_ts_df, list_metrics=list_metrics)"
   ]
  },
  {
   "cell_type": "code",
   "execution_count": 80,
   "metadata": {},
   "outputs": [
    {
     "name": "stderr",
     "output_type": "stream",
     "text": [
      "<string>:28: FutureWarning:\n",
      "\n",
      "The behavior of DataFrame concatenation with empty or all-NA entries is deprecated. In a future version, this will no longer exclude empty or all-NA columns when determining the result dtypes. To retain the old behavior, exclude the relevant entries before the concat operation.\n",
      "\n"
     ]
    },
    {
     "data": {
      "application/vnd.plotly.v1+json": {
       "config": {
        "plotlyServerURL": "https://plot.ly"
       },
       "data": [
        {
         "line": {
          "color": "lightgray"
         },
         "name": "Train Sales",
         "type": "scatter",
         "x": [
          "2016-04-09T00:00:00",
          "2016-04-10T00:00:00",
          "2016-04-11T00:00:00",
          "2016-04-12T00:00:00",
          "2016-04-13T00:00:00",
          "2016-04-14T00:00:00",
          "2016-04-15T00:00:00",
          "2016-04-16T00:00:00",
          "2016-04-17T00:00:00",
          "2016-04-18T00:00:00",
          "2016-04-19T00:00:00",
          "2016-04-20T00:00:00",
          "2016-04-21T00:00:00",
          "2016-04-22T00:00:00",
          "2016-04-23T00:00:00",
          "2016-04-24T00:00:00",
          "2016-04-25T00:00:00",
          "2016-04-26T00:00:00",
          "2016-04-27T00:00:00",
          "2016-04-28T00:00:00",
          "2016-04-29T00:00:00",
          "2016-04-30T00:00:00",
          "2016-05-01T00:00:00",
          "2016-05-02T00:00:00",
          "2016-05-03T00:00:00",
          "2016-05-04T00:00:00",
          "2016-05-05T00:00:00",
          "2016-05-06T00:00:00",
          "2016-05-07T00:00:00",
          "2016-05-08T00:00:00"
         ],
         "y": {
          "bdata": "AAEBAQEBAgMBAAABAAIBAAEBAAEDAAIBAAABAAAB",
          "dtype": "i1"
         }
        },
        {
         "line": {
          "color": "coral"
         },
         "name": "Test Sales",
         "type": "scatter",
         "x": [
          "2016-05-08T00:00:00",
          "2016-05-09T00:00:00",
          "2016-05-10T00:00:00",
          "2016-05-11T00:00:00",
          "2016-05-12T00:00:00",
          "2016-05-13T00:00:00",
          "2016-05-14T00:00:00",
          "2016-05-15T00:00:00",
          "2016-05-16T00:00:00",
          "2016-05-17T00:00:00",
          "2016-05-18T00:00:00",
          "2016-05-19T00:00:00",
          "2016-05-20T00:00:00",
          "2016-05-21T00:00:00",
          "2016-05-22T00:00:00"
         ],
         "y": {
          "bdata": "AQAAAAEAAAEAAAAAAAEA",
          "dtype": "i1"
         }
        },
        {
         "line": {
          "color": "coral",
          "dash": "dash"
         },
         "name": "Forecast",
         "type": "scatter",
         "x": [
          "2016-05-08T00:00:00",
          "2016-05-09T00:00:00",
          "2016-05-10T00:00:00",
          "2016-05-11T00:00:00",
          "2016-05-12T00:00:00",
          "2016-05-13T00:00:00",
          "2016-05-14T00:00:00",
          "2016-05-15T00:00:00",
          "2016-05-16T00:00:00",
          "2016-05-17T00:00:00",
          "2016-05-18T00:00:00",
          "2016-05-19T00:00:00",
          "2016-05-20T00:00:00",
          "2016-05-21T00:00:00",
          "2016-05-22T00:00:00"
         ],
         "y": {
          "bdata": "AAAAAAAA+H8cCwqDMk3oPzLTrCKSN+Y/5R8i2jMw5j9UjFZiXHnmP3Ga05/cmug/APWwYZcS8T+S8Bh5tCzxP3rmQGpu4Og/PsuYJ3yb5j/UEZ+/+cLlPwMwdcIRZeU/1dV4RODj6D/tKTkn9rDwPwvYaf9e5e8/",
          "dtype": "f8"
         }
        }
       ],
       "layout": {
        "height": 400,
        "template": {
         "data": {
          "bar": [
           {
            "error_x": {
             "color": "#2a3f5f"
            },
            "error_y": {
             "color": "#2a3f5f"
            },
            "marker": {
             "line": {
              "color": "white",
              "width": 0.5
             },
             "pattern": {
              "fillmode": "overlay",
              "size": 10,
              "solidity": 0.2
             }
            },
            "type": "bar"
           }
          ],
          "barpolar": [
           {
            "marker": {
             "line": {
              "color": "white",
              "width": 0.5
             },
             "pattern": {
              "fillmode": "overlay",
              "size": 10,
              "solidity": 0.2
             }
            },
            "type": "barpolar"
           }
          ],
          "carpet": [
           {
            "aaxis": {
             "endlinecolor": "#2a3f5f",
             "gridcolor": "#C8D4E3",
             "linecolor": "#C8D4E3",
             "minorgridcolor": "#C8D4E3",
             "startlinecolor": "#2a3f5f"
            },
            "baxis": {
             "endlinecolor": "#2a3f5f",
             "gridcolor": "#C8D4E3",
             "linecolor": "#C8D4E3",
             "minorgridcolor": "#C8D4E3",
             "startlinecolor": "#2a3f5f"
            },
            "type": "carpet"
           }
          ],
          "choropleth": [
           {
            "colorbar": {
             "outlinewidth": 0,
             "ticks": ""
            },
            "type": "choropleth"
           }
          ],
          "contour": [
           {
            "colorbar": {
             "outlinewidth": 0,
             "ticks": ""
            },
            "colorscale": [
             [
              0,
              "#0d0887"
             ],
             [
              0.1111111111111111,
              "#46039f"
             ],
             [
              0.2222222222222222,
              "#7201a8"
             ],
             [
              0.3333333333333333,
              "#9c179e"
             ],
             [
              0.4444444444444444,
              "#bd3786"
             ],
             [
              0.5555555555555556,
              "#d8576b"
             ],
             [
              0.6666666666666666,
              "#ed7953"
             ],
             [
              0.7777777777777778,
              "#fb9f3a"
             ],
             [
              0.8888888888888888,
              "#fdca26"
             ],
             [
              1,
              "#f0f921"
             ]
            ],
            "type": "contour"
           }
          ],
          "contourcarpet": [
           {
            "colorbar": {
             "outlinewidth": 0,
             "ticks": ""
            },
            "type": "contourcarpet"
           }
          ],
          "heatmap": [
           {
            "colorbar": {
             "outlinewidth": 0,
             "ticks": ""
            },
            "colorscale": [
             [
              0,
              "#0d0887"
             ],
             [
              0.1111111111111111,
              "#46039f"
             ],
             [
              0.2222222222222222,
              "#7201a8"
             ],
             [
              0.3333333333333333,
              "#9c179e"
             ],
             [
              0.4444444444444444,
              "#bd3786"
             ],
             [
              0.5555555555555556,
              "#d8576b"
             ],
             [
              0.6666666666666666,
              "#ed7953"
             ],
             [
              0.7777777777777778,
              "#fb9f3a"
             ],
             [
              0.8888888888888888,
              "#fdca26"
             ],
             [
              1,
              "#f0f921"
             ]
            ],
            "type": "heatmap"
           }
          ],
          "histogram": [
           {
            "marker": {
             "pattern": {
              "fillmode": "overlay",
              "size": 10,
              "solidity": 0.2
             }
            },
            "type": "histogram"
           }
          ],
          "histogram2d": [
           {
            "colorbar": {
             "outlinewidth": 0,
             "ticks": ""
            },
            "colorscale": [
             [
              0,
              "#0d0887"
             ],
             [
              0.1111111111111111,
              "#46039f"
             ],
             [
              0.2222222222222222,
              "#7201a8"
             ],
             [
              0.3333333333333333,
              "#9c179e"
             ],
             [
              0.4444444444444444,
              "#bd3786"
             ],
             [
              0.5555555555555556,
              "#d8576b"
             ],
             [
              0.6666666666666666,
              "#ed7953"
             ],
             [
              0.7777777777777778,
              "#fb9f3a"
             ],
             [
              0.8888888888888888,
              "#fdca26"
             ],
             [
              1,
              "#f0f921"
             ]
            ],
            "type": "histogram2d"
           }
          ],
          "histogram2dcontour": [
           {
            "colorbar": {
             "outlinewidth": 0,
             "ticks": ""
            },
            "colorscale": [
             [
              0,
              "#0d0887"
             ],
             [
              0.1111111111111111,
              "#46039f"
             ],
             [
              0.2222222222222222,
              "#7201a8"
             ],
             [
              0.3333333333333333,
              "#9c179e"
             ],
             [
              0.4444444444444444,
              "#bd3786"
             ],
             [
              0.5555555555555556,
              "#d8576b"
             ],
             [
              0.6666666666666666,
              "#ed7953"
             ],
             [
              0.7777777777777778,
              "#fb9f3a"
             ],
             [
              0.8888888888888888,
              "#fdca26"
             ],
             [
              1,
              "#f0f921"
             ]
            ],
            "type": "histogram2dcontour"
           }
          ],
          "mesh3d": [
           {
            "colorbar": {
             "outlinewidth": 0,
             "ticks": ""
            },
            "type": "mesh3d"
           }
          ],
          "parcoords": [
           {
            "line": {
             "colorbar": {
              "outlinewidth": 0,
              "ticks": ""
             }
            },
            "type": "parcoords"
           }
          ],
          "pie": [
           {
            "automargin": true,
            "type": "pie"
           }
          ],
          "scatter": [
           {
            "fillpattern": {
             "fillmode": "overlay",
             "size": 10,
             "solidity": 0.2
            },
            "type": "scatter"
           }
          ],
          "scatter3d": [
           {
            "line": {
             "colorbar": {
              "outlinewidth": 0,
              "ticks": ""
             }
            },
            "marker": {
             "colorbar": {
              "outlinewidth": 0,
              "ticks": ""
             }
            },
            "type": "scatter3d"
           }
          ],
          "scattercarpet": [
           {
            "marker": {
             "colorbar": {
              "outlinewidth": 0,
              "ticks": ""
             }
            },
            "type": "scattercarpet"
           }
          ],
          "scattergeo": [
           {
            "marker": {
             "colorbar": {
              "outlinewidth": 0,
              "ticks": ""
             }
            },
            "type": "scattergeo"
           }
          ],
          "scattergl": [
           {
            "marker": {
             "colorbar": {
              "outlinewidth": 0,
              "ticks": ""
             }
            },
            "type": "scattergl"
           }
          ],
          "scattermap": [
           {
            "marker": {
             "colorbar": {
              "outlinewidth": 0,
              "ticks": ""
             }
            },
            "type": "scattermap"
           }
          ],
          "scattermapbox": [
           {
            "marker": {
             "colorbar": {
              "outlinewidth": 0,
              "ticks": ""
             }
            },
            "type": "scattermapbox"
           }
          ],
          "scatterpolar": [
           {
            "marker": {
             "colorbar": {
              "outlinewidth": 0,
              "ticks": ""
             }
            },
            "type": "scatterpolar"
           }
          ],
          "scatterpolargl": [
           {
            "marker": {
             "colorbar": {
              "outlinewidth": 0,
              "ticks": ""
             }
            },
            "type": "scatterpolargl"
           }
          ],
          "scatterternary": [
           {
            "marker": {
             "colorbar": {
              "outlinewidth": 0,
              "ticks": ""
             }
            },
            "type": "scatterternary"
           }
          ],
          "surface": [
           {
            "colorbar": {
             "outlinewidth": 0,
             "ticks": ""
            },
            "colorscale": [
             [
              0,
              "#0d0887"
             ],
             [
              0.1111111111111111,
              "#46039f"
             ],
             [
              0.2222222222222222,
              "#7201a8"
             ],
             [
              0.3333333333333333,
              "#9c179e"
             ],
             [
              0.4444444444444444,
              "#bd3786"
             ],
             [
              0.5555555555555556,
              "#d8576b"
             ],
             [
              0.6666666666666666,
              "#ed7953"
             ],
             [
              0.7777777777777778,
              "#fb9f3a"
             ],
             [
              0.8888888888888888,
              "#fdca26"
             ],
             [
              1,
              "#f0f921"
             ]
            ],
            "type": "surface"
           }
          ],
          "table": [
           {
            "cells": {
             "fill": {
              "color": "#EBF0F8"
             },
             "line": {
              "color": "white"
             }
            },
            "header": {
             "fill": {
              "color": "#C8D4E3"
             },
             "line": {
              "color": "white"
             }
            },
            "type": "table"
           }
          ]
         },
         "layout": {
          "annotationdefaults": {
           "arrowcolor": "#2a3f5f",
           "arrowhead": 0,
           "arrowwidth": 1
          },
          "autotypenumbers": "strict",
          "coloraxis": {
           "colorbar": {
            "outlinewidth": 0,
            "ticks": ""
           }
          },
          "colorscale": {
           "diverging": [
            [
             0,
             "#8e0152"
            ],
            [
             0.1,
             "#c51b7d"
            ],
            [
             0.2,
             "#de77ae"
            ],
            [
             0.3,
             "#f1b6da"
            ],
            [
             0.4,
             "#fde0ef"
            ],
            [
             0.5,
             "#f7f7f7"
            ],
            [
             0.6,
             "#e6f5d0"
            ],
            [
             0.7,
             "#b8e186"
            ],
            [
             0.8,
             "#7fbc41"
            ],
            [
             0.9,
             "#4d9221"
            ],
            [
             1,
             "#276419"
            ]
           ],
           "sequential": [
            [
             0,
             "#0d0887"
            ],
            [
             0.1111111111111111,
             "#46039f"
            ],
            [
             0.2222222222222222,
             "#7201a8"
            ],
            [
             0.3333333333333333,
             "#9c179e"
            ],
            [
             0.4444444444444444,
             "#bd3786"
            ],
            [
             0.5555555555555556,
             "#d8576b"
            ],
            [
             0.6666666666666666,
             "#ed7953"
            ],
            [
             0.7777777777777778,
             "#fb9f3a"
            ],
            [
             0.8888888888888888,
             "#fdca26"
            ],
            [
             1,
             "#f0f921"
            ]
           ],
           "sequentialminus": [
            [
             0,
             "#0d0887"
            ],
            [
             0.1111111111111111,
             "#46039f"
            ],
            [
             0.2222222222222222,
             "#7201a8"
            ],
            [
             0.3333333333333333,
             "#9c179e"
            ],
            [
             0.4444444444444444,
             "#bd3786"
            ],
            [
             0.5555555555555556,
             "#d8576b"
            ],
            [
             0.6666666666666666,
             "#ed7953"
            ],
            [
             0.7777777777777778,
             "#fb9f3a"
            ],
            [
             0.8888888888888888,
             "#fdca26"
            ],
            [
             1,
             "#f0f921"
            ]
           ]
          },
          "colorway": [
           "#636efa",
           "#EF553B",
           "#00cc96",
           "#ab63fa",
           "#FFA15A",
           "#19d3f3",
           "#FF6692",
           "#B6E880",
           "#FF97FF",
           "#FECB52"
          ],
          "font": {
           "color": "#2a3f5f"
          },
          "geo": {
           "bgcolor": "white",
           "lakecolor": "white",
           "landcolor": "white",
           "showlakes": true,
           "showland": true,
           "subunitcolor": "#C8D4E3"
          },
          "hoverlabel": {
           "align": "left"
          },
          "hovermode": "closest",
          "mapbox": {
           "style": "light"
          },
          "paper_bgcolor": "white",
          "plot_bgcolor": "white",
          "polar": {
           "angularaxis": {
            "gridcolor": "#EBF0F8",
            "linecolor": "#EBF0F8",
            "ticks": ""
           },
           "bgcolor": "white",
           "radialaxis": {
            "gridcolor": "#EBF0F8",
            "linecolor": "#EBF0F8",
            "ticks": ""
           }
          },
          "scene": {
           "xaxis": {
            "backgroundcolor": "white",
            "gridcolor": "#DFE8F3",
            "gridwidth": 2,
            "linecolor": "#EBF0F8",
            "showbackground": true,
            "ticks": "",
            "zerolinecolor": "#EBF0F8"
           },
           "yaxis": {
            "backgroundcolor": "white",
            "gridcolor": "#DFE8F3",
            "gridwidth": 2,
            "linecolor": "#EBF0F8",
            "showbackground": true,
            "ticks": "",
            "zerolinecolor": "#EBF0F8"
           },
           "zaxis": {
            "backgroundcolor": "white",
            "gridcolor": "#DFE8F3",
            "gridwidth": 2,
            "linecolor": "#EBF0F8",
            "showbackground": true,
            "ticks": "",
            "zerolinecolor": "#EBF0F8"
           }
          },
          "shapedefaults": {
           "line": {
            "color": "#2a3f5f"
           }
          },
          "ternary": {
           "aaxis": {
            "gridcolor": "#DFE8F3",
            "linecolor": "#A2B1C6",
            "ticks": ""
           },
           "baxis": {
            "gridcolor": "#DFE8F3",
            "linecolor": "#A2B1C6",
            "ticks": ""
           },
           "bgcolor": "white",
           "caxis": {
            "gridcolor": "#DFE8F3",
            "linecolor": "#A2B1C6",
            "ticks": ""
           }
          },
          "title": {
           "x": 0.05
          },
          "xaxis": {
           "automargin": true,
           "gridcolor": "#EBF0F8",
           "linecolor": "#EBF0F8",
           "ticks": "",
           "title": {
            "standoff": 15
           },
           "zerolinecolor": "#EBF0F8",
           "zerolinewidth": 2
          },
          "yaxis": {
           "automargin": true,
           "gridcolor": "#EBF0F8",
           "linecolor": "#EBF0F8",
           "ticks": "",
           "title": {
            "standoff": 15
           },
           "zerolinecolor": "#EBF0F8",
           "zerolinewidth": 2
          }
         }
        },
        "title": {
         "text": "ID: FOODS_3_035_CA_4_evaluation | MAPE: 0.14"
        },
        "width": 800,
        "xaxis": {
         "title": {
          "text": "Date"
         }
        },
        "yaxis": {
         "title": {
          "text": "Sales"
         }
        }
       }
      }
     },
     "metadata": {},
     "output_type": "display_data"
    },
    {
     "name": "stderr",
     "output_type": "stream",
     "text": [
      "<string>:28: FutureWarning:\n",
      "\n",
      "The behavior of DataFrame concatenation with empty or all-NA entries is deprecated. In a future version, this will no longer exclude empty or all-NA columns when determining the result dtypes. To retain the old behavior, exclude the relevant entries before the concat operation.\n",
      "\n"
     ]
    },
    {
     "data": {
      "application/vnd.plotly.v1+json": {
       "config": {
        "plotlyServerURL": "https://plot.ly"
       },
       "data": [
        {
         "line": {
          "color": "lightgray"
         },
         "name": "Train Sales",
         "type": "scatter",
         "x": [
          "2016-04-09T00:00:00",
          "2016-04-10T00:00:00",
          "2016-04-11T00:00:00",
          "2016-04-12T00:00:00",
          "2016-04-13T00:00:00",
          "2016-04-14T00:00:00",
          "2016-04-15T00:00:00",
          "2016-04-16T00:00:00",
          "2016-04-17T00:00:00",
          "2016-04-18T00:00:00",
          "2016-04-19T00:00:00",
          "2016-04-20T00:00:00",
          "2016-04-21T00:00:00",
          "2016-04-22T00:00:00",
          "2016-04-23T00:00:00",
          "2016-04-24T00:00:00",
          "2016-04-25T00:00:00",
          "2016-04-26T00:00:00",
          "2016-04-27T00:00:00",
          "2016-04-28T00:00:00",
          "2016-04-29T00:00:00",
          "2016-04-30T00:00:00",
          "2016-05-01T00:00:00",
          "2016-05-02T00:00:00",
          "2016-05-03T00:00:00",
          "2016-05-04T00:00:00",
          "2016-05-05T00:00:00",
          "2016-05-06T00:00:00",
          "2016-05-07T00:00:00",
          "2016-05-08T00:00:00"
         ],
         "y": {
          "bdata": "AQIBAgABAgAAAQABAAABAgIAAQEABAIBAQEAAQIB",
          "dtype": "i1"
         }
        },
        {
         "line": {
          "color": "coral"
         },
         "name": "Test Sales",
         "type": "scatter",
         "x": [
          "2016-05-08T00:00:00",
          "2016-05-09T00:00:00",
          "2016-05-10T00:00:00",
          "2016-05-11T00:00:00",
          "2016-05-12T00:00:00",
          "2016-05-13T00:00:00",
          "2016-05-14T00:00:00",
          "2016-05-15T00:00:00",
          "2016-05-16T00:00:00",
          "2016-05-17T00:00:00",
          "2016-05-18T00:00:00",
          "2016-05-19T00:00:00",
          "2016-05-20T00:00:00",
          "2016-05-21T00:00:00",
          "2016-05-22T00:00:00"
         ],
         "y": {
          "bdata": "AQAAAgEBAAABAQAAAgEB",
          "dtype": "i1"
         }
        },
        {
         "line": {
          "color": "coral",
          "dash": "dash"
         },
         "name": "Forecast",
         "type": "scatter",
         "x": [
          "2016-05-08T00:00:00",
          "2016-05-09T00:00:00",
          "2016-05-10T00:00:00",
          "2016-05-11T00:00:00",
          "2016-05-12T00:00:00",
          "2016-05-13T00:00:00",
          "2016-05-14T00:00:00",
          "2016-05-15T00:00:00",
          "2016-05-16T00:00:00",
          "2016-05-17T00:00:00",
          "2016-05-18T00:00:00",
          "2016-05-19T00:00:00",
          "2016-05-20T00:00:00",
          "2016-05-21T00:00:00",
          "2016-05-22T00:00:00"
         ],
         "y": {
          "bdata": "AAAAAAAA+H9mdWFailrwP0kPQ6uT8+0/F9Ebk2qE7T/aHEphnEftP9sPod8x++4/lh2HZkOj8z8O3IE65fHzPxDFiVS9AfA/0sIKXMOx7D+TGtoAbEDsP/lx6rk74es/FrIEY45v7j/qtMk8TaHyP/nFW51S1PI/",
          "dtype": "f8"
         }
        }
       ],
       "layout": {
        "height": 400,
        "template": {
         "data": {
          "bar": [
           {
            "error_x": {
             "color": "#2a3f5f"
            },
            "error_y": {
             "color": "#2a3f5f"
            },
            "marker": {
             "line": {
              "color": "white",
              "width": 0.5
             },
             "pattern": {
              "fillmode": "overlay",
              "size": 10,
              "solidity": 0.2
             }
            },
            "type": "bar"
           }
          ],
          "barpolar": [
           {
            "marker": {
             "line": {
              "color": "white",
              "width": 0.5
             },
             "pattern": {
              "fillmode": "overlay",
              "size": 10,
              "solidity": 0.2
             }
            },
            "type": "barpolar"
           }
          ],
          "carpet": [
           {
            "aaxis": {
             "endlinecolor": "#2a3f5f",
             "gridcolor": "#C8D4E3",
             "linecolor": "#C8D4E3",
             "minorgridcolor": "#C8D4E3",
             "startlinecolor": "#2a3f5f"
            },
            "baxis": {
             "endlinecolor": "#2a3f5f",
             "gridcolor": "#C8D4E3",
             "linecolor": "#C8D4E3",
             "minorgridcolor": "#C8D4E3",
             "startlinecolor": "#2a3f5f"
            },
            "type": "carpet"
           }
          ],
          "choropleth": [
           {
            "colorbar": {
             "outlinewidth": 0,
             "ticks": ""
            },
            "type": "choropleth"
           }
          ],
          "contour": [
           {
            "colorbar": {
             "outlinewidth": 0,
             "ticks": ""
            },
            "colorscale": [
             [
              0,
              "#0d0887"
             ],
             [
              0.1111111111111111,
              "#46039f"
             ],
             [
              0.2222222222222222,
              "#7201a8"
             ],
             [
              0.3333333333333333,
              "#9c179e"
             ],
             [
              0.4444444444444444,
              "#bd3786"
             ],
             [
              0.5555555555555556,
              "#d8576b"
             ],
             [
              0.6666666666666666,
              "#ed7953"
             ],
             [
              0.7777777777777778,
              "#fb9f3a"
             ],
             [
              0.8888888888888888,
              "#fdca26"
             ],
             [
              1,
              "#f0f921"
             ]
            ],
            "type": "contour"
           }
          ],
          "contourcarpet": [
           {
            "colorbar": {
             "outlinewidth": 0,
             "ticks": ""
            },
            "type": "contourcarpet"
           }
          ],
          "heatmap": [
           {
            "colorbar": {
             "outlinewidth": 0,
             "ticks": ""
            },
            "colorscale": [
             [
              0,
              "#0d0887"
             ],
             [
              0.1111111111111111,
              "#46039f"
             ],
             [
              0.2222222222222222,
              "#7201a8"
             ],
             [
              0.3333333333333333,
              "#9c179e"
             ],
             [
              0.4444444444444444,
              "#bd3786"
             ],
             [
              0.5555555555555556,
              "#d8576b"
             ],
             [
              0.6666666666666666,
              "#ed7953"
             ],
             [
              0.7777777777777778,
              "#fb9f3a"
             ],
             [
              0.8888888888888888,
              "#fdca26"
             ],
             [
              1,
              "#f0f921"
             ]
            ],
            "type": "heatmap"
           }
          ],
          "histogram": [
           {
            "marker": {
             "pattern": {
              "fillmode": "overlay",
              "size": 10,
              "solidity": 0.2
             }
            },
            "type": "histogram"
           }
          ],
          "histogram2d": [
           {
            "colorbar": {
             "outlinewidth": 0,
             "ticks": ""
            },
            "colorscale": [
             [
              0,
              "#0d0887"
             ],
             [
              0.1111111111111111,
              "#46039f"
             ],
             [
              0.2222222222222222,
              "#7201a8"
             ],
             [
              0.3333333333333333,
              "#9c179e"
             ],
             [
              0.4444444444444444,
              "#bd3786"
             ],
             [
              0.5555555555555556,
              "#d8576b"
             ],
             [
              0.6666666666666666,
              "#ed7953"
             ],
             [
              0.7777777777777778,
              "#fb9f3a"
             ],
             [
              0.8888888888888888,
              "#fdca26"
             ],
             [
              1,
              "#f0f921"
             ]
            ],
            "type": "histogram2d"
           }
          ],
          "histogram2dcontour": [
           {
            "colorbar": {
             "outlinewidth": 0,
             "ticks": ""
            },
            "colorscale": [
             [
              0,
              "#0d0887"
             ],
             [
              0.1111111111111111,
              "#46039f"
             ],
             [
              0.2222222222222222,
              "#7201a8"
             ],
             [
              0.3333333333333333,
              "#9c179e"
             ],
             [
              0.4444444444444444,
              "#bd3786"
             ],
             [
              0.5555555555555556,
              "#d8576b"
             ],
             [
              0.6666666666666666,
              "#ed7953"
             ],
             [
              0.7777777777777778,
              "#fb9f3a"
             ],
             [
              0.8888888888888888,
              "#fdca26"
             ],
             [
              1,
              "#f0f921"
             ]
            ],
            "type": "histogram2dcontour"
           }
          ],
          "mesh3d": [
           {
            "colorbar": {
             "outlinewidth": 0,
             "ticks": ""
            },
            "type": "mesh3d"
           }
          ],
          "parcoords": [
           {
            "line": {
             "colorbar": {
              "outlinewidth": 0,
              "ticks": ""
             }
            },
            "type": "parcoords"
           }
          ],
          "pie": [
           {
            "automargin": true,
            "type": "pie"
           }
          ],
          "scatter": [
           {
            "fillpattern": {
             "fillmode": "overlay",
             "size": 10,
             "solidity": 0.2
            },
            "type": "scatter"
           }
          ],
          "scatter3d": [
           {
            "line": {
             "colorbar": {
              "outlinewidth": 0,
              "ticks": ""
             }
            },
            "marker": {
             "colorbar": {
              "outlinewidth": 0,
              "ticks": ""
             }
            },
            "type": "scatter3d"
           }
          ],
          "scattercarpet": [
           {
            "marker": {
             "colorbar": {
              "outlinewidth": 0,
              "ticks": ""
             }
            },
            "type": "scattercarpet"
           }
          ],
          "scattergeo": [
           {
            "marker": {
             "colorbar": {
              "outlinewidth": 0,
              "ticks": ""
             }
            },
            "type": "scattergeo"
           }
          ],
          "scattergl": [
           {
            "marker": {
             "colorbar": {
              "outlinewidth": 0,
              "ticks": ""
             }
            },
            "type": "scattergl"
           }
          ],
          "scattermap": [
           {
            "marker": {
             "colorbar": {
              "outlinewidth": 0,
              "ticks": ""
             }
            },
            "type": "scattermap"
           }
          ],
          "scattermapbox": [
           {
            "marker": {
             "colorbar": {
              "outlinewidth": 0,
              "ticks": ""
             }
            },
            "type": "scattermapbox"
           }
          ],
          "scatterpolar": [
           {
            "marker": {
             "colorbar": {
              "outlinewidth": 0,
              "ticks": ""
             }
            },
            "type": "scatterpolar"
           }
          ],
          "scatterpolargl": [
           {
            "marker": {
             "colorbar": {
              "outlinewidth": 0,
              "ticks": ""
             }
            },
            "type": "scatterpolargl"
           }
          ],
          "scatterternary": [
           {
            "marker": {
             "colorbar": {
              "outlinewidth": 0,
              "ticks": ""
             }
            },
            "type": "scatterternary"
           }
          ],
          "surface": [
           {
            "colorbar": {
             "outlinewidth": 0,
             "ticks": ""
            },
            "colorscale": [
             [
              0,
              "#0d0887"
             ],
             [
              0.1111111111111111,
              "#46039f"
             ],
             [
              0.2222222222222222,
              "#7201a8"
             ],
             [
              0.3333333333333333,
              "#9c179e"
             ],
             [
              0.4444444444444444,
              "#bd3786"
             ],
             [
              0.5555555555555556,
              "#d8576b"
             ],
             [
              0.6666666666666666,
              "#ed7953"
             ],
             [
              0.7777777777777778,
              "#fb9f3a"
             ],
             [
              0.8888888888888888,
              "#fdca26"
             ],
             [
              1,
              "#f0f921"
             ]
            ],
            "type": "surface"
           }
          ],
          "table": [
           {
            "cells": {
             "fill": {
              "color": "#EBF0F8"
             },
             "line": {
              "color": "white"
             }
            },
            "header": {
             "fill": {
              "color": "#C8D4E3"
             },
             "line": {
              "color": "white"
             }
            },
            "type": "table"
           }
          ]
         },
         "layout": {
          "annotationdefaults": {
           "arrowcolor": "#2a3f5f",
           "arrowhead": 0,
           "arrowwidth": 1
          },
          "autotypenumbers": "strict",
          "coloraxis": {
           "colorbar": {
            "outlinewidth": 0,
            "ticks": ""
           }
          },
          "colorscale": {
           "diverging": [
            [
             0,
             "#8e0152"
            ],
            [
             0.1,
             "#c51b7d"
            ],
            [
             0.2,
             "#de77ae"
            ],
            [
             0.3,
             "#f1b6da"
            ],
            [
             0.4,
             "#fde0ef"
            ],
            [
             0.5,
             "#f7f7f7"
            ],
            [
             0.6,
             "#e6f5d0"
            ],
            [
             0.7,
             "#b8e186"
            ],
            [
             0.8,
             "#7fbc41"
            ],
            [
             0.9,
             "#4d9221"
            ],
            [
             1,
             "#276419"
            ]
           ],
           "sequential": [
            [
             0,
             "#0d0887"
            ],
            [
             0.1111111111111111,
             "#46039f"
            ],
            [
             0.2222222222222222,
             "#7201a8"
            ],
            [
             0.3333333333333333,
             "#9c179e"
            ],
            [
             0.4444444444444444,
             "#bd3786"
            ],
            [
             0.5555555555555556,
             "#d8576b"
            ],
            [
             0.6666666666666666,
             "#ed7953"
            ],
            [
             0.7777777777777778,
             "#fb9f3a"
            ],
            [
             0.8888888888888888,
             "#fdca26"
            ],
            [
             1,
             "#f0f921"
            ]
           ],
           "sequentialminus": [
            [
             0,
             "#0d0887"
            ],
            [
             0.1111111111111111,
             "#46039f"
            ],
            [
             0.2222222222222222,
             "#7201a8"
            ],
            [
             0.3333333333333333,
             "#9c179e"
            ],
            [
             0.4444444444444444,
             "#bd3786"
            ],
            [
             0.5555555555555556,
             "#d8576b"
            ],
            [
             0.6666666666666666,
             "#ed7953"
            ],
            [
             0.7777777777777778,
             "#fb9f3a"
            ],
            [
             0.8888888888888888,
             "#fdca26"
            ],
            [
             1,
             "#f0f921"
            ]
           ]
          },
          "colorway": [
           "#636efa",
           "#EF553B",
           "#00cc96",
           "#ab63fa",
           "#FFA15A",
           "#19d3f3",
           "#FF6692",
           "#B6E880",
           "#FF97FF",
           "#FECB52"
          ],
          "font": {
           "color": "#2a3f5f"
          },
          "geo": {
           "bgcolor": "white",
           "lakecolor": "white",
           "landcolor": "white",
           "showlakes": true,
           "showland": true,
           "subunitcolor": "#C8D4E3"
          },
          "hoverlabel": {
           "align": "left"
          },
          "hovermode": "closest",
          "mapbox": {
           "style": "light"
          },
          "paper_bgcolor": "white",
          "plot_bgcolor": "white",
          "polar": {
           "angularaxis": {
            "gridcolor": "#EBF0F8",
            "linecolor": "#EBF0F8",
            "ticks": ""
           },
           "bgcolor": "white",
           "radialaxis": {
            "gridcolor": "#EBF0F8",
            "linecolor": "#EBF0F8",
            "ticks": ""
           }
          },
          "scene": {
           "xaxis": {
            "backgroundcolor": "white",
            "gridcolor": "#DFE8F3",
            "gridwidth": 2,
            "linecolor": "#EBF0F8",
            "showbackground": true,
            "ticks": "",
            "zerolinecolor": "#EBF0F8"
           },
           "yaxis": {
            "backgroundcolor": "white",
            "gridcolor": "#DFE8F3",
            "gridwidth": 2,
            "linecolor": "#EBF0F8",
            "showbackground": true,
            "ticks": "",
            "zerolinecolor": "#EBF0F8"
           },
           "zaxis": {
            "backgroundcolor": "white",
            "gridcolor": "#DFE8F3",
            "gridwidth": 2,
            "linecolor": "#EBF0F8",
            "showbackground": true,
            "ticks": "",
            "zerolinecolor": "#EBF0F8"
           }
          },
          "shapedefaults": {
           "line": {
            "color": "#2a3f5f"
           }
          },
          "ternary": {
           "aaxis": {
            "gridcolor": "#DFE8F3",
            "linecolor": "#A2B1C6",
            "ticks": ""
           },
           "baxis": {
            "gridcolor": "#DFE8F3",
            "linecolor": "#A2B1C6",
            "ticks": ""
           },
           "bgcolor": "white",
           "caxis": {
            "gridcolor": "#DFE8F3",
            "linecolor": "#A2B1C6",
            "ticks": ""
           }
          },
          "title": {
           "x": 0.05
          },
          "xaxis": {
           "automargin": true,
           "gridcolor": "#EBF0F8",
           "linecolor": "#EBF0F8",
           "ticks": "",
           "title": {
            "standoff": 15
           },
           "zerolinecolor": "#EBF0F8",
           "zerolinewidth": 2
          },
          "yaxis": {
           "automargin": true,
           "gridcolor": "#EBF0F8",
           "linecolor": "#EBF0F8",
           "ticks": "",
           "title": {
            "standoff": 15
           },
           "zerolinecolor": "#EBF0F8",
           "zerolinewidth": 2
          }
         }
        },
        "title": {
         "text": "ID: HOUSEHOLD_2_437_TX_3_evaluation | MAPE: 0.20"
        },
        "width": 800,
        "xaxis": {
         "title": {
          "text": "Date"
         }
        },
        "yaxis": {
         "title": {
          "text": "Sales"
         }
        }
       }
      }
     },
     "metadata": {},
     "output_type": "display_data"
    },
    {
     "name": "stderr",
     "output_type": "stream",
     "text": [
      "<string>:28: FutureWarning:\n",
      "\n",
      "The behavior of DataFrame concatenation with empty or all-NA entries is deprecated. In a future version, this will no longer exclude empty or all-NA columns when determining the result dtypes. To retain the old behavior, exclude the relevant entries before the concat operation.\n",
      "\n"
     ]
    },
    {
     "data": {
      "application/vnd.plotly.v1+json": {
       "config": {
        "plotlyServerURL": "https://plot.ly"
       },
       "data": [
        {
         "line": {
          "color": "lightgray"
         },
         "name": "Train Sales",
         "type": "scatter",
         "x": [
          "2016-04-09T00:00:00",
          "2016-04-10T00:00:00",
          "2016-04-11T00:00:00",
          "2016-04-12T00:00:00",
          "2016-04-13T00:00:00",
          "2016-04-14T00:00:00",
          "2016-04-15T00:00:00",
          "2016-04-16T00:00:00",
          "2016-04-17T00:00:00",
          "2016-04-18T00:00:00",
          "2016-04-19T00:00:00",
          "2016-04-20T00:00:00",
          "2016-04-21T00:00:00",
          "2016-04-22T00:00:00",
          "2016-04-23T00:00:00",
          "2016-04-24T00:00:00",
          "2016-04-25T00:00:00",
          "2016-04-26T00:00:00",
          "2016-04-27T00:00:00",
          "2016-04-28T00:00:00",
          "2016-04-29T00:00:00",
          "2016-04-30T00:00:00",
          "2016-05-01T00:00:00",
          "2016-05-02T00:00:00",
          "2016-05-03T00:00:00",
          "2016-05-04T00:00:00",
          "2016-05-05T00:00:00",
          "2016-05-06T00:00:00",
          "2016-05-07T00:00:00",
          "2016-05-08T00:00:00"
         ],
         "y": {
          "bdata": "AAEAAQAAAAEAAQAAAAAAAQAAAgIBAAECAAEBAAEA",
          "dtype": "i1"
         }
        },
        {
         "line": {
          "color": "coral"
         },
         "name": "Test Sales",
         "type": "scatter",
         "x": [
          "2016-05-08T00:00:00",
          "2016-05-09T00:00:00",
          "2016-05-10T00:00:00",
          "2016-05-11T00:00:00",
          "2016-05-12T00:00:00",
          "2016-05-13T00:00:00",
          "2016-05-14T00:00:00",
          "2016-05-15T00:00:00",
          "2016-05-16T00:00:00",
          "2016-05-17T00:00:00",
          "2016-05-18T00:00:00",
          "2016-05-19T00:00:00",
          "2016-05-20T00:00:00",
          "2016-05-21T00:00:00",
          "2016-05-22T00:00:00"
         ],
         "y": {
          "bdata": "AAEBAwAAAAABAQEBAAEC",
          "dtype": "i1"
         }
        },
        {
         "line": {
          "color": "coral",
          "dash": "dash"
         },
         "name": "Forecast",
         "type": "scatter",
         "x": [
          "2016-05-08T00:00:00",
          "2016-05-09T00:00:00",
          "2016-05-10T00:00:00",
          "2016-05-11T00:00:00",
          "2016-05-12T00:00:00",
          "2016-05-13T00:00:00",
          "2016-05-14T00:00:00",
          "2016-05-15T00:00:00",
          "2016-05-16T00:00:00",
          "2016-05-17T00:00:00",
          "2016-05-18T00:00:00",
          "2016-05-19T00:00:00",
          "2016-05-20T00:00:00",
          "2016-05-21T00:00:00",
          "2016-05-22T00:00:00"
         ],
         "y": {
          "bdata": "AAAAAAAA+H81RBX+DO/sPy9uowG8Zew/qlJpej/k6j+iFjn6TkLrPxFmA37Hr+w/MbWlDvI69D80Tdh+Mgb1P2tgqwSLI/A/Y4W29wRk7D/S/ZyC/IzrPwuW6gJe5us/aJGSw8zj7j9XqUXpdyb0P62b96S4z/Q/",
          "dtype": "f8"
         }
        }
       ],
       "layout": {
        "height": 400,
        "template": {
         "data": {
          "bar": [
           {
            "error_x": {
             "color": "#2a3f5f"
            },
            "error_y": {
             "color": "#2a3f5f"
            },
            "marker": {
             "line": {
              "color": "white",
              "width": 0.5
             },
             "pattern": {
              "fillmode": "overlay",
              "size": 10,
              "solidity": 0.2
             }
            },
            "type": "bar"
           }
          ],
          "barpolar": [
           {
            "marker": {
             "line": {
              "color": "white",
              "width": 0.5
             },
             "pattern": {
              "fillmode": "overlay",
              "size": 10,
              "solidity": 0.2
             }
            },
            "type": "barpolar"
           }
          ],
          "carpet": [
           {
            "aaxis": {
             "endlinecolor": "#2a3f5f",
             "gridcolor": "#C8D4E3",
             "linecolor": "#C8D4E3",
             "minorgridcolor": "#C8D4E3",
             "startlinecolor": "#2a3f5f"
            },
            "baxis": {
             "endlinecolor": "#2a3f5f",
             "gridcolor": "#C8D4E3",
             "linecolor": "#C8D4E3",
             "minorgridcolor": "#C8D4E3",
             "startlinecolor": "#2a3f5f"
            },
            "type": "carpet"
           }
          ],
          "choropleth": [
           {
            "colorbar": {
             "outlinewidth": 0,
             "ticks": ""
            },
            "type": "choropleth"
           }
          ],
          "contour": [
           {
            "colorbar": {
             "outlinewidth": 0,
             "ticks": ""
            },
            "colorscale": [
             [
              0,
              "#0d0887"
             ],
             [
              0.1111111111111111,
              "#46039f"
             ],
             [
              0.2222222222222222,
              "#7201a8"
             ],
             [
              0.3333333333333333,
              "#9c179e"
             ],
             [
              0.4444444444444444,
              "#bd3786"
             ],
             [
              0.5555555555555556,
              "#d8576b"
             ],
             [
              0.6666666666666666,
              "#ed7953"
             ],
             [
              0.7777777777777778,
              "#fb9f3a"
             ],
             [
              0.8888888888888888,
              "#fdca26"
             ],
             [
              1,
              "#f0f921"
             ]
            ],
            "type": "contour"
           }
          ],
          "contourcarpet": [
           {
            "colorbar": {
             "outlinewidth": 0,
             "ticks": ""
            },
            "type": "contourcarpet"
           }
          ],
          "heatmap": [
           {
            "colorbar": {
             "outlinewidth": 0,
             "ticks": ""
            },
            "colorscale": [
             [
              0,
              "#0d0887"
             ],
             [
              0.1111111111111111,
              "#46039f"
             ],
             [
              0.2222222222222222,
              "#7201a8"
             ],
             [
              0.3333333333333333,
              "#9c179e"
             ],
             [
              0.4444444444444444,
              "#bd3786"
             ],
             [
              0.5555555555555556,
              "#d8576b"
             ],
             [
              0.6666666666666666,
              "#ed7953"
             ],
             [
              0.7777777777777778,
              "#fb9f3a"
             ],
             [
              0.8888888888888888,
              "#fdca26"
             ],
             [
              1,
              "#f0f921"
             ]
            ],
            "type": "heatmap"
           }
          ],
          "histogram": [
           {
            "marker": {
             "pattern": {
              "fillmode": "overlay",
              "size": 10,
              "solidity": 0.2
             }
            },
            "type": "histogram"
           }
          ],
          "histogram2d": [
           {
            "colorbar": {
             "outlinewidth": 0,
             "ticks": ""
            },
            "colorscale": [
             [
              0,
              "#0d0887"
             ],
             [
              0.1111111111111111,
              "#46039f"
             ],
             [
              0.2222222222222222,
              "#7201a8"
             ],
             [
              0.3333333333333333,
              "#9c179e"
             ],
             [
              0.4444444444444444,
              "#bd3786"
             ],
             [
              0.5555555555555556,
              "#d8576b"
             ],
             [
              0.6666666666666666,
              "#ed7953"
             ],
             [
              0.7777777777777778,
              "#fb9f3a"
             ],
             [
              0.8888888888888888,
              "#fdca26"
             ],
             [
              1,
              "#f0f921"
             ]
            ],
            "type": "histogram2d"
           }
          ],
          "histogram2dcontour": [
           {
            "colorbar": {
             "outlinewidth": 0,
             "ticks": ""
            },
            "colorscale": [
             [
              0,
              "#0d0887"
             ],
             [
              0.1111111111111111,
              "#46039f"
             ],
             [
              0.2222222222222222,
              "#7201a8"
             ],
             [
              0.3333333333333333,
              "#9c179e"
             ],
             [
              0.4444444444444444,
              "#bd3786"
             ],
             [
              0.5555555555555556,
              "#d8576b"
             ],
             [
              0.6666666666666666,
              "#ed7953"
             ],
             [
              0.7777777777777778,
              "#fb9f3a"
             ],
             [
              0.8888888888888888,
              "#fdca26"
             ],
             [
              1,
              "#f0f921"
             ]
            ],
            "type": "histogram2dcontour"
           }
          ],
          "mesh3d": [
           {
            "colorbar": {
             "outlinewidth": 0,
             "ticks": ""
            },
            "type": "mesh3d"
           }
          ],
          "parcoords": [
           {
            "line": {
             "colorbar": {
              "outlinewidth": 0,
              "ticks": ""
             }
            },
            "type": "parcoords"
           }
          ],
          "pie": [
           {
            "automargin": true,
            "type": "pie"
           }
          ],
          "scatter": [
           {
            "fillpattern": {
             "fillmode": "overlay",
             "size": 10,
             "solidity": 0.2
            },
            "type": "scatter"
           }
          ],
          "scatter3d": [
           {
            "line": {
             "colorbar": {
              "outlinewidth": 0,
              "ticks": ""
             }
            },
            "marker": {
             "colorbar": {
              "outlinewidth": 0,
              "ticks": ""
             }
            },
            "type": "scatter3d"
           }
          ],
          "scattercarpet": [
           {
            "marker": {
             "colorbar": {
              "outlinewidth": 0,
              "ticks": ""
             }
            },
            "type": "scattercarpet"
           }
          ],
          "scattergeo": [
           {
            "marker": {
             "colorbar": {
              "outlinewidth": 0,
              "ticks": ""
             }
            },
            "type": "scattergeo"
           }
          ],
          "scattergl": [
           {
            "marker": {
             "colorbar": {
              "outlinewidth": 0,
              "ticks": ""
             }
            },
            "type": "scattergl"
           }
          ],
          "scattermap": [
           {
            "marker": {
             "colorbar": {
              "outlinewidth": 0,
              "ticks": ""
             }
            },
            "type": "scattermap"
           }
          ],
          "scattermapbox": [
           {
            "marker": {
             "colorbar": {
              "outlinewidth": 0,
              "ticks": ""
             }
            },
            "type": "scattermapbox"
           }
          ],
          "scatterpolar": [
           {
            "marker": {
             "colorbar": {
              "outlinewidth": 0,
              "ticks": ""
             }
            },
            "type": "scatterpolar"
           }
          ],
          "scatterpolargl": [
           {
            "marker": {
             "colorbar": {
              "outlinewidth": 0,
              "ticks": ""
             }
            },
            "type": "scatterpolargl"
           }
          ],
          "scatterternary": [
           {
            "marker": {
             "colorbar": {
              "outlinewidth": 0,
              "ticks": ""
             }
            },
            "type": "scatterternary"
           }
          ],
          "surface": [
           {
            "colorbar": {
             "outlinewidth": 0,
             "ticks": ""
            },
            "colorscale": [
             [
              0,
              "#0d0887"
             ],
             [
              0.1111111111111111,
              "#46039f"
             ],
             [
              0.2222222222222222,
              "#7201a8"
             ],
             [
              0.3333333333333333,
              "#9c179e"
             ],
             [
              0.4444444444444444,
              "#bd3786"
             ],
             [
              0.5555555555555556,
              "#d8576b"
             ],
             [
              0.6666666666666666,
              "#ed7953"
             ],
             [
              0.7777777777777778,
              "#fb9f3a"
             ],
             [
              0.8888888888888888,
              "#fdca26"
             ],
             [
              1,
              "#f0f921"
             ]
            ],
            "type": "surface"
           }
          ],
          "table": [
           {
            "cells": {
             "fill": {
              "color": "#EBF0F8"
             },
             "line": {
              "color": "white"
             }
            },
            "header": {
             "fill": {
              "color": "#C8D4E3"
             },
             "line": {
              "color": "white"
             }
            },
            "type": "table"
           }
          ]
         },
         "layout": {
          "annotationdefaults": {
           "arrowcolor": "#2a3f5f",
           "arrowhead": 0,
           "arrowwidth": 1
          },
          "autotypenumbers": "strict",
          "coloraxis": {
           "colorbar": {
            "outlinewidth": 0,
            "ticks": ""
           }
          },
          "colorscale": {
           "diverging": [
            [
             0,
             "#8e0152"
            ],
            [
             0.1,
             "#c51b7d"
            ],
            [
             0.2,
             "#de77ae"
            ],
            [
             0.3,
             "#f1b6da"
            ],
            [
             0.4,
             "#fde0ef"
            ],
            [
             0.5,
             "#f7f7f7"
            ],
            [
             0.6,
             "#e6f5d0"
            ],
            [
             0.7,
             "#b8e186"
            ],
            [
             0.8,
             "#7fbc41"
            ],
            [
             0.9,
             "#4d9221"
            ],
            [
             1,
             "#276419"
            ]
           ],
           "sequential": [
            [
             0,
             "#0d0887"
            ],
            [
             0.1111111111111111,
             "#46039f"
            ],
            [
             0.2222222222222222,
             "#7201a8"
            ],
            [
             0.3333333333333333,
             "#9c179e"
            ],
            [
             0.4444444444444444,
             "#bd3786"
            ],
            [
             0.5555555555555556,
             "#d8576b"
            ],
            [
             0.6666666666666666,
             "#ed7953"
            ],
            [
             0.7777777777777778,
             "#fb9f3a"
            ],
            [
             0.8888888888888888,
             "#fdca26"
            ],
            [
             1,
             "#f0f921"
            ]
           ],
           "sequentialminus": [
            [
             0,
             "#0d0887"
            ],
            [
             0.1111111111111111,
             "#46039f"
            ],
            [
             0.2222222222222222,
             "#7201a8"
            ],
            [
             0.3333333333333333,
             "#9c179e"
            ],
            [
             0.4444444444444444,
             "#bd3786"
            ],
            [
             0.5555555555555556,
             "#d8576b"
            ],
            [
             0.6666666666666666,
             "#ed7953"
            ],
            [
             0.7777777777777778,
             "#fb9f3a"
            ],
            [
             0.8888888888888888,
             "#fdca26"
            ],
            [
             1,
             "#f0f921"
            ]
           ]
          },
          "colorway": [
           "#636efa",
           "#EF553B",
           "#00cc96",
           "#ab63fa",
           "#FFA15A",
           "#19d3f3",
           "#FF6692",
           "#B6E880",
           "#FF97FF",
           "#FECB52"
          ],
          "font": {
           "color": "#2a3f5f"
          },
          "geo": {
           "bgcolor": "white",
           "lakecolor": "white",
           "landcolor": "white",
           "showlakes": true,
           "showland": true,
           "subunitcolor": "#C8D4E3"
          },
          "hoverlabel": {
           "align": "left"
          },
          "hovermode": "closest",
          "mapbox": {
           "style": "light"
          },
          "paper_bgcolor": "white",
          "plot_bgcolor": "white",
          "polar": {
           "angularaxis": {
            "gridcolor": "#EBF0F8",
            "linecolor": "#EBF0F8",
            "ticks": ""
           },
           "bgcolor": "white",
           "radialaxis": {
            "gridcolor": "#EBF0F8",
            "linecolor": "#EBF0F8",
            "ticks": ""
           }
          },
          "scene": {
           "xaxis": {
            "backgroundcolor": "white",
            "gridcolor": "#DFE8F3",
            "gridwidth": 2,
            "linecolor": "#EBF0F8",
            "showbackground": true,
            "ticks": "",
            "zerolinecolor": "#EBF0F8"
           },
           "yaxis": {
            "backgroundcolor": "white",
            "gridcolor": "#DFE8F3",
            "gridwidth": 2,
            "linecolor": "#EBF0F8",
            "showbackground": true,
            "ticks": "",
            "zerolinecolor": "#EBF0F8"
           },
           "zaxis": {
            "backgroundcolor": "white",
            "gridcolor": "#DFE8F3",
            "gridwidth": 2,
            "linecolor": "#EBF0F8",
            "showbackground": true,
            "ticks": "",
            "zerolinecolor": "#EBF0F8"
           }
          },
          "shapedefaults": {
           "line": {
            "color": "#2a3f5f"
           }
          },
          "ternary": {
           "aaxis": {
            "gridcolor": "#DFE8F3",
            "linecolor": "#A2B1C6",
            "ticks": ""
           },
           "baxis": {
            "gridcolor": "#DFE8F3",
            "linecolor": "#A2B1C6",
            "ticks": ""
           },
           "bgcolor": "white",
           "caxis": {
            "gridcolor": "#DFE8F3",
            "linecolor": "#A2B1C6",
            "ticks": ""
           }
          },
          "title": {
           "x": 0.05
          },
          "xaxis": {
           "automargin": true,
           "gridcolor": "#EBF0F8",
           "linecolor": "#EBF0F8",
           "ticks": "",
           "title": {
            "standoff": 15
           },
           "zerolinecolor": "#EBF0F8",
           "zerolinewidth": 2
          },
          "yaxis": {
           "automargin": true,
           "gridcolor": "#EBF0F8",
           "linecolor": "#EBF0F8",
           "ticks": "",
           "title": {
            "standoff": 15
           },
           "zerolinecolor": "#EBF0F8",
           "zerolinewidth": 2
          }
         }
        },
        "title": {
         "text": "ID: HOBBIES_1_147_TX_3_evaluation | MAPE: 0.21"
        },
        "width": 800,
        "xaxis": {
         "title": {
          "text": "Date"
         }
        },
        "yaxis": {
         "title": {
          "text": "Sales"
         }
        }
       }
      }
     },
     "metadata": {},
     "output_type": "display_data"
    },
    {
     "name": "stderr",
     "output_type": "stream",
     "text": [
      "<string>:28: FutureWarning:\n",
      "\n",
      "The behavior of DataFrame concatenation with empty or all-NA entries is deprecated. In a future version, this will no longer exclude empty or all-NA columns when determining the result dtypes. To retain the old behavior, exclude the relevant entries before the concat operation.\n",
      "\n"
     ]
    },
    {
     "data": {
      "application/vnd.plotly.v1+json": {
       "config": {
        "plotlyServerURL": "https://plot.ly"
       },
       "data": [
        {
         "line": {
          "color": "lightgray"
         },
         "name": "Train Sales",
         "type": "scatter",
         "x": [
          "2016-04-09T00:00:00",
          "2016-04-10T00:00:00",
          "2016-04-11T00:00:00",
          "2016-04-12T00:00:00",
          "2016-04-13T00:00:00",
          "2016-04-14T00:00:00",
          "2016-04-15T00:00:00",
          "2016-04-16T00:00:00",
          "2016-04-17T00:00:00",
          "2016-04-18T00:00:00",
          "2016-04-19T00:00:00",
          "2016-04-20T00:00:00",
          "2016-04-21T00:00:00",
          "2016-04-22T00:00:00",
          "2016-04-23T00:00:00",
          "2016-04-24T00:00:00",
          "2016-04-25T00:00:00",
          "2016-04-26T00:00:00",
          "2016-04-27T00:00:00",
          "2016-04-28T00:00:00",
          "2016-04-29T00:00:00",
          "2016-04-30T00:00:00",
          "2016-05-01T00:00:00",
          "2016-05-02T00:00:00",
          "2016-05-03T00:00:00",
          "2016-05-04T00:00:00",
          "2016-05-05T00:00:00",
          "2016-05-06T00:00:00",
          "2016-05-07T00:00:00",
          "2016-05-08T00:00:00"
         ],
         "y": {
          "bdata": "AgAAAAECAgEBAQIAAQEEAgEBAAEBBAAAAQEBAAIA",
          "dtype": "i1"
         }
        },
        {
         "line": {
          "color": "coral"
         },
         "name": "Test Sales",
         "type": "scatter",
         "x": [
          "2016-05-08T00:00:00",
          "2016-05-09T00:00:00",
          "2016-05-10T00:00:00",
          "2016-05-11T00:00:00",
          "2016-05-12T00:00:00",
          "2016-05-13T00:00:00",
          "2016-05-14T00:00:00",
          "2016-05-15T00:00:00",
          "2016-05-16T00:00:00",
          "2016-05-17T00:00:00",
          "2016-05-18T00:00:00",
          "2016-05-19T00:00:00",
          "2016-05-20T00:00:00",
          "2016-05-21T00:00:00",
          "2016-05-22T00:00:00"
         ],
         "y": {
          "bdata": "AAECAQABAgIBAAEDAAEC",
          "dtype": "i1"
         }
        },
        {
         "line": {
          "color": "coral",
          "dash": "dash"
         },
         "name": "Forecast",
         "type": "scatter",
         "x": [
          "2016-05-08T00:00:00",
          "2016-05-09T00:00:00",
          "2016-05-10T00:00:00",
          "2016-05-11T00:00:00",
          "2016-05-12T00:00:00",
          "2016-05-13T00:00:00",
          "2016-05-14T00:00:00",
          "2016-05-15T00:00:00",
          "2016-05-16T00:00:00",
          "2016-05-17T00:00:00",
          "2016-05-18T00:00:00",
          "2016-05-19T00:00:00",
          "2016-05-20T00:00:00",
          "2016-05-21T00:00:00",
          "2016-05-22T00:00:00"
         ],
         "y": {
          "bdata": "AAAAAAAA+H9gDnFi/gDwPyELLNvi9e8/8cY4NYYv8D/DM1e8R+zwP1X5npEITfI/X5Ww2wyc9j97mc2Id8X1Py78hcN3J/A/YZPrXAc97z+tIpLXObzvP2Z60z5nXPA/T1Tb8jbb8T/8Y2vHHgv2P4Rm170V6fQ/",
          "dtype": "f8"
         }
        }
       ],
       "layout": {
        "height": 400,
        "template": {
         "data": {
          "bar": [
           {
            "error_x": {
             "color": "#2a3f5f"
            },
            "error_y": {
             "color": "#2a3f5f"
            },
            "marker": {
             "line": {
              "color": "white",
              "width": 0.5
             },
             "pattern": {
              "fillmode": "overlay",
              "size": 10,
              "solidity": 0.2
             }
            },
            "type": "bar"
           }
          ],
          "barpolar": [
           {
            "marker": {
             "line": {
              "color": "white",
              "width": 0.5
             },
             "pattern": {
              "fillmode": "overlay",
              "size": 10,
              "solidity": 0.2
             }
            },
            "type": "barpolar"
           }
          ],
          "carpet": [
           {
            "aaxis": {
             "endlinecolor": "#2a3f5f",
             "gridcolor": "#C8D4E3",
             "linecolor": "#C8D4E3",
             "minorgridcolor": "#C8D4E3",
             "startlinecolor": "#2a3f5f"
            },
            "baxis": {
             "endlinecolor": "#2a3f5f",
             "gridcolor": "#C8D4E3",
             "linecolor": "#C8D4E3",
             "minorgridcolor": "#C8D4E3",
             "startlinecolor": "#2a3f5f"
            },
            "type": "carpet"
           }
          ],
          "choropleth": [
           {
            "colorbar": {
             "outlinewidth": 0,
             "ticks": ""
            },
            "type": "choropleth"
           }
          ],
          "contour": [
           {
            "colorbar": {
             "outlinewidth": 0,
             "ticks": ""
            },
            "colorscale": [
             [
              0,
              "#0d0887"
             ],
             [
              0.1111111111111111,
              "#46039f"
             ],
             [
              0.2222222222222222,
              "#7201a8"
             ],
             [
              0.3333333333333333,
              "#9c179e"
             ],
             [
              0.4444444444444444,
              "#bd3786"
             ],
             [
              0.5555555555555556,
              "#d8576b"
             ],
             [
              0.6666666666666666,
              "#ed7953"
             ],
             [
              0.7777777777777778,
              "#fb9f3a"
             ],
             [
              0.8888888888888888,
              "#fdca26"
             ],
             [
              1,
              "#f0f921"
             ]
            ],
            "type": "contour"
           }
          ],
          "contourcarpet": [
           {
            "colorbar": {
             "outlinewidth": 0,
             "ticks": ""
            },
            "type": "contourcarpet"
           }
          ],
          "heatmap": [
           {
            "colorbar": {
             "outlinewidth": 0,
             "ticks": ""
            },
            "colorscale": [
             [
              0,
              "#0d0887"
             ],
             [
              0.1111111111111111,
              "#46039f"
             ],
             [
              0.2222222222222222,
              "#7201a8"
             ],
             [
              0.3333333333333333,
              "#9c179e"
             ],
             [
              0.4444444444444444,
              "#bd3786"
             ],
             [
              0.5555555555555556,
              "#d8576b"
             ],
             [
              0.6666666666666666,
              "#ed7953"
             ],
             [
              0.7777777777777778,
              "#fb9f3a"
             ],
             [
              0.8888888888888888,
              "#fdca26"
             ],
             [
              1,
              "#f0f921"
             ]
            ],
            "type": "heatmap"
           }
          ],
          "histogram": [
           {
            "marker": {
             "pattern": {
              "fillmode": "overlay",
              "size": 10,
              "solidity": 0.2
             }
            },
            "type": "histogram"
           }
          ],
          "histogram2d": [
           {
            "colorbar": {
             "outlinewidth": 0,
             "ticks": ""
            },
            "colorscale": [
             [
              0,
              "#0d0887"
             ],
             [
              0.1111111111111111,
              "#46039f"
             ],
             [
              0.2222222222222222,
              "#7201a8"
             ],
             [
              0.3333333333333333,
              "#9c179e"
             ],
             [
              0.4444444444444444,
              "#bd3786"
             ],
             [
              0.5555555555555556,
              "#d8576b"
             ],
             [
              0.6666666666666666,
              "#ed7953"
             ],
             [
              0.7777777777777778,
              "#fb9f3a"
             ],
             [
              0.8888888888888888,
              "#fdca26"
             ],
             [
              1,
              "#f0f921"
             ]
            ],
            "type": "histogram2d"
           }
          ],
          "histogram2dcontour": [
           {
            "colorbar": {
             "outlinewidth": 0,
             "ticks": ""
            },
            "colorscale": [
             [
              0,
              "#0d0887"
             ],
             [
              0.1111111111111111,
              "#46039f"
             ],
             [
              0.2222222222222222,
              "#7201a8"
             ],
             [
              0.3333333333333333,
              "#9c179e"
             ],
             [
              0.4444444444444444,
              "#bd3786"
             ],
             [
              0.5555555555555556,
              "#d8576b"
             ],
             [
              0.6666666666666666,
              "#ed7953"
             ],
             [
              0.7777777777777778,
              "#fb9f3a"
             ],
             [
              0.8888888888888888,
              "#fdca26"
             ],
             [
              1,
              "#f0f921"
             ]
            ],
            "type": "histogram2dcontour"
           }
          ],
          "mesh3d": [
           {
            "colorbar": {
             "outlinewidth": 0,
             "ticks": ""
            },
            "type": "mesh3d"
           }
          ],
          "parcoords": [
           {
            "line": {
             "colorbar": {
              "outlinewidth": 0,
              "ticks": ""
             }
            },
            "type": "parcoords"
           }
          ],
          "pie": [
           {
            "automargin": true,
            "type": "pie"
           }
          ],
          "scatter": [
           {
            "fillpattern": {
             "fillmode": "overlay",
             "size": 10,
             "solidity": 0.2
            },
            "type": "scatter"
           }
          ],
          "scatter3d": [
           {
            "line": {
             "colorbar": {
              "outlinewidth": 0,
              "ticks": ""
             }
            },
            "marker": {
             "colorbar": {
              "outlinewidth": 0,
              "ticks": ""
             }
            },
            "type": "scatter3d"
           }
          ],
          "scattercarpet": [
           {
            "marker": {
             "colorbar": {
              "outlinewidth": 0,
              "ticks": ""
             }
            },
            "type": "scattercarpet"
           }
          ],
          "scattergeo": [
           {
            "marker": {
             "colorbar": {
              "outlinewidth": 0,
              "ticks": ""
             }
            },
            "type": "scattergeo"
           }
          ],
          "scattergl": [
           {
            "marker": {
             "colorbar": {
              "outlinewidth": 0,
              "ticks": ""
             }
            },
            "type": "scattergl"
           }
          ],
          "scattermap": [
           {
            "marker": {
             "colorbar": {
              "outlinewidth": 0,
              "ticks": ""
             }
            },
            "type": "scattermap"
           }
          ],
          "scattermapbox": [
           {
            "marker": {
             "colorbar": {
              "outlinewidth": 0,
              "ticks": ""
             }
            },
            "type": "scattermapbox"
           }
          ],
          "scatterpolar": [
           {
            "marker": {
             "colorbar": {
              "outlinewidth": 0,
              "ticks": ""
             }
            },
            "type": "scatterpolar"
           }
          ],
          "scatterpolargl": [
           {
            "marker": {
             "colorbar": {
              "outlinewidth": 0,
              "ticks": ""
             }
            },
            "type": "scatterpolargl"
           }
          ],
          "scatterternary": [
           {
            "marker": {
             "colorbar": {
              "outlinewidth": 0,
              "ticks": ""
             }
            },
            "type": "scatterternary"
           }
          ],
          "surface": [
           {
            "colorbar": {
             "outlinewidth": 0,
             "ticks": ""
            },
            "colorscale": [
             [
              0,
              "#0d0887"
             ],
             [
              0.1111111111111111,
              "#46039f"
             ],
             [
              0.2222222222222222,
              "#7201a8"
             ],
             [
              0.3333333333333333,
              "#9c179e"
             ],
             [
              0.4444444444444444,
              "#bd3786"
             ],
             [
              0.5555555555555556,
              "#d8576b"
             ],
             [
              0.6666666666666666,
              "#ed7953"
             ],
             [
              0.7777777777777778,
              "#fb9f3a"
             ],
             [
              0.8888888888888888,
              "#fdca26"
             ],
             [
              1,
              "#f0f921"
             ]
            ],
            "type": "surface"
           }
          ],
          "table": [
           {
            "cells": {
             "fill": {
              "color": "#EBF0F8"
             },
             "line": {
              "color": "white"
             }
            },
            "header": {
             "fill": {
              "color": "#C8D4E3"
             },
             "line": {
              "color": "white"
             }
            },
            "type": "table"
           }
          ]
         },
         "layout": {
          "annotationdefaults": {
           "arrowcolor": "#2a3f5f",
           "arrowhead": 0,
           "arrowwidth": 1
          },
          "autotypenumbers": "strict",
          "coloraxis": {
           "colorbar": {
            "outlinewidth": 0,
            "ticks": ""
           }
          },
          "colorscale": {
           "diverging": [
            [
             0,
             "#8e0152"
            ],
            [
             0.1,
             "#c51b7d"
            ],
            [
             0.2,
             "#de77ae"
            ],
            [
             0.3,
             "#f1b6da"
            ],
            [
             0.4,
             "#fde0ef"
            ],
            [
             0.5,
             "#f7f7f7"
            ],
            [
             0.6,
             "#e6f5d0"
            ],
            [
             0.7,
             "#b8e186"
            ],
            [
             0.8,
             "#7fbc41"
            ],
            [
             0.9,
             "#4d9221"
            ],
            [
             1,
             "#276419"
            ]
           ],
           "sequential": [
            [
             0,
             "#0d0887"
            ],
            [
             0.1111111111111111,
             "#46039f"
            ],
            [
             0.2222222222222222,
             "#7201a8"
            ],
            [
             0.3333333333333333,
             "#9c179e"
            ],
            [
             0.4444444444444444,
             "#bd3786"
            ],
            [
             0.5555555555555556,
             "#d8576b"
            ],
            [
             0.6666666666666666,
             "#ed7953"
            ],
            [
             0.7777777777777778,
             "#fb9f3a"
            ],
            [
             0.8888888888888888,
             "#fdca26"
            ],
            [
             1,
             "#f0f921"
            ]
           ],
           "sequentialminus": [
            [
             0,
             "#0d0887"
            ],
            [
             0.1111111111111111,
             "#46039f"
            ],
            [
             0.2222222222222222,
             "#7201a8"
            ],
            [
             0.3333333333333333,
             "#9c179e"
            ],
            [
             0.4444444444444444,
             "#bd3786"
            ],
            [
             0.5555555555555556,
             "#d8576b"
            ],
            [
             0.6666666666666666,
             "#ed7953"
            ],
            [
             0.7777777777777778,
             "#fb9f3a"
            ],
            [
             0.8888888888888888,
             "#fdca26"
            ],
            [
             1,
             "#f0f921"
            ]
           ]
          },
          "colorway": [
           "#636efa",
           "#EF553B",
           "#00cc96",
           "#ab63fa",
           "#FFA15A",
           "#19d3f3",
           "#FF6692",
           "#B6E880",
           "#FF97FF",
           "#FECB52"
          ],
          "font": {
           "color": "#2a3f5f"
          },
          "geo": {
           "bgcolor": "white",
           "lakecolor": "white",
           "landcolor": "white",
           "showlakes": true,
           "showland": true,
           "subunitcolor": "#C8D4E3"
          },
          "hoverlabel": {
           "align": "left"
          },
          "hovermode": "closest",
          "mapbox": {
           "style": "light"
          },
          "paper_bgcolor": "white",
          "plot_bgcolor": "white",
          "polar": {
           "angularaxis": {
            "gridcolor": "#EBF0F8",
            "linecolor": "#EBF0F8",
            "ticks": ""
           },
           "bgcolor": "white",
           "radialaxis": {
            "gridcolor": "#EBF0F8",
            "linecolor": "#EBF0F8",
            "ticks": ""
           }
          },
          "scene": {
           "xaxis": {
            "backgroundcolor": "white",
            "gridcolor": "#DFE8F3",
            "gridwidth": 2,
            "linecolor": "#EBF0F8",
            "showbackground": true,
            "ticks": "",
            "zerolinecolor": "#EBF0F8"
           },
           "yaxis": {
            "backgroundcolor": "white",
            "gridcolor": "#DFE8F3",
            "gridwidth": 2,
            "linecolor": "#EBF0F8",
            "showbackground": true,
            "ticks": "",
            "zerolinecolor": "#EBF0F8"
           },
           "zaxis": {
            "backgroundcolor": "white",
            "gridcolor": "#DFE8F3",
            "gridwidth": 2,
            "linecolor": "#EBF0F8",
            "showbackground": true,
            "ticks": "",
            "zerolinecolor": "#EBF0F8"
           }
          },
          "shapedefaults": {
           "line": {
            "color": "#2a3f5f"
           }
          },
          "ternary": {
           "aaxis": {
            "gridcolor": "#DFE8F3",
            "linecolor": "#A2B1C6",
            "ticks": ""
           },
           "baxis": {
            "gridcolor": "#DFE8F3",
            "linecolor": "#A2B1C6",
            "ticks": ""
           },
           "bgcolor": "white",
           "caxis": {
            "gridcolor": "#DFE8F3",
            "linecolor": "#A2B1C6",
            "ticks": ""
           }
          },
          "title": {
           "x": 0.05
          },
          "xaxis": {
           "automargin": true,
           "gridcolor": "#EBF0F8",
           "linecolor": "#EBF0F8",
           "ticks": "",
           "title": {
            "standoff": 15
           },
           "zerolinecolor": "#EBF0F8",
           "zerolinewidth": 2
          },
          "yaxis": {
           "automargin": true,
           "gridcolor": "#EBF0F8",
           "linecolor": "#EBF0F8",
           "ticks": "",
           "title": {
            "standoff": 15
           },
           "zerolinecolor": "#EBF0F8",
           "zerolinewidth": 2
          }
         }
        },
        "title": {
         "text": "ID: FOODS_3_316_WI_1_evaluation | MAPE: 0.24"
        },
        "width": 800,
        "xaxis": {
         "title": {
          "text": "Date"
         }
        },
        "yaxis": {
         "title": {
          "text": "Sales"
         }
        }
       }
      }
     },
     "metadata": {},
     "output_type": "display_data"
    },
    {
     "name": "stderr",
     "output_type": "stream",
     "text": [
      "<string>:28: FutureWarning:\n",
      "\n",
      "The behavior of DataFrame concatenation with empty or all-NA entries is deprecated. In a future version, this will no longer exclude empty or all-NA columns when determining the result dtypes. To retain the old behavior, exclude the relevant entries before the concat operation.\n",
      "\n"
     ]
    },
    {
     "data": {
      "application/vnd.plotly.v1+json": {
       "config": {
        "plotlyServerURL": "https://plot.ly"
       },
       "data": [
        {
         "line": {
          "color": "lightgray"
         },
         "name": "Train Sales",
         "type": "scatter",
         "x": [
          "2016-04-09T00:00:00",
          "2016-04-10T00:00:00",
          "2016-04-11T00:00:00",
          "2016-04-12T00:00:00",
          "2016-04-13T00:00:00",
          "2016-04-14T00:00:00",
          "2016-04-15T00:00:00",
          "2016-04-16T00:00:00",
          "2016-04-17T00:00:00",
          "2016-04-18T00:00:00",
          "2016-04-19T00:00:00",
          "2016-04-20T00:00:00",
          "2016-04-21T00:00:00",
          "2016-04-22T00:00:00",
          "2016-04-23T00:00:00",
          "2016-04-24T00:00:00",
          "2016-04-25T00:00:00",
          "2016-04-26T00:00:00",
          "2016-04-27T00:00:00",
          "2016-04-28T00:00:00",
          "2016-04-29T00:00:00",
          "2016-04-30T00:00:00",
          "2016-05-01T00:00:00",
          "2016-05-02T00:00:00",
          "2016-05-03T00:00:00",
          "2016-05-04T00:00:00",
          "2016-05-05T00:00:00",
          "2016-05-06T00:00:00",
          "2016-05-07T00:00:00",
          "2016-05-08T00:00:00"
         ],
         "y": {
          "bdata": "AwICAQEAAAEBAAEBAwAAAgAAAgAAAgIAAQABAAQB",
          "dtype": "i1"
         }
        },
        {
         "line": {
          "color": "coral"
         },
         "name": "Test Sales",
         "type": "scatter",
         "x": [
          "2016-05-08T00:00:00",
          "2016-05-09T00:00:00",
          "2016-05-10T00:00:00",
          "2016-05-11T00:00:00",
          "2016-05-12T00:00:00",
          "2016-05-13T00:00:00",
          "2016-05-14T00:00:00",
          "2016-05-15T00:00:00",
          "2016-05-16T00:00:00",
          "2016-05-17T00:00:00",
          "2016-05-18T00:00:00",
          "2016-05-19T00:00:00",
          "2016-05-20T00:00:00",
          "2016-05-21T00:00:00",
          "2016-05-22T00:00:00"
         ],
         "y": {
          "bdata": "AQEAAQAAAAEAAAEBAQED",
          "dtype": "i1"
         }
        },
        {
         "line": {
          "color": "coral",
          "dash": "dash"
         },
         "name": "Forecast",
         "type": "scatter",
         "x": [
          "2016-05-08T00:00:00",
          "2016-05-09T00:00:00",
          "2016-05-10T00:00:00",
          "2016-05-11T00:00:00",
          "2016-05-12T00:00:00",
          "2016-05-13T00:00:00",
          "2016-05-14T00:00:00",
          "2016-05-15T00:00:00",
          "2016-05-16T00:00:00",
          "2016-05-17T00:00:00",
          "2016-05-18T00:00:00",
          "2016-05-19T00:00:00",
          "2016-05-20T00:00:00",
          "2016-05-21T00:00:00",
          "2016-05-22T00:00:00"
         ],
         "y": {
          "bdata": "AAAAAAAA+H+K2qrilX3qP2JodXKGYug/p6xsQAAg6D+yhknAAdDnP1UXEUGsieo/YSBjSRR18T/688h6xY7yP5RFBl7S3ek/BdVQtLw85z+GByho7vzmP1ssPYFN6eY/A52kVB0N6j/KeiBouzjxP7C47pwcNPI/",
          "dtype": "f8"
         }
        }
       ],
       "layout": {
        "height": 400,
        "template": {
         "data": {
          "bar": [
           {
            "error_x": {
             "color": "#2a3f5f"
            },
            "error_y": {
             "color": "#2a3f5f"
            },
            "marker": {
             "line": {
              "color": "white",
              "width": 0.5
             },
             "pattern": {
              "fillmode": "overlay",
              "size": 10,
              "solidity": 0.2
             }
            },
            "type": "bar"
           }
          ],
          "barpolar": [
           {
            "marker": {
             "line": {
              "color": "white",
              "width": 0.5
             },
             "pattern": {
              "fillmode": "overlay",
              "size": 10,
              "solidity": 0.2
             }
            },
            "type": "barpolar"
           }
          ],
          "carpet": [
           {
            "aaxis": {
             "endlinecolor": "#2a3f5f",
             "gridcolor": "#C8D4E3",
             "linecolor": "#C8D4E3",
             "minorgridcolor": "#C8D4E3",
             "startlinecolor": "#2a3f5f"
            },
            "baxis": {
             "endlinecolor": "#2a3f5f",
             "gridcolor": "#C8D4E3",
             "linecolor": "#C8D4E3",
             "minorgridcolor": "#C8D4E3",
             "startlinecolor": "#2a3f5f"
            },
            "type": "carpet"
           }
          ],
          "choropleth": [
           {
            "colorbar": {
             "outlinewidth": 0,
             "ticks": ""
            },
            "type": "choropleth"
           }
          ],
          "contour": [
           {
            "colorbar": {
             "outlinewidth": 0,
             "ticks": ""
            },
            "colorscale": [
             [
              0,
              "#0d0887"
             ],
             [
              0.1111111111111111,
              "#46039f"
             ],
             [
              0.2222222222222222,
              "#7201a8"
             ],
             [
              0.3333333333333333,
              "#9c179e"
             ],
             [
              0.4444444444444444,
              "#bd3786"
             ],
             [
              0.5555555555555556,
              "#d8576b"
             ],
             [
              0.6666666666666666,
              "#ed7953"
             ],
             [
              0.7777777777777778,
              "#fb9f3a"
             ],
             [
              0.8888888888888888,
              "#fdca26"
             ],
             [
              1,
              "#f0f921"
             ]
            ],
            "type": "contour"
           }
          ],
          "contourcarpet": [
           {
            "colorbar": {
             "outlinewidth": 0,
             "ticks": ""
            },
            "type": "contourcarpet"
           }
          ],
          "heatmap": [
           {
            "colorbar": {
             "outlinewidth": 0,
             "ticks": ""
            },
            "colorscale": [
             [
              0,
              "#0d0887"
             ],
             [
              0.1111111111111111,
              "#46039f"
             ],
             [
              0.2222222222222222,
              "#7201a8"
             ],
             [
              0.3333333333333333,
              "#9c179e"
             ],
             [
              0.4444444444444444,
              "#bd3786"
             ],
             [
              0.5555555555555556,
              "#d8576b"
             ],
             [
              0.6666666666666666,
              "#ed7953"
             ],
             [
              0.7777777777777778,
              "#fb9f3a"
             ],
             [
              0.8888888888888888,
              "#fdca26"
             ],
             [
              1,
              "#f0f921"
             ]
            ],
            "type": "heatmap"
           }
          ],
          "histogram": [
           {
            "marker": {
             "pattern": {
              "fillmode": "overlay",
              "size": 10,
              "solidity": 0.2
             }
            },
            "type": "histogram"
           }
          ],
          "histogram2d": [
           {
            "colorbar": {
             "outlinewidth": 0,
             "ticks": ""
            },
            "colorscale": [
             [
              0,
              "#0d0887"
             ],
             [
              0.1111111111111111,
              "#46039f"
             ],
             [
              0.2222222222222222,
              "#7201a8"
             ],
             [
              0.3333333333333333,
              "#9c179e"
             ],
             [
              0.4444444444444444,
              "#bd3786"
             ],
             [
              0.5555555555555556,
              "#d8576b"
             ],
             [
              0.6666666666666666,
              "#ed7953"
             ],
             [
              0.7777777777777778,
              "#fb9f3a"
             ],
             [
              0.8888888888888888,
              "#fdca26"
             ],
             [
              1,
              "#f0f921"
             ]
            ],
            "type": "histogram2d"
           }
          ],
          "histogram2dcontour": [
           {
            "colorbar": {
             "outlinewidth": 0,
             "ticks": ""
            },
            "colorscale": [
             [
              0,
              "#0d0887"
             ],
             [
              0.1111111111111111,
              "#46039f"
             ],
             [
              0.2222222222222222,
              "#7201a8"
             ],
             [
              0.3333333333333333,
              "#9c179e"
             ],
             [
              0.4444444444444444,
              "#bd3786"
             ],
             [
              0.5555555555555556,
              "#d8576b"
             ],
             [
              0.6666666666666666,
              "#ed7953"
             ],
             [
              0.7777777777777778,
              "#fb9f3a"
             ],
             [
              0.8888888888888888,
              "#fdca26"
             ],
             [
              1,
              "#f0f921"
             ]
            ],
            "type": "histogram2dcontour"
           }
          ],
          "mesh3d": [
           {
            "colorbar": {
             "outlinewidth": 0,
             "ticks": ""
            },
            "type": "mesh3d"
           }
          ],
          "parcoords": [
           {
            "line": {
             "colorbar": {
              "outlinewidth": 0,
              "ticks": ""
             }
            },
            "type": "parcoords"
           }
          ],
          "pie": [
           {
            "automargin": true,
            "type": "pie"
           }
          ],
          "scatter": [
           {
            "fillpattern": {
             "fillmode": "overlay",
             "size": 10,
             "solidity": 0.2
            },
            "type": "scatter"
           }
          ],
          "scatter3d": [
           {
            "line": {
             "colorbar": {
              "outlinewidth": 0,
              "ticks": ""
             }
            },
            "marker": {
             "colorbar": {
              "outlinewidth": 0,
              "ticks": ""
             }
            },
            "type": "scatter3d"
           }
          ],
          "scattercarpet": [
           {
            "marker": {
             "colorbar": {
              "outlinewidth": 0,
              "ticks": ""
             }
            },
            "type": "scattercarpet"
           }
          ],
          "scattergeo": [
           {
            "marker": {
             "colorbar": {
              "outlinewidth": 0,
              "ticks": ""
             }
            },
            "type": "scattergeo"
           }
          ],
          "scattergl": [
           {
            "marker": {
             "colorbar": {
              "outlinewidth": 0,
              "ticks": ""
             }
            },
            "type": "scattergl"
           }
          ],
          "scattermap": [
           {
            "marker": {
             "colorbar": {
              "outlinewidth": 0,
              "ticks": ""
             }
            },
            "type": "scattermap"
           }
          ],
          "scattermapbox": [
           {
            "marker": {
             "colorbar": {
              "outlinewidth": 0,
              "ticks": ""
             }
            },
            "type": "scattermapbox"
           }
          ],
          "scatterpolar": [
           {
            "marker": {
             "colorbar": {
              "outlinewidth": 0,
              "ticks": ""
             }
            },
            "type": "scatterpolar"
           }
          ],
          "scatterpolargl": [
           {
            "marker": {
             "colorbar": {
              "outlinewidth": 0,
              "ticks": ""
             }
            },
            "type": "scatterpolargl"
           }
          ],
          "scatterternary": [
           {
            "marker": {
             "colorbar": {
              "outlinewidth": 0,
              "ticks": ""
             }
            },
            "type": "scatterternary"
           }
          ],
          "surface": [
           {
            "colorbar": {
             "outlinewidth": 0,
             "ticks": ""
            },
            "colorscale": [
             [
              0,
              "#0d0887"
             ],
             [
              0.1111111111111111,
              "#46039f"
             ],
             [
              0.2222222222222222,
              "#7201a8"
             ],
             [
              0.3333333333333333,
              "#9c179e"
             ],
             [
              0.4444444444444444,
              "#bd3786"
             ],
             [
              0.5555555555555556,
              "#d8576b"
             ],
             [
              0.6666666666666666,
              "#ed7953"
             ],
             [
              0.7777777777777778,
              "#fb9f3a"
             ],
             [
              0.8888888888888888,
              "#fdca26"
             ],
             [
              1,
              "#f0f921"
             ]
            ],
            "type": "surface"
           }
          ],
          "table": [
           {
            "cells": {
             "fill": {
              "color": "#EBF0F8"
             },
             "line": {
              "color": "white"
             }
            },
            "header": {
             "fill": {
              "color": "#C8D4E3"
             },
             "line": {
              "color": "white"
             }
            },
            "type": "table"
           }
          ]
         },
         "layout": {
          "annotationdefaults": {
           "arrowcolor": "#2a3f5f",
           "arrowhead": 0,
           "arrowwidth": 1
          },
          "autotypenumbers": "strict",
          "coloraxis": {
           "colorbar": {
            "outlinewidth": 0,
            "ticks": ""
           }
          },
          "colorscale": {
           "diverging": [
            [
             0,
             "#8e0152"
            ],
            [
             0.1,
             "#c51b7d"
            ],
            [
             0.2,
             "#de77ae"
            ],
            [
             0.3,
             "#f1b6da"
            ],
            [
             0.4,
             "#fde0ef"
            ],
            [
             0.5,
             "#f7f7f7"
            ],
            [
             0.6,
             "#e6f5d0"
            ],
            [
             0.7,
             "#b8e186"
            ],
            [
             0.8,
             "#7fbc41"
            ],
            [
             0.9,
             "#4d9221"
            ],
            [
             1,
             "#276419"
            ]
           ],
           "sequential": [
            [
             0,
             "#0d0887"
            ],
            [
             0.1111111111111111,
             "#46039f"
            ],
            [
             0.2222222222222222,
             "#7201a8"
            ],
            [
             0.3333333333333333,
             "#9c179e"
            ],
            [
             0.4444444444444444,
             "#bd3786"
            ],
            [
             0.5555555555555556,
             "#d8576b"
            ],
            [
             0.6666666666666666,
             "#ed7953"
            ],
            [
             0.7777777777777778,
             "#fb9f3a"
            ],
            [
             0.8888888888888888,
             "#fdca26"
            ],
            [
             1,
             "#f0f921"
            ]
           ],
           "sequentialminus": [
            [
             0,
             "#0d0887"
            ],
            [
             0.1111111111111111,
             "#46039f"
            ],
            [
             0.2222222222222222,
             "#7201a8"
            ],
            [
             0.3333333333333333,
             "#9c179e"
            ],
            [
             0.4444444444444444,
             "#bd3786"
            ],
            [
             0.5555555555555556,
             "#d8576b"
            ],
            [
             0.6666666666666666,
             "#ed7953"
            ],
            [
             0.7777777777777778,
             "#fb9f3a"
            ],
            [
             0.8888888888888888,
             "#fdca26"
            ],
            [
             1,
             "#f0f921"
            ]
           ]
          },
          "colorway": [
           "#636efa",
           "#EF553B",
           "#00cc96",
           "#ab63fa",
           "#FFA15A",
           "#19d3f3",
           "#FF6692",
           "#B6E880",
           "#FF97FF",
           "#FECB52"
          ],
          "font": {
           "color": "#2a3f5f"
          },
          "geo": {
           "bgcolor": "white",
           "lakecolor": "white",
           "landcolor": "white",
           "showlakes": true,
           "showland": true,
           "subunitcolor": "#C8D4E3"
          },
          "hoverlabel": {
           "align": "left"
          },
          "hovermode": "closest",
          "mapbox": {
           "style": "light"
          },
          "paper_bgcolor": "white",
          "plot_bgcolor": "white",
          "polar": {
           "angularaxis": {
            "gridcolor": "#EBF0F8",
            "linecolor": "#EBF0F8",
            "ticks": ""
           },
           "bgcolor": "white",
           "radialaxis": {
            "gridcolor": "#EBF0F8",
            "linecolor": "#EBF0F8",
            "ticks": ""
           }
          },
          "scene": {
           "xaxis": {
            "backgroundcolor": "white",
            "gridcolor": "#DFE8F3",
            "gridwidth": 2,
            "linecolor": "#EBF0F8",
            "showbackground": true,
            "ticks": "",
            "zerolinecolor": "#EBF0F8"
           },
           "yaxis": {
            "backgroundcolor": "white",
            "gridcolor": "#DFE8F3",
            "gridwidth": 2,
            "linecolor": "#EBF0F8",
            "showbackground": true,
            "ticks": "",
            "zerolinecolor": "#EBF0F8"
           },
           "zaxis": {
            "backgroundcolor": "white",
            "gridcolor": "#DFE8F3",
            "gridwidth": 2,
            "linecolor": "#EBF0F8",
            "showbackground": true,
            "ticks": "",
            "zerolinecolor": "#EBF0F8"
           }
          },
          "shapedefaults": {
           "line": {
            "color": "#2a3f5f"
           }
          },
          "ternary": {
           "aaxis": {
            "gridcolor": "#DFE8F3",
            "linecolor": "#A2B1C6",
            "ticks": ""
           },
           "baxis": {
            "gridcolor": "#DFE8F3",
            "linecolor": "#A2B1C6",
            "ticks": ""
           },
           "bgcolor": "white",
           "caxis": {
            "gridcolor": "#DFE8F3",
            "linecolor": "#A2B1C6",
            "ticks": ""
           }
          },
          "title": {
           "x": 0.05
          },
          "xaxis": {
           "automargin": true,
           "gridcolor": "#EBF0F8",
           "linecolor": "#EBF0F8",
           "ticks": "",
           "title": {
            "standoff": 15
           },
           "zerolinecolor": "#EBF0F8",
           "zerolinewidth": 2
          },
          "yaxis": {
           "automargin": true,
           "gridcolor": "#EBF0F8",
           "linecolor": "#EBF0F8",
           "ticks": "",
           "title": {
            "standoff": 15
           },
           "zerolinecolor": "#EBF0F8",
           "zerolinewidth": 2
          }
         }
        },
        "title": {
         "text": "ID: HOUSEHOLD_2_510_TX_3_evaluation | MAPE: 0.25"
        },
        "width": 800,
        "xaxis": {
         "title": {
          "text": "Date"
         }
        },
        "yaxis": {
         "title": {
          "text": "Sales"
         }
        }
       }
      }
     },
     "metadata": {},
     "output_type": "display_data"
    }
   ],
   "source": [
    "# Sort by RMSE (ascending for best, descending for worst)\n",
    "sorted_scores = scores_per_ts_iter_df.sort_values(by=\"MAPE\")\n",
    "\n",
    "# Best 5 (lowest RMSE)\n",
    "best_ids = sorted_scores['id'].head(5).tolist()\n",
    "\n",
    "plot_forecasts_with_train(\n",
    "    train_df, test_df, forecast_df,\n",
    "    scores_per_ts_df = scores_per_ts_iter_df, \n",
    "    metric=\"MAPE\",\n",
    "    ids_to_plot=best_ids\n",
    "    )"
   ]
  },
  {
   "cell_type": "code",
   "execution_count": 81,
   "metadata": {},
   "outputs": [
    {
     "name": "stderr",
     "output_type": "stream",
     "text": [
      "<string>:28: FutureWarning:\n",
      "\n",
      "The behavior of DataFrame concatenation with empty or all-NA entries is deprecated. In a future version, this will no longer exclude empty or all-NA columns when determining the result dtypes. To retain the old behavior, exclude the relevant entries before the concat operation.\n",
      "\n"
     ]
    },
    {
     "data": {
      "application/vnd.plotly.v1+json": {
       "config": {
        "plotlyServerURL": "https://plot.ly"
       },
       "data": [
        {
         "line": {
          "color": "lightgray"
         },
         "name": "Train Sales",
         "type": "scatter",
         "x": [
          "2016-04-09T00:00:00",
          "2016-04-10T00:00:00",
          "2016-04-11T00:00:00",
          "2016-04-12T00:00:00",
          "2016-04-13T00:00:00",
          "2016-04-14T00:00:00",
          "2016-04-15T00:00:00",
          "2016-04-16T00:00:00",
          "2016-04-17T00:00:00",
          "2016-04-18T00:00:00",
          "2016-04-19T00:00:00",
          "2016-04-20T00:00:00",
          "2016-04-21T00:00:00",
          "2016-04-22T00:00:00",
          "2016-04-23T00:00:00",
          "2016-04-24T00:00:00",
          "2016-04-25T00:00:00",
          "2016-04-26T00:00:00",
          "2016-04-27T00:00:00",
          "2016-04-28T00:00:00",
          "2016-04-29T00:00:00",
          "2016-04-30T00:00:00",
          "2016-05-01T00:00:00",
          "2016-05-02T00:00:00",
          "2016-05-03T00:00:00",
          "2016-05-04T00:00:00",
          "2016-05-05T00:00:00",
          "2016-05-06T00:00:00",
          "2016-05-07T00:00:00",
          "2016-05-08T00:00:00"
         ],
         "y": {
          "bdata": "AwgCBQYECAUFBwMBAQcCBwAEAwICAgIIAgQEAgUC",
          "dtype": "i1"
         }
        },
        {
         "line": {
          "color": "coral"
         },
         "name": "Test Sales",
         "type": "scatter",
         "x": [
          "2016-05-08T00:00:00",
          "2016-05-09T00:00:00",
          "2016-05-10T00:00:00",
          "2016-05-11T00:00:00",
          "2016-05-12T00:00:00",
          "2016-05-13T00:00:00",
          "2016-05-14T00:00:00",
          "2016-05-15T00:00:00",
          "2016-05-16T00:00:00",
          "2016-05-17T00:00:00",
          "2016-05-18T00:00:00",
          "2016-05-19T00:00:00",
          "2016-05-20T00:00:00",
          "2016-05-21T00:00:00",
          "2016-05-22T00:00:00"
         ],
         "y": {
          "bdata": "AgQBAwEBAwEBAAAAAAYE",
          "dtype": "i1"
         }
        },
        {
         "line": {
          "color": "coral",
          "dash": "dash"
         },
         "name": "Forecast",
         "type": "scatter",
         "x": [
          "2016-05-08T00:00:00",
          "2016-05-09T00:00:00",
          "2016-05-10T00:00:00",
          "2016-05-11T00:00:00",
          "2016-05-12T00:00:00",
          "2016-05-13T00:00:00",
          "2016-05-14T00:00:00",
          "2016-05-15T00:00:00",
          "2016-05-16T00:00:00",
          "2016-05-17T00:00:00",
          "2016-05-18T00:00:00",
          "2016-05-19T00:00:00",
          "2016-05-20T00:00:00",
          "2016-05-21T00:00:00",
          "2016-05-22T00:00:00"
         ],
         "y": {
          "bdata": "AAAAAAAA+H+wGvCeqPkRQME1HDtNKw9AT8MBPokJD0BM9QlFX4YOQLoT7L/O/Q5A5+CZ0CRhFUDA5sGCoMgXQKIIqdvZhxBAhZZ1/1g4C0DhRV9BmrEKQDkPJzCdtglApryx++lKC0CeswWE1vMSQAMmcOtuDhVA",
          "dtype": "f8"
         }
        }
       ],
       "layout": {
        "height": 400,
        "template": {
         "data": {
          "bar": [
           {
            "error_x": {
             "color": "#2a3f5f"
            },
            "error_y": {
             "color": "#2a3f5f"
            },
            "marker": {
             "line": {
              "color": "white",
              "width": 0.5
             },
             "pattern": {
              "fillmode": "overlay",
              "size": 10,
              "solidity": 0.2
             }
            },
            "type": "bar"
           }
          ],
          "barpolar": [
           {
            "marker": {
             "line": {
              "color": "white",
              "width": 0.5
             },
             "pattern": {
              "fillmode": "overlay",
              "size": 10,
              "solidity": 0.2
             }
            },
            "type": "barpolar"
           }
          ],
          "carpet": [
           {
            "aaxis": {
             "endlinecolor": "#2a3f5f",
             "gridcolor": "#C8D4E3",
             "linecolor": "#C8D4E3",
             "minorgridcolor": "#C8D4E3",
             "startlinecolor": "#2a3f5f"
            },
            "baxis": {
             "endlinecolor": "#2a3f5f",
             "gridcolor": "#C8D4E3",
             "linecolor": "#C8D4E3",
             "minorgridcolor": "#C8D4E3",
             "startlinecolor": "#2a3f5f"
            },
            "type": "carpet"
           }
          ],
          "choropleth": [
           {
            "colorbar": {
             "outlinewidth": 0,
             "ticks": ""
            },
            "type": "choropleth"
           }
          ],
          "contour": [
           {
            "colorbar": {
             "outlinewidth": 0,
             "ticks": ""
            },
            "colorscale": [
             [
              0,
              "#0d0887"
             ],
             [
              0.1111111111111111,
              "#46039f"
             ],
             [
              0.2222222222222222,
              "#7201a8"
             ],
             [
              0.3333333333333333,
              "#9c179e"
             ],
             [
              0.4444444444444444,
              "#bd3786"
             ],
             [
              0.5555555555555556,
              "#d8576b"
             ],
             [
              0.6666666666666666,
              "#ed7953"
             ],
             [
              0.7777777777777778,
              "#fb9f3a"
             ],
             [
              0.8888888888888888,
              "#fdca26"
             ],
             [
              1,
              "#f0f921"
             ]
            ],
            "type": "contour"
           }
          ],
          "contourcarpet": [
           {
            "colorbar": {
             "outlinewidth": 0,
             "ticks": ""
            },
            "type": "contourcarpet"
           }
          ],
          "heatmap": [
           {
            "colorbar": {
             "outlinewidth": 0,
             "ticks": ""
            },
            "colorscale": [
             [
              0,
              "#0d0887"
             ],
             [
              0.1111111111111111,
              "#46039f"
             ],
             [
              0.2222222222222222,
              "#7201a8"
             ],
             [
              0.3333333333333333,
              "#9c179e"
             ],
             [
              0.4444444444444444,
              "#bd3786"
             ],
             [
              0.5555555555555556,
              "#d8576b"
             ],
             [
              0.6666666666666666,
              "#ed7953"
             ],
             [
              0.7777777777777778,
              "#fb9f3a"
             ],
             [
              0.8888888888888888,
              "#fdca26"
             ],
             [
              1,
              "#f0f921"
             ]
            ],
            "type": "heatmap"
           }
          ],
          "histogram": [
           {
            "marker": {
             "pattern": {
              "fillmode": "overlay",
              "size": 10,
              "solidity": 0.2
             }
            },
            "type": "histogram"
           }
          ],
          "histogram2d": [
           {
            "colorbar": {
             "outlinewidth": 0,
             "ticks": ""
            },
            "colorscale": [
             [
              0,
              "#0d0887"
             ],
             [
              0.1111111111111111,
              "#46039f"
             ],
             [
              0.2222222222222222,
              "#7201a8"
             ],
             [
              0.3333333333333333,
              "#9c179e"
             ],
             [
              0.4444444444444444,
              "#bd3786"
             ],
             [
              0.5555555555555556,
              "#d8576b"
             ],
             [
              0.6666666666666666,
              "#ed7953"
             ],
             [
              0.7777777777777778,
              "#fb9f3a"
             ],
             [
              0.8888888888888888,
              "#fdca26"
             ],
             [
              1,
              "#f0f921"
             ]
            ],
            "type": "histogram2d"
           }
          ],
          "histogram2dcontour": [
           {
            "colorbar": {
             "outlinewidth": 0,
             "ticks": ""
            },
            "colorscale": [
             [
              0,
              "#0d0887"
             ],
             [
              0.1111111111111111,
              "#46039f"
             ],
             [
              0.2222222222222222,
              "#7201a8"
             ],
             [
              0.3333333333333333,
              "#9c179e"
             ],
             [
              0.4444444444444444,
              "#bd3786"
             ],
             [
              0.5555555555555556,
              "#d8576b"
             ],
             [
              0.6666666666666666,
              "#ed7953"
             ],
             [
              0.7777777777777778,
              "#fb9f3a"
             ],
             [
              0.8888888888888888,
              "#fdca26"
             ],
             [
              1,
              "#f0f921"
             ]
            ],
            "type": "histogram2dcontour"
           }
          ],
          "mesh3d": [
           {
            "colorbar": {
             "outlinewidth": 0,
             "ticks": ""
            },
            "type": "mesh3d"
           }
          ],
          "parcoords": [
           {
            "line": {
             "colorbar": {
              "outlinewidth": 0,
              "ticks": ""
             }
            },
            "type": "parcoords"
           }
          ],
          "pie": [
           {
            "automargin": true,
            "type": "pie"
           }
          ],
          "scatter": [
           {
            "fillpattern": {
             "fillmode": "overlay",
             "size": 10,
             "solidity": 0.2
            },
            "type": "scatter"
           }
          ],
          "scatter3d": [
           {
            "line": {
             "colorbar": {
              "outlinewidth": 0,
              "ticks": ""
             }
            },
            "marker": {
             "colorbar": {
              "outlinewidth": 0,
              "ticks": ""
             }
            },
            "type": "scatter3d"
           }
          ],
          "scattercarpet": [
           {
            "marker": {
             "colorbar": {
              "outlinewidth": 0,
              "ticks": ""
             }
            },
            "type": "scattercarpet"
           }
          ],
          "scattergeo": [
           {
            "marker": {
             "colorbar": {
              "outlinewidth": 0,
              "ticks": ""
             }
            },
            "type": "scattergeo"
           }
          ],
          "scattergl": [
           {
            "marker": {
             "colorbar": {
              "outlinewidth": 0,
              "ticks": ""
             }
            },
            "type": "scattergl"
           }
          ],
          "scattermap": [
           {
            "marker": {
             "colorbar": {
              "outlinewidth": 0,
              "ticks": ""
             }
            },
            "type": "scattermap"
           }
          ],
          "scattermapbox": [
           {
            "marker": {
             "colorbar": {
              "outlinewidth": 0,
              "ticks": ""
             }
            },
            "type": "scattermapbox"
           }
          ],
          "scatterpolar": [
           {
            "marker": {
             "colorbar": {
              "outlinewidth": 0,
              "ticks": ""
             }
            },
            "type": "scatterpolar"
           }
          ],
          "scatterpolargl": [
           {
            "marker": {
             "colorbar": {
              "outlinewidth": 0,
              "ticks": ""
             }
            },
            "type": "scatterpolargl"
           }
          ],
          "scatterternary": [
           {
            "marker": {
             "colorbar": {
              "outlinewidth": 0,
              "ticks": ""
             }
            },
            "type": "scatterternary"
           }
          ],
          "surface": [
           {
            "colorbar": {
             "outlinewidth": 0,
             "ticks": ""
            },
            "colorscale": [
             [
              0,
              "#0d0887"
             ],
             [
              0.1111111111111111,
              "#46039f"
             ],
             [
              0.2222222222222222,
              "#7201a8"
             ],
             [
              0.3333333333333333,
              "#9c179e"
             ],
             [
              0.4444444444444444,
              "#bd3786"
             ],
             [
              0.5555555555555556,
              "#d8576b"
             ],
             [
              0.6666666666666666,
              "#ed7953"
             ],
             [
              0.7777777777777778,
              "#fb9f3a"
             ],
             [
              0.8888888888888888,
              "#fdca26"
             ],
             [
              1,
              "#f0f921"
             ]
            ],
            "type": "surface"
           }
          ],
          "table": [
           {
            "cells": {
             "fill": {
              "color": "#EBF0F8"
             },
             "line": {
              "color": "white"
             }
            },
            "header": {
             "fill": {
              "color": "#C8D4E3"
             },
             "line": {
              "color": "white"
             }
            },
            "type": "table"
           }
          ]
         },
         "layout": {
          "annotationdefaults": {
           "arrowcolor": "#2a3f5f",
           "arrowhead": 0,
           "arrowwidth": 1
          },
          "autotypenumbers": "strict",
          "coloraxis": {
           "colorbar": {
            "outlinewidth": 0,
            "ticks": ""
           }
          },
          "colorscale": {
           "diverging": [
            [
             0,
             "#8e0152"
            ],
            [
             0.1,
             "#c51b7d"
            ],
            [
             0.2,
             "#de77ae"
            ],
            [
             0.3,
             "#f1b6da"
            ],
            [
             0.4,
             "#fde0ef"
            ],
            [
             0.5,
             "#f7f7f7"
            ],
            [
             0.6,
             "#e6f5d0"
            ],
            [
             0.7,
             "#b8e186"
            ],
            [
             0.8,
             "#7fbc41"
            ],
            [
             0.9,
             "#4d9221"
            ],
            [
             1,
             "#276419"
            ]
           ],
           "sequential": [
            [
             0,
             "#0d0887"
            ],
            [
             0.1111111111111111,
             "#46039f"
            ],
            [
             0.2222222222222222,
             "#7201a8"
            ],
            [
             0.3333333333333333,
             "#9c179e"
            ],
            [
             0.4444444444444444,
             "#bd3786"
            ],
            [
             0.5555555555555556,
             "#d8576b"
            ],
            [
             0.6666666666666666,
             "#ed7953"
            ],
            [
             0.7777777777777778,
             "#fb9f3a"
            ],
            [
             0.8888888888888888,
             "#fdca26"
            ],
            [
             1,
             "#f0f921"
            ]
           ],
           "sequentialminus": [
            [
             0,
             "#0d0887"
            ],
            [
             0.1111111111111111,
             "#46039f"
            ],
            [
             0.2222222222222222,
             "#7201a8"
            ],
            [
             0.3333333333333333,
             "#9c179e"
            ],
            [
             0.4444444444444444,
             "#bd3786"
            ],
            [
             0.5555555555555556,
             "#d8576b"
            ],
            [
             0.6666666666666666,
             "#ed7953"
            ],
            [
             0.7777777777777778,
             "#fb9f3a"
            ],
            [
             0.8888888888888888,
             "#fdca26"
            ],
            [
             1,
             "#f0f921"
            ]
           ]
          },
          "colorway": [
           "#636efa",
           "#EF553B",
           "#00cc96",
           "#ab63fa",
           "#FFA15A",
           "#19d3f3",
           "#FF6692",
           "#B6E880",
           "#FF97FF",
           "#FECB52"
          ],
          "font": {
           "color": "#2a3f5f"
          },
          "geo": {
           "bgcolor": "white",
           "lakecolor": "white",
           "landcolor": "white",
           "showlakes": true,
           "showland": true,
           "subunitcolor": "#C8D4E3"
          },
          "hoverlabel": {
           "align": "left"
          },
          "hovermode": "closest",
          "mapbox": {
           "style": "light"
          },
          "paper_bgcolor": "white",
          "plot_bgcolor": "white",
          "polar": {
           "angularaxis": {
            "gridcolor": "#EBF0F8",
            "linecolor": "#EBF0F8",
            "ticks": ""
           },
           "bgcolor": "white",
           "radialaxis": {
            "gridcolor": "#EBF0F8",
            "linecolor": "#EBF0F8",
            "ticks": ""
           }
          },
          "scene": {
           "xaxis": {
            "backgroundcolor": "white",
            "gridcolor": "#DFE8F3",
            "gridwidth": 2,
            "linecolor": "#EBF0F8",
            "showbackground": true,
            "ticks": "",
            "zerolinecolor": "#EBF0F8"
           },
           "yaxis": {
            "backgroundcolor": "white",
            "gridcolor": "#DFE8F3",
            "gridwidth": 2,
            "linecolor": "#EBF0F8",
            "showbackground": true,
            "ticks": "",
            "zerolinecolor": "#EBF0F8"
           },
           "zaxis": {
            "backgroundcolor": "white",
            "gridcolor": "#DFE8F3",
            "gridwidth": 2,
            "linecolor": "#EBF0F8",
            "showbackground": true,
            "ticks": "",
            "zerolinecolor": "#EBF0F8"
           }
          },
          "shapedefaults": {
           "line": {
            "color": "#2a3f5f"
           }
          },
          "ternary": {
           "aaxis": {
            "gridcolor": "#DFE8F3",
            "linecolor": "#A2B1C6",
            "ticks": ""
           },
           "baxis": {
            "gridcolor": "#DFE8F3",
            "linecolor": "#A2B1C6",
            "ticks": ""
           },
           "bgcolor": "white",
           "caxis": {
            "gridcolor": "#DFE8F3",
            "linecolor": "#A2B1C6",
            "ticks": ""
           }
          },
          "title": {
           "x": 0.05
          },
          "xaxis": {
           "automargin": true,
           "gridcolor": "#EBF0F8",
           "linecolor": "#EBF0F8",
           "ticks": "",
           "title": {
            "standoff": 15
           },
           "zerolinecolor": "#EBF0F8",
           "zerolinewidth": 2
          },
          "yaxis": {
           "automargin": true,
           "gridcolor": "#EBF0F8",
           "linecolor": "#EBF0F8",
           "ticks": "",
           "title": {
            "standoff": 15
           },
           "zerolinecolor": "#EBF0F8",
           "zerolinewidth": 2
          }
         }
        },
        "title": {
         "text": "ID: FOODS_2_166_WI_3_evaluation | MAPE: 1.84"
        },
        "width": 800,
        "xaxis": {
         "title": {
          "text": "Date"
         }
        },
        "yaxis": {
         "title": {
          "text": "Sales"
         }
        }
       }
      }
     },
     "metadata": {},
     "output_type": "display_data"
    },
    {
     "name": "stderr",
     "output_type": "stream",
     "text": [
      "<string>:28: FutureWarning:\n",
      "\n",
      "The behavior of DataFrame concatenation with empty or all-NA entries is deprecated. In a future version, this will no longer exclude empty or all-NA columns when determining the result dtypes. To retain the old behavior, exclude the relevant entries before the concat operation.\n",
      "\n"
     ]
    },
    {
     "data": {
      "application/vnd.plotly.v1+json": {
       "config": {
        "plotlyServerURL": "https://plot.ly"
       },
       "data": [
        {
         "line": {
          "color": "lightgray"
         },
         "name": "Train Sales",
         "type": "scatter",
         "x": [
          "2016-04-09T00:00:00",
          "2016-04-10T00:00:00",
          "2016-04-11T00:00:00",
          "2016-04-12T00:00:00",
          "2016-04-13T00:00:00",
          "2016-04-14T00:00:00",
          "2016-04-15T00:00:00",
          "2016-04-16T00:00:00",
          "2016-04-17T00:00:00",
          "2016-04-18T00:00:00",
          "2016-04-19T00:00:00",
          "2016-04-20T00:00:00",
          "2016-04-21T00:00:00",
          "2016-04-22T00:00:00",
          "2016-04-23T00:00:00",
          "2016-04-24T00:00:00",
          "2016-04-25T00:00:00",
          "2016-04-26T00:00:00",
          "2016-04-27T00:00:00",
          "2016-04-28T00:00:00",
          "2016-04-29T00:00:00",
          "2016-04-30T00:00:00",
          "2016-05-01T00:00:00",
          "2016-05-02T00:00:00",
          "2016-05-03T00:00:00",
          "2016-05-04T00:00:00",
          "2016-05-05T00:00:00",
          "2016-05-06T00:00:00",
          "2016-05-07T00:00:00",
          "2016-05-08T00:00:00"
         ],
         "y": {
          "bdata": "BAgJBAcIAAoEBQMHAw8BCAUCCQUFAgMCCwwJCAYJ",
          "dtype": "i1"
         }
        },
        {
         "line": {
          "color": "coral"
         },
         "name": "Test Sales",
         "type": "scatter",
         "x": [
          "2016-05-08T00:00:00",
          "2016-05-09T00:00:00",
          "2016-05-10T00:00:00",
          "2016-05-11T00:00:00",
          "2016-05-12T00:00:00",
          "2016-05-13T00:00:00",
          "2016-05-14T00:00:00",
          "2016-05-15T00:00:00",
          "2016-05-16T00:00:00",
          "2016-05-17T00:00:00",
          "2016-05-18T00:00:00",
          "2016-05-19T00:00:00",
          "2016-05-20T00:00:00",
          "2016-05-21T00:00:00",
          "2016-05-22T00:00:00"
         ],
         "y": {
          "bdata": "CQMEBwAABQUBAQkCAQEG",
          "dtype": "i1"
         }
        },
        {
         "line": {
          "color": "coral",
          "dash": "dash"
         },
         "name": "Forecast",
         "type": "scatter",
         "x": [
          "2016-05-08T00:00:00",
          "2016-05-09T00:00:00",
          "2016-05-10T00:00:00",
          "2016-05-11T00:00:00",
          "2016-05-12T00:00:00",
          "2016-05-13T00:00:00",
          "2016-05-14T00:00:00",
          "2016-05-15T00:00:00",
          "2016-05-16T00:00:00",
          "2016-05-17T00:00:00",
          "2016-05-18T00:00:00",
          "2016-05-19T00:00:00",
          "2016-05-20T00:00:00",
          "2016-05-21T00:00:00",
          "2016-05-22T00:00:00"
         ],
         "y": {
          "bdata": "AAAAAAAA+H+a7Qp9sDwaQHe1geCWTBtATSA2osVzG0CyAFx/AWMaQG+ERUWcnhpA4PPDCOHhHEDH2XQEcDMbQI+lD11QXxhADD7NyYtMGUCMFMrC1+8YQDxKyoIu3hdAlbVN8bjYGEBhEz4ATpwaQByygXSxKRlA",
          "dtype": "f8"
         }
        }
       ],
       "layout": {
        "height": 400,
        "template": {
         "data": {
          "bar": [
           {
            "error_x": {
             "color": "#2a3f5f"
            },
            "error_y": {
             "color": "#2a3f5f"
            },
            "marker": {
             "line": {
              "color": "white",
              "width": 0.5
             },
             "pattern": {
              "fillmode": "overlay",
              "size": 10,
              "solidity": 0.2
             }
            },
            "type": "bar"
           }
          ],
          "barpolar": [
           {
            "marker": {
             "line": {
              "color": "white",
              "width": 0.5
             },
             "pattern": {
              "fillmode": "overlay",
              "size": 10,
              "solidity": 0.2
             }
            },
            "type": "barpolar"
           }
          ],
          "carpet": [
           {
            "aaxis": {
             "endlinecolor": "#2a3f5f",
             "gridcolor": "#C8D4E3",
             "linecolor": "#C8D4E3",
             "minorgridcolor": "#C8D4E3",
             "startlinecolor": "#2a3f5f"
            },
            "baxis": {
             "endlinecolor": "#2a3f5f",
             "gridcolor": "#C8D4E3",
             "linecolor": "#C8D4E3",
             "minorgridcolor": "#C8D4E3",
             "startlinecolor": "#2a3f5f"
            },
            "type": "carpet"
           }
          ],
          "choropleth": [
           {
            "colorbar": {
             "outlinewidth": 0,
             "ticks": ""
            },
            "type": "choropleth"
           }
          ],
          "contour": [
           {
            "colorbar": {
             "outlinewidth": 0,
             "ticks": ""
            },
            "colorscale": [
             [
              0,
              "#0d0887"
             ],
             [
              0.1111111111111111,
              "#46039f"
             ],
             [
              0.2222222222222222,
              "#7201a8"
             ],
             [
              0.3333333333333333,
              "#9c179e"
             ],
             [
              0.4444444444444444,
              "#bd3786"
             ],
             [
              0.5555555555555556,
              "#d8576b"
             ],
             [
              0.6666666666666666,
              "#ed7953"
             ],
             [
              0.7777777777777778,
              "#fb9f3a"
             ],
             [
              0.8888888888888888,
              "#fdca26"
             ],
             [
              1,
              "#f0f921"
             ]
            ],
            "type": "contour"
           }
          ],
          "contourcarpet": [
           {
            "colorbar": {
             "outlinewidth": 0,
             "ticks": ""
            },
            "type": "contourcarpet"
           }
          ],
          "heatmap": [
           {
            "colorbar": {
             "outlinewidth": 0,
             "ticks": ""
            },
            "colorscale": [
             [
              0,
              "#0d0887"
             ],
             [
              0.1111111111111111,
              "#46039f"
             ],
             [
              0.2222222222222222,
              "#7201a8"
             ],
             [
              0.3333333333333333,
              "#9c179e"
             ],
             [
              0.4444444444444444,
              "#bd3786"
             ],
             [
              0.5555555555555556,
              "#d8576b"
             ],
             [
              0.6666666666666666,
              "#ed7953"
             ],
             [
              0.7777777777777778,
              "#fb9f3a"
             ],
             [
              0.8888888888888888,
              "#fdca26"
             ],
             [
              1,
              "#f0f921"
             ]
            ],
            "type": "heatmap"
           }
          ],
          "histogram": [
           {
            "marker": {
             "pattern": {
              "fillmode": "overlay",
              "size": 10,
              "solidity": 0.2
             }
            },
            "type": "histogram"
           }
          ],
          "histogram2d": [
           {
            "colorbar": {
             "outlinewidth": 0,
             "ticks": ""
            },
            "colorscale": [
             [
              0,
              "#0d0887"
             ],
             [
              0.1111111111111111,
              "#46039f"
             ],
             [
              0.2222222222222222,
              "#7201a8"
             ],
             [
              0.3333333333333333,
              "#9c179e"
             ],
             [
              0.4444444444444444,
              "#bd3786"
             ],
             [
              0.5555555555555556,
              "#d8576b"
             ],
             [
              0.6666666666666666,
              "#ed7953"
             ],
             [
              0.7777777777777778,
              "#fb9f3a"
             ],
             [
              0.8888888888888888,
              "#fdca26"
             ],
             [
              1,
              "#f0f921"
             ]
            ],
            "type": "histogram2d"
           }
          ],
          "histogram2dcontour": [
           {
            "colorbar": {
             "outlinewidth": 0,
             "ticks": ""
            },
            "colorscale": [
             [
              0,
              "#0d0887"
             ],
             [
              0.1111111111111111,
              "#46039f"
             ],
             [
              0.2222222222222222,
              "#7201a8"
             ],
             [
              0.3333333333333333,
              "#9c179e"
             ],
             [
              0.4444444444444444,
              "#bd3786"
             ],
             [
              0.5555555555555556,
              "#d8576b"
             ],
             [
              0.6666666666666666,
              "#ed7953"
             ],
             [
              0.7777777777777778,
              "#fb9f3a"
             ],
             [
              0.8888888888888888,
              "#fdca26"
             ],
             [
              1,
              "#f0f921"
             ]
            ],
            "type": "histogram2dcontour"
           }
          ],
          "mesh3d": [
           {
            "colorbar": {
             "outlinewidth": 0,
             "ticks": ""
            },
            "type": "mesh3d"
           }
          ],
          "parcoords": [
           {
            "line": {
             "colorbar": {
              "outlinewidth": 0,
              "ticks": ""
             }
            },
            "type": "parcoords"
           }
          ],
          "pie": [
           {
            "automargin": true,
            "type": "pie"
           }
          ],
          "scatter": [
           {
            "fillpattern": {
             "fillmode": "overlay",
             "size": 10,
             "solidity": 0.2
            },
            "type": "scatter"
           }
          ],
          "scatter3d": [
           {
            "line": {
             "colorbar": {
              "outlinewidth": 0,
              "ticks": ""
             }
            },
            "marker": {
             "colorbar": {
              "outlinewidth": 0,
              "ticks": ""
             }
            },
            "type": "scatter3d"
           }
          ],
          "scattercarpet": [
           {
            "marker": {
             "colorbar": {
              "outlinewidth": 0,
              "ticks": ""
             }
            },
            "type": "scattercarpet"
           }
          ],
          "scattergeo": [
           {
            "marker": {
             "colorbar": {
              "outlinewidth": 0,
              "ticks": ""
             }
            },
            "type": "scattergeo"
           }
          ],
          "scattergl": [
           {
            "marker": {
             "colorbar": {
              "outlinewidth": 0,
              "ticks": ""
             }
            },
            "type": "scattergl"
           }
          ],
          "scattermap": [
           {
            "marker": {
             "colorbar": {
              "outlinewidth": 0,
              "ticks": ""
             }
            },
            "type": "scattermap"
           }
          ],
          "scattermapbox": [
           {
            "marker": {
             "colorbar": {
              "outlinewidth": 0,
              "ticks": ""
             }
            },
            "type": "scattermapbox"
           }
          ],
          "scatterpolar": [
           {
            "marker": {
             "colorbar": {
              "outlinewidth": 0,
              "ticks": ""
             }
            },
            "type": "scatterpolar"
           }
          ],
          "scatterpolargl": [
           {
            "marker": {
             "colorbar": {
              "outlinewidth": 0,
              "ticks": ""
             }
            },
            "type": "scatterpolargl"
           }
          ],
          "scatterternary": [
           {
            "marker": {
             "colorbar": {
              "outlinewidth": 0,
              "ticks": ""
             }
            },
            "type": "scatterternary"
           }
          ],
          "surface": [
           {
            "colorbar": {
             "outlinewidth": 0,
             "ticks": ""
            },
            "colorscale": [
             [
              0,
              "#0d0887"
             ],
             [
              0.1111111111111111,
              "#46039f"
             ],
             [
              0.2222222222222222,
              "#7201a8"
             ],
             [
              0.3333333333333333,
              "#9c179e"
             ],
             [
              0.4444444444444444,
              "#bd3786"
             ],
             [
              0.5555555555555556,
              "#d8576b"
             ],
             [
              0.6666666666666666,
              "#ed7953"
             ],
             [
              0.7777777777777778,
              "#fb9f3a"
             ],
             [
              0.8888888888888888,
              "#fdca26"
             ],
             [
              1,
              "#f0f921"
             ]
            ],
            "type": "surface"
           }
          ],
          "table": [
           {
            "cells": {
             "fill": {
              "color": "#EBF0F8"
             },
             "line": {
              "color": "white"
             }
            },
            "header": {
             "fill": {
              "color": "#C8D4E3"
             },
             "line": {
              "color": "white"
             }
            },
            "type": "table"
           }
          ]
         },
         "layout": {
          "annotationdefaults": {
           "arrowcolor": "#2a3f5f",
           "arrowhead": 0,
           "arrowwidth": 1
          },
          "autotypenumbers": "strict",
          "coloraxis": {
           "colorbar": {
            "outlinewidth": 0,
            "ticks": ""
           }
          },
          "colorscale": {
           "diverging": [
            [
             0,
             "#8e0152"
            ],
            [
             0.1,
             "#c51b7d"
            ],
            [
             0.2,
             "#de77ae"
            ],
            [
             0.3,
             "#f1b6da"
            ],
            [
             0.4,
             "#fde0ef"
            ],
            [
             0.5,
             "#f7f7f7"
            ],
            [
             0.6,
             "#e6f5d0"
            ],
            [
             0.7,
             "#b8e186"
            ],
            [
             0.8,
             "#7fbc41"
            ],
            [
             0.9,
             "#4d9221"
            ],
            [
             1,
             "#276419"
            ]
           ],
           "sequential": [
            [
             0,
             "#0d0887"
            ],
            [
             0.1111111111111111,
             "#46039f"
            ],
            [
             0.2222222222222222,
             "#7201a8"
            ],
            [
             0.3333333333333333,
             "#9c179e"
            ],
            [
             0.4444444444444444,
             "#bd3786"
            ],
            [
             0.5555555555555556,
             "#d8576b"
            ],
            [
             0.6666666666666666,
             "#ed7953"
            ],
            [
             0.7777777777777778,
             "#fb9f3a"
            ],
            [
             0.8888888888888888,
             "#fdca26"
            ],
            [
             1,
             "#f0f921"
            ]
           ],
           "sequentialminus": [
            [
             0,
             "#0d0887"
            ],
            [
             0.1111111111111111,
             "#46039f"
            ],
            [
             0.2222222222222222,
             "#7201a8"
            ],
            [
             0.3333333333333333,
             "#9c179e"
            ],
            [
             0.4444444444444444,
             "#bd3786"
            ],
            [
             0.5555555555555556,
             "#d8576b"
            ],
            [
             0.6666666666666666,
             "#ed7953"
            ],
            [
             0.7777777777777778,
             "#fb9f3a"
            ],
            [
             0.8888888888888888,
             "#fdca26"
            ],
            [
             1,
             "#f0f921"
            ]
           ]
          },
          "colorway": [
           "#636efa",
           "#EF553B",
           "#00cc96",
           "#ab63fa",
           "#FFA15A",
           "#19d3f3",
           "#FF6692",
           "#B6E880",
           "#FF97FF",
           "#FECB52"
          ],
          "font": {
           "color": "#2a3f5f"
          },
          "geo": {
           "bgcolor": "white",
           "lakecolor": "white",
           "landcolor": "white",
           "showlakes": true,
           "showland": true,
           "subunitcolor": "#C8D4E3"
          },
          "hoverlabel": {
           "align": "left"
          },
          "hovermode": "closest",
          "mapbox": {
           "style": "light"
          },
          "paper_bgcolor": "white",
          "plot_bgcolor": "white",
          "polar": {
           "angularaxis": {
            "gridcolor": "#EBF0F8",
            "linecolor": "#EBF0F8",
            "ticks": ""
           },
           "bgcolor": "white",
           "radialaxis": {
            "gridcolor": "#EBF0F8",
            "linecolor": "#EBF0F8",
            "ticks": ""
           }
          },
          "scene": {
           "xaxis": {
            "backgroundcolor": "white",
            "gridcolor": "#DFE8F3",
            "gridwidth": 2,
            "linecolor": "#EBF0F8",
            "showbackground": true,
            "ticks": "",
            "zerolinecolor": "#EBF0F8"
           },
           "yaxis": {
            "backgroundcolor": "white",
            "gridcolor": "#DFE8F3",
            "gridwidth": 2,
            "linecolor": "#EBF0F8",
            "showbackground": true,
            "ticks": "",
            "zerolinecolor": "#EBF0F8"
           },
           "zaxis": {
            "backgroundcolor": "white",
            "gridcolor": "#DFE8F3",
            "gridwidth": 2,
            "linecolor": "#EBF0F8",
            "showbackground": true,
            "ticks": "",
            "zerolinecolor": "#EBF0F8"
           }
          },
          "shapedefaults": {
           "line": {
            "color": "#2a3f5f"
           }
          },
          "ternary": {
           "aaxis": {
            "gridcolor": "#DFE8F3",
            "linecolor": "#A2B1C6",
            "ticks": ""
           },
           "baxis": {
            "gridcolor": "#DFE8F3",
            "linecolor": "#A2B1C6",
            "ticks": ""
           },
           "bgcolor": "white",
           "caxis": {
            "gridcolor": "#DFE8F3",
            "linecolor": "#A2B1C6",
            "ticks": ""
           }
          },
          "title": {
           "x": 0.05
          },
          "xaxis": {
           "automargin": true,
           "gridcolor": "#EBF0F8",
           "linecolor": "#EBF0F8",
           "ticks": "",
           "title": {
            "standoff": 15
           },
           "zerolinecolor": "#EBF0F8",
           "zerolinewidth": 2
          },
          "yaxis": {
           "automargin": true,
           "gridcolor": "#EBF0F8",
           "linecolor": "#EBF0F8",
           "ticks": "",
           "title": {
            "standoff": 15
           },
           "zerolinecolor": "#EBF0F8",
           "zerolinewidth": 2
          }
         }
        },
        "title": {
         "text": "ID: FOODS_3_475_WI_2_evaluation | MAPE: 2.19"
        },
        "width": 800,
        "xaxis": {
         "title": {
          "text": "Date"
         }
        },
        "yaxis": {
         "title": {
          "text": "Sales"
         }
        }
       }
      }
     },
     "metadata": {},
     "output_type": "display_data"
    },
    {
     "name": "stderr",
     "output_type": "stream",
     "text": [
      "<string>:28: FutureWarning:\n",
      "\n",
      "The behavior of DataFrame concatenation with empty or all-NA entries is deprecated. In a future version, this will no longer exclude empty or all-NA columns when determining the result dtypes. To retain the old behavior, exclude the relevant entries before the concat operation.\n",
      "\n"
     ]
    },
    {
     "data": {
      "application/vnd.plotly.v1+json": {
       "config": {
        "plotlyServerURL": "https://plot.ly"
       },
       "data": [
        {
         "line": {
          "color": "lightgray"
         },
         "name": "Train Sales",
         "type": "scatter",
         "x": [
          "2016-04-09T00:00:00",
          "2016-04-10T00:00:00",
          "2016-04-11T00:00:00",
          "2016-04-12T00:00:00",
          "2016-04-13T00:00:00",
          "2016-04-14T00:00:00",
          "2016-04-15T00:00:00",
          "2016-04-16T00:00:00",
          "2016-04-17T00:00:00",
          "2016-04-18T00:00:00",
          "2016-04-19T00:00:00",
          "2016-04-20T00:00:00",
          "2016-04-21T00:00:00",
          "2016-04-22T00:00:00",
          "2016-04-23T00:00:00",
          "2016-04-24T00:00:00",
          "2016-04-25T00:00:00",
          "2016-04-26T00:00:00",
          "2016-04-27T00:00:00",
          "2016-04-28T00:00:00",
          "2016-04-29T00:00:00",
          "2016-04-30T00:00:00",
          "2016-05-01T00:00:00",
          "2016-05-02T00:00:00",
          "2016-05-03T00:00:00",
          "2016-05-04T00:00:00",
          "2016-05-05T00:00:00",
          "2016-05-06T00:00:00",
          "2016-05-07T00:00:00",
          "2016-05-08T00:00:00"
         ],
         "y": {
          "bdata": "EQUEAQgCCxAPBQMACQAUCgYFAAYBFA0HAQQFBBcG",
          "dtype": "i1"
         }
        },
        {
         "line": {
          "color": "coral"
         },
         "name": "Test Sales",
         "type": "scatter",
         "x": [
          "2016-05-08T00:00:00",
          "2016-05-09T00:00:00",
          "2016-05-10T00:00:00",
          "2016-05-11T00:00:00",
          "2016-05-12T00:00:00",
          "2016-05-13T00:00:00",
          "2016-05-14T00:00:00",
          "2016-05-15T00:00:00",
          "2016-05-16T00:00:00",
          "2016-05-17T00:00:00",
          "2016-05-18T00:00:00",
          "2016-05-19T00:00:00",
          "2016-05-20T00:00:00",
          "2016-05-21T00:00:00",
          "2016-05-22T00:00:00"
         ],
         "y": {
          "bdata": "BgECAAkIEA8BAQMABhIM",
          "dtype": "i1"
         }
        },
        {
         "line": {
          "color": "coral",
          "dash": "dash"
         },
         "name": "Forecast",
         "type": "scatter",
         "x": [
          "2016-05-08T00:00:00",
          "2016-05-09T00:00:00",
          "2016-05-10T00:00:00",
          "2016-05-11T00:00:00",
          "2016-05-12T00:00:00",
          "2016-05-13T00:00:00",
          "2016-05-14T00:00:00",
          "2016-05-15T00:00:00",
          "2016-05-16T00:00:00",
          "2016-05-17T00:00:00",
          "2016-05-18T00:00:00",
          "2016-05-19T00:00:00",
          "2016-05-20T00:00:00",
          "2016-05-21T00:00:00",
          "2016-05-22T00:00:00"
         ],
         "y": {
          "bdata": "AAAAAAAA+H8gDafMzU8gQOQSRx6IdCBAOxfrwN7RHkA82jhiLUYhQLvyWZ4HhyNA9BWkGYvyNEB6/rRRnT4kQLX7VYDv8iBAR7Bx/bt2H0B1xMZh1V0fQGsotRfRriBAc9h9x/AQI0CzYU1lUTw1QHnL1Y9NeiNA",
          "dtype": "f8"
         }
        }
       ],
       "layout": {
        "height": 400,
        "template": {
         "data": {
          "bar": [
           {
            "error_x": {
             "color": "#2a3f5f"
            },
            "error_y": {
             "color": "#2a3f5f"
            },
            "marker": {
             "line": {
              "color": "white",
              "width": 0.5
             },
             "pattern": {
              "fillmode": "overlay",
              "size": 10,
              "solidity": 0.2
             }
            },
            "type": "bar"
           }
          ],
          "barpolar": [
           {
            "marker": {
             "line": {
              "color": "white",
              "width": 0.5
             },
             "pattern": {
              "fillmode": "overlay",
              "size": 10,
              "solidity": 0.2
             }
            },
            "type": "barpolar"
           }
          ],
          "carpet": [
           {
            "aaxis": {
             "endlinecolor": "#2a3f5f",
             "gridcolor": "#C8D4E3",
             "linecolor": "#C8D4E3",
             "minorgridcolor": "#C8D4E3",
             "startlinecolor": "#2a3f5f"
            },
            "baxis": {
             "endlinecolor": "#2a3f5f",
             "gridcolor": "#C8D4E3",
             "linecolor": "#C8D4E3",
             "minorgridcolor": "#C8D4E3",
             "startlinecolor": "#2a3f5f"
            },
            "type": "carpet"
           }
          ],
          "choropleth": [
           {
            "colorbar": {
             "outlinewidth": 0,
             "ticks": ""
            },
            "type": "choropleth"
           }
          ],
          "contour": [
           {
            "colorbar": {
             "outlinewidth": 0,
             "ticks": ""
            },
            "colorscale": [
             [
              0,
              "#0d0887"
             ],
             [
              0.1111111111111111,
              "#46039f"
             ],
             [
              0.2222222222222222,
              "#7201a8"
             ],
             [
              0.3333333333333333,
              "#9c179e"
             ],
             [
              0.4444444444444444,
              "#bd3786"
             ],
             [
              0.5555555555555556,
              "#d8576b"
             ],
             [
              0.6666666666666666,
              "#ed7953"
             ],
             [
              0.7777777777777778,
              "#fb9f3a"
             ],
             [
              0.8888888888888888,
              "#fdca26"
             ],
             [
              1,
              "#f0f921"
             ]
            ],
            "type": "contour"
           }
          ],
          "contourcarpet": [
           {
            "colorbar": {
             "outlinewidth": 0,
             "ticks": ""
            },
            "type": "contourcarpet"
           }
          ],
          "heatmap": [
           {
            "colorbar": {
             "outlinewidth": 0,
             "ticks": ""
            },
            "colorscale": [
             [
              0,
              "#0d0887"
             ],
             [
              0.1111111111111111,
              "#46039f"
             ],
             [
              0.2222222222222222,
              "#7201a8"
             ],
             [
              0.3333333333333333,
              "#9c179e"
             ],
             [
              0.4444444444444444,
              "#bd3786"
             ],
             [
              0.5555555555555556,
              "#d8576b"
             ],
             [
              0.6666666666666666,
              "#ed7953"
             ],
             [
              0.7777777777777778,
              "#fb9f3a"
             ],
             [
              0.8888888888888888,
              "#fdca26"
             ],
             [
              1,
              "#f0f921"
             ]
            ],
            "type": "heatmap"
           }
          ],
          "histogram": [
           {
            "marker": {
             "pattern": {
              "fillmode": "overlay",
              "size": 10,
              "solidity": 0.2
             }
            },
            "type": "histogram"
           }
          ],
          "histogram2d": [
           {
            "colorbar": {
             "outlinewidth": 0,
             "ticks": ""
            },
            "colorscale": [
             [
              0,
              "#0d0887"
             ],
             [
              0.1111111111111111,
              "#46039f"
             ],
             [
              0.2222222222222222,
              "#7201a8"
             ],
             [
              0.3333333333333333,
              "#9c179e"
             ],
             [
              0.4444444444444444,
              "#bd3786"
             ],
             [
              0.5555555555555556,
              "#d8576b"
             ],
             [
              0.6666666666666666,
              "#ed7953"
             ],
             [
              0.7777777777777778,
              "#fb9f3a"
             ],
             [
              0.8888888888888888,
              "#fdca26"
             ],
             [
              1,
              "#f0f921"
             ]
            ],
            "type": "histogram2d"
           }
          ],
          "histogram2dcontour": [
           {
            "colorbar": {
             "outlinewidth": 0,
             "ticks": ""
            },
            "colorscale": [
             [
              0,
              "#0d0887"
             ],
             [
              0.1111111111111111,
              "#46039f"
             ],
             [
              0.2222222222222222,
              "#7201a8"
             ],
             [
              0.3333333333333333,
              "#9c179e"
             ],
             [
              0.4444444444444444,
              "#bd3786"
             ],
             [
              0.5555555555555556,
              "#d8576b"
             ],
             [
              0.6666666666666666,
              "#ed7953"
             ],
             [
              0.7777777777777778,
              "#fb9f3a"
             ],
             [
              0.8888888888888888,
              "#fdca26"
             ],
             [
              1,
              "#f0f921"
             ]
            ],
            "type": "histogram2dcontour"
           }
          ],
          "mesh3d": [
           {
            "colorbar": {
             "outlinewidth": 0,
             "ticks": ""
            },
            "type": "mesh3d"
           }
          ],
          "parcoords": [
           {
            "line": {
             "colorbar": {
              "outlinewidth": 0,
              "ticks": ""
             }
            },
            "type": "parcoords"
           }
          ],
          "pie": [
           {
            "automargin": true,
            "type": "pie"
           }
          ],
          "scatter": [
           {
            "fillpattern": {
             "fillmode": "overlay",
             "size": 10,
             "solidity": 0.2
            },
            "type": "scatter"
           }
          ],
          "scatter3d": [
           {
            "line": {
             "colorbar": {
              "outlinewidth": 0,
              "ticks": ""
             }
            },
            "marker": {
             "colorbar": {
              "outlinewidth": 0,
              "ticks": ""
             }
            },
            "type": "scatter3d"
           }
          ],
          "scattercarpet": [
           {
            "marker": {
             "colorbar": {
              "outlinewidth": 0,
              "ticks": ""
             }
            },
            "type": "scattercarpet"
           }
          ],
          "scattergeo": [
           {
            "marker": {
             "colorbar": {
              "outlinewidth": 0,
              "ticks": ""
             }
            },
            "type": "scattergeo"
           }
          ],
          "scattergl": [
           {
            "marker": {
             "colorbar": {
              "outlinewidth": 0,
              "ticks": ""
             }
            },
            "type": "scattergl"
           }
          ],
          "scattermap": [
           {
            "marker": {
             "colorbar": {
              "outlinewidth": 0,
              "ticks": ""
             }
            },
            "type": "scattermap"
           }
          ],
          "scattermapbox": [
           {
            "marker": {
             "colorbar": {
              "outlinewidth": 0,
              "ticks": ""
             }
            },
            "type": "scattermapbox"
           }
          ],
          "scatterpolar": [
           {
            "marker": {
             "colorbar": {
              "outlinewidth": 0,
              "ticks": ""
             }
            },
            "type": "scatterpolar"
           }
          ],
          "scatterpolargl": [
           {
            "marker": {
             "colorbar": {
              "outlinewidth": 0,
              "ticks": ""
             }
            },
            "type": "scatterpolargl"
           }
          ],
          "scatterternary": [
           {
            "marker": {
             "colorbar": {
              "outlinewidth": 0,
              "ticks": ""
             }
            },
            "type": "scatterternary"
           }
          ],
          "surface": [
           {
            "colorbar": {
             "outlinewidth": 0,
             "ticks": ""
            },
            "colorscale": [
             [
              0,
              "#0d0887"
             ],
             [
              0.1111111111111111,
              "#46039f"
             ],
             [
              0.2222222222222222,
              "#7201a8"
             ],
             [
              0.3333333333333333,
              "#9c179e"
             ],
             [
              0.4444444444444444,
              "#bd3786"
             ],
             [
              0.5555555555555556,
              "#d8576b"
             ],
             [
              0.6666666666666666,
              "#ed7953"
             ],
             [
              0.7777777777777778,
              "#fb9f3a"
             ],
             [
              0.8888888888888888,
              "#fdca26"
             ],
             [
              1,
              "#f0f921"
             ]
            ],
            "type": "surface"
           }
          ],
          "table": [
           {
            "cells": {
             "fill": {
              "color": "#EBF0F8"
             },
             "line": {
              "color": "white"
             }
            },
            "header": {
             "fill": {
              "color": "#C8D4E3"
             },
             "line": {
              "color": "white"
             }
            },
            "type": "table"
           }
          ]
         },
         "layout": {
          "annotationdefaults": {
           "arrowcolor": "#2a3f5f",
           "arrowhead": 0,
           "arrowwidth": 1
          },
          "autotypenumbers": "strict",
          "coloraxis": {
           "colorbar": {
            "outlinewidth": 0,
            "ticks": ""
           }
          },
          "colorscale": {
           "diverging": [
            [
             0,
             "#8e0152"
            ],
            [
             0.1,
             "#c51b7d"
            ],
            [
             0.2,
             "#de77ae"
            ],
            [
             0.3,
             "#f1b6da"
            ],
            [
             0.4,
             "#fde0ef"
            ],
            [
             0.5,
             "#f7f7f7"
            ],
            [
             0.6,
             "#e6f5d0"
            ],
            [
             0.7,
             "#b8e186"
            ],
            [
             0.8,
             "#7fbc41"
            ],
            [
             0.9,
             "#4d9221"
            ],
            [
             1,
             "#276419"
            ]
           ],
           "sequential": [
            [
             0,
             "#0d0887"
            ],
            [
             0.1111111111111111,
             "#46039f"
            ],
            [
             0.2222222222222222,
             "#7201a8"
            ],
            [
             0.3333333333333333,
             "#9c179e"
            ],
            [
             0.4444444444444444,
             "#bd3786"
            ],
            [
             0.5555555555555556,
             "#d8576b"
            ],
            [
             0.6666666666666666,
             "#ed7953"
            ],
            [
             0.7777777777777778,
             "#fb9f3a"
            ],
            [
             0.8888888888888888,
             "#fdca26"
            ],
            [
             1,
             "#f0f921"
            ]
           ],
           "sequentialminus": [
            [
             0,
             "#0d0887"
            ],
            [
             0.1111111111111111,
             "#46039f"
            ],
            [
             0.2222222222222222,
             "#7201a8"
            ],
            [
             0.3333333333333333,
             "#9c179e"
            ],
            [
             0.4444444444444444,
             "#bd3786"
            ],
            [
             0.5555555555555556,
             "#d8576b"
            ],
            [
             0.6666666666666666,
             "#ed7953"
            ],
            [
             0.7777777777777778,
             "#fb9f3a"
            ],
            [
             0.8888888888888888,
             "#fdca26"
            ],
            [
             1,
             "#f0f921"
            ]
           ]
          },
          "colorway": [
           "#636efa",
           "#EF553B",
           "#00cc96",
           "#ab63fa",
           "#FFA15A",
           "#19d3f3",
           "#FF6692",
           "#B6E880",
           "#FF97FF",
           "#FECB52"
          ],
          "font": {
           "color": "#2a3f5f"
          },
          "geo": {
           "bgcolor": "white",
           "lakecolor": "white",
           "landcolor": "white",
           "showlakes": true,
           "showland": true,
           "subunitcolor": "#C8D4E3"
          },
          "hoverlabel": {
           "align": "left"
          },
          "hovermode": "closest",
          "mapbox": {
           "style": "light"
          },
          "paper_bgcolor": "white",
          "plot_bgcolor": "white",
          "polar": {
           "angularaxis": {
            "gridcolor": "#EBF0F8",
            "linecolor": "#EBF0F8",
            "ticks": ""
           },
           "bgcolor": "white",
           "radialaxis": {
            "gridcolor": "#EBF0F8",
            "linecolor": "#EBF0F8",
            "ticks": ""
           }
          },
          "scene": {
           "xaxis": {
            "backgroundcolor": "white",
            "gridcolor": "#DFE8F3",
            "gridwidth": 2,
            "linecolor": "#EBF0F8",
            "showbackground": true,
            "ticks": "",
            "zerolinecolor": "#EBF0F8"
           },
           "yaxis": {
            "backgroundcolor": "white",
            "gridcolor": "#DFE8F3",
            "gridwidth": 2,
            "linecolor": "#EBF0F8",
            "showbackground": true,
            "ticks": "",
            "zerolinecolor": "#EBF0F8"
           },
           "zaxis": {
            "backgroundcolor": "white",
            "gridcolor": "#DFE8F3",
            "gridwidth": 2,
            "linecolor": "#EBF0F8",
            "showbackground": true,
            "ticks": "",
            "zerolinecolor": "#EBF0F8"
           }
          },
          "shapedefaults": {
           "line": {
            "color": "#2a3f5f"
           }
          },
          "ternary": {
           "aaxis": {
            "gridcolor": "#DFE8F3",
            "linecolor": "#A2B1C6",
            "ticks": ""
           },
           "baxis": {
            "gridcolor": "#DFE8F3",
            "linecolor": "#A2B1C6",
            "ticks": ""
           },
           "bgcolor": "white",
           "caxis": {
            "gridcolor": "#DFE8F3",
            "linecolor": "#A2B1C6",
            "ticks": ""
           }
          },
          "title": {
           "x": 0.05
          },
          "xaxis": {
           "automargin": true,
           "gridcolor": "#EBF0F8",
           "linecolor": "#EBF0F8",
           "ticks": "",
           "title": {
            "standoff": 15
           },
           "zerolinecolor": "#EBF0F8",
           "zerolinewidth": 2
          },
          "yaxis": {
           "automargin": true,
           "gridcolor": "#EBF0F8",
           "linecolor": "#EBF0F8",
           "ticks": "",
           "title": {
            "standoff": 15
           },
           "zerolinecolor": "#EBF0F8",
           "zerolinewidth": 2
          }
         }
        },
        "title": {
         "text": "ID: HOBBIES_1_178_WI_1_evaluation | MAPE: 2.34"
        },
        "width": 800,
        "xaxis": {
         "title": {
          "text": "Date"
         }
        },
        "yaxis": {
         "title": {
          "text": "Sales"
         }
        }
       }
      }
     },
     "metadata": {},
     "output_type": "display_data"
    },
    {
     "name": "stderr",
     "output_type": "stream",
     "text": [
      "<string>:28: FutureWarning:\n",
      "\n",
      "The behavior of DataFrame concatenation with empty or all-NA entries is deprecated. In a future version, this will no longer exclude empty or all-NA columns when determining the result dtypes. To retain the old behavior, exclude the relevant entries before the concat operation.\n",
      "\n"
     ]
    },
    {
     "data": {
      "application/vnd.plotly.v1+json": {
       "config": {
        "plotlyServerURL": "https://plot.ly"
       },
       "data": [
        {
         "line": {
          "color": "lightgray"
         },
         "name": "Train Sales",
         "type": "scatter",
         "x": [
          "2016-04-09T00:00:00",
          "2016-04-10T00:00:00",
          "2016-04-11T00:00:00",
          "2016-04-12T00:00:00",
          "2016-04-13T00:00:00",
          "2016-04-14T00:00:00",
          "2016-04-15T00:00:00",
          "2016-04-16T00:00:00",
          "2016-04-17T00:00:00",
          "2016-04-18T00:00:00",
          "2016-04-19T00:00:00",
          "2016-04-20T00:00:00",
          "2016-04-21T00:00:00",
          "2016-04-22T00:00:00",
          "2016-04-23T00:00:00",
          "2016-04-24T00:00:00",
          "2016-04-25T00:00:00",
          "2016-04-26T00:00:00",
          "2016-04-27T00:00:00",
          "2016-04-28T00:00:00",
          "2016-04-29T00:00:00",
          "2016-04-30T00:00:00",
          "2016-05-01T00:00:00",
          "2016-05-02T00:00:00",
          "2016-05-03T00:00:00",
          "2016-05-04T00:00:00",
          "2016-05-05T00:00:00",
          "2016-05-06T00:00:00",
          "2016-05-07T00:00:00",
          "2016-05-08T00:00:00"
         ],
         "y": {
          "bdata": "EgAABgQBBhQEDw0cEA8BAhUFBQkHCRgNGgIIAxQI",
          "dtype": "i1"
         }
        },
        {
         "line": {
          "color": "coral"
         },
         "name": "Test Sales",
         "type": "scatter",
         "x": [
          "2016-05-08T00:00:00",
          "2016-05-09T00:00:00",
          "2016-05-10T00:00:00",
          "2016-05-11T00:00:00",
          "2016-05-12T00:00:00",
          "2016-05-13T00:00:00",
          "2016-05-14T00:00:00",
          "2016-05-15T00:00:00",
          "2016-05-16T00:00:00",
          "2016-05-17T00:00:00",
          "2016-05-18T00:00:00",
          "2016-05-19T00:00:00",
          "2016-05-20T00:00:00",
          "2016-05-21T00:00:00",
          "2016-05-22T00:00:00"
         ],
         "y": {
          "bdata": "CAgEEwgcBgACBQEaARAM",
          "dtype": "i1"
         }
        },
        {
         "line": {
          "color": "coral",
          "dash": "dash"
         },
         "name": "Forecast",
         "type": "scatter",
         "x": [
          "2016-05-08T00:00:00",
          "2016-05-09T00:00:00",
          "2016-05-10T00:00:00",
          "2016-05-11T00:00:00",
          "2016-05-12T00:00:00",
          "2016-05-13T00:00:00",
          "2016-05-14T00:00:00",
          "2016-05-15T00:00:00",
          "2016-05-16T00:00:00",
          "2016-05-17T00:00:00",
          "2016-05-18T00:00:00",
          "2016-05-19T00:00:00",
          "2016-05-20T00:00:00",
          "2016-05-21T00:00:00",
          "2016-05-22T00:00:00"
         ],
         "y": {
          "bdata": "AAAAAAAA+H8bu0T11nAnQAJiEi7kcShARfMAFvkdJ0AtCVBTy0YnQDQsRl1rLyhAcTyfAfW+L0A3b5wU5l0pQAYRqWkXsydAX1yq0hZvKEBYcaq1MNMmQABSmzi5xyZAHxSUopW7KEAb1elA1qsvQLQ4Y5gT9ChA",
          "dtype": "f8"
         }
        }
       ],
       "layout": {
        "height": 400,
        "template": {
         "data": {
          "bar": [
           {
            "error_x": {
             "color": "#2a3f5f"
            },
            "error_y": {
             "color": "#2a3f5f"
            },
            "marker": {
             "line": {
              "color": "white",
              "width": 0.5
             },
             "pattern": {
              "fillmode": "overlay",
              "size": 10,
              "solidity": 0.2
             }
            },
            "type": "bar"
           }
          ],
          "barpolar": [
           {
            "marker": {
             "line": {
              "color": "white",
              "width": 0.5
             },
             "pattern": {
              "fillmode": "overlay",
              "size": 10,
              "solidity": 0.2
             }
            },
            "type": "barpolar"
           }
          ],
          "carpet": [
           {
            "aaxis": {
             "endlinecolor": "#2a3f5f",
             "gridcolor": "#C8D4E3",
             "linecolor": "#C8D4E3",
             "minorgridcolor": "#C8D4E3",
             "startlinecolor": "#2a3f5f"
            },
            "baxis": {
             "endlinecolor": "#2a3f5f",
             "gridcolor": "#C8D4E3",
             "linecolor": "#C8D4E3",
             "minorgridcolor": "#C8D4E3",
             "startlinecolor": "#2a3f5f"
            },
            "type": "carpet"
           }
          ],
          "choropleth": [
           {
            "colorbar": {
             "outlinewidth": 0,
             "ticks": ""
            },
            "type": "choropleth"
           }
          ],
          "contour": [
           {
            "colorbar": {
             "outlinewidth": 0,
             "ticks": ""
            },
            "colorscale": [
             [
              0,
              "#0d0887"
             ],
             [
              0.1111111111111111,
              "#46039f"
             ],
             [
              0.2222222222222222,
              "#7201a8"
             ],
             [
              0.3333333333333333,
              "#9c179e"
             ],
             [
              0.4444444444444444,
              "#bd3786"
             ],
             [
              0.5555555555555556,
              "#d8576b"
             ],
             [
              0.6666666666666666,
              "#ed7953"
             ],
             [
              0.7777777777777778,
              "#fb9f3a"
             ],
             [
              0.8888888888888888,
              "#fdca26"
             ],
             [
              1,
              "#f0f921"
             ]
            ],
            "type": "contour"
           }
          ],
          "contourcarpet": [
           {
            "colorbar": {
             "outlinewidth": 0,
             "ticks": ""
            },
            "type": "contourcarpet"
           }
          ],
          "heatmap": [
           {
            "colorbar": {
             "outlinewidth": 0,
             "ticks": ""
            },
            "colorscale": [
             [
              0,
              "#0d0887"
             ],
             [
              0.1111111111111111,
              "#46039f"
             ],
             [
              0.2222222222222222,
              "#7201a8"
             ],
             [
              0.3333333333333333,
              "#9c179e"
             ],
             [
              0.4444444444444444,
              "#bd3786"
             ],
             [
              0.5555555555555556,
              "#d8576b"
             ],
             [
              0.6666666666666666,
              "#ed7953"
             ],
             [
              0.7777777777777778,
              "#fb9f3a"
             ],
             [
              0.8888888888888888,
              "#fdca26"
             ],
             [
              1,
              "#f0f921"
             ]
            ],
            "type": "heatmap"
           }
          ],
          "histogram": [
           {
            "marker": {
             "pattern": {
              "fillmode": "overlay",
              "size": 10,
              "solidity": 0.2
             }
            },
            "type": "histogram"
           }
          ],
          "histogram2d": [
           {
            "colorbar": {
             "outlinewidth": 0,
             "ticks": ""
            },
            "colorscale": [
             [
              0,
              "#0d0887"
             ],
             [
              0.1111111111111111,
              "#46039f"
             ],
             [
              0.2222222222222222,
              "#7201a8"
             ],
             [
              0.3333333333333333,
              "#9c179e"
             ],
             [
              0.4444444444444444,
              "#bd3786"
             ],
             [
              0.5555555555555556,
              "#d8576b"
             ],
             [
              0.6666666666666666,
              "#ed7953"
             ],
             [
              0.7777777777777778,
              "#fb9f3a"
             ],
             [
              0.8888888888888888,
              "#fdca26"
             ],
             [
              1,
              "#f0f921"
             ]
            ],
            "type": "histogram2d"
           }
          ],
          "histogram2dcontour": [
           {
            "colorbar": {
             "outlinewidth": 0,
             "ticks": ""
            },
            "colorscale": [
             [
              0,
              "#0d0887"
             ],
             [
              0.1111111111111111,
              "#46039f"
             ],
             [
              0.2222222222222222,
              "#7201a8"
             ],
             [
              0.3333333333333333,
              "#9c179e"
             ],
             [
              0.4444444444444444,
              "#bd3786"
             ],
             [
              0.5555555555555556,
              "#d8576b"
             ],
             [
              0.6666666666666666,
              "#ed7953"
             ],
             [
              0.7777777777777778,
              "#fb9f3a"
             ],
             [
              0.8888888888888888,
              "#fdca26"
             ],
             [
              1,
              "#f0f921"
             ]
            ],
            "type": "histogram2dcontour"
           }
          ],
          "mesh3d": [
           {
            "colorbar": {
             "outlinewidth": 0,
             "ticks": ""
            },
            "type": "mesh3d"
           }
          ],
          "parcoords": [
           {
            "line": {
             "colorbar": {
              "outlinewidth": 0,
              "ticks": ""
             }
            },
            "type": "parcoords"
           }
          ],
          "pie": [
           {
            "automargin": true,
            "type": "pie"
           }
          ],
          "scatter": [
           {
            "fillpattern": {
             "fillmode": "overlay",
             "size": 10,
             "solidity": 0.2
            },
            "type": "scatter"
           }
          ],
          "scatter3d": [
           {
            "line": {
             "colorbar": {
              "outlinewidth": 0,
              "ticks": ""
             }
            },
            "marker": {
             "colorbar": {
              "outlinewidth": 0,
              "ticks": ""
             }
            },
            "type": "scatter3d"
           }
          ],
          "scattercarpet": [
           {
            "marker": {
             "colorbar": {
              "outlinewidth": 0,
              "ticks": ""
             }
            },
            "type": "scattercarpet"
           }
          ],
          "scattergeo": [
           {
            "marker": {
             "colorbar": {
              "outlinewidth": 0,
              "ticks": ""
             }
            },
            "type": "scattergeo"
           }
          ],
          "scattergl": [
           {
            "marker": {
             "colorbar": {
              "outlinewidth": 0,
              "ticks": ""
             }
            },
            "type": "scattergl"
           }
          ],
          "scattermap": [
           {
            "marker": {
             "colorbar": {
              "outlinewidth": 0,
              "ticks": ""
             }
            },
            "type": "scattermap"
           }
          ],
          "scattermapbox": [
           {
            "marker": {
             "colorbar": {
              "outlinewidth": 0,
              "ticks": ""
             }
            },
            "type": "scattermapbox"
           }
          ],
          "scatterpolar": [
           {
            "marker": {
             "colorbar": {
              "outlinewidth": 0,
              "ticks": ""
             }
            },
            "type": "scatterpolar"
           }
          ],
          "scatterpolargl": [
           {
            "marker": {
             "colorbar": {
              "outlinewidth": 0,
              "ticks": ""
             }
            },
            "type": "scatterpolargl"
           }
          ],
          "scatterternary": [
           {
            "marker": {
             "colorbar": {
              "outlinewidth": 0,
              "ticks": ""
             }
            },
            "type": "scatterternary"
           }
          ],
          "surface": [
           {
            "colorbar": {
             "outlinewidth": 0,
             "ticks": ""
            },
            "colorscale": [
             [
              0,
              "#0d0887"
             ],
             [
              0.1111111111111111,
              "#46039f"
             ],
             [
              0.2222222222222222,
              "#7201a8"
             ],
             [
              0.3333333333333333,
              "#9c179e"
             ],
             [
              0.4444444444444444,
              "#bd3786"
             ],
             [
              0.5555555555555556,
              "#d8576b"
             ],
             [
              0.6666666666666666,
              "#ed7953"
             ],
             [
              0.7777777777777778,
              "#fb9f3a"
             ],
             [
              0.8888888888888888,
              "#fdca26"
             ],
             [
              1,
              "#f0f921"
             ]
            ],
            "type": "surface"
           }
          ],
          "table": [
           {
            "cells": {
             "fill": {
              "color": "#EBF0F8"
             },
             "line": {
              "color": "white"
             }
            },
            "header": {
             "fill": {
              "color": "#C8D4E3"
             },
             "line": {
              "color": "white"
             }
            },
            "type": "table"
           }
          ]
         },
         "layout": {
          "annotationdefaults": {
           "arrowcolor": "#2a3f5f",
           "arrowhead": 0,
           "arrowwidth": 1
          },
          "autotypenumbers": "strict",
          "coloraxis": {
           "colorbar": {
            "outlinewidth": 0,
            "ticks": ""
           }
          },
          "colorscale": {
           "diverging": [
            [
             0,
             "#8e0152"
            ],
            [
             0.1,
             "#c51b7d"
            ],
            [
             0.2,
             "#de77ae"
            ],
            [
             0.3,
             "#f1b6da"
            ],
            [
             0.4,
             "#fde0ef"
            ],
            [
             0.5,
             "#f7f7f7"
            ],
            [
             0.6,
             "#e6f5d0"
            ],
            [
             0.7,
             "#b8e186"
            ],
            [
             0.8,
             "#7fbc41"
            ],
            [
             0.9,
             "#4d9221"
            ],
            [
             1,
             "#276419"
            ]
           ],
           "sequential": [
            [
             0,
             "#0d0887"
            ],
            [
             0.1111111111111111,
             "#46039f"
            ],
            [
             0.2222222222222222,
             "#7201a8"
            ],
            [
             0.3333333333333333,
             "#9c179e"
            ],
            [
             0.4444444444444444,
             "#bd3786"
            ],
            [
             0.5555555555555556,
             "#d8576b"
            ],
            [
             0.6666666666666666,
             "#ed7953"
            ],
            [
             0.7777777777777778,
             "#fb9f3a"
            ],
            [
             0.8888888888888888,
             "#fdca26"
            ],
            [
             1,
             "#f0f921"
            ]
           ],
           "sequentialminus": [
            [
             0,
             "#0d0887"
            ],
            [
             0.1111111111111111,
             "#46039f"
            ],
            [
             0.2222222222222222,
             "#7201a8"
            ],
            [
             0.3333333333333333,
             "#9c179e"
            ],
            [
             0.4444444444444444,
             "#bd3786"
            ],
            [
             0.5555555555555556,
             "#d8576b"
            ],
            [
             0.6666666666666666,
             "#ed7953"
            ],
            [
             0.7777777777777778,
             "#fb9f3a"
            ],
            [
             0.8888888888888888,
             "#fdca26"
            ],
            [
             1,
             "#f0f921"
            ]
           ]
          },
          "colorway": [
           "#636efa",
           "#EF553B",
           "#00cc96",
           "#ab63fa",
           "#FFA15A",
           "#19d3f3",
           "#FF6692",
           "#B6E880",
           "#FF97FF",
           "#FECB52"
          ],
          "font": {
           "color": "#2a3f5f"
          },
          "geo": {
           "bgcolor": "white",
           "lakecolor": "white",
           "landcolor": "white",
           "showlakes": true,
           "showland": true,
           "subunitcolor": "#C8D4E3"
          },
          "hoverlabel": {
           "align": "left"
          },
          "hovermode": "closest",
          "mapbox": {
           "style": "light"
          },
          "paper_bgcolor": "white",
          "plot_bgcolor": "white",
          "polar": {
           "angularaxis": {
            "gridcolor": "#EBF0F8",
            "linecolor": "#EBF0F8",
            "ticks": ""
           },
           "bgcolor": "white",
           "radialaxis": {
            "gridcolor": "#EBF0F8",
            "linecolor": "#EBF0F8",
            "ticks": ""
           }
          },
          "scene": {
           "xaxis": {
            "backgroundcolor": "white",
            "gridcolor": "#DFE8F3",
            "gridwidth": 2,
            "linecolor": "#EBF0F8",
            "showbackground": true,
            "ticks": "",
            "zerolinecolor": "#EBF0F8"
           },
           "yaxis": {
            "backgroundcolor": "white",
            "gridcolor": "#DFE8F3",
            "gridwidth": 2,
            "linecolor": "#EBF0F8",
            "showbackground": true,
            "ticks": "",
            "zerolinecolor": "#EBF0F8"
           },
           "zaxis": {
            "backgroundcolor": "white",
            "gridcolor": "#DFE8F3",
            "gridwidth": 2,
            "linecolor": "#EBF0F8",
            "showbackground": true,
            "ticks": "",
            "zerolinecolor": "#EBF0F8"
           }
          },
          "shapedefaults": {
           "line": {
            "color": "#2a3f5f"
           }
          },
          "ternary": {
           "aaxis": {
            "gridcolor": "#DFE8F3",
            "linecolor": "#A2B1C6",
            "ticks": ""
           },
           "baxis": {
            "gridcolor": "#DFE8F3",
            "linecolor": "#A2B1C6",
            "ticks": ""
           },
           "bgcolor": "white",
           "caxis": {
            "gridcolor": "#DFE8F3",
            "linecolor": "#A2B1C6",
            "ticks": ""
           }
          },
          "title": {
           "x": 0.05
          },
          "xaxis": {
           "automargin": true,
           "gridcolor": "#EBF0F8",
           "linecolor": "#EBF0F8",
           "ticks": "",
           "title": {
            "standoff": 15
           },
           "zerolinecolor": "#EBF0F8",
           "zerolinewidth": 2
          },
          "yaxis": {
           "automargin": true,
           "gridcolor": "#EBF0F8",
           "linecolor": "#EBF0F8",
           "ticks": "",
           "title": {
            "standoff": 15
           },
           "zerolinecolor": "#EBF0F8",
           "zerolinewidth": 2
          }
         }
        },
        "title": {
         "text": "ID: HOBBIES_1_371_CA_1_evaluation | MAPE: 2.64"
        },
        "width": 800,
        "xaxis": {
         "title": {
          "text": "Date"
         }
        },
        "yaxis": {
         "title": {
          "text": "Sales"
         }
        }
       }
      }
     },
     "metadata": {},
     "output_type": "display_data"
    },
    {
     "name": "stderr",
     "output_type": "stream",
     "text": [
      "<string>:28: FutureWarning:\n",
      "\n",
      "The behavior of DataFrame concatenation with empty or all-NA entries is deprecated. In a future version, this will no longer exclude empty or all-NA columns when determining the result dtypes. To retain the old behavior, exclude the relevant entries before the concat operation.\n",
      "\n"
     ]
    },
    {
     "data": {
      "application/vnd.plotly.v1+json": {
       "config": {
        "plotlyServerURL": "https://plot.ly"
       },
       "data": [
        {
         "line": {
          "color": "lightgray"
         },
         "name": "Train Sales",
         "type": "scatter",
         "x": [
          "2016-04-09T00:00:00",
          "2016-04-10T00:00:00",
          "2016-04-11T00:00:00",
          "2016-04-12T00:00:00",
          "2016-04-13T00:00:00",
          "2016-04-14T00:00:00",
          "2016-04-15T00:00:00",
          "2016-04-16T00:00:00",
          "2016-04-17T00:00:00",
          "2016-04-18T00:00:00",
          "2016-04-19T00:00:00",
          "2016-04-20T00:00:00",
          "2016-04-21T00:00:00",
          "2016-04-22T00:00:00",
          "2016-04-23T00:00:00",
          "2016-04-24T00:00:00",
          "2016-04-25T00:00:00",
          "2016-04-26T00:00:00",
          "2016-04-27T00:00:00",
          "2016-04-28T00:00:00",
          "2016-04-29T00:00:00",
          "2016-04-30T00:00:00",
          "2016-05-01T00:00:00",
          "2016-05-02T00:00:00",
          "2016-05-03T00:00:00",
          "2016-05-04T00:00:00",
          "2016-05-05T00:00:00",
          "2016-05-06T00:00:00",
          "2016-05-07T00:00:00",
          "2016-05-08T00:00:00"
         ],
         "y": {
          "bdata": "BgIABAEDDQQEAAAADAAAAAAKBAQIAAkHCAwFAgQE",
          "dtype": "i1"
         }
        },
        {
         "line": {
          "color": "coral"
         },
         "name": "Test Sales",
         "type": "scatter",
         "x": [
          "2016-05-08T00:00:00",
          "2016-05-09T00:00:00",
          "2016-05-10T00:00:00",
          "2016-05-11T00:00:00",
          "2016-05-12T00:00:00",
          "2016-05-13T00:00:00",
          "2016-05-14T00:00:00",
          "2016-05-15T00:00:00",
          "2016-05-16T00:00:00",
          "2016-05-17T00:00:00",
          "2016-05-18T00:00:00",
          "2016-05-19T00:00:00",
          "2016-05-20T00:00:00",
          "2016-05-21T00:00:00",
          "2016-05-22T00:00:00"
         ],
         "y": {
          "bdata": "BAEAAQQABAIBAAIAAAEA",
          "dtype": "i1"
         }
        },
        {
         "line": {
          "color": "coral",
          "dash": "dash"
         },
         "name": "Forecast",
         "type": "scatter",
         "x": [
          "2016-05-08T00:00:00",
          "2016-05-09T00:00:00",
          "2016-05-10T00:00:00",
          "2016-05-11T00:00:00",
          "2016-05-12T00:00:00",
          "2016-05-13T00:00:00",
          "2016-05-14T00:00:00",
          "2016-05-15T00:00:00",
          "2016-05-16T00:00:00",
          "2016-05-17T00:00:00",
          "2016-05-18T00:00:00",
          "2016-05-19T00:00:00",
          "2016-05-20T00:00:00",
          "2016-05-21T00:00:00",
          "2016-05-22T00:00:00"
         ],
         "y": {
          "bdata": "AAAAAAAA+H8CnN7F+0EXQKUyxRwEVRZA3dPVHYsdF0CTxmgdVT0YQBO1NLdCyBtAWONsOgLgIUAB3Zcz2y0iQG1YU1kUZhhAlcxWAznNF0AH5SJjWsgYQPI/ngIFSxpA1SR4Qxp1H0BTQrCqXm4jQGTMXUvIXyNA",
          "dtype": "f8"
         }
        }
       ],
       "layout": {
        "height": 400,
        "template": {
         "data": {
          "bar": [
           {
            "error_x": {
             "color": "#2a3f5f"
            },
            "error_y": {
             "color": "#2a3f5f"
            },
            "marker": {
             "line": {
              "color": "white",
              "width": 0.5
             },
             "pattern": {
              "fillmode": "overlay",
              "size": 10,
              "solidity": 0.2
             }
            },
            "type": "bar"
           }
          ],
          "barpolar": [
           {
            "marker": {
             "line": {
              "color": "white",
              "width": 0.5
             },
             "pattern": {
              "fillmode": "overlay",
              "size": 10,
              "solidity": 0.2
             }
            },
            "type": "barpolar"
           }
          ],
          "carpet": [
           {
            "aaxis": {
             "endlinecolor": "#2a3f5f",
             "gridcolor": "#C8D4E3",
             "linecolor": "#C8D4E3",
             "minorgridcolor": "#C8D4E3",
             "startlinecolor": "#2a3f5f"
            },
            "baxis": {
             "endlinecolor": "#2a3f5f",
             "gridcolor": "#C8D4E3",
             "linecolor": "#C8D4E3",
             "minorgridcolor": "#C8D4E3",
             "startlinecolor": "#2a3f5f"
            },
            "type": "carpet"
           }
          ],
          "choropleth": [
           {
            "colorbar": {
             "outlinewidth": 0,
             "ticks": ""
            },
            "type": "choropleth"
           }
          ],
          "contour": [
           {
            "colorbar": {
             "outlinewidth": 0,
             "ticks": ""
            },
            "colorscale": [
             [
              0,
              "#0d0887"
             ],
             [
              0.1111111111111111,
              "#46039f"
             ],
             [
              0.2222222222222222,
              "#7201a8"
             ],
             [
              0.3333333333333333,
              "#9c179e"
             ],
             [
              0.4444444444444444,
              "#bd3786"
             ],
             [
              0.5555555555555556,
              "#d8576b"
             ],
             [
              0.6666666666666666,
              "#ed7953"
             ],
             [
              0.7777777777777778,
              "#fb9f3a"
             ],
             [
              0.8888888888888888,
              "#fdca26"
             ],
             [
              1,
              "#f0f921"
             ]
            ],
            "type": "contour"
           }
          ],
          "contourcarpet": [
           {
            "colorbar": {
             "outlinewidth": 0,
             "ticks": ""
            },
            "type": "contourcarpet"
           }
          ],
          "heatmap": [
           {
            "colorbar": {
             "outlinewidth": 0,
             "ticks": ""
            },
            "colorscale": [
             [
              0,
              "#0d0887"
             ],
             [
              0.1111111111111111,
              "#46039f"
             ],
             [
              0.2222222222222222,
              "#7201a8"
             ],
             [
              0.3333333333333333,
              "#9c179e"
             ],
             [
              0.4444444444444444,
              "#bd3786"
             ],
             [
              0.5555555555555556,
              "#d8576b"
             ],
             [
              0.6666666666666666,
              "#ed7953"
             ],
             [
              0.7777777777777778,
              "#fb9f3a"
             ],
             [
              0.8888888888888888,
              "#fdca26"
             ],
             [
              1,
              "#f0f921"
             ]
            ],
            "type": "heatmap"
           }
          ],
          "histogram": [
           {
            "marker": {
             "pattern": {
              "fillmode": "overlay",
              "size": 10,
              "solidity": 0.2
             }
            },
            "type": "histogram"
           }
          ],
          "histogram2d": [
           {
            "colorbar": {
             "outlinewidth": 0,
             "ticks": ""
            },
            "colorscale": [
             [
              0,
              "#0d0887"
             ],
             [
              0.1111111111111111,
              "#46039f"
             ],
             [
              0.2222222222222222,
              "#7201a8"
             ],
             [
              0.3333333333333333,
              "#9c179e"
             ],
             [
              0.4444444444444444,
              "#bd3786"
             ],
             [
              0.5555555555555556,
              "#d8576b"
             ],
             [
              0.6666666666666666,
              "#ed7953"
             ],
             [
              0.7777777777777778,
              "#fb9f3a"
             ],
             [
              0.8888888888888888,
              "#fdca26"
             ],
             [
              1,
              "#f0f921"
             ]
            ],
            "type": "histogram2d"
           }
          ],
          "histogram2dcontour": [
           {
            "colorbar": {
             "outlinewidth": 0,
             "ticks": ""
            },
            "colorscale": [
             [
              0,
              "#0d0887"
             ],
             [
              0.1111111111111111,
              "#46039f"
             ],
             [
              0.2222222222222222,
              "#7201a8"
             ],
             [
              0.3333333333333333,
              "#9c179e"
             ],
             [
              0.4444444444444444,
              "#bd3786"
             ],
             [
              0.5555555555555556,
              "#d8576b"
             ],
             [
              0.6666666666666666,
              "#ed7953"
             ],
             [
              0.7777777777777778,
              "#fb9f3a"
             ],
             [
              0.8888888888888888,
              "#fdca26"
             ],
             [
              1,
              "#f0f921"
             ]
            ],
            "type": "histogram2dcontour"
           }
          ],
          "mesh3d": [
           {
            "colorbar": {
             "outlinewidth": 0,
             "ticks": ""
            },
            "type": "mesh3d"
           }
          ],
          "parcoords": [
           {
            "line": {
             "colorbar": {
              "outlinewidth": 0,
              "ticks": ""
             }
            },
            "type": "parcoords"
           }
          ],
          "pie": [
           {
            "automargin": true,
            "type": "pie"
           }
          ],
          "scatter": [
           {
            "fillpattern": {
             "fillmode": "overlay",
             "size": 10,
             "solidity": 0.2
            },
            "type": "scatter"
           }
          ],
          "scatter3d": [
           {
            "line": {
             "colorbar": {
              "outlinewidth": 0,
              "ticks": ""
             }
            },
            "marker": {
             "colorbar": {
              "outlinewidth": 0,
              "ticks": ""
             }
            },
            "type": "scatter3d"
           }
          ],
          "scattercarpet": [
           {
            "marker": {
             "colorbar": {
              "outlinewidth": 0,
              "ticks": ""
             }
            },
            "type": "scattercarpet"
           }
          ],
          "scattergeo": [
           {
            "marker": {
             "colorbar": {
              "outlinewidth": 0,
              "ticks": ""
             }
            },
            "type": "scattergeo"
           }
          ],
          "scattergl": [
           {
            "marker": {
             "colorbar": {
              "outlinewidth": 0,
              "ticks": ""
             }
            },
            "type": "scattergl"
           }
          ],
          "scattermap": [
           {
            "marker": {
             "colorbar": {
              "outlinewidth": 0,
              "ticks": ""
             }
            },
            "type": "scattermap"
           }
          ],
          "scattermapbox": [
           {
            "marker": {
             "colorbar": {
              "outlinewidth": 0,
              "ticks": ""
             }
            },
            "type": "scattermapbox"
           }
          ],
          "scatterpolar": [
           {
            "marker": {
             "colorbar": {
              "outlinewidth": 0,
              "ticks": ""
             }
            },
            "type": "scatterpolar"
           }
          ],
          "scatterpolargl": [
           {
            "marker": {
             "colorbar": {
              "outlinewidth": 0,
              "ticks": ""
             }
            },
            "type": "scatterpolargl"
           }
          ],
          "scatterternary": [
           {
            "marker": {
             "colorbar": {
              "outlinewidth": 0,
              "ticks": ""
             }
            },
            "type": "scatterternary"
           }
          ],
          "surface": [
           {
            "colorbar": {
             "outlinewidth": 0,
             "ticks": ""
            },
            "colorscale": [
             [
              0,
              "#0d0887"
             ],
             [
              0.1111111111111111,
              "#46039f"
             ],
             [
              0.2222222222222222,
              "#7201a8"
             ],
             [
              0.3333333333333333,
              "#9c179e"
             ],
             [
              0.4444444444444444,
              "#bd3786"
             ],
             [
              0.5555555555555556,
              "#d8576b"
             ],
             [
              0.6666666666666666,
              "#ed7953"
             ],
             [
              0.7777777777777778,
              "#fb9f3a"
             ],
             [
              0.8888888888888888,
              "#fdca26"
             ],
             [
              1,
              "#f0f921"
             ]
            ],
            "type": "surface"
           }
          ],
          "table": [
           {
            "cells": {
             "fill": {
              "color": "#EBF0F8"
             },
             "line": {
              "color": "white"
             }
            },
            "header": {
             "fill": {
              "color": "#C8D4E3"
             },
             "line": {
              "color": "white"
             }
            },
            "type": "table"
           }
          ]
         },
         "layout": {
          "annotationdefaults": {
           "arrowcolor": "#2a3f5f",
           "arrowhead": 0,
           "arrowwidth": 1
          },
          "autotypenumbers": "strict",
          "coloraxis": {
           "colorbar": {
            "outlinewidth": 0,
            "ticks": ""
           }
          },
          "colorscale": {
           "diverging": [
            [
             0,
             "#8e0152"
            ],
            [
             0.1,
             "#c51b7d"
            ],
            [
             0.2,
             "#de77ae"
            ],
            [
             0.3,
             "#f1b6da"
            ],
            [
             0.4,
             "#fde0ef"
            ],
            [
             0.5,
             "#f7f7f7"
            ],
            [
             0.6,
             "#e6f5d0"
            ],
            [
             0.7,
             "#b8e186"
            ],
            [
             0.8,
             "#7fbc41"
            ],
            [
             0.9,
             "#4d9221"
            ],
            [
             1,
             "#276419"
            ]
           ],
           "sequential": [
            [
             0,
             "#0d0887"
            ],
            [
             0.1111111111111111,
             "#46039f"
            ],
            [
             0.2222222222222222,
             "#7201a8"
            ],
            [
             0.3333333333333333,
             "#9c179e"
            ],
            [
             0.4444444444444444,
             "#bd3786"
            ],
            [
             0.5555555555555556,
             "#d8576b"
            ],
            [
             0.6666666666666666,
             "#ed7953"
            ],
            [
             0.7777777777777778,
             "#fb9f3a"
            ],
            [
             0.8888888888888888,
             "#fdca26"
            ],
            [
             1,
             "#f0f921"
            ]
           ],
           "sequentialminus": [
            [
             0,
             "#0d0887"
            ],
            [
             0.1111111111111111,
             "#46039f"
            ],
            [
             0.2222222222222222,
             "#7201a8"
            ],
            [
             0.3333333333333333,
             "#9c179e"
            ],
            [
             0.4444444444444444,
             "#bd3786"
            ],
            [
             0.5555555555555556,
             "#d8576b"
            ],
            [
             0.6666666666666666,
             "#ed7953"
            ],
            [
             0.7777777777777778,
             "#fb9f3a"
            ],
            [
             0.8888888888888888,
             "#fdca26"
            ],
            [
             1,
             "#f0f921"
            ]
           ]
          },
          "colorway": [
           "#636efa",
           "#EF553B",
           "#00cc96",
           "#ab63fa",
           "#FFA15A",
           "#19d3f3",
           "#FF6692",
           "#B6E880",
           "#FF97FF",
           "#FECB52"
          ],
          "font": {
           "color": "#2a3f5f"
          },
          "geo": {
           "bgcolor": "white",
           "lakecolor": "white",
           "landcolor": "white",
           "showlakes": true,
           "showland": true,
           "subunitcolor": "#C8D4E3"
          },
          "hoverlabel": {
           "align": "left"
          },
          "hovermode": "closest",
          "mapbox": {
           "style": "light"
          },
          "paper_bgcolor": "white",
          "plot_bgcolor": "white",
          "polar": {
           "angularaxis": {
            "gridcolor": "#EBF0F8",
            "linecolor": "#EBF0F8",
            "ticks": ""
           },
           "bgcolor": "white",
           "radialaxis": {
            "gridcolor": "#EBF0F8",
            "linecolor": "#EBF0F8",
            "ticks": ""
           }
          },
          "scene": {
           "xaxis": {
            "backgroundcolor": "white",
            "gridcolor": "#DFE8F3",
            "gridwidth": 2,
            "linecolor": "#EBF0F8",
            "showbackground": true,
            "ticks": "",
            "zerolinecolor": "#EBF0F8"
           },
           "yaxis": {
            "backgroundcolor": "white",
            "gridcolor": "#DFE8F3",
            "gridwidth": 2,
            "linecolor": "#EBF0F8",
            "showbackground": true,
            "ticks": "",
            "zerolinecolor": "#EBF0F8"
           },
           "zaxis": {
            "backgroundcolor": "white",
            "gridcolor": "#DFE8F3",
            "gridwidth": 2,
            "linecolor": "#EBF0F8",
            "showbackground": true,
            "ticks": "",
            "zerolinecolor": "#EBF0F8"
           }
          },
          "shapedefaults": {
           "line": {
            "color": "#2a3f5f"
           }
          },
          "ternary": {
           "aaxis": {
            "gridcolor": "#DFE8F3",
            "linecolor": "#A2B1C6",
            "ticks": ""
           },
           "baxis": {
            "gridcolor": "#DFE8F3",
            "linecolor": "#A2B1C6",
            "ticks": ""
           },
           "bgcolor": "white",
           "caxis": {
            "gridcolor": "#DFE8F3",
            "linecolor": "#A2B1C6",
            "ticks": ""
           }
          },
          "title": {
           "x": 0.05
          },
          "xaxis": {
           "automargin": true,
           "gridcolor": "#EBF0F8",
           "linecolor": "#EBF0F8",
           "ticks": "",
           "title": {
            "standoff": 15
           },
           "zerolinecolor": "#EBF0F8",
           "zerolinewidth": 2
          },
          "yaxis": {
           "automargin": true,
           "gridcolor": "#EBF0F8",
           "linecolor": "#EBF0F8",
           "ticks": "",
           "title": {
            "standoff": 15
           },
           "zerolinecolor": "#EBF0F8",
           "zerolinewidth": 2
          }
         }
        },
        "title": {
         "text": "ID: HOUSEHOLD_1_019_TX_2_evaluation | MAPE: 3.85"
        },
        "width": 800,
        "xaxis": {
         "title": {
          "text": "Date"
         }
        },
        "yaxis": {
         "title": {
          "text": "Sales"
         }
        }
       }
      }
     },
     "metadata": {},
     "output_type": "display_data"
    }
   ],
   "source": [
    "worst_ids = sorted_scores['id'].tail(5).tolist()\n",
    "plot_forecasts_with_train(\n",
    "    train_df, test_df, forecast_df,\n",
    "    scores_per_ts_df = scores_per_ts_iter_df, \n",
    "    metric=\"MAPE\",\n",
    "    ids_to_plot=worst_ids\n",
    "    )"
   ]
  }
 ],
 "metadata": {
  "kernelspec": {
   "display_name": ".venv",
   "language": "python",
   "name": "python3"
  },
  "language_info": {
   "codemirror_mode": {
    "name": "ipython",
    "version": 3
   },
   "file_extension": ".py",
   "mimetype": "text/x-python",
   "name": "python",
   "nbconvert_exporter": "python",
   "pygments_lexer": "ipython3",
   "version": "3.11.9"
  }
 },
 "nbformat": 4,
 "nbformat_minor": 2
}
