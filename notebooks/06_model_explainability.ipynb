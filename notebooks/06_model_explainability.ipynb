{
 "cells": [
  {
   "cell_type": "code",
   "execution_count": 1,
   "metadata": {},
   "outputs": [
    {
     "name": "stdout",
     "output_type": "stream",
     "text": [
      "/Users/linafaik/Documents/projects/time-series-forecasting-models\n"
     ]
    },
    {
     "name": "stderr",
     "output_type": "stream",
     "text": [
      "/Users/linafaik/Documents/projects/time-series-forecasting-models/.venv/lib/python3.9/site-packages/IPython/core/magics/osm.py:417: UserWarning: using dhist requires you to install the `pickleshare` library.\n",
      "  self.shell.db['dhist'] = compress_dhist(dhist)[-100:]\n"
     ]
    }
   ],
   "source": [
    "cd ../"
   ]
  },
  {
   "cell_type": "code",
   "execution_count": 2,
   "metadata": {},
   "outputs": [],
   "source": [
    "import matplotlib.pyplot as plt"
   ]
  },
  {
   "cell_type": "code",
   "execution_count": 3,
   "metadata": {},
   "outputs": [
    {
     "name": "stderr",
     "output_type": "stream",
     "text": [
      "/Users/linafaik/Documents/projects/time-series-forecasting-models/.venv/lib/python3.9/site-packages/tqdm/auto.py:21: TqdmWarning: IProgress not found. Please update jupyter and ipywidgets. See https://ipywidgets.readthedocs.io/en/stable/user_install.html\n",
      "  from .autonotebook import tqdm as notebook_tqdm\n"
     ]
    }
   ],
   "source": [
    "import pandas as pd\n",
    "import numpy as np\n",
    "import os\n",
    "\n",
    "from nixtla import NixtlaClient\n",
    "import shap\n",
    "import matplotlib.pyplot as plt\n",
    "\n",
    "from config import *\n",
    "from src.data_processing import *\n",
    "from src.metrics import *\n",
    "from src.training import *\n",
    "from src.viz import *\n",
    "\n",
    "%load_ext autoreload\n",
    "%autoreload 2\n"
   ]
  },
  {
   "cell_type": "code",
   "execution_count": 4,
   "metadata": {},
   "outputs": [],
   "source": [
    "client = NixtlaClient(api_key=NIXTLA_API_KEY)"
   ]
  },
  {
   "cell_type": "code",
   "execution_count": 5,
   "metadata": {},
   "outputs": [],
   "source": [
    "force = True"
   ]
  },
  {
   "cell_type": "code",
   "execution_count": 6,
   "metadata": {},
   "outputs": [
    {
     "data": {
      "text/html": [
       "<div>\n",
       "<style scoped>\n",
       "    .dataframe tbody tr th:only-of-type {\n",
       "        vertical-align: middle;\n",
       "    }\n",
       "\n",
       "    .dataframe tbody tr th {\n",
       "        vertical-align: top;\n",
       "    }\n",
       "\n",
       "    .dataframe thead th {\n",
       "        text-align: right;\n",
       "    }\n",
       "</style>\n",
       "<table border=\"1\" class=\"dataframe\">\n",
       "  <thead>\n",
       "    <tr style=\"text-align: right;\">\n",
       "      <th></th>\n",
       "      <th>date</th>\n",
       "      <th>store_id</th>\n",
       "      <th>state_id</th>\n",
       "      <th>sold_quantity</th>\n",
       "      <th>sold_amount</th>\n",
       "      <th>event_type_1</th>\n",
       "      <th>event_type_2</th>\n",
       "      <th>event_sporting</th>\n",
       "      <th>event_cultural</th>\n",
       "      <th>event_national</th>\n",
       "      <th>event_religious</th>\n",
       "    </tr>\n",
       "  </thead>\n",
       "  <tbody>\n",
       "    <tr>\n",
       "      <th>0</th>\n",
       "      <td>2011-01-29</td>\n",
       "      <td>CA_1</td>\n",
       "      <td>CA</td>\n",
       "      <td>4337</td>\n",
       "      <td>10933.16</td>\n",
       "      <td>NaN</td>\n",
       "      <td>NaN</td>\n",
       "      <td>0</td>\n",
       "      <td>0</td>\n",
       "      <td>0</td>\n",
       "      <td>0</td>\n",
       "    </tr>\n",
       "    <tr>\n",
       "      <th>1</th>\n",
       "      <td>2011-01-29</td>\n",
       "      <td>CA_2</td>\n",
       "      <td>CA</td>\n",
       "      <td>3494</td>\n",
       "      <td>9101.52</td>\n",
       "      <td>NaN</td>\n",
       "      <td>NaN</td>\n",
       "      <td>0</td>\n",
       "      <td>0</td>\n",
       "      <td>0</td>\n",
       "      <td>0</td>\n",
       "    </tr>\n",
       "    <tr>\n",
       "      <th>2</th>\n",
       "      <td>2011-01-29</td>\n",
       "      <td>CA_3</td>\n",
       "      <td>CA</td>\n",
       "      <td>4739</td>\n",
       "      <td>11679.83</td>\n",
       "      <td>NaN</td>\n",
       "      <td>NaN</td>\n",
       "      <td>0</td>\n",
       "      <td>0</td>\n",
       "      <td>0</td>\n",
       "      <td>0</td>\n",
       "    </tr>\n",
       "    <tr>\n",
       "      <th>3</th>\n",
       "      <td>2011-01-29</td>\n",
       "      <td>CA_4</td>\n",
       "      <td>CA</td>\n",
       "      <td>1625</td>\n",
       "      <td>4561.59</td>\n",
       "      <td>NaN</td>\n",
       "      <td>NaN</td>\n",
       "      <td>0</td>\n",
       "      <td>0</td>\n",
       "      <td>0</td>\n",
       "      <td>0</td>\n",
       "    </tr>\n",
       "    <tr>\n",
       "      <th>4</th>\n",
       "      <td>2011-01-29</td>\n",
       "      <td>TX_1</td>\n",
       "      <td>TX</td>\n",
       "      <td>2556</td>\n",
       "      <td>6586.68</td>\n",
       "      <td>NaN</td>\n",
       "      <td>NaN</td>\n",
       "      <td>0</td>\n",
       "      <td>0</td>\n",
       "      <td>0</td>\n",
       "      <td>0</td>\n",
       "    </tr>\n",
       "  </tbody>\n",
       "</table>\n",
       "</div>"
      ],
      "text/plain": [
       "        date store_id state_id  sold_quantity  sold_amount event_type_1  \\\n",
       "0 2011-01-29     CA_1       CA           4337     10933.16          NaN   \n",
       "1 2011-01-29     CA_2       CA           3494      9101.52          NaN   \n",
       "2 2011-01-29     CA_3       CA           4739     11679.83          NaN   \n",
       "3 2011-01-29     CA_4       CA           1625      4561.59          NaN   \n",
       "4 2011-01-29     TX_1       TX           2556      6586.68          NaN   \n",
       "\n",
       "  event_type_2  event_sporting  event_cultural  event_national  \\\n",
       "0          NaN               0               0               0   \n",
       "1          NaN               0               0               0   \n",
       "2          NaN               0               0               0   \n",
       "3          NaN               0               0               0   \n",
       "4          NaN               0               0               0   \n",
       "\n",
       "   event_religious  \n",
       "0                0  \n",
       "1                0  \n",
       "2                0  \n",
       "3                0  \n",
       "4                0  "
      ]
     },
     "execution_count": 6,
     "metadata": {},
     "output_type": "execute_result"
    }
   ],
   "source": [
    "df = pd.read_csv(path_data_processed)\n",
    "df[\"date\"] = pd.to_datetime(df[\"date\"], format=\"%Y-%m-%d\")\n",
    "\n",
    "df.head()"
   ]
  },
  {
   "cell_type": "markdown",
   "metadata": {},
   "source": [
    "## Data loading"
   ]
  },
  {
   "cell_type": "code",
   "execution_count": 7,
   "metadata": {},
   "outputs": [
    {
     "data": {
      "text/html": [
       "<div>\n",
       "<style scoped>\n",
       "    .dataframe tbody tr th:only-of-type {\n",
       "        vertical-align: middle;\n",
       "    }\n",
       "\n",
       "    .dataframe tbody tr th {\n",
       "        vertical-align: top;\n",
       "    }\n",
       "\n",
       "    .dataframe thead th {\n",
       "        text-align: right;\n",
       "    }\n",
       "</style>\n",
       "<table border=\"1\" class=\"dataframe\">\n",
       "  <thead>\n",
       "    <tr style=\"text-align: right;\">\n",
       "      <th></th>\n",
       "      <th>date</th>\n",
       "      <th>store_id</th>\n",
       "      <th>state_id</th>\n",
       "      <th>sold_quantity</th>\n",
       "      <th>sold_amount</th>\n",
       "      <th>event_type_1</th>\n",
       "      <th>event_type_2</th>\n",
       "      <th>event_sporting</th>\n",
       "      <th>event_cultural</th>\n",
       "      <th>event_national</th>\n",
       "      <th>event_religious</th>\n",
       "    </tr>\n",
       "  </thead>\n",
       "  <tbody>\n",
       "    <tr>\n",
       "      <th>0</th>\n",
       "      <td>2011-01-29</td>\n",
       "      <td>CA_1</td>\n",
       "      <td>CA</td>\n",
       "      <td>4337</td>\n",
       "      <td>10933.16</td>\n",
       "      <td>NaN</td>\n",
       "      <td>NaN</td>\n",
       "      <td>0</td>\n",
       "      <td>0</td>\n",
       "      <td>0</td>\n",
       "      <td>0</td>\n",
       "    </tr>\n",
       "    <tr>\n",
       "      <th>1</th>\n",
       "      <td>2011-01-29</td>\n",
       "      <td>CA_2</td>\n",
       "      <td>CA</td>\n",
       "      <td>3494</td>\n",
       "      <td>9101.52</td>\n",
       "      <td>NaN</td>\n",
       "      <td>NaN</td>\n",
       "      <td>0</td>\n",
       "      <td>0</td>\n",
       "      <td>0</td>\n",
       "      <td>0</td>\n",
       "    </tr>\n",
       "    <tr>\n",
       "      <th>2</th>\n",
       "      <td>2011-01-29</td>\n",
       "      <td>CA_3</td>\n",
       "      <td>CA</td>\n",
       "      <td>4739</td>\n",
       "      <td>11679.83</td>\n",
       "      <td>NaN</td>\n",
       "      <td>NaN</td>\n",
       "      <td>0</td>\n",
       "      <td>0</td>\n",
       "      <td>0</td>\n",
       "      <td>0</td>\n",
       "    </tr>\n",
       "    <tr>\n",
       "      <th>3</th>\n",
       "      <td>2011-01-29</td>\n",
       "      <td>CA_4</td>\n",
       "      <td>CA</td>\n",
       "      <td>1625</td>\n",
       "      <td>4561.59</td>\n",
       "      <td>NaN</td>\n",
       "      <td>NaN</td>\n",
       "      <td>0</td>\n",
       "      <td>0</td>\n",
       "      <td>0</td>\n",
       "      <td>0</td>\n",
       "    </tr>\n",
       "    <tr>\n",
       "      <th>4</th>\n",
       "      <td>2011-01-29</td>\n",
       "      <td>TX_1</td>\n",
       "      <td>TX</td>\n",
       "      <td>2556</td>\n",
       "      <td>6586.68</td>\n",
       "      <td>NaN</td>\n",
       "      <td>NaN</td>\n",
       "      <td>0</td>\n",
       "      <td>0</td>\n",
       "      <td>0</td>\n",
       "      <td>0</td>\n",
       "    </tr>\n",
       "  </tbody>\n",
       "</table>\n",
       "</div>"
      ],
      "text/plain": [
       "        date store_id state_id  sold_quantity  sold_amount event_type_1  \\\n",
       "0 2011-01-29     CA_1       CA           4337     10933.16          NaN   \n",
       "1 2011-01-29     CA_2       CA           3494      9101.52          NaN   \n",
       "2 2011-01-29     CA_3       CA           4739     11679.83          NaN   \n",
       "3 2011-01-29     CA_4       CA           1625      4561.59          NaN   \n",
       "4 2011-01-29     TX_1       TX           2556      6586.68          NaN   \n",
       "\n",
       "  event_type_2  event_sporting  event_cultural  event_national  \\\n",
       "0          NaN               0               0               0   \n",
       "1          NaN               0               0               0   \n",
       "2          NaN               0               0               0   \n",
       "3          NaN               0               0               0   \n",
       "4          NaN               0               0               0   \n",
       "\n",
       "   event_religious  \n",
       "0                0  \n",
       "1                0  \n",
       "2                0  \n",
       "3                0  \n",
       "4                0  "
      ]
     },
     "execution_count": 7,
     "metadata": {},
     "output_type": "execute_result"
    }
   ],
   "source": [
    "df = pd.read_csv(path_data_processed)\n",
    "df[\"date\"] = pd.to_datetime(df[\"date\"], format=\"%Y-%m-%d\")\n",
    "\n",
    "df.head()"
   ]
  },
  {
   "cell_type": "markdown",
   "metadata": {},
   "source": [
    "## Uncertainty quantification"
   ]
  },
  {
   "cell_type": "code",
   "execution_count": 8,
   "metadata": {},
   "outputs": [],
   "source": [
    "name_scenario = \"timegpt_with_ci\""
   ]
  },
  {
   "cell_type": "code",
   "execution_count": 9,
   "metadata": {},
   "outputs": [
    {
     "name": "stderr",
     "output_type": "stream",
     "text": [
      "INFO:nixtla.nixtla_client:Validating inputs...\n",
      "INFO:nixtla.nixtla_client:Preprocessing dataframes...\n",
      "INFO:nixtla.nixtla_client:Querying model metadata...\n"
     ]
    },
    {
     "name": "stdout",
     "output_type": "stream",
     "text": [
      "19270 rows for train\n",
      "140 rows for test\n"
     ]
    },
    {
     "name": "stderr",
     "output_type": "stream",
     "text": [
      "INFO:nixtla.nixtla_client:Using future exogenous features: ['event_cultural', 'event_national', 'event_religious', 'event_sporting', 'year', 'month', 'day', 'weekday']\n",
      "INFO:nixtla.nixtla_client:Calling Forecast Endpoint...\n"
     ]
    },
    {
     "data": {
      "text/html": [
       "<div>\n",
       "<style scoped>\n",
       "    .dataframe tbody tr th:only-of-type {\n",
       "        vertical-align: middle;\n",
       "    }\n",
       "\n",
       "    .dataframe tbody tr th {\n",
       "        vertical-align: top;\n",
       "    }\n",
       "\n",
       "    .dataframe thead th {\n",
       "        text-align: right;\n",
       "    }\n",
       "</style>\n",
       "<table border=\"1\" class=\"dataframe\">\n",
       "  <thead>\n",
       "    <tr style=\"text-align: right;\">\n",
       "      <th></th>\n",
       "      <th>date</th>\n",
       "      <th>store_id</th>\n",
       "      <th>state_id</th>\n",
       "      <th>sold_quantity</th>\n",
       "      <th>sold_amount</th>\n",
       "      <th>event_type_1</th>\n",
       "      <th>event_type_2</th>\n",
       "      <th>event_sporting</th>\n",
       "      <th>event_cultural</th>\n",
       "      <th>event_national</th>\n",
       "      <th>event_religious</th>\n",
       "      <th>TimeGPT</th>\n",
       "      <th>TimeGPT-hi-90</th>\n",
       "      <th>TimeGPT-lo-90</th>\n",
       "    </tr>\n",
       "  </thead>\n",
       "  <tbody>\n",
       "    <tr>\n",
       "      <th>19405</th>\n",
       "      <td>2016-05-18</td>\n",
       "      <td>WI_3</td>\n",
       "      <td>WI</td>\n",
       "      <td>3268</td>\n",
       "      <td>9163.29</td>\n",
       "      <td>NaN</td>\n",
       "      <td>NaN</td>\n",
       "      <td>0</td>\n",
       "      <td>0</td>\n",
       "      <td>0</td>\n",
       "      <td>0</td>\n",
       "      <td>9554.804</td>\n",
       "      <td>11989.408</td>\n",
       "      <td>7120.1987</td>\n",
       "    </tr>\n",
       "    <tr>\n",
       "      <th>19406</th>\n",
       "      <td>2016-05-19</td>\n",
       "      <td>WI_3</td>\n",
       "      <td>WI</td>\n",
       "      <td>3398</td>\n",
       "      <td>9660.13</td>\n",
       "      <td>NaN</td>\n",
       "      <td>NaN</td>\n",
       "      <td>0</td>\n",
       "      <td>0</td>\n",
       "      <td>0</td>\n",
       "      <td>0</td>\n",
       "      <td>9733.679</td>\n",
       "      <td>11269.761</td>\n",
       "      <td>8197.5970</td>\n",
       "    </tr>\n",
       "    <tr>\n",
       "      <th>19407</th>\n",
       "      <td>2016-05-20</td>\n",
       "      <td>WI_3</td>\n",
       "      <td>WI</td>\n",
       "      <td>4126</td>\n",
       "      <td>11982.37</td>\n",
       "      <td>NaN</td>\n",
       "      <td>NaN</td>\n",
       "      <td>0</td>\n",
       "      <td>0</td>\n",
       "      <td>0</td>\n",
       "      <td>0</td>\n",
       "      <td>11154.428</td>\n",
       "      <td>12823.261</td>\n",
       "      <td>9485.5950</td>\n",
       "    </tr>\n",
       "    <tr>\n",
       "      <th>19408</th>\n",
       "      <td>2016-05-21</td>\n",
       "      <td>WI_3</td>\n",
       "      <td>WI</td>\n",
       "      <td>4519</td>\n",
       "      <td>12370.23</td>\n",
       "      <td>NaN</td>\n",
       "      <td>NaN</td>\n",
       "      <td>0</td>\n",
       "      <td>0</td>\n",
       "      <td>0</td>\n",
       "      <td>0</td>\n",
       "      <td>13318.895</td>\n",
       "      <td>15348.429</td>\n",
       "      <td>11289.3600</td>\n",
       "    </tr>\n",
       "    <tr>\n",
       "      <th>19409</th>\n",
       "      <td>2016-05-22</td>\n",
       "      <td>WI_3</td>\n",
       "      <td>WI</td>\n",
       "      <td>4757</td>\n",
       "      <td>13432.85</td>\n",
       "      <td>NaN</td>\n",
       "      <td>NaN</td>\n",
       "      <td>0</td>\n",
       "      <td>0</td>\n",
       "      <td>0</td>\n",
       "      <td>0</td>\n",
       "      <td>12950.488</td>\n",
       "      <td>15007.972</td>\n",
       "      <td>10893.0050</td>\n",
       "    </tr>\n",
       "  </tbody>\n",
       "</table>\n",
       "</div>"
      ],
      "text/plain": [
       "            date store_id state_id  sold_quantity  sold_amount event_type_1  \\\n",
       "19405 2016-05-18     WI_3       WI           3268      9163.29          NaN   \n",
       "19406 2016-05-19     WI_3       WI           3398      9660.13          NaN   \n",
       "19407 2016-05-20     WI_3       WI           4126     11982.37          NaN   \n",
       "19408 2016-05-21     WI_3       WI           4519     12370.23          NaN   \n",
       "19409 2016-05-22     WI_3       WI           4757     13432.85          NaN   \n",
       "\n",
       "      event_type_2  event_sporting  event_cultural  event_national  \\\n",
       "19405          NaN               0               0               0   \n",
       "19406          NaN               0               0               0   \n",
       "19407          NaN               0               0               0   \n",
       "19408          NaN               0               0               0   \n",
       "19409          NaN               0               0               0   \n",
       "\n",
       "       event_religious    TimeGPT  TimeGPT-hi-90  TimeGPT-lo-90  \n",
       "19405                0   9554.804      11989.408      7120.1987  \n",
       "19406                0   9733.679      11269.761      8197.5970  \n",
       "19407                0  11154.428      12823.261      9485.5950  \n",
       "19408                0  13318.895      15348.429     11289.3600  \n",
       "19409                0  12950.488      15007.972     10893.0050  "
      ]
     },
     "execution_count": 9,
     "metadata": {},
     "output_type": "execute_result"
    }
   ],
   "source": [
    "path = os.path.join(\"output\", name_scenario, f\"forecasts_{name_scenario}.csv\")\n",
    "\n",
    "if force or not os.path.exists(path):\n",
    "    \n",
    "    train_df, test_df = split_train_test(\n",
    "        df=df, \n",
    "        horizon=H,\n",
    "        column_date=time_col,\n",
    "        column_id=id_col,\n",
    "        )\n",
    "\n",
    "    print(f\"{len(train_df)} rows for train\")\n",
    "    print(f\"{len(test_df)} rows for test\")\n",
    "\n",
    "    columns_exog_features = [\"event_cultural\", \"event_national\", \"event_religious\", \"event_sporting\"]\n",
    "    \n",
    "    forecasts_df = client.forecast(\n",
    "        df=train_df[[time_col, target_col, id_col]+columns_exog_features],\n",
    "        X_df=test_df[[time_col, target_col, id_col]+columns_exog_features],\n",
    "        id_col=id_col,\n",
    "        time_col=time_col,\n",
    "        target_col=target_col,\n",
    "        h=H,\n",
    "        freq=freq,\n",
    "        finetune_steps=10,\n",
    "        finetune_loss=\"rmse\",\n",
    "        finetune_depth=3, \n",
    "        model=\"timegpt-1-long-horizon\",\n",
    "        date_features=True,\n",
    "        date_features_to_one_hot=False,\n",
    "        level=[90]\n",
    "    )\n",
    "    \n",
    "    forecasts_enr_df = ( \n",
    "        test_df\n",
    "        .merge(forecasts_df, on=[id_col, time_col], how=\"left\")\n",
    "    )\n",
    "    \n",
    "    forecasts_enr_df = pd.concat([train_df, forecasts_enr_df], axis=0).reset_index(drop=True)\n",
    "\n",
    "    os.makedirs(os.path.join(\"output\", name_scenario), exist_ok=True)\n",
    "    forecasts_enr_df.to_csv(path, index=False)\n",
    "\n",
    "else:\n",
    "    forecasts_enr_df = pd.read_csv(path)\n",
    "\n",
    "forecasts_enr_df.tail()"
   ]
  },
  {
   "cell_type": "code",
   "execution_count": 10,
   "metadata": {},
   "outputs": [
    {
     "name": "stderr",
     "output_type": "stream",
     "text": [
      "/var/folders/x1/5lcr60ps53nfbsvw0s9dt0640000gn/T/ipykernel_38577/3488599734.py:21: FutureWarning: DataFrameGroupBy.apply operated on the grouping columns. This behavior is deprecated, and in a future version of pandas the grouping columns will be excluded from the operation. Either pass `include_groups=False` to exclude the groupings or explicitly select the grouping columns after groupby to silence this warning.\n",
      "  forecasts_filtered_df\n"
     ]
    },
    {
     "data": {
      "text/html": [
       "<div>\n",
       "<style scoped>\n",
       "    .dataframe tbody tr th:only-of-type {\n",
       "        vertical-align: middle;\n",
       "    }\n",
       "\n",
       "    .dataframe tbody tr th {\n",
       "        vertical-align: top;\n",
       "    }\n",
       "\n",
       "    .dataframe thead th {\n",
       "        text-align: right;\n",
       "    }\n",
       "</style>\n",
       "<table border=\"1\" class=\"dataframe\">\n",
       "  <thead>\n",
       "    <tr style=\"text-align: right;\">\n",
       "      <th></th>\n",
       "      <th>model</th>\n",
       "      <th>MAE</th>\n",
       "      <th>RMSE</th>\n",
       "      <th>MAPE</th>\n",
       "      <th>R2</th>\n",
       "      <th>count</th>\n",
       "    </tr>\n",
       "  </thead>\n",
       "  <tbody>\n",
       "    <tr>\n",
       "      <th>0</th>\n",
       "      <td>TimeGPT</td>\n",
       "      <td>929.515206</td>\n",
       "      <td>1.581625e+06</td>\n",
       "      <td>0.062514</td>\n",
       "      <td>0.907303</td>\n",
       "      <td>140.0</td>\n",
       "    </tr>\n",
       "  </tbody>\n",
       "</table>\n",
       "</div>"
      ],
      "text/plain": [
       "     model         MAE          RMSE      MAPE        R2  count\n",
       "0  TimeGPT  929.515206  1.581625e+06  0.062514  0.907303  140.0"
      ]
     },
     "execution_count": 10,
     "metadata": {},
     "output_type": "execute_result"
    }
   ],
   "source": [
    "# Initialize containers:\n",
    "# - `scores` will store overall evaluation metrics for the model\n",
    "# - `scores_per_ts` will store evaluation metrics per time series (per ID)\n",
    "scores = {}\n",
    "scores_per_ts = []\n",
    "\n",
    "# Loop through the list of model forecast columns (here only 'TimeLLM')\n",
    "for column in ['TimeGPT']:\n",
    "    \n",
    "    # Filter out rows where the model forecast is missing (NaN)\n",
    "    forecasts_filtered_df = forecasts_enr_df[forecasts_enr_df[column].notna()]\n",
    "    \n",
    "    # Compute global evaluation metrics (e.g., MAE, RMSE) for TimeLLM\n",
    "    scores[column] = evaluate(\n",
    "        forecasts_filtered_df[target_col],    # Ground truth\n",
    "        forecasts_filtered_df[column]         # Model forecast\n",
    "    )\n",
    "    \n",
    "    # Compute evaluation metrics per time series (grouped by id_col)\n",
    "    scores_per_ts_model_df = (\n",
    "        forecasts_filtered_df\n",
    "        .groupby(id_col)\n",
    "        .apply(lambda group: pd.Series(\n",
    "            evaluate(group[target_col], group[column])  # Metrics per time series\n",
    "        ))\n",
    "        .reset_index()\n",
    "    )\n",
    "    \n",
    "    # Add a column to tag each row with the model name\n",
    "    scores_per_ts_model_df[\"model\"] = column\n",
    "    \n",
    "    # Append only relevant columns to the results list\n",
    "    scores_per_ts.append(\n",
    "        scores_per_ts_model_df[[\"model\"] + [c for c in scores_per_ts_model_df.columns if c != \"model\"]]\n",
    "    )\n",
    "\n",
    "# Convert the global scores dictionary into a DataFrame\n",
    "scores_df = (\n",
    "    pd.DataFrame(scores).T\n",
    "    .reset_index()\n",
    "    .rename(columns={\"index\": \"model\"})\n",
    ")\n",
    "\n",
    "# Concatenate all time-series-level score DataFrames into a single table\n",
    "scores_per_ts_df = pd.concat(scores_per_ts, axis=0).reset_index(drop=True)\n",
    "scores_df"
   ]
  },
  {
   "cell_type": "code",
   "execution_count": 11,
   "metadata": {},
   "outputs": [
    {
     "name": "stderr",
     "output_type": "stream",
     "text": [
      "/Users/linafaik/Documents/projects/time-series-forecasting-models/src/viz.py:183: UserWarning: Boolean Series key will be reindexed to match DataFrame index.\n",
      "  fc = forecast_uid_df[forecast_df[lower_q].notna()]\n",
      "/Users/linafaik/Documents/projects/time-series-forecasting-models/src/viz.py:184: UserWarning: Boolean Series key will be reindexed to match DataFrame index.\n",
      "  test = forecast_uid_df[forecast_df[lower_q].notna()]\n",
      "/Users/linafaik/Documents/projects/time-series-forecasting-models/src/viz.py:185: UserWarning: Boolean Series key will be reindexed to match DataFrame index.\n",
      "  train = forecast_uid_df[forecast_df[lower_q].isna()]\n"
     ]
    },
    {
     "data": {
      "application/vnd.plotly.v1+json": {
       "config": {
        "plotlyServerURL": "https://plot.ly"
       },
       "data": [
        {
         "line": {
          "color": "lightgray"
         },
         "mode": "lines",
         "name": "Train Sales (last steps)",
         "type": "scatter",
         "x": [
          "2016-04-09T00:00:00",
          "2016-04-10T00:00:00",
          "2016-04-11T00:00:00",
          "2016-04-12T00:00:00",
          "2016-04-13T00:00:00",
          "2016-04-14T00:00:00",
          "2016-04-15T00:00:00",
          "2016-04-16T00:00:00",
          "2016-04-17T00:00:00",
          "2016-04-18T00:00:00",
          "2016-04-19T00:00:00",
          "2016-04-20T00:00:00",
          "2016-04-21T00:00:00",
          "2016-04-22T00:00:00",
          "2016-04-23T00:00:00",
          "2016-04-24T00:00:00",
          "2016-04-25T00:00:00",
          "2016-04-26T00:00:00",
          "2016-04-27T00:00:00",
          "2016-04-28T00:00:00",
          "2016-04-29T00:00:00",
          "2016-04-30T00:00:00",
          "2016-05-01T00:00:00",
          "2016-05-02T00:00:00",
          "2016-05-03T00:00:00",
          "2016-05-04T00:00:00",
          "2016-05-05T00:00:00",
          "2016-05-06T00:00:00",
          "2016-05-07T00:00:00",
          "2016-05-08T00:00:00"
         ],
         "y": {
          "bdata": "exSuR9Ea0kDsUbgehbXOQM3MzMwMicRAPQrXozDDw0AK16Nwnc7BQPYoXI/CqcNAmpmZmVnVx0AK16Nw3UfMQM3MzMxMXs1AMzMzM1M2wkDhehSuJ73BQArXo3CdbsNAuB6F67E8xEDhehSuRwLIQLgehesR/stAj8L1KHwFzUAK16NwPY3CQB+F61F4c8JApHA9CjeGwkCkcD0Kt9nCQFyPwvUIAshAexSuR2FNz0CuR+F6lDnPQEjhehQu0MRA7FG4HkW2xECkcD0K12vEQM3MzMxM/cVApHA9Cpc+x0DXo3A9KsDPQKRwPQpXBchA",
          "dtype": "f8"
         }
        },
        {
         "line": {
          "color": "coral"
         },
         "mode": "lines",
         "name": "Test Sales",
         "type": "scatter",
         "x": [
          "2016-05-08T00:00:00",
          "2016-05-09T00:00:00",
          "2016-05-10T00:00:00",
          "2016-05-11T00:00:00",
          "2016-05-12T00:00:00",
          "2016-05-13T00:00:00",
          "2016-05-14T00:00:00",
          "2016-05-15T00:00:00",
          "2016-05-16T00:00:00",
          "2016-05-17T00:00:00",
          "2016-05-18T00:00:00",
          "2016-05-19T00:00:00",
          "2016-05-20T00:00:00",
          "2016-05-21T00:00:00",
          "2016-05-22T00:00:00"
         ],
         "y": {
          "bdata": "pHA9ClcFyEAzMzMzs0bHQArXo3C9hcNAMzMzM/Pwx0D2KFyPolbFQOF6FK5HHcdAXI/C9Why0EBxPQrXg23QQArXo3AdEcRAzczMzIzEw0C4HoXr8cLCQEjhehRud8RAAAAAAGAvxkBmZmZmBovMQJqZmZl58s1A",
          "dtype": "f8"
         }
        },
        {
         "line": {
          "width": 0
         },
         "mode": "lines",
         "name": "TimeGPT-lo-90",
         "showlegend": false,
         "type": "scatter",
         "x": [
          "2016-05-08T00:00:00",
          "2016-05-09T00:00:00",
          "2016-05-10T00:00:00",
          "2016-05-11T00:00:00",
          "2016-05-12T00:00:00",
          "2016-05-13T00:00:00",
          "2016-05-14T00:00:00",
          "2016-05-15T00:00:00",
          "2016-05-16T00:00:00",
          "2016-05-17T00:00:00",
          "2016-05-18T00:00:00",
          "2016-05-19T00:00:00",
          "2016-05-20T00:00:00",
          "2016-05-21T00:00:00",
          "2016-05-22T00:00:00"
         ],
         "y": {
          "bdata": "pHA9ClcFyEAzMzMzg9DCQF66SQwCbMFAJQaBlaONwECHFtnOB5fCQPCnxkvHdsVAokW28z3xy0ASg8DKMR/LQJMYBFZO9sFA4zYawFs+v0DjpZvEQP2+QLpJDAILyr9AjZduEnOmxUCuR+F6BCDLQEw3iUHgnshA",
          "dtype": "f8"
         }
        },
        {
         "fill": "tonexty",
         "fillcolor": "rgba(255, 127, 80, 0.3)",
         "line": {
          "width": 0
         },
         "mode": "lines",
         "name": "90% Confidence Interval",
         "type": "scatter",
         "x": [
          "2016-05-08T00:00:00",
          "2016-05-09T00:00:00",
          "2016-05-10T00:00:00",
          "2016-05-11T00:00:00",
          "2016-05-12T00:00:00",
          "2016-05-13T00:00:00",
          "2016-05-14T00:00:00",
          "2016-05-15T00:00:00",
          "2016-05-16T00:00:00",
          "2016-05-17T00:00:00",
          "2016-05-18T00:00:00",
          "2016-05-19T00:00:00",
          "2016-05-20T00:00:00",
          "2016-05-21T00:00:00",
          "2016-05-22T00:00:00"
         ],
         "y": {
          "bdata": "pHA9ClcFyEASg8DK8W7HQFyPwvUYmcZAuB6F6/GtyEAQWDm02L3HQF66SQyCe8tAHVpkOzdU0UCe76fG+0rQQGq8dJPYScZAyXa+nxK8xUBt5/upseDFQHnpJjFIQcdA5dAi20kWykB1kxgENpnQQPp+arwE1s9A",
          "dtype": "f8"
         }
        },
        {
         "line": {
          "color": "coral",
          "dash": "dash"
         },
         "mode": "lines",
         "name": "Forecast",
         "type": "scatter",
         "x": [
          "2016-05-08T00:00:00",
          "2016-05-09T00:00:00",
          "2016-05-10T00:00:00",
          "2016-05-11T00:00:00",
          "2016-05-12T00:00:00",
          "2016-05-13T00:00:00",
          "2016-05-14T00:00:00",
          "2016-05-15T00:00:00",
          "2016-05-16T00:00:00",
          "2016-05-17T00:00:00",
          "2016-05-18T00:00:00",
          "2016-05-19T00:00:00",
          "2016-05-20T00:00:00",
          "2016-05-21T00:00:00",
          "2016-05-22T00:00:00"
         ],
         "y": {
          "bdata": "pHA9ClcFyEAj2/l+uh/FQArXo3CNAsRAbxKDwMqdxEBMN4lBcCrFQFTjpZskechAGy/dJNZMz0BU46WblNrNQH9qvHQTIMRATDeJQaCtwkBcj8L1qK/CQP7UeOkmk8NAObTIdl7ex0B56SYxOCnOQPYoXI9yOsxA",
          "dtype": "f8"
         }
        }
       ],
       "layout": {
        "height": 500,
        "template": {
         "data": {
          "bar": [
           {
            "error_x": {
             "color": "#2a3f5f"
            },
            "error_y": {
             "color": "#2a3f5f"
            },
            "marker": {
             "line": {
              "color": "white",
              "width": 0.5
             },
             "pattern": {
              "fillmode": "overlay",
              "size": 10,
              "solidity": 0.2
             }
            },
            "type": "bar"
           }
          ],
          "barpolar": [
           {
            "marker": {
             "line": {
              "color": "white",
              "width": 0.5
             },
             "pattern": {
              "fillmode": "overlay",
              "size": 10,
              "solidity": 0.2
             }
            },
            "type": "barpolar"
           }
          ],
          "carpet": [
           {
            "aaxis": {
             "endlinecolor": "#2a3f5f",
             "gridcolor": "#C8D4E3",
             "linecolor": "#C8D4E3",
             "minorgridcolor": "#C8D4E3",
             "startlinecolor": "#2a3f5f"
            },
            "baxis": {
             "endlinecolor": "#2a3f5f",
             "gridcolor": "#C8D4E3",
             "linecolor": "#C8D4E3",
             "minorgridcolor": "#C8D4E3",
             "startlinecolor": "#2a3f5f"
            },
            "type": "carpet"
           }
          ],
          "choropleth": [
           {
            "colorbar": {
             "outlinewidth": 0,
             "ticks": ""
            },
            "type": "choropleth"
           }
          ],
          "contour": [
           {
            "colorbar": {
             "outlinewidth": 0,
             "ticks": ""
            },
            "colorscale": [
             [
              0,
              "#0d0887"
             ],
             [
              0.1111111111111111,
              "#46039f"
             ],
             [
              0.2222222222222222,
              "#7201a8"
             ],
             [
              0.3333333333333333,
              "#9c179e"
             ],
             [
              0.4444444444444444,
              "#bd3786"
             ],
             [
              0.5555555555555556,
              "#d8576b"
             ],
             [
              0.6666666666666666,
              "#ed7953"
             ],
             [
              0.7777777777777778,
              "#fb9f3a"
             ],
             [
              0.8888888888888888,
              "#fdca26"
             ],
             [
              1,
              "#f0f921"
             ]
            ],
            "type": "contour"
           }
          ],
          "contourcarpet": [
           {
            "colorbar": {
             "outlinewidth": 0,
             "ticks": ""
            },
            "type": "contourcarpet"
           }
          ],
          "heatmap": [
           {
            "colorbar": {
             "outlinewidth": 0,
             "ticks": ""
            },
            "colorscale": [
             [
              0,
              "#0d0887"
             ],
             [
              0.1111111111111111,
              "#46039f"
             ],
             [
              0.2222222222222222,
              "#7201a8"
             ],
             [
              0.3333333333333333,
              "#9c179e"
             ],
             [
              0.4444444444444444,
              "#bd3786"
             ],
             [
              0.5555555555555556,
              "#d8576b"
             ],
             [
              0.6666666666666666,
              "#ed7953"
             ],
             [
              0.7777777777777778,
              "#fb9f3a"
             ],
             [
              0.8888888888888888,
              "#fdca26"
             ],
             [
              1,
              "#f0f921"
             ]
            ],
            "type": "heatmap"
           }
          ],
          "histogram": [
           {
            "marker": {
             "pattern": {
              "fillmode": "overlay",
              "size": 10,
              "solidity": 0.2
             }
            },
            "type": "histogram"
           }
          ],
          "histogram2d": [
           {
            "colorbar": {
             "outlinewidth": 0,
             "ticks": ""
            },
            "colorscale": [
             [
              0,
              "#0d0887"
             ],
             [
              0.1111111111111111,
              "#46039f"
             ],
             [
              0.2222222222222222,
              "#7201a8"
             ],
             [
              0.3333333333333333,
              "#9c179e"
             ],
             [
              0.4444444444444444,
              "#bd3786"
             ],
             [
              0.5555555555555556,
              "#d8576b"
             ],
             [
              0.6666666666666666,
              "#ed7953"
             ],
             [
              0.7777777777777778,
              "#fb9f3a"
             ],
             [
              0.8888888888888888,
              "#fdca26"
             ],
             [
              1,
              "#f0f921"
             ]
            ],
            "type": "histogram2d"
           }
          ],
          "histogram2dcontour": [
           {
            "colorbar": {
             "outlinewidth": 0,
             "ticks": ""
            },
            "colorscale": [
             [
              0,
              "#0d0887"
             ],
             [
              0.1111111111111111,
              "#46039f"
             ],
             [
              0.2222222222222222,
              "#7201a8"
             ],
             [
              0.3333333333333333,
              "#9c179e"
             ],
             [
              0.4444444444444444,
              "#bd3786"
             ],
             [
              0.5555555555555556,
              "#d8576b"
             ],
             [
              0.6666666666666666,
              "#ed7953"
             ],
             [
              0.7777777777777778,
              "#fb9f3a"
             ],
             [
              0.8888888888888888,
              "#fdca26"
             ],
             [
              1,
              "#f0f921"
             ]
            ],
            "type": "histogram2dcontour"
           }
          ],
          "mesh3d": [
           {
            "colorbar": {
             "outlinewidth": 0,
             "ticks": ""
            },
            "type": "mesh3d"
           }
          ],
          "parcoords": [
           {
            "line": {
             "colorbar": {
              "outlinewidth": 0,
              "ticks": ""
             }
            },
            "type": "parcoords"
           }
          ],
          "pie": [
           {
            "automargin": true,
            "type": "pie"
           }
          ],
          "scatter": [
           {
            "fillpattern": {
             "fillmode": "overlay",
             "size": 10,
             "solidity": 0.2
            },
            "type": "scatter"
           }
          ],
          "scatter3d": [
           {
            "line": {
             "colorbar": {
              "outlinewidth": 0,
              "ticks": ""
             }
            },
            "marker": {
             "colorbar": {
              "outlinewidth": 0,
              "ticks": ""
             }
            },
            "type": "scatter3d"
           }
          ],
          "scattercarpet": [
           {
            "marker": {
             "colorbar": {
              "outlinewidth": 0,
              "ticks": ""
             }
            },
            "type": "scattercarpet"
           }
          ],
          "scattergeo": [
           {
            "marker": {
             "colorbar": {
              "outlinewidth": 0,
              "ticks": ""
             }
            },
            "type": "scattergeo"
           }
          ],
          "scattergl": [
           {
            "marker": {
             "colorbar": {
              "outlinewidth": 0,
              "ticks": ""
             }
            },
            "type": "scattergl"
           }
          ],
          "scattermap": [
           {
            "marker": {
             "colorbar": {
              "outlinewidth": 0,
              "ticks": ""
             }
            },
            "type": "scattermap"
           }
          ],
          "scattermapbox": [
           {
            "marker": {
             "colorbar": {
              "outlinewidth": 0,
              "ticks": ""
             }
            },
            "type": "scattermapbox"
           }
          ],
          "scatterpolar": [
           {
            "marker": {
             "colorbar": {
              "outlinewidth": 0,
              "ticks": ""
             }
            },
            "type": "scatterpolar"
           }
          ],
          "scatterpolargl": [
           {
            "marker": {
             "colorbar": {
              "outlinewidth": 0,
              "ticks": ""
             }
            },
            "type": "scatterpolargl"
           }
          ],
          "scatterternary": [
           {
            "marker": {
             "colorbar": {
              "outlinewidth": 0,
              "ticks": ""
             }
            },
            "type": "scatterternary"
           }
          ],
          "surface": [
           {
            "colorbar": {
             "outlinewidth": 0,
             "ticks": ""
            },
            "colorscale": [
             [
              0,
              "#0d0887"
             ],
             [
              0.1111111111111111,
              "#46039f"
             ],
             [
              0.2222222222222222,
              "#7201a8"
             ],
             [
              0.3333333333333333,
              "#9c179e"
             ],
             [
              0.4444444444444444,
              "#bd3786"
             ],
             [
              0.5555555555555556,
              "#d8576b"
             ],
             [
              0.6666666666666666,
              "#ed7953"
             ],
             [
              0.7777777777777778,
              "#fb9f3a"
             ],
             [
              0.8888888888888888,
              "#fdca26"
             ],
             [
              1,
              "#f0f921"
             ]
            ],
            "type": "surface"
           }
          ],
          "table": [
           {
            "cells": {
             "fill": {
              "color": "#EBF0F8"
             },
             "line": {
              "color": "white"
             }
            },
            "header": {
             "fill": {
              "color": "#C8D4E3"
             },
             "line": {
              "color": "white"
             }
            },
            "type": "table"
           }
          ]
         },
         "layout": {
          "annotationdefaults": {
           "arrowcolor": "#2a3f5f",
           "arrowhead": 0,
           "arrowwidth": 1
          },
          "autotypenumbers": "strict",
          "coloraxis": {
           "colorbar": {
            "outlinewidth": 0,
            "ticks": ""
           }
          },
          "colorscale": {
           "diverging": [
            [
             0,
             "#8e0152"
            ],
            [
             0.1,
             "#c51b7d"
            ],
            [
             0.2,
             "#de77ae"
            ],
            [
             0.3,
             "#f1b6da"
            ],
            [
             0.4,
             "#fde0ef"
            ],
            [
             0.5,
             "#f7f7f7"
            ],
            [
             0.6,
             "#e6f5d0"
            ],
            [
             0.7,
             "#b8e186"
            ],
            [
             0.8,
             "#7fbc41"
            ],
            [
             0.9,
             "#4d9221"
            ],
            [
             1,
             "#276419"
            ]
           ],
           "sequential": [
            [
             0,
             "#0d0887"
            ],
            [
             0.1111111111111111,
             "#46039f"
            ],
            [
             0.2222222222222222,
             "#7201a8"
            ],
            [
             0.3333333333333333,
             "#9c179e"
            ],
            [
             0.4444444444444444,
             "#bd3786"
            ],
            [
             0.5555555555555556,
             "#d8576b"
            ],
            [
             0.6666666666666666,
             "#ed7953"
            ],
            [
             0.7777777777777778,
             "#fb9f3a"
            ],
            [
             0.8888888888888888,
             "#fdca26"
            ],
            [
             1,
             "#f0f921"
            ]
           ],
           "sequentialminus": [
            [
             0,
             "#0d0887"
            ],
            [
             0.1111111111111111,
             "#46039f"
            ],
            [
             0.2222222222222222,
             "#7201a8"
            ],
            [
             0.3333333333333333,
             "#9c179e"
            ],
            [
             0.4444444444444444,
             "#bd3786"
            ],
            [
             0.5555555555555556,
             "#d8576b"
            ],
            [
             0.6666666666666666,
             "#ed7953"
            ],
            [
             0.7777777777777778,
             "#fb9f3a"
            ],
            [
             0.8888888888888888,
             "#fdca26"
            ],
            [
             1,
             "#f0f921"
            ]
           ]
          },
          "colorway": [
           "#636efa",
           "#EF553B",
           "#00cc96",
           "#ab63fa",
           "#FFA15A",
           "#19d3f3",
           "#FF6692",
           "#B6E880",
           "#FF97FF",
           "#FECB52"
          ],
          "font": {
           "color": "#2a3f5f"
          },
          "geo": {
           "bgcolor": "white",
           "lakecolor": "white",
           "landcolor": "white",
           "showlakes": true,
           "showland": true,
           "subunitcolor": "#C8D4E3"
          },
          "hoverlabel": {
           "align": "left"
          },
          "hovermode": "closest",
          "mapbox": {
           "style": "light"
          },
          "paper_bgcolor": "white",
          "plot_bgcolor": "white",
          "polar": {
           "angularaxis": {
            "gridcolor": "#EBF0F8",
            "linecolor": "#EBF0F8",
            "ticks": ""
           },
           "bgcolor": "white",
           "radialaxis": {
            "gridcolor": "#EBF0F8",
            "linecolor": "#EBF0F8",
            "ticks": ""
           }
          },
          "scene": {
           "xaxis": {
            "backgroundcolor": "white",
            "gridcolor": "#DFE8F3",
            "gridwidth": 2,
            "linecolor": "#EBF0F8",
            "showbackground": true,
            "ticks": "",
            "zerolinecolor": "#EBF0F8"
           },
           "yaxis": {
            "backgroundcolor": "white",
            "gridcolor": "#DFE8F3",
            "gridwidth": 2,
            "linecolor": "#EBF0F8",
            "showbackground": true,
            "ticks": "",
            "zerolinecolor": "#EBF0F8"
           },
           "zaxis": {
            "backgroundcolor": "white",
            "gridcolor": "#DFE8F3",
            "gridwidth": 2,
            "linecolor": "#EBF0F8",
            "showbackground": true,
            "ticks": "",
            "zerolinecolor": "#EBF0F8"
           }
          },
          "shapedefaults": {
           "line": {
            "color": "#2a3f5f"
           }
          },
          "ternary": {
           "aaxis": {
            "gridcolor": "#DFE8F3",
            "linecolor": "#A2B1C6",
            "ticks": ""
           },
           "baxis": {
            "gridcolor": "#DFE8F3",
            "linecolor": "#A2B1C6",
            "ticks": ""
           },
           "bgcolor": "white",
           "caxis": {
            "gridcolor": "#DFE8F3",
            "linecolor": "#A2B1C6",
            "ticks": ""
           }
          },
          "title": {
           "x": 0.05
          },
          "xaxis": {
           "automargin": true,
           "gridcolor": "#EBF0F8",
           "linecolor": "#EBF0F8",
           "ticks": "",
           "title": {
            "standoff": 15
           },
           "zerolinecolor": "#EBF0F8",
           "zerolinewidth": 2
          },
          "yaxis": {
           "automargin": true,
           "gridcolor": "#EBF0F8",
           "linecolor": "#EBF0F8",
           "ticks": "",
           "title": {
            "standoff": 15
           },
           "zerolinecolor": "#EBF0F8",
           "zerolinewidth": 2
          }
         }
        },
        "title": {
         "text": "Forecast with 90% CI for ID: WI_1"
        },
        "width": 1000,
        "xaxis": {
         "title": {
          "text": "date"
         }
        },
        "yaxis": {
         "title": {
          "text": "sold_amount"
         }
        }
       }
      }
     },
     "metadata": {},
     "output_type": "display_data"
    }
   ],
   "source": [
    "rnd_id = np.random.choice(scores_per_ts_df[id_col].unique())\n",
    "\n",
    "plot_forecast_with_ci(\n",
    "    forecasts_enr_df, \n",
    "    column_id=id_col,\n",
    "    column_date=time_col,\n",
    "    column_target=target_col,\n",
    "    column_forecast=\"TimeGPT\",\n",
    "    uid=rnd_id, \n",
    "    model_name=\"TimeGPT\",\n",
    "    level=90, \n",
    "    train_tail=30\n",
    "    )\n"
   ]
  },
  {
   "cell_type": "markdown",
   "metadata": {},
   "source": [
    "## Shape value"
   ]
  },
  {
   "cell_type": "code",
   "execution_count": 19,
   "metadata": {},
   "outputs": [
    {
     "name": "stderr",
     "output_type": "stream",
     "text": [
      "INFO:nixtla.nixtla_client:Validating inputs...\n",
      "INFO:nixtla.nixtla_client:Preprocessing dataframes...\n",
      "INFO:nixtla.nixtla_client:Using future exogenous features: ['event_cultural', 'event_national', 'event_religious', 'event_sporting', 'year', 'month', 'day', 'weekday']\n",
      "INFO:nixtla.nixtla_client:Calling Forecast Endpoint...\n"
     ]
    },
    {
     "name": "stdout",
     "output_type": "stream",
     "text": [
      "19270 rows for train\n",
      "140 rows for test\n"
     ]
    },
    {
     "data": {
      "text/html": [
       "<div>\n",
       "<style scoped>\n",
       "    .dataframe tbody tr th:only-of-type {\n",
       "        vertical-align: middle;\n",
       "    }\n",
       "\n",
       "    .dataframe tbody tr th {\n",
       "        vertical-align: top;\n",
       "    }\n",
       "\n",
       "    .dataframe thead th {\n",
       "        text-align: right;\n",
       "    }\n",
       "</style>\n",
       "<table border=\"1\" class=\"dataframe\">\n",
       "  <thead>\n",
       "    <tr style=\"text-align: right;\">\n",
       "      <th></th>\n",
       "      <th>date</th>\n",
       "      <th>store_id</th>\n",
       "      <th>state_id</th>\n",
       "      <th>sold_quantity</th>\n",
       "      <th>sold_amount</th>\n",
       "      <th>event_type_1</th>\n",
       "      <th>event_type_2</th>\n",
       "      <th>event_sporting</th>\n",
       "      <th>event_cultural</th>\n",
       "      <th>event_national</th>\n",
       "      <th>event_religious</th>\n",
       "      <th>TimeGPT</th>\n",
       "    </tr>\n",
       "  </thead>\n",
       "  <tbody>\n",
       "    <tr>\n",
       "      <th>19405</th>\n",
       "      <td>2016-05-18</td>\n",
       "      <td>WI_3</td>\n",
       "      <td>WI</td>\n",
       "      <td>3268</td>\n",
       "      <td>9163.29</td>\n",
       "      <td>NaN</td>\n",
       "      <td>NaN</td>\n",
       "      <td>0</td>\n",
       "      <td>0</td>\n",
       "      <td>0</td>\n",
       "      <td>0</td>\n",
       "      <td>9562.166</td>\n",
       "    </tr>\n",
       "    <tr>\n",
       "      <th>19406</th>\n",
       "      <td>2016-05-19</td>\n",
       "      <td>WI_3</td>\n",
       "      <td>WI</td>\n",
       "      <td>3398</td>\n",
       "      <td>9660.13</td>\n",
       "      <td>NaN</td>\n",
       "      <td>NaN</td>\n",
       "      <td>0</td>\n",
       "      <td>0</td>\n",
       "      <td>0</td>\n",
       "      <td>0</td>\n",
       "      <td>9743.489</td>\n",
       "    </tr>\n",
       "    <tr>\n",
       "      <th>19407</th>\n",
       "      <td>2016-05-20</td>\n",
       "      <td>WI_3</td>\n",
       "      <td>WI</td>\n",
       "      <td>4126</td>\n",
       "      <td>11982.37</td>\n",
       "      <td>NaN</td>\n",
       "      <td>NaN</td>\n",
       "      <td>0</td>\n",
       "      <td>0</td>\n",
       "      <td>0</td>\n",
       "      <td>0</td>\n",
       "      <td>11169.223</td>\n",
       "    </tr>\n",
       "    <tr>\n",
       "      <th>19408</th>\n",
       "      <td>2016-05-21</td>\n",
       "      <td>WI_3</td>\n",
       "      <td>WI</td>\n",
       "      <td>4519</td>\n",
       "      <td>12370.23</td>\n",
       "      <td>NaN</td>\n",
       "      <td>NaN</td>\n",
       "      <td>0</td>\n",
       "      <td>0</td>\n",
       "      <td>0</td>\n",
       "      <td>0</td>\n",
       "      <td>13329.262</td>\n",
       "    </tr>\n",
       "    <tr>\n",
       "      <th>19409</th>\n",
       "      <td>2016-05-22</td>\n",
       "      <td>WI_3</td>\n",
       "      <td>WI</td>\n",
       "      <td>4757</td>\n",
       "      <td>13432.85</td>\n",
       "      <td>NaN</td>\n",
       "      <td>NaN</td>\n",
       "      <td>0</td>\n",
       "      <td>0</td>\n",
       "      <td>0</td>\n",
       "      <td>0</td>\n",
       "      <td>12962.226</td>\n",
       "    </tr>\n",
       "  </tbody>\n",
       "</table>\n",
       "</div>"
      ],
      "text/plain": [
       "            date store_id state_id  sold_quantity  sold_amount event_type_1  \\\n",
       "19405 2016-05-18     WI_3       WI           3268      9163.29          NaN   \n",
       "19406 2016-05-19     WI_3       WI           3398      9660.13          NaN   \n",
       "19407 2016-05-20     WI_3       WI           4126     11982.37          NaN   \n",
       "19408 2016-05-21     WI_3       WI           4519     12370.23          NaN   \n",
       "19409 2016-05-22     WI_3       WI           4757     13432.85          NaN   \n",
       "\n",
       "      event_type_2  event_sporting  event_cultural  event_national  \\\n",
       "19405          NaN               0               0               0   \n",
       "19406          NaN               0               0               0   \n",
       "19407          NaN               0               0               0   \n",
       "19408          NaN               0               0               0   \n",
       "19409          NaN               0               0               0   \n",
       "\n",
       "       event_religious    TimeGPT  \n",
       "19405                0   9562.166  \n",
       "19406                0   9743.489  \n",
       "19407                0  11169.223  \n",
       "19408                0  13329.262  \n",
       "19409                0  12962.226  "
      ]
     },
     "execution_count": 19,
     "metadata": {},
     "output_type": "execute_result"
    }
   ],
   "source": [
    "path = os.path.join(\"output\", name_scenario, f\"forecasts_{name_scenario}.csv\")\n",
    "\n",
    "if force or not os.path.exists(path):\n",
    "    \n",
    "    train_df, test_df = split_train_test(\n",
    "        df=df, \n",
    "        horizon=H,\n",
    "        column_date=time_col,\n",
    "        column_id=id_col,\n",
    "        )\n",
    "\n",
    "    print(f\"{len(train_df)} rows for train\")\n",
    "    print(f\"{len(test_df)} rows for test\")\n",
    "\n",
    "    columns_exog_features = [\"event_cultural\", \"event_national\", \"event_religious\", \"event_sporting\"]\n",
    "    \n",
    "    forecasts_df = client.forecast(\n",
    "        df=train_df[[time_col, target_col, id_col]+columns_exog_features],\n",
    "        X_df=test_df[[time_col, target_col, id_col]+columns_exog_features],\n",
    "        id_col=id_col,\n",
    "        time_col=time_col,\n",
    "        target_col=target_col,\n",
    "        h=H,\n",
    "        freq=freq,\n",
    "        finetune_steps=10,\n",
    "        finetune_loss=\"rmse\",\n",
    "        finetune_depth=3, \n",
    "        model=\"timegpt-1-long-horizon\",\n",
    "        date_features=True,\n",
    "        date_features_to_one_hot=False,\n",
    "        clean_ex_first=True,\n",
    "        feature_contributions=True\n",
    "    )\n",
    "    \n",
    "    forecasts_enr_df = ( \n",
    "        test_df\n",
    "        .merge(forecasts_df, on=[id_col, time_col], how=\"left\")\n",
    "    )\n",
    "    \n",
    "    forecasts_enr_df = pd.concat([train_df, forecasts_enr_df], axis=0).reset_index(drop=True)\n",
    "\n",
    "    os.makedirs(os.path.join(\"output\", name_scenario), exist_ok=True)\n",
    "    forecasts_enr_df.to_csv(path, index=False)\n",
    "\n",
    "else:\n",
    "    forecasts_enr_df = pd.read_csv(path)\n",
    "\n",
    "forecasts_enr_df.tail()"
   ]
  },
  {
   "cell_type": "code",
   "execution_count": 20,
   "metadata": {},
   "outputs": [
    {
     "data": {
      "text/html": [
       "<div>\n",
       "<style scoped>\n",
       "    .dataframe tbody tr th:only-of-type {\n",
       "        vertical-align: middle;\n",
       "    }\n",
       "\n",
       "    .dataframe tbody tr th {\n",
       "        vertical-align: top;\n",
       "    }\n",
       "\n",
       "    .dataframe thead th {\n",
       "        text-align: right;\n",
       "    }\n",
       "</style>\n",
       "<table border=\"1\" class=\"dataframe\">\n",
       "  <thead>\n",
       "    <tr style=\"text-align: right;\">\n",
       "      <th></th>\n",
       "      <th>store_id</th>\n",
       "      <th>date</th>\n",
       "      <th>TimeGPT</th>\n",
       "      <th>event_cultural</th>\n",
       "      <th>event_national</th>\n",
       "      <th>event_religious</th>\n",
       "      <th>event_sporting</th>\n",
       "      <th>year</th>\n",
       "      <th>month</th>\n",
       "      <th>day</th>\n",
       "      <th>weekday</th>\n",
       "      <th>base_value</th>\n",
       "    </tr>\n",
       "  </thead>\n",
       "  <tbody>\n",
       "    <tr>\n",
       "      <th>0</th>\n",
       "      <td>CA_1</td>\n",
       "      <td>2016-05-09</td>\n",
       "      <td>14999.121</td>\n",
       "      <td>17.527464</td>\n",
       "      <td>-29.779165</td>\n",
       "      <td>-1.663453</td>\n",
       "      <td>3.845909</td>\n",
       "      <td>4102.4890</td>\n",
       "      <td>396.40433</td>\n",
       "      <td>611.7991</td>\n",
       "      <td>-652.75410</td>\n",
       "      <td>10551.2510</td>\n",
       "    </tr>\n",
       "    <tr>\n",
       "      <th>1</th>\n",
       "      <td>CA_1</td>\n",
       "      <td>2016-05-10</td>\n",
       "      <td>13722.821</td>\n",
       "      <td>16.330610</td>\n",
       "      <td>14.060459</td>\n",
       "      <td>-1.663453</td>\n",
       "      <td>3.699214</td>\n",
       "      <td>4139.7420</td>\n",
       "      <td>408.87885</td>\n",
       "      <td>387.2594</td>\n",
       "      <td>-1476.98100</td>\n",
       "      <td>10231.4950</td>\n",
       "    </tr>\n",
       "    <tr>\n",
       "      <th>2</th>\n",
       "      <td>CA_1</td>\n",
       "      <td>2016-05-11</td>\n",
       "      <td>13225.071</td>\n",
       "      <td>16.931772</td>\n",
       "      <td>12.429682</td>\n",
       "      <td>-1.919315</td>\n",
       "      <td>3.827060</td>\n",
       "      <td>4048.3718</td>\n",
       "      <td>255.68626</td>\n",
       "      <td>649.2640</td>\n",
       "      <td>-1698.49980</td>\n",
       "      <td>9938.9795</td>\n",
       "    </tr>\n",
       "    <tr>\n",
       "      <th>3</th>\n",
       "      <td>CA_1</td>\n",
       "      <td>2016-05-12</td>\n",
       "      <td>13003.996</td>\n",
       "      <td>17.072605</td>\n",
       "      <td>12.359237</td>\n",
       "      <td>-2.823807</td>\n",
       "      <td>3.825990</td>\n",
       "      <td>3992.6890</td>\n",
       "      <td>176.10540</td>\n",
       "      <td>569.8088</td>\n",
       "      <td>-1621.53760</td>\n",
       "      <td>9856.4970</td>\n",
       "    </tr>\n",
       "    <tr>\n",
       "      <th>4</th>\n",
       "      <td>CA_1</td>\n",
       "      <td>2016-05-13</td>\n",
       "      <td>14557.518</td>\n",
       "      <td>17.306437</td>\n",
       "      <td>26.423294</td>\n",
       "      <td>-3.769055</td>\n",
       "      <td>3.699957</td>\n",
       "      <td>3984.5938</td>\n",
       "      <td>234.25844</td>\n",
       "      <td>210.8523</td>\n",
       "      <td>-309.61465</td>\n",
       "      <td>10393.7670</td>\n",
       "    </tr>\n",
       "  </tbody>\n",
       "</table>\n",
       "</div>"
      ],
      "text/plain": [
       "  store_id       date    TimeGPT  event_cultural  event_national  \\\n",
       "0     CA_1 2016-05-09  14999.121       17.527464      -29.779165   \n",
       "1     CA_1 2016-05-10  13722.821       16.330610       14.060459   \n",
       "2     CA_1 2016-05-11  13225.071       16.931772       12.429682   \n",
       "3     CA_1 2016-05-12  13003.996       17.072605       12.359237   \n",
       "4     CA_1 2016-05-13  14557.518       17.306437       26.423294   \n",
       "\n",
       "   event_religious  event_sporting       year      month       day  \\\n",
       "0        -1.663453        3.845909  4102.4890  396.40433  611.7991   \n",
       "1        -1.663453        3.699214  4139.7420  408.87885  387.2594   \n",
       "2        -1.919315        3.827060  4048.3718  255.68626  649.2640   \n",
       "3        -2.823807        3.825990  3992.6890  176.10540  569.8088   \n",
       "4        -3.769055        3.699957  3984.5938  234.25844  210.8523   \n",
       "\n",
       "      weekday  base_value  \n",
       "0  -652.75410  10551.2510  \n",
       "1 -1476.98100  10231.4950  \n",
       "2 -1698.49980   9938.9795  \n",
       "3 -1621.53760   9856.4970  \n",
       "4  -309.61465  10393.7670  "
      ]
     },
     "execution_count": 20,
     "metadata": {},
     "output_type": "execute_result"
    }
   ],
   "source": [
    "shap_df = client.feature_contributions\n",
    "shap_df.head()"
   ]
  },
  {
   "cell_type": "code",
   "execution_count": 21,
   "metadata": {},
   "outputs": [
    {
     "data": {
      "image/png": "[encoded data removed]",
      "text/plain": [
       "<Figure size 800x550 with 1 Axes>"
      ]
     },
     "metadata": {},
     "output_type": "display_data"
    }
   ],
   "source": [
    "shap_columns = shap_df.columns.difference([id_col, time_col, 'TimeGPT', 'base_value'])\n",
    "\n",
    "shap_obj = shap.Explanation(\n",
    "    values=shap_df[shap_columns].values,\n",
    "    base_values=shap_df['base_value'].values,\n",
    "    feature_names=shap_columns\n",
    ")\n",
    "\n",
    "shap.plots.bar(\n",
    "    shap_obj,\n",
    "    max_display=len(shap_columns),\n",
    "    show=False\n",
    ")\n",
    "\n",
    "plt.title(f'SHAP values')\n",
    "plt.show()"
   ]
  },
  {
   "cell_type": "code",
   "execution_count": 23,
   "metadata": {},
   "outputs": [
    {
     "data": {
      "image/png": "[encoded data removed]",
      "text/plain": [
       "<Figure size 800x550 with 3 Axes>"
      ]
     },
     "metadata": {},
     "output_type": "display_data"
    }
   ],
   "source": [
    "selected_ds = np.random.choice(shap_df[time_col].unique())\n",
    "\n",
    "filtered_df = shap_df[shap_df[time_col] == selected_ds].iloc[:1]\n",
    "\n",
    "shap_obj = shap.Explanation(\n",
    "    values=filtered_df[shap_columns].values.flatten(),\n",
    "    base_values=filtered_df['base_value'].values[0],\n",
    "    feature_names=shap_columns\n",
    ")\n",
    "\n",
    "shap.plots.waterfall(shap_obj, show=False)\n",
    "\n",
    "plt.title(f'Waterfall Plot:  date: {selected_ds}')\n",
    "plt.show()"
   ]
  }
 ],
 "metadata": {
  "kernelspec": {
   "display_name": ".venv",
   "language": "python",
   "name": "python3"
  },
  "language_info": {
   "codemirror_mode": {
    "name": "ipython",
    "version": 3
   },
   "file_extension": ".py",
   "mimetype": "text/x-python",
   "name": "python",
   "nbconvert_exporter": "python",
   "pygments_lexer": "ipython3",
   "version": "3.9.19"
  }
 },
 "nbformat": 4,
 "nbformat_minor": 2
}
